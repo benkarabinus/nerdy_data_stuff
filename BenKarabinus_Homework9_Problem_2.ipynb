{
 "cells": [
  {
   "cell_type": "code",
   "execution_count": 1,
   "metadata": {},
   "outputs": [
    {
     "name": "stdout",
     "output_type": "stream",
     "text": [
      "3161.0\n"
     ]
    }
   ],
   "source": [
    "'''\n",
    "The for loop below represents the sum given in part 1 problen 2. We will be comparing this sum to the sums given for parts \n",
    "a-d.\n",
    "'''\n",
    "summation = 0.0\n",
    "\n",
    "\n",
    "for i in range(1, 6):\n",
    "    for j in range(0, i):\n",
    "        summation += (i)**2 * (j**3)\n",
    "\n",
    "\n",
    "print(summation)\n",
    "        \n",
    "    \n",
    "    \n",
    "    "
   ]
  },
  {
   "cell_type": "code",
   "execution_count": 2,
   "metadata": {},
   "outputs": [
    {
     "name": "stdout",
     "output_type": "stream",
     "text": [
      "4789.0\n"
     ]
    }
   ],
   "source": [
    "'''\n",
    "The for loop below represents the sum given in part1 problem 2.a. Running this code we see the sum given in problem 2.a\n",
    "is not equivalent to the sum we are comparing to.\n",
    "'''\n",
    "summation = 0.0\n",
    "\n",
    "\n",
    "for j in range(1, 6):\n",
    "    for i in range(0, j):\n",
    "        summation += i**2 * (j)**3\n",
    "    \n",
    "print(summation)\n",
    "        "
   ]
  },
  {
   "cell_type": "code",
   "execution_count": 3,
   "metadata": {},
   "outputs": [
    {
     "name": "stdout",
     "output_type": "stream",
     "text": [
      "3161.0\n"
     ]
    }
   ],
   "source": [
    "'''\n",
    "The for loop below represents the sum given in part1 problem 2.b. Running this code we see the sum given in problem 2.b\n",
    "is equivalent to the sum we are comparing to.\n",
    "'''\n",
    "summation = 0.0\n",
    "\n",
    "\n",
    "for j in range(0, 5):\n",
    "    for i in range(j+1, 6):\n",
    "       summation += i**2 * j**3\n",
    "   \n",
    "print(summation)"
   ]
  },
  {
   "cell_type": "code",
   "execution_count": 4,
   "metadata": {},
   "outputs": [
    {
     "name": "stdout",
     "output_type": "stream",
     "text": [
      "2339.0\n"
     ]
    }
   ],
   "source": [
    "'''\n",
    "The for loop below represents the sum given in part1 problem 2.c. Running this code we see the sum given in problem 2.c\n",
    "is not equivalent to the sum we are comparing to.\n",
    "'''\n",
    "summation = 0.0\n",
    "\n",
    "\n",
    "for j in range(0, 5):\n",
    "    for i in range(1, j+1):\n",
    "        summation += i**2 * j**3\n",
    "    \n",
    "print(summation)"
   ]
  },
  {
   "cell_type": "code",
   "execution_count": 5,
   "metadata": {},
   "outputs": [
    {
     "name": "stdout",
     "output_type": "stream",
     "text": [
      "1961.0\n"
     ]
    }
   ],
   "source": [
    "'''\n",
    "The for loop below represents the sum given in part1 problem 2.d. Running this code we see the sum given in problem 2.d\n",
    "is not equivalent to the given sum to which we are comparing.\n",
    "'''\n",
    "summation = 0.0\n",
    "\n",
    "\n",
    "for j in range(1, 6):\n",
    "    for i in range(j, 5):\n",
    "        summation += i**2 * j**3\n",
    "print(summation)"
   ]
  },
  {
   "cell_type": "code",
   "execution_count": null,
   "metadata": {},
   "outputs": [],
   "source": []
  }
 ],
 "metadata": {
  "kernelspec": {
   "display_name": "Python 3",
   "language": "python",
   "name": "python3"
  },
  "language_info": {
   "codemirror_mode": {
    "name": "ipython",
    "version": 3
   },
   "file_extension": ".py",
   "mimetype": "text/x-python",
   "name": "python",
   "nbconvert_exporter": "python",
   "pygments_lexer": "ipython3",
   "version": "3.7.6"
  }
 },
 "nbformat": 4,
 "nbformat_minor": 4
}
