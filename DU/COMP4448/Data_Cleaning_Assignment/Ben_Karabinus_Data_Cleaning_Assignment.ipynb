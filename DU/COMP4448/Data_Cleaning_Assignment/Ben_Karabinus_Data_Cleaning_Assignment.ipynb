{
 "cells": [
  {
   "cell_type": "markdown",
   "metadata": {},
   "source": [
    "# <center>__Data Cleaning Assignment__</center>"
   ]
  },
  {
   "cell_type": "code",
   "execution_count": 1,
   "metadata": {},
   "outputs": [],
   "source": [
    "\"\"\"import necessary packages\"\"\"\n",
    "\n",
    "import re\n",
    "import numpy as np\n",
    "import pandas as pd"
   ]
  },
  {
   "cell_type": "markdown",
   "metadata": {},
   "source": [
    "## *Data Cleaning*"
   ]
  },
  {
   "cell_type": "markdown",
   "metadata": {},
   "source": [
    "### Objectives\n",
    "- Get column names from metadata file\n",
    "- Inspect the data\n",
    "    - Determinne proper data type for each feature\n",
    "    - Inspect text data and clean/normalize where applicable\n",
    "    - Determine unique values (levels) for categorical data\n",
    "- Clean and normalize text where applicable\n",
    "- Handle missing data appropriately"
   ]
  },
  {
   "cell_type": "code",
   "execution_count": 2,
   "metadata": {},
   "outputs": [],
   "source": [
    "\"\"\"read in the data\"\"\"\n",
    "\n",
    "census_income_train = pd.read_csv('census_income_train.csv', header=None)\n",
    "census_income_test = pd.read_csv('census_income_test.csv', header=None)"
   ]
  },
  {
   "cell_type": "code",
   "execution_count": 3,
   "metadata": {},
   "outputs": [
    {
     "data": {
      "text/plain": [
       "'\\nmetadata = open(\\'census_income_metadata.txt\\')\\ncolnames = pd.Series(metadata.readlines()[81:121])\\ncolnames = colnames.apply(lambda x : re.search(r\\'(?<=\\\\().*(?=\\\\))\\', x).group().replace(\" \", \\'_\\'))\\ncolnames = colnames.apply(lambda x : re.\\n'"
      ]
     },
     "execution_count": 3,
     "metadata": {},
     "output_type": "execute_result"
    }
   ],
   "source": [
    "\"\"\"\n",
    "metadata = open('census_income_metadata.txt')\n",
    "colnames = pd.Series(metadata.readlines()[81:121])\n",
    "colnames = colnames.apply(lambda x : re.search(r'(?<=\\().*(?=\\))', x).group().replace(\" \", '_'))\n",
    "colnames = colnames.apply(lambda x : re.\n",
    "\"\"\""
   ]
  },
  {
   "cell_type": "code",
   "execution_count": 4,
   "metadata": {},
   "outputs": [],
   "source": [
    "\"\"\"create a dictionary to store feature names and associated metadata\"\"\"\n",
    "\n",
    "metadata = open('census_income_metadata.txt')\n",
    "metadata = metadata.readlines()[142:184]\n",
    "metadata_dict = {}\n",
    "for line in metadata:\n",
    "    key = re.search(r'.*(?=:)', line).group().replace(\" \", '_')\n",
    "    key = re.sub(f'[^\\w\\d_]', '', key)\n",
    "    value = re.search(r'(?<=:).*', line).group()\n",
    "    metadata_dict[key] = value"
   ]
  },
  {
   "cell_type": "code",
   "execution_count": 5,
   "metadata": {},
   "outputs": [],
   "source": [
    "\"\"\"\n",
    "get column names from metadata dict and apply to train and test data\n",
    "\"\"\"\n",
    "\n",
    "colnames = list(metadata_dict.keys())\n",
    "colnames.remove('_instance_weight')\n",
    "colnames.append('outcome')\n",
    "census_income_train.columns = colnames\n",
    "census_income_test.columns = colnames\n",
    "census_income_train.drop(columns=['instance_weight'], inplace=True)\n",
    "census_income_test.drop(columns=['instance_weight'], inplace=True)"
   ]
  },
  {
   "cell_type": "code",
   "execution_count": null,
   "metadata": {},
   "outputs": [],
   "source": []
  }
 ],
 "metadata": {
  "kernelspec": {
   "display_name": "Python 3.9.12 ('COMP4448-zVXvr8KM')",
   "language": "python",
   "name": "python3"
  },
  "language_info": {
   "codemirror_mode": {
    "name": "ipython",
    "version": 3
   },
   "file_extension": ".py",
   "mimetype": "text/x-python",
   "name": "python",
   "nbconvert_exporter": "python",
   "pygments_lexer": "ipython3",
   "version": "3.9.12"
  },
  "orig_nbformat": 4,
  "vscode": {
   "interpreter": {
    "hash": "5392b5f59a5fef62b4badd3fb41b4c3fb016ca90199b117ded7058284d432eca"
   }
  }
 },
 "nbformat": 4,
 "nbformat_minor": 2
}
