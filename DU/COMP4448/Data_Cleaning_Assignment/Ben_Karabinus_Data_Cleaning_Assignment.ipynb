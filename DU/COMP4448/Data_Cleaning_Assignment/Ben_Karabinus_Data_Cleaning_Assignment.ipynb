{
 "cells": [
  {
   "cell_type": "markdown",
   "metadata": {},
   "source": [
    "# <center>__Data Cleaning Assignment__</center>"
   ]
  },
  {
   "cell_type": "code",
   "execution_count": 1,
   "metadata": {},
   "outputs": [],
   "source": [
    "\"\"\"import necessary packages\"\"\"\n",
    "\n",
    "import re\n",
    "import numpy as np\n",
    "import pandas as pd\n",
    "import missingno as msngo\n",
    "import matplotlib.pyplot as plt\n",
    "import seaborn as sns\n",
    "import scipy.stats as stats\n",
    "from sklearn.preprocessing import RobustScaler, LabelEncoder\n",
    "from sklearn.pipeline import Pipeline\n",
    "from sklearn.compose import ColumnTransformer\n"
   ]
  },
  {
   "cell_type": "markdown",
   "metadata": {},
   "source": [
    "## *Data Cleaning*"
   ]
  },
  {
   "cell_type": "markdown",
   "metadata": {},
   "source": [
    "### Objectives\n",
    "- Get column names from metadata file (census_income_metadata.txt) and apply to census data\n",
    "- Inspect the data\n",
    "    - Inspect text data and clean/normalize where applicable\n",
    "    - Determine unique values (levels) for categorical data\n",
    "- Handle missing data appropriately\n",
    "- Ensure proper datatype for each feature"
   ]
  },
  {
   "cell_type": "code",
   "execution_count": 2,
   "metadata": {},
   "outputs": [],
   "source": [
    "\"\"\"read in the data\"\"\"\n",
    "\n",
    "census_income_train = pd.read_csv('census_income_train.csv', header=None)\n",
    "census_income_test = pd.read_csv('census_income_test.csv', header=None)"
   ]
  },
  {
   "cell_type": "code",
   "execution_count": 3,
   "metadata": {},
   "outputs": [],
   "source": [
    "\"\"\"create a dictionary to store feature names and associated metadata\"\"\"\n",
    "\n",
    "metadata = open('census_income_metadata.txt')\n",
    "metadata = metadata.readlines()[142:184]\n",
    "metadata_dict = {}\n",
    "for line in metadata:\n",
    "    key = re.search(r'.*(?=:)', line).group().replace(\" \", '_')\n",
    "    key = re.sub(f'[^\\w\\d_]', '', key)\n",
    "    value = re.search(r'(?<=:).*', line).group()\n",
    "    value = re.sub(r'[\\n\\.]', '', value)\n",
    "    value = value.strip()\n",
    "    value = [val.strip() for val in value.split(',')]\n",
    "    metadata_dict[key] = value\n",
    "metadata_dict['outcome'] = ['- 50000', '50000+']"
   ]
  },
  {
   "cell_type": "code",
   "execution_count": 4,
   "metadata": {},
   "outputs": [],
   "source": [
    "\"\"\"\n",
    "get column names from metadata dict and apply to train and test data\n",
    "drop instance weight feature form training and test sets\n",
    "colnames list will be re-used durig data cleaning process, remove instance_weight from list\n",
    "\"\"\"\n",
    "\n",
    "colnames = list(metadata_dict.keys())\n",
    "colnames.remove('_instance_weight')\n",
    "census_income_train.columns = colnames\n",
    "census_income_test.columns = colnames\n",
    "census_income_train.drop(columns=['instance_weight'], inplace=True)\n",
    "census_income_test.drop(columns=['instance_weight'], inplace=True)\n",
    "colnames.remove('instance_weight')"
   ]
  },
  {
   "cell_type": "markdown",
   "metadata": {},
   "source": [
    "Clean Text Data"
   ]
  },
  {
   "cell_type": "code",
   "execution_count": 5,
   "metadata": {},
   "outputs": [],
   "source": [
    "\"\"\"\n",
    "check dtype to identify columns containing text data\n",
    "remove . in target, strip whitespace\n",
    "\"\"\"\n",
    "for col in colnames:\n",
    "    if census_income_train[col].dtype == 'object':\n",
    "        census_income_train[col] = census_income_train[col].str.replace('.', '', regex=False)\n",
    "        census_income_train[col] = census_income_train[col].str.strip()\n",
    "    if census_income_test[col].dtype == 'object':\n",
    "        census_income_test[col] = census_income_test[col].str.replace('.', '', regex=False)\n",
    "        census_income_test[col] = census_income_test[col].str.strip()"
   ]
  },
  {
   "cell_type": "code",
   "execution_count": 6,
   "metadata": {},
   "outputs": [],
   "source": [
    "\"\"\"\n",
    "create list of proper data types for each feature as specified in census_income_metadata.txt\n",
    "\"\"\"\n",
    "\n",
    "continuous_features = ['age', 'wage_per_hour', 'capital_gains', 'capital_losses',\n",
    "                       'dividends_from_stocks', 'num_persons_worked_for_employer',\n",
    "                       'weeks_worked_in_year']\n",
    "nominal_features = [feature for feature in colnames if feature not in continuous_features]"
   ]
  },
  {
   "cell_type": "markdown",
   "metadata": {},
   "source": [
    "Check Unique Values in Data"
   ]
  },
  {
   "cell_type": "code",
   "execution_count": 7,
   "metadata": {},
   "outputs": [],
   "source": [
    "\"\"\"\n",
    "instantiate dictionaries to store problem values idnetified in train and test sets\n",
    "problem values will be determined by comparing unique values in the data to known set of unique values specified\n",
    "in census_income_metadata.txt\n",
    "\"\"\"\n",
    "# create dictionaries\n",
    "train_problem_values_dict = {}\n",
    "test_problem_values_dict = {}\n",
    "# get unique values from each column in train and test sets, compute set difference between actual and expected unique values\n",
    "for col in nominal_features:\n",
    "    unique_vals_train = set([str(val) for val in census_income_train[col].unique()])\n",
    "    unique_vals_test = set([str(val) for val in census_income_test[col].unique()])\n",
    "    unique_vals_metadata = set(metadata_dict[col])\n",
    "    train_problem_values_dict[col] = list(unique_vals_train - unique_vals_metadata)\n",
    "    test_problem_values_dict[col] = list(unique_vals_test - unique_vals_metadata)"
   ]
  },
  {
   "cell_type": "code",
   "execution_count": 8,
   "metadata": {},
   "outputs": [
    {
     "name": "stdout",
     "output_type": "stream",
     "text": [
      "{'class_of_worker': [], 'detailed_industry_recode': [], 'detailed_occupation_recode': [], 'education': [], 'enroll_in_edu_inst_last_wk': [], 'marital_stat': [], 'major_industry_code': [], 'major_occupation_code': [], 'race': [], 'hispanic_origin': [], 'sex': [], 'member_of_a_labor_union': [], 'reason_for_unemployment': [], 'full_or_part_time_employment_stat': [], 'tax_filer_stat': [], 'region_of_previous_residence': [], 'state_of_previous_residence': ['?'], 'detailed_household_and_family_stat': [], 'detailed_household_summary_in_household': [], 'migration_codechange_in_msa': ['?'], 'migration_codechange_in_reg': ['?'], 'migration_codemove_within_reg': ['?'], 'live_in_this_house_1_year_ago': [], 'migration_prev_res_in_sunbelt': ['?'], 'family_members_under_18': [], 'country_of_birth_father': ['?'], 'country_of_birth_mother': ['?'], 'country_of_birth_self': ['?'], 'citizenship': [], 'own_business_or_self_employed': [], 'fill_inc_questionnaire_for_veterans_admin': [], 'veterans_benefits': [], 'year': [], 'outcome': []}\n"
     ]
    }
   ],
   "source": [
    "\"\"\"print problem values idntified in training set\"\"\"\n",
    "print(train_problem_values_dict)"
   ]
  },
  {
   "cell_type": "code",
   "execution_count": 9,
   "metadata": {},
   "outputs": [
    {
     "name": "stdout",
     "output_type": "stream",
     "text": [
      "{'class_of_worker': [], 'detailed_industry_recode': [], 'detailed_occupation_recode': [], 'education': [], 'enroll_in_edu_inst_last_wk': [], 'marital_stat': [], 'major_industry_code': [], 'major_occupation_code': [], 'race': [], 'hispanic_origin': [], 'sex': [], 'member_of_a_labor_union': [], 'reason_for_unemployment': [], 'full_or_part_time_employment_stat': [], 'tax_filer_stat': [], 'region_of_previous_residence': [], 'state_of_previous_residence': ['?'], 'detailed_household_and_family_stat': [], 'detailed_household_summary_in_household': [], 'migration_codechange_in_msa': ['?'], 'migration_codechange_in_reg': ['?'], 'migration_codemove_within_reg': ['?'], 'live_in_this_house_1_year_ago': [], 'migration_prev_res_in_sunbelt': ['?'], 'family_members_under_18': [], 'country_of_birth_father': ['?'], 'country_of_birth_mother': ['?'], 'country_of_birth_self': ['?'], 'citizenship': [], 'own_business_or_self_employed': [], 'fill_inc_questionnaire_for_veterans_admin': [], 'veterans_benefits': [], 'year': [], 'outcome': []}\n"
     ]
    }
   ],
   "source": [
    "\"\"\"print problem values identified in the test set\"\"\"\n",
    "print(test_problem_values_dict)"
   ]
  },
  {
   "cell_type": "markdown",
   "metadata": {},
   "source": [
    "Comparison of unique values in the training and test sets to unique values in census_income_metadata.txt shows the existence of a single problem value \"?.\" This value will be treated as missing and replaced with \"None.\""
   ]
  },
  {
   "cell_type": "code",
   "execution_count": 10,
   "metadata": {},
   "outputs": [],
   "source": [
    "\"\"\"change records with ? to None dtype\"\"\"\n",
    "census_income_train = census_income_train.applymap(lambda x : None if x == '?' else x)\n",
    "census_income_test = census_income_test.applymap(lambda x : None if x == '?' else x)"
   ]
  },
  {
   "cell_type": "code",
   "execution_count": 11,
   "metadata": {},
   "outputs": [
    {
     "data": {
      "text/plain": [
       "False"
      ]
     },
     "execution_count": 11,
     "metadata": {},
     "output_type": "execute_result"
    }
   ],
   "source": [
    "\"\"\"verify ? has been replaced with None in train set\"\"\"\n",
    "\n",
    "'?' in census_income_train.values"
   ]
  },
  {
   "cell_type": "code",
   "execution_count": 12,
   "metadata": {},
   "outputs": [
    {
     "data": {
      "text/plain": [
       "False"
      ]
     },
     "execution_count": 12,
     "metadata": {},
     "output_type": "execute_result"
    }
   ],
   "source": [
    "\"\"\"verify ? has been replaced with None in test set\"\"\"\n",
    "\n",
    "'?' in census_income_test.values"
   ]
  },
  {
   "cell_type": "markdown",
   "metadata": {},
   "source": [
    "Check Missing Values and Missingness Mechanism in Data"
   ]
  },
  {
   "cell_type": "code",
   "execution_count": 13,
   "metadata": {},
   "outputs": [
    {
     "data": {
      "text/plain": [
       "age                                0\n",
       "wage_per_hour                      0\n",
       "capital_gains                      0\n",
       "capital_losses                     0\n",
       "dividends_from_stocks              0\n",
       "num_persons_worked_for_employer    0\n",
       "weeks_worked_in_year               0\n",
       "dtype: int64"
      ]
     },
     "execution_count": 13,
     "metadata": {},
     "output_type": "execute_result"
    }
   ],
   "source": [
    "\"\"\"print count of missing continuous features in train set\"\"\"\n",
    "\n",
    "census_income_train[continuous_features].isnull().sum()"
   ]
  },
  {
   "cell_type": "code",
   "execution_count": 14,
   "metadata": {},
   "outputs": [
    {
     "data": {
      "text/plain": [
       "age                                0\n",
       "wage_per_hour                      0\n",
       "capital_gains                      0\n",
       "capital_losses                     0\n",
       "dividends_from_stocks              0\n",
       "num_persons_worked_for_employer    0\n",
       "weeks_worked_in_year               0\n",
       "dtype: int64"
      ]
     },
     "execution_count": 14,
     "metadata": {},
     "output_type": "execute_result"
    }
   ],
   "source": [
    "\"\"\"print count of missing continuous features in test set\"\"\"\n",
    "\n",
    "census_income_train[continuous_features].isnull().sum()"
   ]
  },
  {
   "cell_type": "code",
   "execution_count": 15,
   "metadata": {},
   "outputs": [
    {
     "data": {
      "text/plain": [
       "class_of_worker                                  0\n",
       "detailed_industry_recode                         0\n",
       "detailed_occupation_recode                       0\n",
       "education                                        0\n",
       "enroll_in_edu_inst_last_wk                       0\n",
       "marital_stat                                     0\n",
       "major_industry_code                              0\n",
       "major_occupation_code                            0\n",
       "race                                             0\n",
       "hispanic_origin                                  0\n",
       "sex                                              0\n",
       "member_of_a_labor_union                          0\n",
       "reason_for_unemployment                          0\n",
       "full_or_part_time_employment_stat                0\n",
       "tax_filer_stat                                   0\n",
       "region_of_previous_residence                     0\n",
       "state_of_previous_residence                    708\n",
       "detailed_household_and_family_stat               0\n",
       "detailed_household_summary_in_household          0\n",
       "migration_codechange_in_msa                  99696\n",
       "migration_codechange_in_reg                  99696\n",
       "migration_codemove_within_reg                99696\n",
       "live_in_this_house_1_year_ago                    0\n",
       "migration_prev_res_in_sunbelt                99696\n",
       "family_members_under_18                          0\n",
       "country_of_birth_father                       6713\n",
       "country_of_birth_mother                       6119\n",
       "country_of_birth_self                         3393\n",
       "citizenship                                      0\n",
       "own_business_or_self_employed                    0\n",
       "fill_inc_questionnaire_for_veterans_admin        0\n",
       "veterans_benefits                                0\n",
       "year                                             0\n",
       "outcome                                          0\n",
       "dtype: int64"
      ]
     },
     "execution_count": 15,
     "metadata": {},
     "output_type": "execute_result"
    }
   ],
   "source": [
    "\"\"\"print count of missing nominal features in train set\"\"\"\n",
    "\n",
    "census_income_train[nominal_features].isnull().sum()"
   ]
  },
  {
   "cell_type": "code",
   "execution_count": 16,
   "metadata": {},
   "outputs": [
    {
     "data": {
      "text/plain": [
       "class_of_worker                                  0\n",
       "detailed_industry_recode                         0\n",
       "detailed_occupation_recode                       0\n",
       "education                                        0\n",
       "enroll_in_edu_inst_last_wk                       0\n",
       "marital_stat                                     0\n",
       "major_industry_code                              0\n",
       "major_occupation_code                            0\n",
       "race                                             0\n",
       "hispanic_origin                                  0\n",
       "sex                                              0\n",
       "member_of_a_labor_union                          0\n",
       "reason_for_unemployment                          0\n",
       "full_or_part_time_employment_stat                0\n",
       "tax_filer_stat                                   0\n",
       "region_of_previous_residence                     0\n",
       "state_of_previous_residence                    330\n",
       "detailed_household_and_family_stat               0\n",
       "detailed_household_summary_in_household          0\n",
       "migration_codechange_in_msa                  49946\n",
       "migration_codechange_in_reg                  49946\n",
       "migration_codemove_within_reg                49946\n",
       "live_in_this_house_1_year_ago                    0\n",
       "migration_prev_res_in_sunbelt                49946\n",
       "family_members_under_18                          0\n",
       "country_of_birth_father                       3429\n",
       "country_of_birth_mother                       3072\n",
       "country_of_birth_self                         1764\n",
       "citizenship                                      0\n",
       "own_business_or_self_employed                    0\n",
       "fill_inc_questionnaire_for_veterans_admin        0\n",
       "veterans_benefits                                0\n",
       "year                                             0\n",
       "outcome                                          0\n",
       "dtype: int64"
      ]
     },
     "execution_count": 16,
     "metadata": {},
     "output_type": "execute_result"
    }
   ],
   "source": [
    "\"\"\"print count of missing nominal features in test set\"\"\"\n",
    "\n",
    "census_income_test[nominal_features].isnull().sum()"
   ]
  },
  {
   "cell_type": "code",
   "execution_count": 17,
   "metadata": {},
   "outputs": [],
   "source": [
    "\"\"\"drop columns missing more than 30% of data from train set\"\"\"\n",
    "\n",
    "perc = 0.70\n",
    "threshold = int(perc*census_income_train.shape[0])\n",
    "census_income_train.dropna(axis=1, thresh=threshold, inplace=True)\n",
    "# update nominal features index to account for dropped features\n",
    "nominal_features = [feature for feature in census_income_train.columns.values.tolist() if feature not in continuous_features]"
   ]
  },
  {
   "cell_type": "code",
   "execution_count": 18,
   "metadata": {},
   "outputs": [],
   "source": [
    "\"\"\"drop columns missing more than 30% of data from test set\"\"\"\n",
    "\n",
    "perc = 0.70\n",
    "threshold = int(perc*census_income_test.shape[0])\n",
    "census_income_test.dropna(axis=1, thresh=threshold, inplace=True)\n",
    "# update nominal features index to account for dropped features\n",
    "nominal_features = [feature for feature in census_income_test.columns.values.tolist() if feature not in continuous_features]"
   ]
  },
  {
   "cell_type": "code",
   "execution_count": null,
   "metadata": {},
   "outputs": [],
   "source": [
    "\"\"\"determine total percentage of records with at least one missing attribute train set\"\"\"\n",
    "\n",
    "census_income_train.isnull().any(axis=1).mean()*100"
   ]
  },
  {
   "cell_type": "code",
   "execution_count": null,
   "metadata": {},
   "outputs": [],
   "source": [
    "\"\"\"determine total percentage of records with at least one missing attribute test set\"\"\"\n",
    "\n",
    "census_income_test.isnull().any(axis=1).mean()*100"
   ]
  },
  {
   "cell_type": "code",
   "execution_count": null,
   "metadata": {},
   "outputs": [],
   "source": [
    "\"\"\"\n",
    "print missing matrix for train set using missingo module\n",
    "missing matrix will provide high-level view of missingness mechanism (MCAR, MAR, NMAR)\n",
    "\"\"\"\n",
    "msngo.matrix(census_income_train)"
   ]
  },
  {
   "cell_type": "code",
   "execution_count": null,
   "metadata": {},
   "outputs": [],
   "source": [
    "\"\"\"\n",
    "print missing matrix for test set using missingo module\n",
    "missing matrix will provide high-level view of missingness mechanism (MCAR, MAR, NMAR)\n",
    "\"\"\"\n",
    "\n",
    "msngo.matrix(census_income_test)"
   ]
  },
  {
   "cell_type": "markdown",
   "metadata": {},
   "source": [
    "Examining the missingness matrix it's clear that missing data in both the training and test sets is not missing completely at random (MCAR). Since less the 5% of records are missing data and the misssingness mechanism is not MCAR remaining records with misssing attributes will be dropped."
   ]
  },
  {
   "cell_type": "code",
   "execution_count": null,
   "metadata": {},
   "outputs": [],
   "source": [
    "\"\"\"drop records with missing attributes from train set\"\"\"\n",
    "census_income_train.dropna(axis=0, inplace=True)\n",
    "census_income_train.isnull().sum()"
   ]
  },
  {
   "cell_type": "code",
   "execution_count": null,
   "metadata": {},
   "outputs": [],
   "source": [
    "\"\"\"drop records with missing attributes from test set\"\"\"\n",
    "census_income_test.dropna(axis=0, inplace=True)\n",
    "census_income_test.isnull().sum()"
   ]
  },
  {
   "cell_type": "code",
   "execution_count": null,
   "metadata": {},
   "outputs": [],
   "source": [
    "\"\"\"check data types census_income_test\"\"\"\n",
    "census_income_train[continuous_features].dtypes"
   ]
  },
  {
   "cell_type": "code",
   "execution_count": null,
   "metadata": {},
   "outputs": [],
   "source": [
    "\"\"\"check data types census_income_test\"\"\"\n",
    "\n",
    "census_income_test[continuous_features].dtypes"
   ]
  },
  {
   "cell_type": "code",
   "execution_count": null,
   "metadata": {},
   "outputs": [],
   "source": [
    "\"\"\"convert nominal features to type category, census_income_train\"\"\"\n",
    "census_income_train[nominal_features] = census_income_train[nominal_features].astype('category')\n",
    "census_income_train[nominal_features].dtypes"
   ]
  },
  {
   "cell_type": "code",
   "execution_count": null,
   "metadata": {},
   "outputs": [],
   "source": [
    "\"\"\"convert nominal features to type category, census_income_test\"\"\"\n",
    "census_income_test[nominal_features] = census_income_test[nominal_features].astype('category')\n",
    "census_income_test[nominal_features].dtypes"
   ]
  },
  {
   "cell_type": "markdown",
   "metadata": {},
   "source": [
    "## *Exploratory Data Analysis*"
   ]
  },
  {
   "cell_type": "markdown",
   "metadata": {},
   "source": [
    "### Objectives\n",
    "\n",
    "- Print descriptive statistics for training and test sets\n",
    "- Identify extreme values (outliers) in continuous features\n",
    "- Visualize distribution of continuous features\n",
    "- Print frequency distribution for nominal features\n",
    "- Visualize frequency distribution for select nominal features\n",
    "- Visualize frequency distribution of target\n",
    "    - Consider distribution of target in training and test sets"
   ]
  },
  {
   "cell_type": "code",
   "execution_count": null,
   "metadata": {},
   "outputs": [],
   "source": [
    "\"\"\"print info for clean train set\"\"\"\n",
    "\n",
    "census_income_train.info()"
   ]
  },
  {
   "cell_type": "code",
   "execution_count": null,
   "metadata": {},
   "outputs": [],
   "source": [
    "\"\"\"print info for clean test set\"\"\"\n",
    "census_income_test.info()"
   ]
  },
  {
   "cell_type": "code",
   "execution_count": null,
   "metadata": {},
   "outputs": [],
   "source": [
    "\"\"\"print summary statistics for continuous features in the training set\"\"\"\n",
    "census_income_train[continuous_features].agg(func=['min', 'median', 'max', 'var', 'mean', 'std',\n",
    "                                                   'skew', 'kurt'])"
   ]
  },
  {
   "cell_type": "code",
   "execution_count": null,
   "metadata": {},
   "outputs": [],
   "source": [
    "\"\"\"print summary statistics for continuous features in the test set\"\"\"\n",
    "census_income_test[continuous_features].agg(func=['min', 'median', 'max', 'mean', 'var', 'std',\n",
    "                                                   'skew', 'kurt'])"
   ]
  },
  {
   "cell_type": "markdown",
   "metadata": {},
   "source": [
    "Printing summary statistics for continuous features in the data shows the possible existnece of extreme values for features related to financials. A boxplot can be used to further confirm this assumption."
   ]
  },
  {
   "cell_type": "code",
   "execution_count": null,
   "metadata": {},
   "outputs": [],
   "source": [
    "\"\"\"plot high-level view of distribution continuous predictors train\"\"\"\n",
    "\n",
    "fig, ax = plt.subplots(2, 2, figsize=(20, 15))\n",
    "sns.boxplot(data=census_income_train, y='wage_per_hour', ax=ax[0,0])\n",
    "sns.boxplot(data=census_income_train, y='capital_gains', ax=ax[0, 1])\n",
    "sns.boxplot(data=census_income_train, y='capital_losses', ax=ax[1, 0])\n",
    "sns.boxplot(data=census_income_train, y='dividends_from_stocks', ax=ax[1, 1])\n",
    "#plt.ticklabel_format(style='Plain')\n",
    "fig.suptitle('Distribution of Financial Features Train (High-Level)')\n",
    "plt.tight_layout()"
   ]
  },
  {
   "cell_type": "code",
   "execution_count": null,
   "metadata": {},
   "outputs": [],
   "source": [
    "\"\"\"plot high-level view of distribution continuous predictors test\"\"\"\n",
    "\n",
    "fig, ax = plt.subplots(2, 2, figsize=(20, 15))\n",
    "sns.boxplot(data=census_income_test, y='wage_per_hour', ax=ax[0,0])\n",
    "sns.boxplot(data=census_income_test, y='capital_gains', ax=ax[0, 1])\n",
    "sns.boxplot(data=census_income_test, y='capital_losses', ax=ax[1, 0])\n",
    "sns.boxplot(data=census_income_train, y='dividends_from_stocks', ax=ax[1, 1])\n",
    "#plt.ticklabel_format(style='Plain')\n",
    "fig.suptitle('Distribution of Financial Features (High-Level)')\n",
    "plt.tight_layout()"
   ]
  },
  {
   "cell_type": "markdown",
   "metadata": {},
   "source": [
    "After visualizing outliers in features related to financials it's determined that records with financial features that have a z-score with absolute value greater than 3 should be identified. If these data repressent a significant amount of records in the training and test sets then records that have a z-score with absolute value greater than three should be retained. It's also worth noting that it's not uncommon for people in the US population to have income substantially greater than their peers."
   ]
  },
  {
   "cell_type": "code",
   "execution_count": null,
   "metadata": {},
   "outputs": [],
   "source": [
    "\"\"\"compute z-score for financial data training set and filter for z-scores with absolute value greater than 3\"\"\"\n",
    "financial_features = ['wage_per_hour', 'capital_gains', 'capital_losses', 'dividends_from_stocks']\n",
    "z_scores = stats.zscore(census_income_train[financial_features])\n",
    "z_filter = (np.abs(z_scores > 3).any(axis=1))\n",
    "census_income_train[z_filter].shape[0]/census_income_train.shape[0]*100"
   ]
  },
  {
   "cell_type": "code",
   "execution_count": null,
   "metadata": {},
   "outputs": [],
   "source": [
    "\"\"\"compute z-score for financial data test set and filter for z-scores with absolute value greater than 3\"\"\"\n",
    "financial_features = ['capital_gains', 'capital_losses', 'dividends_from_stocks']\n",
    "z_scores = stats.zscore(census_income_test[financial_features])\n",
    "z_filter = (np.abs(z_scores > 3).any(axis=1))\n",
    "census_income_test[z_filter].shape[0]/census_income_test.shape[0]*100"
   ]
  },
  {
   "cell_type": "code",
   "execution_count": null,
   "metadata": {},
   "outputs": [],
   "source": [
    "\"\"\"plot the distribution of people based attributes training set\"\"\"\n",
    "\n",
    "fig, ax = plt.subplots(1, 3, figsize=(20, 15))\n",
    "sns.histplot(data=census_income_train, x='age', stat='density', kde=True, ax=ax[0])\n",
    "sns.histplot(data=census_income_train, x='num_persons_worked_for_employer', stat='density', kde=True, ax=ax[1])\n",
    "sns.histplot(data=census_income_train, x='weeks_worked_in_year', stat='density', kde=True, ax=ax[2])\n",
    "\n",
    "#plt.ticklabel_format(style='Plain')\n",
    "fig.suptitle('Distribution of People Based Features Train (High-Level)')\n",
    "plt.tight_layout()"
   ]
  },
  {
   "cell_type": "code",
   "execution_count": null,
   "metadata": {},
   "outputs": [],
   "source": [
    "\"\"\"plot the distribution of people based attributes testing set\"\"\"\n",
    "\n",
    "fig, ax = plt.subplots(1, 3, figsize=(20, 15))\n",
    "sns.histplot(data=census_income_test, x='age', stat='density', kde=True, ax=ax[0])\n",
    "sns.histplot(data=census_income_test, x='num_persons_worked_for_employer', stat='density', kde=True, ax=ax[1])\n",
    "sns.histplot(data=census_income_test, x='weeks_worked_in_year', stat='density', kde=True, ax=ax[2])\n",
    "\n",
    "#plt.ticklabel_format(style='Plain')\n",
    "fig.suptitle('Distribution of People Based Features Test (High-Level)')\n",
    "plt.tight_layout()"
   ]
  },
  {
   "cell_type": "markdown",
   "metadata": {},
   "source": [
    "Plotting the distribution of continuous people based attributes in the data shows seems to show some extreme values in the data. That being said, the relatively normal values for skewness and kurtosis calcualted previously tell a different story. The data may be scaled for preprocessing depending upon the learning algorithm applied, but the effect of outliers should be relatively mild."
   ]
  },
  {
   "cell_type": "code",
   "execution_count": null,
   "metadata": {},
   "outputs": [],
   "source": [
    "\"\"\"print frequency distribution of nominal features training set\"\"\"\n",
    "\n",
    "for feature in nominal_features:\n",
    "    print(census_income_train.value_counts(feature, normalize=True)*100)\n",
    "    print()\n"
   ]
  },
  {
   "cell_type": "code",
   "execution_count": null,
   "metadata": {},
   "outputs": [],
   "source": [
    "\"\"\"plot frequency distribution of income level by education race and sex\"\"\"\n",
    "fig, ax = plt.subplots(figsize=(15, 10))\n",
    "sns.countplot(data=census_income_train, x='outcome', hue='sex')\n",
    "plt.title('Income Level by Race: Training Set')\n",
    "plt.tight_layout()"
   ]
  },
  {
   "cell_type": "code",
   "execution_count": null,
   "metadata": {},
   "outputs": [],
   "source": [
    "\"\"\"plot frequency distribution of income level by race\"\"\"\n",
    "fig, ax = plt.subplots(figsize=(15, 10))\n",
    "sns.countplot(data=census_income_train, x='race', hue='sex')\n",
    "plt.title('Gender by Race: Training Set')\n",
    "plt.tight_layout()"
   ]
  },
  {
   "cell_type": "code",
   "execution_count": null,
   "metadata": {},
   "outputs": [],
   "source": [
    "\"\"\"visualize the distribution of the target label in the training dataset\"\"\"\n",
    "\n",
    "fig, ax = plt.subplots(figsize=(15, 10))\n",
    "sns.countplot(data=census_income_train, x='outcome')\n",
    "plt.title('Distribution of the Target Label: Training Set')\n",
    "plt.tight_layout()"
   ]
  },
  {
   "cell_type": "code",
   "execution_count": null,
   "metadata": {},
   "outputs": [],
   "source": [
    "\"\"\"visualize the distribution of the target label in the training dataset\"\"\"\n",
    "\n",
    "fig, ax = plt.subplots(figsize=(15, 10))\n",
    "sns.countplot(data=census_income_test, x='outcome')\n",
    "plt.title('Distribution of the Target Label: Test Set')\n",
    "plt.tight_layout()"
   ]
  },
  {
   "cell_type": "markdown",
   "metadata": {},
   "source": [
    "## *_Data Preprocessing_*"
   ]
  },
  {
   "cell_type": "markdown",
   "metadata": {},
   "source": [
    "*Objectives*\n",
    "\n",
    "- Apply robust scaler to numeric features\n",
    "- Encode outcome as binary classifier (0/1)"
   ]
  },
  {
   "cell_type": "code",
   "execution_count": null,
   "metadata": {},
   "outputs": [],
   "source": [
    "\"\"\"apply preprocessing to the training and test set\"\"\"\n",
    "\n",
    "#instantiate transformers\n",
    "scaler = RobustScaler()\n",
    "le = LabelEncoder()\n",
    "#separate features and target\n",
    "X_train = census_income_train.iloc[:, :-1]\n",
    "y_train = census_income_train.iloc[:, -1:]\n",
    "# apply transformers to training data\n",
    "X_train[continuous_features] = scaler.fit_transform(X_train[continuous_features])\n",
    "y_train['outcome'] = le.fit_transform(y_train)\n",
    "#separate features and target\n",
    "X_test = census_income_test.iloc[:, :-1]\n",
    "y_test = census_income_test.iloc[:, -1:]\n",
    "# pickle training data for future use\n",
    "X_test.to_pickle('X_test')\n",
    "y_test.to_pickle('y_test')\n",
    "# apply transformers to test data\n",
    "X_test[continuous_features] = scaler.fit_transform(X_test[continuous_features])\n",
    "y_test['outcome'] = le.fit_transform(y_test)\n",
    "# pickle test data for future use\n",
    "X_test.to_pickle('X_test')\n",
    "y_test.to_pickle('y_test')\n"
   ]
  },
  {
   "cell_type": "markdown",
   "metadata": {},
   "source": [
    "## *Key Takeaways*"
   ]
  },
  {
   "cell_type": "markdown",
   "metadata": {},
   "source": [
    "During data exploration it was determined there are extreme outliers present in features related to financial metrics for records. Considering how the data relate to the real-world problem being solved (prediction of income above or below 50K) outliers were not removed from the data. Instead a robust scaler was applied to numeric features to minimize the effects of outliers. Visualaizing the target (renamed \"outcome\" for the purpose of exploration) showed an imbalance of class membership in the data. This imbalance should be considered when applying supervised classification techniques to the data."
   ]
  }
 ],
 "metadata": {
  "kernelspec": {
   "display_name": "Python 3.9.12 ('COMP4448-zVXvr8KM')",
   "language": "python",
   "name": "python3"
  },
  "language_info": {
   "codemirror_mode": {
    "name": "ipython",
    "version": 3
   },
   "file_extension": ".py",
   "mimetype": "text/x-python",
   "name": "python",
   "nbconvert_exporter": "python",
   "pygments_lexer": "ipython3",
   "version": "3.9.12"
  },
  "orig_nbformat": 4,
  "vscode": {
   "interpreter": {
    "hash": "5392b5f59a5fef62b4badd3fb41b4c3fb016ca90199b117ded7058284d432eca"
   }
  }
 },
 "nbformat": 4,
 "nbformat_minor": 2
}
