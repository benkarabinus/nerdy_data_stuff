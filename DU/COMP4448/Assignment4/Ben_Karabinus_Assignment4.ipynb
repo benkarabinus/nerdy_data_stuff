{
 "cells": [
  {
   "cell_type": "markdown",
   "metadata": {},
   "source": [
    "# <center>__Assignment 4__</center>"
   ]
  },
  {
   "cell_type": "code",
   "execution_count": 1,
   "metadata": {},
   "outputs": [],
   "source": [
    "\"\"\"load the required packages\"\"\"\n",
    "\n",
    "import numpy as np\n",
    "import pandas as pd\n",
    "import matplotlib.pyplot as plt\n",
    "import sklearn\n",
    "from sklearn.metrics import euclidean_distances, mean_squared_error, accuracy_score\n",
    "from sklearn.neighbors import KNeighborsRegressor, KNeighborsClassifier\n",
    "from  sklearn.ensemble import RandomForestRegressor, RandomForestClassifier\n",
    "from sklearn.pipeline import Pipeline\n",
    "from sklearn.preprocessing import StandardScaler, MinMaxScaler\n",
    "from sklearn.model_selection import GridSearchCV, train_test_split"
   ]
  },
  {
   "cell_type": "markdown",
   "metadata": {},
   "source": [
    "## Question 1"
   ]
  },
  {
   "cell_type": "markdown",
   "metadata": {},
   "source": [
    "### a)\tRead the data provided on canvas into Python as follows: "
   ]
  },
  {
   "cell_type": "markdown",
   "metadata": {},
   "source": [
    "![Load Data](load_data.png)"
   ]
  },
  {
   "cell_type": "markdown",
   "metadata": {},
   "source": [
    "Print the first 5 rows of each dataset to inspect the nature of data"
   ]
  },
  {
   "cell_type": "code",
   "execution_count": 2,
   "metadata": {},
   "outputs": [],
   "source": [
    "\"\"\"load the data into Python\"\"\"\n",
    "\n",
    "delivery_train = pd.read_csv('delivery_time_train_data.csv')\n",
    "delivery_test = pd.read_csv('delivery_time_test_data.csv')\n",
    "student_train = pd.read_csv('student_test_data.csv')\n",
    "student_test = pd.read_csv('student_test_data.csv')"
   ]
  },
  {
   "cell_type": "code",
   "execution_count": 3,
   "metadata": {},
   "outputs": [
    {
     "data": {
      "text/html": [
       "<div>\n",
       "<style scoped>\n",
       "    .dataframe tbody tr th:only-of-type {\n",
       "        vertical-align: middle;\n",
       "    }\n",
       "\n",
       "    .dataframe tbody tr th {\n",
       "        vertical-align: top;\n",
       "    }\n",
       "\n",
       "    .dataframe thead th {\n",
       "        text-align: right;\n",
       "    }\n",
       "</style>\n",
       "<table border=\"1\" class=\"dataframe\">\n",
       "  <thead>\n",
       "    <tr style=\"text-align: right;\">\n",
       "      <th></th>\n",
       "      <th>Miles</th>\n",
       "      <th>Deliveries</th>\n",
       "      <th>Time</th>\n",
       "    </tr>\n",
       "  </thead>\n",
       "  <tbody>\n",
       "    <tr>\n",
       "      <th>0</th>\n",
       "      <td>100</td>\n",
       "      <td>4</td>\n",
       "      <td>9.3</td>\n",
       "    </tr>\n",
       "    <tr>\n",
       "      <th>1</th>\n",
       "      <td>50</td>\n",
       "      <td>3</td>\n",
       "      <td>4.8</td>\n",
       "    </tr>\n",
       "    <tr>\n",
       "      <th>2</th>\n",
       "      <td>100</td>\n",
       "      <td>4</td>\n",
       "      <td>8.9</td>\n",
       "    </tr>\n",
       "    <tr>\n",
       "      <th>3</th>\n",
       "      <td>100</td>\n",
       "      <td>2</td>\n",
       "      <td>6.5</td>\n",
       "    </tr>\n",
       "    <tr>\n",
       "      <th>4</th>\n",
       "      <td>50</td>\n",
       "      <td>2</td>\n",
       "      <td>4.2</td>\n",
       "    </tr>\n",
       "  </tbody>\n",
       "</table>\n",
       "</div>"
      ],
      "text/plain": [
       "   Miles  Deliveries  Time\n",
       "0    100           4   9.3\n",
       "1     50           3   4.8\n",
       "2    100           4   8.9\n",
       "3    100           2   6.5\n",
       "4     50           2   4.2"
      ]
     },
     "execution_count": 3,
     "metadata": {},
     "output_type": "execute_result"
    }
   ],
   "source": [
    "\"\"\"print the first 5 rows of delivery_train\"\"\"\n",
    "\n",
    "delivery_train.head(5)"
   ]
  },
  {
   "cell_type": "code",
   "execution_count": 4,
   "metadata": {},
   "outputs": [
    {
     "data": {
      "text/html": [
       "<div>\n",
       "<style scoped>\n",
       "    .dataframe tbody tr th:only-of-type {\n",
       "        vertical-align: middle;\n",
       "    }\n",
       "\n",
       "    .dataframe tbody tr th {\n",
       "        vertical-align: top;\n",
       "    }\n",
       "\n",
       "    .dataframe thead th {\n",
       "        text-align: right;\n",
       "    }\n",
       "</style>\n",
       "<table border=\"1\" class=\"dataframe\">\n",
       "  <thead>\n",
       "    <tr style=\"text-align: right;\">\n",
       "      <th></th>\n",
       "      <th>Miles</th>\n",
       "      <th>Deliveries</th>\n",
       "      <th>Time</th>\n",
       "    </tr>\n",
       "  </thead>\n",
       "  <tbody>\n",
       "    <tr>\n",
       "      <th>0</th>\n",
       "      <td>50</td>\n",
       "      <td>3</td>\n",
       "      <td>4.6</td>\n",
       "    </tr>\n",
       "    <tr>\n",
       "      <th>1</th>\n",
       "      <td>65</td>\n",
       "      <td>2</td>\n",
       "      <td>5.5</td>\n",
       "    </tr>\n",
       "    <tr>\n",
       "      <th>2</th>\n",
       "      <td>80</td>\n",
       "      <td>1</td>\n",
       "      <td>6.3</td>\n",
       "    </tr>\n",
       "    <tr>\n",
       "      <th>3</th>\n",
       "      <td>70</td>\n",
       "      <td>1</td>\n",
       "      <td>6.2</td>\n",
       "    </tr>\n",
       "    <tr>\n",
       "      <th>4</th>\n",
       "      <td>70</td>\n",
       "      <td>5</td>\n",
       "      <td>8.5</td>\n",
       "    </tr>\n",
       "  </tbody>\n",
       "</table>\n",
       "</div>"
      ],
      "text/plain": [
       "   Miles  Deliveries  Time\n",
       "0     50           3   4.6\n",
       "1     65           2   5.5\n",
       "2     80           1   6.3\n",
       "3     70           1   6.2\n",
       "4     70           5   8.5"
      ]
     },
     "execution_count": 4,
     "metadata": {},
     "output_type": "execute_result"
    }
   ],
   "source": [
    "\"\"\"print the first 5 row of delivery test\"\"\"\n",
    "\n",
    "delivery_test.head(5)"
   ]
  },
  {
   "cell_type": "code",
   "execution_count": 5,
   "metadata": {},
   "outputs": [
    {
     "data": {
      "text/html": [
       "<div>\n",
       "<style scoped>\n",
       "    .dataframe tbody tr th:only-of-type {\n",
       "        vertical-align: middle;\n",
       "    }\n",
       "\n",
       "    .dataframe tbody tr th {\n",
       "        vertical-align: top;\n",
       "    }\n",
       "\n",
       "    .dataframe thead th {\n",
       "        text-align: right;\n",
       "    }\n",
       "</style>\n",
       "<table border=\"1\" class=\"dataframe\">\n",
       "  <thead>\n",
       "    <tr style=\"text-align: right;\">\n",
       "      <th></th>\n",
       "      <th>GPA</th>\n",
       "      <th>Age</th>\n",
       "      <th>Dropped</th>\n",
       "    </tr>\n",
       "  </thead>\n",
       "  <tbody>\n",
       "    <tr>\n",
       "      <th>0</th>\n",
       "      <td>2.49</td>\n",
       "      <td>26</td>\n",
       "      <td>1</td>\n",
       "    </tr>\n",
       "    <tr>\n",
       "      <th>1</th>\n",
       "      <td>2.67</td>\n",
       "      <td>29</td>\n",
       "      <td>0</td>\n",
       "    </tr>\n",
       "    <tr>\n",
       "      <th>2</th>\n",
       "      <td>2.86</td>\n",
       "      <td>29</td>\n",
       "      <td>1</td>\n",
       "    </tr>\n",
       "    <tr>\n",
       "      <th>3</th>\n",
       "      <td>2.21</td>\n",
       "      <td>26</td>\n",
       "      <td>0</td>\n",
       "    </tr>\n",
       "    <tr>\n",
       "      <th>4</th>\n",
       "      <td>2.91</td>\n",
       "      <td>20</td>\n",
       "      <td>1</td>\n",
       "    </tr>\n",
       "  </tbody>\n",
       "</table>\n",
       "</div>"
      ],
      "text/plain": [
       "    GPA  Age  Dropped\n",
       "0  2.49   26        1\n",
       "1  2.67   29        0\n",
       "2  2.86   29        1\n",
       "3  2.21   26        0\n",
       "4  2.91   20        1"
      ]
     },
     "execution_count": 5,
     "metadata": {},
     "output_type": "execute_result"
    }
   ],
   "source": [
    "\"\"\"print the first 5 rows of student train\"\"\"\n",
    "\n",
    "student_train.head(5)"
   ]
  },
  {
   "cell_type": "code",
   "execution_count": 6,
   "metadata": {},
   "outputs": [
    {
     "data": {
      "text/html": [
       "<div>\n",
       "<style scoped>\n",
       "    .dataframe tbody tr th:only-of-type {\n",
       "        vertical-align: middle;\n",
       "    }\n",
       "\n",
       "    .dataframe tbody tr th {\n",
       "        vertical-align: top;\n",
       "    }\n",
       "\n",
       "    .dataframe thead th {\n",
       "        text-align: right;\n",
       "    }\n",
       "</style>\n",
       "<table border=\"1\" class=\"dataframe\">\n",
       "  <thead>\n",
       "    <tr style=\"text-align: right;\">\n",
       "      <th></th>\n",
       "      <th>GPA</th>\n",
       "      <th>Age</th>\n",
       "      <th>Dropped</th>\n",
       "    </tr>\n",
       "  </thead>\n",
       "  <tbody>\n",
       "    <tr>\n",
       "      <th>0</th>\n",
       "      <td>2.49</td>\n",
       "      <td>26</td>\n",
       "      <td>1</td>\n",
       "    </tr>\n",
       "    <tr>\n",
       "      <th>1</th>\n",
       "      <td>2.67</td>\n",
       "      <td>29</td>\n",
       "      <td>0</td>\n",
       "    </tr>\n",
       "    <tr>\n",
       "      <th>2</th>\n",
       "      <td>2.86</td>\n",
       "      <td>29</td>\n",
       "      <td>1</td>\n",
       "    </tr>\n",
       "    <tr>\n",
       "      <th>3</th>\n",
       "      <td>2.21</td>\n",
       "      <td>26</td>\n",
       "      <td>0</td>\n",
       "    </tr>\n",
       "    <tr>\n",
       "      <th>4</th>\n",
       "      <td>2.91</td>\n",
       "      <td>20</td>\n",
       "      <td>1</td>\n",
       "    </tr>\n",
       "  </tbody>\n",
       "</table>\n",
       "</div>"
      ],
      "text/plain": [
       "    GPA  Age  Dropped\n",
       "0  2.49   26        1\n",
       "1  2.67   29        0\n",
       "2  2.86   29        1\n",
       "3  2.21   26        0\n",
       "4  2.91   20        1"
      ]
     },
     "execution_count": 6,
     "metadata": {},
     "output_type": "execute_result"
    }
   ],
   "source": [
    "\"\"\"print the first 5 rows of student_test\"\"\"\n",
    "\n",
    "student_test.head(5)"
   ]
  },
  {
   "cell_type": "markdown",
   "metadata": {},
   "source": [
    "### b)\tSplit the data into training and test set as follows:"
   ]
  },
  {
   "cell_type": "markdown",
   "metadata": {},
   "source": [
    "![Training Test](training_test.png)"
   ]
  },
  {
   "cell_type": "markdown",
   "metadata": {},
   "source": [
    "Print the shape of input and output data for the training and test sets"
   ]
  },
  {
   "cell_type": "code",
   "execution_count": 7,
   "metadata": {},
   "outputs": [],
   "source": [
    "\"\"\"split the data into training and test sets\"\"\"\n",
    "\n",
    "X_delivery_train = delivery_train[['Miles', 'Deliveries']]\n",
    "y_delivery_train = delivery_train[['Time']]\n",
    "\n",
    "X_delivery_test = delivery_test[['Miles', 'Deliveries']]\n",
    "y_delivery_test = delivery_test[['Time']]\n",
    "\n",
    "X_student_train = student_train[['GPA', 'Age']]\n",
    "y_student_train = student_train[['Dropped']]\n",
    "\n",
    "X_student_test = student_test[['GPA', 'Age']]\n",
    "y_student_test = student_test[['Dropped']]"
   ]
  },
  {
   "cell_type": "code",
   "execution_count": 8,
   "metadata": {},
   "outputs": [
    {
     "name": "stdout",
     "output_type": "stream",
     "text": [
      "x_delivery_train shape:  (199, 2)\n",
      "\n",
      "y_delivery_train shape:  (199, 1)\n",
      "\n",
      "x_delivery_test shape:  (101, 2)\n",
      "\n",
      "y_delivery_test shape:  (101, 1)\n",
      "\n",
      "x_student_train shape:  (100, 2)\n",
      "\n",
      "y_student_train shape:  (100, 1)\n",
      "\n",
      "x_student_test shape:  (100, 2)\n",
      "\n",
      "y_student_test shape:  (100, 1)\n"
     ]
    }
   ],
   "source": [
    "\"\"\"print the shape of the data\"\"\"\n",
    "\n",
    "print(\"x_delivery_train shape: \", X_delivery_train.shape)\n",
    "print()\n",
    "print(\"y_delivery_train shape: \", y_delivery_train.shape)\n",
    "print()\n",
    "print(\"x_delivery_test shape: \", X_delivery_test.shape)\n",
    "print()\n",
    "print(\"y_delivery_test shape: \", y_delivery_test.shape)\n",
    "print()\n",
    "print(\"x_student_train shape: \", X_student_train.shape)\n",
    "print()\n",
    "print(\"y_student_train shape: \", y_student_train.shape)\n",
    "print()\n",
    "print(\"x_student_test shape: \", X_student_test.shape)\n",
    "print()\n",
    "print(\"y_student_test shape: \", y_student_test.shape)\n"
   ]
  },
  {
   "cell_type": "markdown",
   "metadata": {},
   "source": [
    "### c)\tYou would use the delivery data for regression: that is, miles (“Miles”) and number of deliveries (“Deliveries”) would be use an input to predict the total time it takes for a delivery truck to deliver Amazon packages. You would write a k-nearest neighbor algorithm function that learns from the training set and predicts the output or y values of given test instances. The input that the function takes include:"
   ]
  },
  {
   "cell_type": "markdown",
   "metadata": {},
   "source": [
    "- X_train: Pandas DataFrame or 2D NumPy array \n",
    "- y_train: Pandas Series or 1D NumPy array \n",
    "- X_test: Pandas DataFrame or 2D NumPy array\n",
    "- K: the number of nearest neighbors. The default value should be k=5 if no k value is passed during function call.\n",
    "\n",
    "\n",
    "Use the following pseudo code to implement the algorithm (also see class notes on ideas for writing knn from scratch to see the details of each step in the body of the code). Here is the pseudo code:"
   ]
  },
  {
   "cell_type": "markdown",
   "metadata": {},
   "source": [
    "![Psuedo Code](psuedo_code.png)"
   ]
  },
  {
   "cell_type": "code",
   "execution_count": 9,
   "metadata": {},
   "outputs": [],
   "source": [
    "\"\"\"KNN Regressor function\"\"\"\n",
    "\n",
    "def knn_predict(X_train, y_train, X_test, y_test, k=5):\n",
    "\n",
    "    # instantiate a list to store predictions\n",
    "    y_pred = []\n",
    "    # ensure feature sets converted to numpy array\n",
    "    X_train = np.array(X_train)\n",
    "    X_test = np.array(X_test)\n",
    "    # use for loop to iterate over all test instances\n",
    "    for i in range(0, len(X_test)):\n",
    "        # get test instance i from test data\n",
    "        test_instance = np.array([X_test[i]])\n",
    "        # find the distance between the test instance and all the training instances\n",
    "        distance = euclidean_distances(X_delivery_train, test_instance)\n",
    "        # stack the distances with Y_train to create matrix\n",
    "        stacked = np.stack((y_delivery_train.Time.values, distance.flatten()), axis=1)\n",
    "        # sort the distances, ascendign then find select the first k values\n",
    "        stacked = stacked[np.argsort(stacked[:, -1])]\n",
    "        k_neighbors = stacked[0:k, 0]\n",
    "        # make a prediction and append to y_pred\n",
    "        y_pred.append(np.mean(k_neighbors))\n",
    "    return y_pred\n",
    "\n",
    "y_delivery_test_pred = knn_predict(X_delivery_train, y_delivery_train,\n",
    "                                                       X_delivery_test, y_delivery_test)       "
   ]
  },
  {
   "cell_type": "markdown",
   "metadata": {},
   "source": [
    "### d)\tWrite a function that computes the mean squared error to measure the performance accuracy of your knn algorithm. The input that goes into the function is the actual output values(y) and the predicted output values (y_pred). The mean squared error (mse) is calculated as follows:"
   ]
  },
  {
   "cell_type": "markdown",
   "metadata": {},
   "source": [
    "$$mse=\\frac{1}{n}\\sum_{i=1}^n (y-y_{pred})^2 \\space \\space where \\space n=len(y)$$"
   ]
  },
  {
   "cell_type": "code",
   "execution_count": 10,
   "metadata": {},
   "outputs": [],
   "source": [
    "\"\"\"function to compute the mean squared error for predicitons\"\"\"\n",
    "\n",
    "def mse(y_delivery_test, y_delivery_test_pred):\n",
    "    \n",
    "    # get length of input test data \"n\"\n",
    "    n = len(y_delivery_test)\n",
    "    # take the difference between observed and prredicted values element-wise\n",
    "    diff = np.subtract(np.array(y_delivery_test).flatten(), np.array(y_delivery_test_pred))\n",
    "    # square then sum the differences\n",
    "    square_diff = np.square(diff)\n",
    "    sum_sq_diff = np.sum(square_diff)\n",
    "    # divide by n and return mean squared error\n",
    "    mse = (1/n)*sum_sq_diff\n",
    "    \n",
    "    return mse\n",
    "    "
   ]
  },
  {
   "cell_type": "markdown",
   "metadata": {},
   "source": [
    "Test the mse function by comparing to the built-in sklearn function."
   ]
  },
  {
   "cell_type": "code",
   "execution_count": 11,
   "metadata": {},
   "outputs": [
    {
     "data": {
      "text/plain": [
       "1.0977544554455445"
      ]
     },
     "execution_count": 11,
     "metadata": {},
     "output_type": "execute_result"
    }
   ],
   "source": [
    "mse(y_delivery_test, y_delivery_test_pred)"
   ]
  },
  {
   "cell_type": "code",
   "execution_count": 12,
   "metadata": {},
   "outputs": [
    {
     "data": {
      "text/plain": [
       "1.0977544554455443"
      ]
     },
     "execution_count": 12,
     "metadata": {},
     "output_type": "execute_result"
    }
   ],
   "source": [
    "mean_squared_error(np.array(y_delivery_test).flatten(), np.array(y_delivery_test_pred), squared=True)"
   ]
  },
  {
   "cell_type": "markdown",
   "metadata": {},
   "source": [
    "### e)\tDoes your algorithm overfit the data? To answer this question, you need to compute the accuracy or mse of the algorithm on the training set, and compare with the accuracy or mse you got for the test set. You will need to start with making predictions for the training set. Note that you will need to pass the training set into the X_test parameter of the knn_predict() function, in addition to the other arguments of the function. When you get the predicted values for the training set, use the mse() function to get the training mse."
   ]
  },
  {
   "cell_type": "code",
   "execution_count": 13,
   "metadata": {},
   "outputs": [
    {
     "data": {
      "text/plain": [
       "0.5889105527638191"
      ]
     },
     "execution_count": 13,
     "metadata": {},
     "output_type": "execute_result"
    }
   ],
   "source": [
    "\"\"\"apply knn predict function to the training data and print mse\"\"\"\n",
    "\n",
    "y_delivery_pred_train = knn_predict(X_delivery_train, y_delivery_train, X_delivery_train,\n",
    "                                    y_delivery_train)\n",
    "training_mse = mse(y_delivery_train, y_delivery_pred_train)\n",
    "training_mse"
   ]
  },
  {
   "cell_type": "code",
   "execution_count": 14,
   "metadata": {},
   "outputs": [
    {
     "data": {
      "text/plain": [
       "1.0977544554455445"
      ]
     },
     "execution_count": 14,
     "metadata": {},
     "output_type": "execute_result"
    }
   ],
   "source": [
    "\"\"\"apply knn predict function to the test data and print mse\"\"\"\n",
    "\n",
    "y_delivery_pred_test = knn_predict(X_delivery_train, y_delivery_train, X_delivery_test,\n",
    "                                    y_delivery_test)\n",
    "test_mse = mse(y_delivery_test, y_delivery_pred_test)\n",
    "test_mse"
   ]
  },
  {
   "cell_type": "markdown",
   "metadata": {},
   "source": [
    "Examining the mean squared error produced by applying the knn_predict() function to both the training set and the test set, the algorithm does not appear to overfit the training data. The mean squared error produced using predictions made on the test set is alomost twice that computed using predictions made on the training set. That being said, model performance is still quite good considering the range of the target variable and the fact that mean squared error computed for the test set is approximately 1.0978."
   ]
  },
  {
   "cell_type": "markdown",
   "metadata": {},
   "source": [
    "### f)\tNow, tune the hyperparameter, k, of your algorithm. Specify a grid of hyperparameter values from k=1 to k=50. Use a for-loop, then inside the for-loop body, use the knn_predict() function as well as the mse() function to compute the mse values for the training set and test set for different values of k in the hyperparameter grid. Plot the training and test error rates of the model versus the grid of hyperparameter values."
   ]
  },
  {
   "cell_type": "code",
   "execution_count": 15,
   "metadata": {},
   "outputs": [],
   "source": [
    "\"\"\"\n",
    "write a for loop to iteratively test different hyperparameter values for k number of neighbors\n",
    "\"\"\"\n",
    "\n",
    "# initialize variable to store different k values as range\n",
    "k_range = range(1, 51)\n",
    "# instantiate empty list to store model results for different values of k\n",
    "train_errors = []\n",
    "test_errors = []\n",
    "# use a for loop to iteratively get the mse for each k\n",
    "for k in k_range:\n",
    "    # make predictions on training and test sets\n",
    "    y_delivery_pred_train = knn_predict(X_delivery_train, y_delivery_train, X_delivery_train,\n",
    "                                    y_delivery_train, k=k)\n",
    "    y_delivery_pred_test = knn_predict(X_delivery_train, y_delivery_train, X_delivery_test,\n",
    "                                    y_delivery_test, k=k)\n",
    "    # calculate errors and appemd to errors list                            \n",
    "    train_error = mse(y_delivery_train, y_delivery_pred_train)\n",
    "    train_errors.append(train_error)\n",
    "    test_error = mse(y_delivery_test, y_delivery_pred_test)\n",
    "    test_errors.append(test_error)\n",
    "    "
   ]
  },
  {
   "cell_type": "code",
   "execution_count": 16,
   "metadata": {},
   "outputs": [
    {
     "data": {
      "image/png": "[encoded data removed]",
      "text/plain": [
       "<Figure size 864x720 with 1 Axes>"
      ]
     },
     "metadata": {
      "needs_background": "light"
     },
     "output_type": "display_data"
    }
   ],
   "source": [
    "\"\"\"plot hyperparameter tuning results\"\"\"\n",
    "\n",
    "plt.figure(figsize=(12, 10))\n",
    "# error rate (1-accuracy) for given tree depth\n",
    "plt.plot(k_range, np.array(train_errors), lw=5, c='red')\n",
    "plt.plot(k_range, np.array(test_errors), lw=5, c='green')\n",
    "plt.legend(['Training Errors', 'Test Errors'])\n",
    "plt.title('Mean Squared Error vs K Number of Neighbors')\n",
    "plt.xlabel('K Value')\n",
    "plt.ylabel('Mean Squared Error')\n",
    "plt.tight_layout()\n",
    "plt.show()"
   ]
  },
  {
   "cell_type": "markdown",
   "metadata": {},
   "source": [
    "### g)\tNow, construct and fit a k-nearest neighbor model using the  KNeighborsRegressor() estimator in sklearn.neighbors module. Use the mean_square_error() function inside the sklearn.metrics module to compute the mse of the model on the test set. Is this similar to the mse value you got from the algorithm function you wrote from scratch? "
   ]
  },
  {
   "cell_type": "code",
   "execution_count": 17,
   "metadata": {},
   "outputs": [
    {
     "data": {
      "text/plain": [
       "1.093033663366337"
      ]
     },
     "execution_count": 17,
     "metadata": {},
     "output_type": "execute_result"
    }
   ],
   "source": [
    "\"\"\"\n",
    "instantiate and fit KNeighborsRegressor sklearn\n",
    "make predictions on the test set then compute mse\n",
    "\"\"\"\n",
    "\n",
    "# instantiate the KNeighborsRegressor\n",
    "knn = KNeighborsRegressor()\n",
    "# fit the model and make predictions\n",
    "knn.fit(X_delivery_train, y_delivery_train)\n",
    "predictions = knn.predict(X_delivery_test)\n",
    "# compute mse\n",
    "mean_squared_error(y_delivery_test, predictions, squared=True)\n"
   ]
  },
  {
   "cell_type": "markdown",
   "metadata": {},
   "source": [
    "The mean squared error produced using the sklearn KNeighborRegressor module is within $\\frac{4}{10}$ of a percent of the mean squared error produced by the knn algorithm created from scratch."
   ]
  },
  {
   "cell_type": "markdown",
   "metadata": {},
   "source": [
    "### h)\tUsing the Pipeline constructor inside the sklearn.pipeline module, scale the X_delivery_train with the StandardScaler(), and also construct the KNeighborsRegressor() inside the Pipeline(). Then the call the fit() method on the pipeline object to fit the model into the delivery training data. Transform the X_delivery_test data using StandardScaler() and use the mean_squared_error () function inside the sklearn.metrics module to compute the mse of the model on the test set. Is this mse similar to the mse you got when you used the unscaled input data in (g) above?"
   ]
  },
  {
   "cell_type": "code",
   "execution_count": 18,
   "metadata": {},
   "outputs": [
    {
     "data": {
      "text/html": [
       "<style>#sk-container-id-1 {color: black;background-color: white;}#sk-container-id-1 pre{padding: 0;}#sk-container-id-1 div.sk-toggleable {background-color: white;}#sk-container-id-1 label.sk-toggleable__label {cursor: pointer;display: block;width: 100%;margin-bottom: 0;padding: 0.3em;box-sizing: border-box;text-align: center;}#sk-container-id-1 label.sk-toggleable__label-arrow:before {content: \"▸\";float: left;margin-right: 0.25em;color: #696969;}#sk-container-id-1 label.sk-toggleable__label-arrow:hover:before {color: black;}#sk-container-id-1 div.sk-estimator:hover label.sk-toggleable__label-arrow:before {color: black;}#sk-container-id-1 div.sk-toggleable__content {max-height: 0;max-width: 0;overflow: hidden;text-align: left;background-color: #f0f8ff;}#sk-container-id-1 div.sk-toggleable__content pre {margin: 0.2em;color: black;border-radius: 0.25em;background-color: #f0f8ff;}#sk-container-id-1 input.sk-toggleable__control:checked~div.sk-toggleable__content {max-height: 200px;max-width: 100%;overflow: auto;}#sk-container-id-1 input.sk-toggleable__control:checked~label.sk-toggleable__label-arrow:before {content: \"▾\";}#sk-container-id-1 div.sk-estimator input.sk-toggleable__control:checked~label.sk-toggleable__label {background-color: #d4ebff;}#sk-container-id-1 div.sk-label input.sk-toggleable__control:checked~label.sk-toggleable__label {background-color: #d4ebff;}#sk-container-id-1 input.sk-hidden--visually {border: 0;clip: rect(1px 1px 1px 1px);clip: rect(1px, 1px, 1px, 1px);height: 1px;margin: -1px;overflow: hidden;padding: 0;position: absolute;width: 1px;}#sk-container-id-1 div.sk-estimator {font-family: monospace;background-color: #f0f8ff;border: 1px dotted black;border-radius: 0.25em;box-sizing: border-box;margin-bottom: 0.5em;}#sk-container-id-1 div.sk-estimator:hover {background-color: #d4ebff;}#sk-container-id-1 div.sk-parallel-item::after {content: \"\";width: 100%;border-bottom: 1px solid gray;flex-grow: 1;}#sk-container-id-1 div.sk-label:hover label.sk-toggleable__label {background-color: #d4ebff;}#sk-container-id-1 div.sk-serial::before {content: \"\";position: absolute;border-left: 1px solid gray;box-sizing: border-box;top: 0;bottom: 0;left: 50%;z-index: 0;}#sk-container-id-1 div.sk-serial {display: flex;flex-direction: column;align-items: center;background-color: white;padding-right: 0.2em;padding-left: 0.2em;position: relative;}#sk-container-id-1 div.sk-item {position: relative;z-index: 1;}#sk-container-id-1 div.sk-parallel {display: flex;align-items: stretch;justify-content: center;background-color: white;position: relative;}#sk-container-id-1 div.sk-item::before, #sk-container-id-1 div.sk-parallel-item::before {content: \"\";position: absolute;border-left: 1px solid gray;box-sizing: border-box;top: 0;bottom: 0;left: 50%;z-index: -1;}#sk-container-id-1 div.sk-parallel-item {display: flex;flex-direction: column;z-index: 1;position: relative;background-color: white;}#sk-container-id-1 div.sk-parallel-item:first-child::after {align-self: flex-end;width: 50%;}#sk-container-id-1 div.sk-parallel-item:last-child::after {align-self: flex-start;width: 50%;}#sk-container-id-1 div.sk-parallel-item:only-child::after {width: 0;}#sk-container-id-1 div.sk-dashed-wrapped {border: 1px dashed gray;margin: 0 0.4em 0.5em 0.4em;box-sizing: border-box;padding-bottom: 0.4em;background-color: white;}#sk-container-id-1 div.sk-label label {font-family: monospace;font-weight: bold;display: inline-block;line-height: 1.2em;}#sk-container-id-1 div.sk-label-container {text-align: center;}#sk-container-id-1 div.sk-container {/* jupyter's `normalize.less` sets `[hidden] { display: none; }` but bootstrap.min.css set `[hidden] { display: none !important; }` so we also need the `!important` here to be able to override the default hidden behavior on the sphinx rendered scikit-learn.org. See: https://github.com/scikit-learn/scikit-learn/issues/21755 */display: inline-block !important;position: relative;}#sk-container-id-1 div.sk-text-repr-fallback {display: none;}</style><div id=\"sk-container-id-1\" class=\"sk-top-container\"><div class=\"sk-text-repr-fallback\"><pre>Pipeline(steps=[(&#x27;scalar&#x27;, StandardScaler()), (&#x27;knn&#x27;, KNeighborsRegressor())])</pre><b>In a Jupyter environment, please rerun this cell to show the HTML representation or trust the notebook. <br />On GitHub, the HTML representation is unable to render, please try loading this page with nbviewer.org.</b></div><div class=\"sk-container\" hidden><div class=\"sk-item sk-dashed-wrapped\"><div class=\"sk-label-container\"><div class=\"sk-label sk-toggleable\"><input class=\"sk-toggleable__control sk-hidden--visually\" id=\"sk-estimator-id-1\" type=\"checkbox\" ><label for=\"sk-estimator-id-1\" class=\"sk-toggleable__label sk-toggleable__label-arrow\">Pipeline</label><div class=\"sk-toggleable__content\"><pre>Pipeline(steps=[(&#x27;scalar&#x27;, StandardScaler()), (&#x27;knn&#x27;, KNeighborsRegressor())])</pre></div></div></div><div class=\"sk-serial\"><div class=\"sk-item\"><div class=\"sk-estimator sk-toggleable\"><input class=\"sk-toggleable__control sk-hidden--visually\" id=\"sk-estimator-id-2\" type=\"checkbox\" ><label for=\"sk-estimator-id-2\" class=\"sk-toggleable__label sk-toggleable__label-arrow\">StandardScaler</label><div class=\"sk-toggleable__content\"><pre>StandardScaler()</pre></div></div></div><div class=\"sk-item\"><div class=\"sk-estimator sk-toggleable\"><input class=\"sk-toggleable__control sk-hidden--visually\" id=\"sk-estimator-id-3\" type=\"checkbox\" ><label for=\"sk-estimator-id-3\" class=\"sk-toggleable__label sk-toggleable__label-arrow\">KNeighborsRegressor</label><div class=\"sk-toggleable__content\"><pre>KNeighborsRegressor()</pre></div></div></div></div></div></div></div>"
      ],
      "text/plain": [
       "Pipeline(steps=[('scalar', StandardScaler()), ('knn', KNeighborsRegressor())])"
      ]
     },
     "execution_count": 18,
     "metadata": {},
     "output_type": "execute_result"
    }
   ],
   "source": [
    "\"\"\"contruct and fit the pipeline\"\"\"\n",
    "\n",
    "# construct the pipeline\n",
    "knn_pipe = Pipeline([('scalar', StandardScaler()), ('knn', KNeighborsRegressor())])\n",
    "# fit the pipeline to the training data\n",
    "knn_pipe.fit(X_delivery_train, y_delivery_train)"
   ]
  },
  {
   "cell_type": "code",
   "execution_count": 19,
   "metadata": {},
   "outputs": [
    {
     "data": {
      "text/plain": [
       "0.9748356435643569"
      ]
     },
     "execution_count": 19,
     "metadata": {},
     "output_type": "execute_result"
    }
   ],
   "source": [
    "\"\"\"make predictions on the test data then compute mse\"\"\"\n",
    "\n",
    "predicted = knn_pipe.predict(X_delivery_test)\n",
    "mean_squared_error(y_delivery_test, predicted, squared=True)"
   ]
  },
  {
   "cell_type": "markdown",
   "metadata": {},
   "source": [
    "Scaling the data prior to modeling improved the performance of the knn model."
   ]
  },
  {
   "cell_type": "markdown",
   "metadata": {},
   "source": [
    "### i)\tUse the scaled X_delivery_train and X_delivery_test data and the RandomForestRegressor constructor inside the sklearn.ensemble module to construct/fit a random forest model, the compute the mse for this model. Is this mse similar to the one you got in question (h) above?"
   ]
  },
  {
   "cell_type": "code",
   "execution_count": 20,
   "metadata": {},
   "outputs": [
    {
     "data": {
      "text/html": [
       "<style>#sk-container-id-2 {color: black;background-color: white;}#sk-container-id-2 pre{padding: 0;}#sk-container-id-2 div.sk-toggleable {background-color: white;}#sk-container-id-2 label.sk-toggleable__label {cursor: pointer;display: block;width: 100%;margin-bottom: 0;padding: 0.3em;box-sizing: border-box;text-align: center;}#sk-container-id-2 label.sk-toggleable__label-arrow:before {content: \"▸\";float: left;margin-right: 0.25em;color: #696969;}#sk-container-id-2 label.sk-toggleable__label-arrow:hover:before {color: black;}#sk-container-id-2 div.sk-estimator:hover label.sk-toggleable__label-arrow:before {color: black;}#sk-container-id-2 div.sk-toggleable__content {max-height: 0;max-width: 0;overflow: hidden;text-align: left;background-color: #f0f8ff;}#sk-container-id-2 div.sk-toggleable__content pre {margin: 0.2em;color: black;border-radius: 0.25em;background-color: #f0f8ff;}#sk-container-id-2 input.sk-toggleable__control:checked~div.sk-toggleable__content {max-height: 200px;max-width: 100%;overflow: auto;}#sk-container-id-2 input.sk-toggleable__control:checked~label.sk-toggleable__label-arrow:before {content: \"▾\";}#sk-container-id-2 div.sk-estimator input.sk-toggleable__control:checked~label.sk-toggleable__label {background-color: #d4ebff;}#sk-container-id-2 div.sk-label input.sk-toggleable__control:checked~label.sk-toggleable__label {background-color: #d4ebff;}#sk-container-id-2 input.sk-hidden--visually {border: 0;clip: rect(1px 1px 1px 1px);clip: rect(1px, 1px, 1px, 1px);height: 1px;margin: -1px;overflow: hidden;padding: 0;position: absolute;width: 1px;}#sk-container-id-2 div.sk-estimator {font-family: monospace;background-color: #f0f8ff;border: 1px dotted black;border-radius: 0.25em;box-sizing: border-box;margin-bottom: 0.5em;}#sk-container-id-2 div.sk-estimator:hover {background-color: #d4ebff;}#sk-container-id-2 div.sk-parallel-item::after {content: \"\";width: 100%;border-bottom: 1px solid gray;flex-grow: 1;}#sk-container-id-2 div.sk-label:hover label.sk-toggleable__label {background-color: #d4ebff;}#sk-container-id-2 div.sk-serial::before {content: \"\";position: absolute;border-left: 1px solid gray;box-sizing: border-box;top: 0;bottom: 0;left: 50%;z-index: 0;}#sk-container-id-2 div.sk-serial {display: flex;flex-direction: column;align-items: center;background-color: white;padding-right: 0.2em;padding-left: 0.2em;position: relative;}#sk-container-id-2 div.sk-item {position: relative;z-index: 1;}#sk-container-id-2 div.sk-parallel {display: flex;align-items: stretch;justify-content: center;background-color: white;position: relative;}#sk-container-id-2 div.sk-item::before, #sk-container-id-2 div.sk-parallel-item::before {content: \"\";position: absolute;border-left: 1px solid gray;box-sizing: border-box;top: 0;bottom: 0;left: 50%;z-index: -1;}#sk-container-id-2 div.sk-parallel-item {display: flex;flex-direction: column;z-index: 1;position: relative;background-color: white;}#sk-container-id-2 div.sk-parallel-item:first-child::after {align-self: flex-end;width: 50%;}#sk-container-id-2 div.sk-parallel-item:last-child::after {align-self: flex-start;width: 50%;}#sk-container-id-2 div.sk-parallel-item:only-child::after {width: 0;}#sk-container-id-2 div.sk-dashed-wrapped {border: 1px dashed gray;margin: 0 0.4em 0.5em 0.4em;box-sizing: border-box;padding-bottom: 0.4em;background-color: white;}#sk-container-id-2 div.sk-label label {font-family: monospace;font-weight: bold;display: inline-block;line-height: 1.2em;}#sk-container-id-2 div.sk-label-container {text-align: center;}#sk-container-id-2 div.sk-container {/* jupyter's `normalize.less` sets `[hidden] { display: none; }` but bootstrap.min.css set `[hidden] { display: none !important; }` so we also need the `!important` here to be able to override the default hidden behavior on the sphinx rendered scikit-learn.org. See: https://github.com/scikit-learn/scikit-learn/issues/21755 */display: inline-block !important;position: relative;}#sk-container-id-2 div.sk-text-repr-fallback {display: none;}</style><div id=\"sk-container-id-2\" class=\"sk-top-container\"><div class=\"sk-text-repr-fallback\"><pre>Pipeline(steps=[(&#x27;scalar&#x27;, StandardScaler()), (&#x27;rfr&#x27;, RandomForestRegressor())])</pre><b>In a Jupyter environment, please rerun this cell to show the HTML representation or trust the notebook. <br />On GitHub, the HTML representation is unable to render, please try loading this page with nbviewer.org.</b></div><div class=\"sk-container\" hidden><div class=\"sk-item sk-dashed-wrapped\"><div class=\"sk-label-container\"><div class=\"sk-label sk-toggleable\"><input class=\"sk-toggleable__control sk-hidden--visually\" id=\"sk-estimator-id-4\" type=\"checkbox\" ><label for=\"sk-estimator-id-4\" class=\"sk-toggleable__label sk-toggleable__label-arrow\">Pipeline</label><div class=\"sk-toggleable__content\"><pre>Pipeline(steps=[(&#x27;scalar&#x27;, StandardScaler()), (&#x27;rfr&#x27;, RandomForestRegressor())])</pre></div></div></div><div class=\"sk-serial\"><div class=\"sk-item\"><div class=\"sk-estimator sk-toggleable\"><input class=\"sk-toggleable__control sk-hidden--visually\" id=\"sk-estimator-id-5\" type=\"checkbox\" ><label for=\"sk-estimator-id-5\" class=\"sk-toggleable__label sk-toggleable__label-arrow\">StandardScaler</label><div class=\"sk-toggleable__content\"><pre>StandardScaler()</pre></div></div></div><div class=\"sk-item\"><div class=\"sk-estimator sk-toggleable\"><input class=\"sk-toggleable__control sk-hidden--visually\" id=\"sk-estimator-id-6\" type=\"checkbox\" ><label for=\"sk-estimator-id-6\" class=\"sk-toggleable__label sk-toggleable__label-arrow\">RandomForestRegressor</label><div class=\"sk-toggleable__content\"><pre>RandomForestRegressor()</pre></div></div></div></div></div></div></div>"
      ],
      "text/plain": [
       "Pipeline(steps=[('scalar', StandardScaler()), ('rfr', RandomForestRegressor())])"
      ]
     },
     "execution_count": 20,
     "metadata": {},
     "output_type": "execute_result"
    }
   ],
   "source": [
    "\"\"\"instantiate and fit pipeline for sklearn RandomForestRegressor\"\"\"\n",
    "\n",
    "# construct the pipeline\n",
    "rfr_pipe = Pipeline([('scalar', StandardScaler()), ('rfr', RandomForestRegressor())])\n",
    "# fit the pipeline to the training data\n",
    "rfr_pipe.fit(X_delivery_train, y_delivery_train.to_numpy().flatten())"
   ]
  },
  {
   "cell_type": "code",
   "execution_count": 21,
   "metadata": {},
   "outputs": [
    {
     "data": {
      "text/plain": [
       "0.9724896929991073"
      ]
     },
     "execution_count": 21,
     "metadata": {},
     "output_type": "execute_result"
    }
   ],
   "source": [
    "\"\"\"make predictions on the test data then compute mse\"\"\"\n",
    "\n",
    "predicted = rfr_pipe.predict(X_delivery_test)\n",
    "mean_squared_error(y_delivery_test, predicted, squared=True)"
   ]
  },
  {
   "cell_type": "markdown",
   "metadata": {},
   "source": [
    "The mean squared error produced by the two models is nearly identical."
   ]
  },
  {
   "cell_type": "markdown",
   "metadata": {},
   "source": [
    "## Question 2"
   ]
  },
  {
   "cell_type": "markdown",
   "metadata": {},
   "source": [
    "### a.\tYou would use the student data for classification: that is, GPA and Age would be used as input to predict whether a student will drop out of school (Dropped=1) or not drop (Dropped=0). You will write a k-nearest neighbor algorithm function that learns from the training set and classifies given test instances to class 0 or class 1. The input that the function takes include:"
   ]
  },
  {
   "cell_type": "markdown",
   "metadata": {},
   "source": [
    "- X_train: Pandas DataFrame or 2D NumPy array \n",
    "- y_train: Pandas Series or 1D NumPy array\n",
    "- X_test: Pandas DataFrame or 2D NumPy array\n",
    "- K: the number of nearest neighbors. The default value should be k=5 if no k value is passed during function call.\n",
    "\n",
    "Use the following pseudo code to implement the algorithm (also see class notes on ideas for writing knn from scratch to see the details of each step in the body of the code). Here is the pseudo code:"
   ]
  },
  {
   "cell_type": "markdown",
   "metadata": {},
   "source": [
    "![Psuedo Code 2](psuedo_code_2.png)"
   ]
  },
  {
   "cell_type": "markdown",
   "metadata": {},
   "source": [
    "Scale the X_student_train and X_student_test data, and pass these scaled data sets in addition to y_student_train data into the knn_predict() function call to compute the predicted output values for the X_student_test set. You can reference the results using a variable, y_student_test_pred. "
   ]
  },
  {
   "cell_type": "code",
   "execution_count": 22,
   "metadata": {},
   "outputs": [],
   "source": [
    "\"\"\"KNN classifier function\"\"\"\n",
    "\n",
    "def knn_classifier(X_train, y_train, X_test, y_test, k=5):\n",
    "    # instantiate a list to store predictions\n",
    "    y_pred = []\n",
    "    # ensure feature sets converted to numpy array\n",
    "    X_train = np.array(X_train)\n",
    "    X_test = np.array(X_test)\n",
    "    # use for loop to iterate over all test instances\n",
    "    for i in range(0, len(X_test)):\n",
    "        # get test instance i from test data\n",
    "        test_instance = np.array([X_test[i]])\n",
    "        # find the distance between the test instance and all the training instances\n",
    "        distance = euclidean_distances(X_train, test_instance)\n",
    "        # stack the distances with Y_train to create matrix\n",
    "        stacked = np.stack((y_train.Dropped.values, distance.flatten()), axis=1)\n",
    "        # sort the distances, ascendign then find select the first k values\n",
    "        stacked = stacked[np.argsort(stacked[:, -1])]\n",
    "        k_neighbors = stacked[0:k, 0]\n",
    "        # make a prediction and append to y_pred\n",
    "        class_frequencies = np.unique(k_neighbors, return_counts=True)\n",
    "        class_frequencies = np.stack((class_frequencies[0], class_frequencies[1]), axis=1)\n",
    "        class_frequencies = class_frequencies[np.argsort(class_frequencies[:, -1])]\n",
    "        y_pred.append(int(class_frequencies[len(class_frequencies)-1][0]))\n",
    "        \n",
    "    return y_pred"
   ]
  },
  {
   "cell_type": "code",
   "execution_count": 23,
   "metadata": {},
   "outputs": [],
   "source": [
    "\"\"\"scale data and make predictions\"\"\"\n",
    "\n",
    "# instantiate scalar\n",
    "scalar = StandardScaler()\n",
    "# fit and transform train and test sets\n",
    "X_student_train = scalar.fit_transform(X_student_train)\n",
    "X_student_test = scalar.fit_transform(X_student_test)\n",
    "# make predictions\n",
    "y_student_pred = knn_classifier(X_student_train, y_student_train, X_student_test, y_student_test)"
   ]
  },
  {
   "cell_type": "markdown",
   "metadata": {},
   "source": [
    "### b)  Define a function called overall_accuracy, that computes the overall accuracy of your algorithm. You can let your function compare the actual values (y) and the predicted or classified y values (y_pred), for example: overall accuracy could be computed using mean(y==y_pred)"
   ]
  },
  {
   "cell_type": "code",
   "execution_count": 24,
   "metadata": {},
   "outputs": [
    {
     "data": {
      "text/plain": [
       "0.8"
      ]
     },
     "execution_count": 24,
     "metadata": {},
     "output_type": "execute_result"
    }
   ],
   "source": [
    "\"\"\"create overall accuracy function\"\"\"\n",
    "\n",
    "def overall_accuracy(y_actual, y_predicted):\n",
    "\n",
    "    # coerce actual and predicted values to numpy arrays\n",
    "    y_actual = np.array(y_actual).flatten()\n",
    "    y_predicted = np.array(y_student_pred)\n",
    "    # compute mean of correct predictions\n",
    "    return np.mean(y_actual == y_predicted)\n",
    "   \n",
    "overall_accuracy(y_student_test, y_student_pred)"
   ]
  },
  {
   "cell_type": "markdown",
   "metadata": {},
   "source": [
    "### c) Use GridSearch in scikit learn to tune the parameter of the k-nearest neighbor classifier, then use that optimal parameter to compute the accuracy of the knn estimator on the test set. Is this accuracy score similar to that obtained using your knn algorithm from scratch?"
   ]
  },
  {
   "cell_type": "code",
   "execution_count": 25,
   "metadata": {},
   "outputs": [
    {
     "name": "stdout",
     "output_type": "stream",
     "text": [
      "The optimal k for the knn calssifier is: {'n_neighbors': 14}\n"
     ]
    }
   ],
   "source": [
    "\"\"\"apply grid search cross validation with knn clasifier and extract the best k\"\"\"\n",
    "\n",
    "# instantiate the estimator and set params grid\n",
    "knn_classifier = KNeighborsClassifier()\n",
    "params = {'n_neighbors': range(1, 51)}\n",
    "# instantiate and fit grid search\n",
    "knn_grid_search = GridSearchCV(estimator=knn_classifier, param_grid=params, cv=3)\n",
    "knn_grid_search.fit(X_student_train, y_student_train.to_numpy().ravel())\n",
    "print(\"The optimal k for the knn calssifier is:\", knn_grid_search.best_params_)"
   ]
  },
  {
   "cell_type": "code",
   "execution_count": 26,
   "metadata": {},
   "outputs": [
    {
     "data": {
      "text/plain": [
       "0.77"
      ]
     },
     "execution_count": 26,
     "metadata": {},
     "output_type": "execute_result"
    }
   ],
   "source": [
    "\"\"\"make predictions using best estimator form grid search\"\"\"\n",
    "\n",
    "# use the best estimator to make predictions\n",
    "knn_classifier = knn_grid_search.best_estimator_\n",
    "knn_classifier.score(X_student_test, y_student_test)"
   ]
  },
  {
   "cell_type": "markdown",
   "metadata": {},
   "source": [
    "The knn classifier fit using grid search produced slightly more pore results than the knn algorithm created from scratch."
   ]
  },
  {
   "cell_type": "markdown",
   "metadata": {},
   "source": [
    "### Also build another model using a random forest classifier and compute the accuracy score on the test set. Which of these models is the better, the model is question 2c or this model in question 2d? Why or why not?"
   ]
  },
  {
   "cell_type": "code",
   "execution_count": 27,
   "metadata": {},
   "outputs": [],
   "source": [
    "\"\"\"reload the data and start fresh for valid comparison\"\"\"\n",
    "\n",
    "X_student_train = student_train[['GPA', 'Age']]\n",
    "y_student_train = student_train[['Dropped']]\n",
    "\n",
    "X_student_test = student_test[['GPA', 'Age']]\n",
    "y_student_test = student_test[['Dropped']]"
   ]
  },
  {
   "cell_type": "code",
   "execution_count": 28,
   "metadata": {},
   "outputs": [
    {
     "data": {
      "text/html": [
       "<style>#sk-container-id-3 {color: black;background-color: white;}#sk-container-id-3 pre{padding: 0;}#sk-container-id-3 div.sk-toggleable {background-color: white;}#sk-container-id-3 label.sk-toggleable__label {cursor: pointer;display: block;width: 100%;margin-bottom: 0;padding: 0.3em;box-sizing: border-box;text-align: center;}#sk-container-id-3 label.sk-toggleable__label-arrow:before {content: \"▸\";float: left;margin-right: 0.25em;color: #696969;}#sk-container-id-3 label.sk-toggleable__label-arrow:hover:before {color: black;}#sk-container-id-3 div.sk-estimator:hover label.sk-toggleable__label-arrow:before {color: black;}#sk-container-id-3 div.sk-toggleable__content {max-height: 0;max-width: 0;overflow: hidden;text-align: left;background-color: #f0f8ff;}#sk-container-id-3 div.sk-toggleable__content pre {margin: 0.2em;color: black;border-radius: 0.25em;background-color: #f0f8ff;}#sk-container-id-3 input.sk-toggleable__control:checked~div.sk-toggleable__content {max-height: 200px;max-width: 100%;overflow: auto;}#sk-container-id-3 input.sk-toggleable__control:checked~label.sk-toggleable__label-arrow:before {content: \"▾\";}#sk-container-id-3 div.sk-estimator input.sk-toggleable__control:checked~label.sk-toggleable__label {background-color: #d4ebff;}#sk-container-id-3 div.sk-label input.sk-toggleable__control:checked~label.sk-toggleable__label {background-color: #d4ebff;}#sk-container-id-3 input.sk-hidden--visually {border: 0;clip: rect(1px 1px 1px 1px);clip: rect(1px, 1px, 1px, 1px);height: 1px;margin: -1px;overflow: hidden;padding: 0;position: absolute;width: 1px;}#sk-container-id-3 div.sk-estimator {font-family: monospace;background-color: #f0f8ff;border: 1px dotted black;border-radius: 0.25em;box-sizing: border-box;margin-bottom: 0.5em;}#sk-container-id-3 div.sk-estimator:hover {background-color: #d4ebff;}#sk-container-id-3 div.sk-parallel-item::after {content: \"\";width: 100%;border-bottom: 1px solid gray;flex-grow: 1;}#sk-container-id-3 div.sk-label:hover label.sk-toggleable__label {background-color: #d4ebff;}#sk-container-id-3 div.sk-serial::before {content: \"\";position: absolute;border-left: 1px solid gray;box-sizing: border-box;top: 0;bottom: 0;left: 50%;z-index: 0;}#sk-container-id-3 div.sk-serial {display: flex;flex-direction: column;align-items: center;background-color: white;padding-right: 0.2em;padding-left: 0.2em;position: relative;}#sk-container-id-3 div.sk-item {position: relative;z-index: 1;}#sk-container-id-3 div.sk-parallel {display: flex;align-items: stretch;justify-content: center;background-color: white;position: relative;}#sk-container-id-3 div.sk-item::before, #sk-container-id-3 div.sk-parallel-item::before {content: \"\";position: absolute;border-left: 1px solid gray;box-sizing: border-box;top: 0;bottom: 0;left: 50%;z-index: -1;}#sk-container-id-3 div.sk-parallel-item {display: flex;flex-direction: column;z-index: 1;position: relative;background-color: white;}#sk-container-id-3 div.sk-parallel-item:first-child::after {align-self: flex-end;width: 50%;}#sk-container-id-3 div.sk-parallel-item:last-child::after {align-self: flex-start;width: 50%;}#sk-container-id-3 div.sk-parallel-item:only-child::after {width: 0;}#sk-container-id-3 div.sk-dashed-wrapped {border: 1px dashed gray;margin: 0 0.4em 0.5em 0.4em;box-sizing: border-box;padding-bottom: 0.4em;background-color: white;}#sk-container-id-3 div.sk-label label {font-family: monospace;font-weight: bold;display: inline-block;line-height: 1.2em;}#sk-container-id-3 div.sk-label-container {text-align: center;}#sk-container-id-3 div.sk-container {/* jupyter's `normalize.less` sets `[hidden] { display: none; }` but bootstrap.min.css set `[hidden] { display: none !important; }` so we also need the `!important` here to be able to override the default hidden behavior on the sphinx rendered scikit-learn.org. See: https://github.com/scikit-learn/scikit-learn/issues/21755 */display: inline-block !important;position: relative;}#sk-container-id-3 div.sk-text-repr-fallback {display: none;}</style><div id=\"sk-container-id-3\" class=\"sk-top-container\"><div class=\"sk-text-repr-fallback\"><pre>Pipeline(steps=[(&#x27;scalar&#x27;, StandardScaler()),\n",
       "                (&#x27;rfc&#x27;, RandomForestClassifier())])</pre><b>In a Jupyter environment, please rerun this cell to show the HTML representation or trust the notebook. <br />On GitHub, the HTML representation is unable to render, please try loading this page with nbviewer.org.</b></div><div class=\"sk-container\" hidden><div class=\"sk-item sk-dashed-wrapped\"><div class=\"sk-label-container\"><div class=\"sk-label sk-toggleable\"><input class=\"sk-toggleable__control sk-hidden--visually\" id=\"sk-estimator-id-7\" type=\"checkbox\" ><label for=\"sk-estimator-id-7\" class=\"sk-toggleable__label sk-toggleable__label-arrow\">Pipeline</label><div class=\"sk-toggleable__content\"><pre>Pipeline(steps=[(&#x27;scalar&#x27;, StandardScaler()),\n",
       "                (&#x27;rfc&#x27;, RandomForestClassifier())])</pre></div></div></div><div class=\"sk-serial\"><div class=\"sk-item\"><div class=\"sk-estimator sk-toggleable\"><input class=\"sk-toggleable__control sk-hidden--visually\" id=\"sk-estimator-id-8\" type=\"checkbox\" ><label for=\"sk-estimator-id-8\" class=\"sk-toggleable__label sk-toggleable__label-arrow\">StandardScaler</label><div class=\"sk-toggleable__content\"><pre>StandardScaler()</pre></div></div></div><div class=\"sk-item\"><div class=\"sk-estimator sk-toggleable\"><input class=\"sk-toggleable__control sk-hidden--visually\" id=\"sk-estimator-id-9\" type=\"checkbox\" ><label for=\"sk-estimator-id-9\" class=\"sk-toggleable__label sk-toggleable__label-arrow\">RandomForestClassifier</label><div class=\"sk-toggleable__content\"><pre>RandomForestClassifier()</pre></div></div></div></div></div></div></div>"
      ],
      "text/plain": [
       "Pipeline(steps=[('scalar', StandardScaler()),\n",
       "                ('rfc', RandomForestClassifier())])"
      ]
     },
     "execution_count": 28,
     "metadata": {},
     "output_type": "execute_result"
    }
   ],
   "source": [
    "\"\"\"instantiate and fit pipeline for sklearn RandomForestRegressor\"\"\"\n",
    "\n",
    "# construct the pipeline\n",
    "rfc_pipe = Pipeline([('scalar', StandardScaler()), ('rfc', RandomForestClassifier())])\n",
    "# fit the pipeline to the training data\n",
    "rfc_pipe.fit(X_student_train, y_student_train.to_numpy().flatten())"
   ]
  },
  {
   "cell_type": "code",
   "execution_count": 29,
   "metadata": {},
   "outputs": [
    {
     "data": {
      "text/plain": [
       "0.99"
      ]
     },
     "execution_count": 29,
     "metadata": {},
     "output_type": "execute_result"
    }
   ],
   "source": [
    "\"\"\"compute the accuracy score for random forest classifier\"\"\"\n",
    "rfc_pipe.score(X_student_test, y_student_test.to_numpy().flatten())"
   ]
  },
  {
   "cell_type": "markdown",
   "metadata": {},
   "source": [
    "The model in question 2d drastically outperformed the model created in question 2c. This is likely due to the fact that ensemble models commonly outperform many other classifiers. The random forest classifier was able to separate data by class label much more accurately than the knn classifier."
   ]
  },
  {
   "cell_type": "markdown",
   "metadata": {},
   "source": [
    "## Question 3: Your own mini project\n",
    "\n",
    "Address the following and include code/output snippets from b) to f). Include the response under each sub question. "
   ]
  },
  {
   "cell_type": "markdown",
   "metadata": {},
   "source": [
    "### a)\tState your research question "
   ]
  },
  {
   "cell_type": "markdown",
   "metadata": {},
   "source": [
    "Sales opportunities can be simply defined as sales accounts that have been qualified as showing legitimate interest in purchasing a product or service from another business entity. Attributes regarding sales opportunities are often tracked for the purpose of developing targeted sales campaigns. Attributes may include things such as, name of the primary contact associated with an opportunity, annual revenue of the company associated with a given sales opportunity, etc. A sales opportunity that results in a sale is referred to as a win. An opportunity that does not result in a sale is referred to as a loss. Using past observations of won and lost opportunities can a K-Nearest Neighbors classifier be used to predict win or loss (1/0) for opportunities currently in an organization's sales pipeline."
   ]
  },
  {
   "cell_type": "markdown",
   "metadata": {},
   "source": [
    "__Data Dictionary__\n",
    "\n",
    "- Est_Revenue - The estimated revenue expected if a sales opportunity is won.\n",
    "\n",
    "- Annual_Revenue - The annual revenue of the company listed on the sales account associated with a given sales opportunity.\n",
    "\n",
    "- days_active - The number of days an opportunity record was active before being closed as a win or loss. This feature was extracted by subtracting System_Close_Date from Created_On (record creation date) for a given opportunity.\n",
    "\n",
    "- No_of_Employees - The number of employees working for the business listed on the sales account record that is associated with a given opportunity.\n",
    "\n",
    "- Won - Binary outcome for a given sales opportunity reccord (1 = won 0 = lost)\n",
    "\n",
    "ASIDE: This data was obtained from my current employer's historical records and should not be shared or re-used outside of this assignment."
   ]
  },
  {
   "cell_type": "markdown",
   "metadata": {},
   "source": [
    "### b)\tData pre-processing (to the extent deemed necessary: remember the knn algorithm depends on distances, so you need to rescale, normalize or standardize your input values to make sure no variable influences the predictions due to it scale). "
   ]
  },
  {
   "cell_type": "code",
   "execution_count": 30,
   "metadata": {},
   "outputs": [
    {
     "name": "stdout",
     "output_type": "stream",
     "text": [
      "<class 'pandas.core.frame.DataFrame'>\n",
      "Index: 2593 entries, 7e8506e1-2c9b-e711-8118-005056ad09ed to d3ab2c66-ec15-e711-8114-005056ad6943\n",
      "Data columns (total 5 columns):\n",
      " #   Column           Non-Null Count  Dtype  \n",
      "---  ------           --------------  -----  \n",
      " 0   Est_Revenue      2593 non-null   float64\n",
      " 1   Annual_Revenue   2593 non-null   float64\n",
      " 2   days_active      2593 non-null   float64\n",
      " 3   No_of_Employees  2593 non-null   float64\n",
      " 4   Won              2593 non-null   int64  \n",
      "dtypes: float64(4), int64(1)\n",
      "memory usage: 121.5+ KB\n"
     ]
    }
   ],
   "source": [
    "\"\"\"load opportunity data and check for missing values\"\"\"\n",
    "\n",
    "opportunities = pd.read_csv('opportunities.csv')\n",
    "opportunities.set_index('opportunity_id', inplace=True)\n",
    "opportunities.info()"
   ]
  },
  {
   "cell_type": "code",
   "execution_count": 31,
   "metadata": {},
   "outputs": [
    {
     "data": {
      "text/html": [
       "<div>\n",
       "<style scoped>\n",
       "    .dataframe tbody tr th:only-of-type {\n",
       "        vertical-align: middle;\n",
       "    }\n",
       "\n",
       "    .dataframe tbody tr th {\n",
       "        vertical-align: top;\n",
       "    }\n",
       "\n",
       "    .dataframe thead th {\n",
       "        text-align: right;\n",
       "    }\n",
       "</style>\n",
       "<table border=\"1\" class=\"dataframe\">\n",
       "  <thead>\n",
       "    <tr style=\"text-align: right;\">\n",
       "      <th></th>\n",
       "      <th>Est_Revenue</th>\n",
       "      <th>Annual_Revenue</th>\n",
       "      <th>days_active</th>\n",
       "      <th>No_of_Employees</th>\n",
       "    </tr>\n",
       "    <tr>\n",
       "      <th>opportunity_id</th>\n",
       "      <th></th>\n",
       "      <th></th>\n",
       "      <th></th>\n",
       "      <th></th>\n",
       "    </tr>\n",
       "  </thead>\n",
       "  <tbody>\n",
       "    <tr>\n",
       "      <th>7e8506e1-2c9b-e711-8118-005056ad09ed</th>\n",
       "      <td>1440.0</td>\n",
       "      <td>2.685559e+07</td>\n",
       "      <td>5.659109</td>\n",
       "      <td>102.0</td>\n",
       "    </tr>\n",
       "    <tr>\n",
       "      <th>b0cfd616-2d9b-e711-8118-005056ad09ed</th>\n",
       "      <td>102960.0</td>\n",
       "      <td>3.015769e+08</td>\n",
       "      <td>8.656319</td>\n",
       "      <td>1300.0</td>\n",
       "    </tr>\n",
       "    <tr>\n",
       "      <th>8549a452-2d9b-e711-8118-005056ad09ed</th>\n",
       "      <td>1276.0</td>\n",
       "      <td>3.015769e+08</td>\n",
       "      <td>118.617407</td>\n",
       "      <td>1300.0</td>\n",
       "    </tr>\n",
       "    <tr>\n",
       "      <th>a8a8986a-2d9b-e711-8118-005056ad09ed</th>\n",
       "      <td>3900.0</td>\n",
       "      <td>5.003124e+07</td>\n",
       "      <td>30.517836</td>\n",
       "      <td>200.0</td>\n",
       "    </tr>\n",
       "    <tr>\n",
       "      <th>fbaf8b76-2d9b-e711-8118-005056ad09ed</th>\n",
       "      <td>2690.0</td>\n",
       "      <td>2.360940e+07</td>\n",
       "      <td>52.671296</td>\n",
       "      <td>238.0</td>\n",
       "    </tr>\n",
       "    <tr>\n",
       "      <th>...</th>\n",
       "      <td>...</td>\n",
       "      <td>...</td>\n",
       "      <td>...</td>\n",
       "      <td>...</td>\n",
       "    </tr>\n",
       "    <tr>\n",
       "      <th>e090398a-5bd3-eb11-a9d4-005056b5913b</th>\n",
       "      <td>50000.0</td>\n",
       "      <td>0.000000e+00</td>\n",
       "      <td>2.282326</td>\n",
       "      <td>700.0</td>\n",
       "    </tr>\n",
       "    <tr>\n",
       "      <th>1ef981ce-f30a-e811-812b-005056ad4f9d</th>\n",
       "      <td>8000.0</td>\n",
       "      <td>0.000000e+00</td>\n",
       "      <td>139.605613</td>\n",
       "      <td>700.0</td>\n",
       "    </tr>\n",
       "    <tr>\n",
       "      <th>c5384e12-8315-e811-812b-005056ad4f9d</th>\n",
       "      <td>3000000.0</td>\n",
       "      <td>2.863501e+08</td>\n",
       "      <td>73.186146</td>\n",
       "      <td>615.0</td>\n",
       "    </tr>\n",
       "    <tr>\n",
       "      <th>8240004e-760c-ea11-a9b7-005056b57426</th>\n",
       "      <td>30000.0</td>\n",
       "      <td>1.095174e+09</td>\n",
       "      <td>780.959248</td>\n",
       "      <td>900.0</td>\n",
       "    </tr>\n",
       "    <tr>\n",
       "      <th>d3ab2c66-ec15-e711-8114-005056ad6943</th>\n",
       "      <td>10000.0</td>\n",
       "      <td>0.000000e+00</td>\n",
       "      <td>13.894954</td>\n",
       "      <td>0.0</td>\n",
       "    </tr>\n",
       "  </tbody>\n",
       "</table>\n",
       "<p>2593 rows × 4 columns</p>\n",
       "</div>"
      ],
      "text/plain": [
       "                                      Est_Revenue  Annual_Revenue  \\\n",
       "opportunity_id                                                      \n",
       "7e8506e1-2c9b-e711-8118-005056ad09ed       1440.0    2.685559e+07   \n",
       "b0cfd616-2d9b-e711-8118-005056ad09ed     102960.0    3.015769e+08   \n",
       "8549a452-2d9b-e711-8118-005056ad09ed       1276.0    3.015769e+08   \n",
       "a8a8986a-2d9b-e711-8118-005056ad09ed       3900.0    5.003124e+07   \n",
       "fbaf8b76-2d9b-e711-8118-005056ad09ed       2690.0    2.360940e+07   \n",
       "...                                           ...             ...   \n",
       "e090398a-5bd3-eb11-a9d4-005056b5913b      50000.0    0.000000e+00   \n",
       "1ef981ce-f30a-e811-812b-005056ad4f9d       8000.0    0.000000e+00   \n",
       "c5384e12-8315-e811-812b-005056ad4f9d    3000000.0    2.863501e+08   \n",
       "8240004e-760c-ea11-a9b7-005056b57426      30000.0    1.095174e+09   \n",
       "d3ab2c66-ec15-e711-8114-005056ad6943      10000.0    0.000000e+00   \n",
       "\n",
       "                                      days_active  No_of_Employees  \n",
       "opportunity_id                                                      \n",
       "7e8506e1-2c9b-e711-8118-005056ad09ed     5.659109            102.0  \n",
       "b0cfd616-2d9b-e711-8118-005056ad09ed     8.656319           1300.0  \n",
       "8549a452-2d9b-e711-8118-005056ad09ed   118.617407           1300.0  \n",
       "a8a8986a-2d9b-e711-8118-005056ad09ed    30.517836            200.0  \n",
       "fbaf8b76-2d9b-e711-8118-005056ad09ed    52.671296            238.0  \n",
       "...                                           ...              ...  \n",
       "e090398a-5bd3-eb11-a9d4-005056b5913b     2.282326            700.0  \n",
       "1ef981ce-f30a-e811-812b-005056ad4f9d   139.605613            700.0  \n",
       "c5384e12-8315-e811-812b-005056ad4f9d    73.186146            615.0  \n",
       "8240004e-760c-ea11-a9b7-005056b57426   780.959248            900.0  \n",
       "d3ab2c66-ec15-e711-8114-005056ad6943    13.894954              0.0  \n",
       "\n",
       "[2593 rows x 4 columns]"
      ]
     },
     "execution_count": 31,
     "metadata": {},
     "output_type": "execute_result"
    }
   ],
   "source": [
    "opportunities.iloc[:, :-1]"
   ]
  },
  {
   "cell_type": "code",
   "execution_count": 33,
   "metadata": {},
   "outputs": [],
   "source": [
    "\"\"\"apply preprocessing to the data\"\"\"\n",
    "\n",
    "scaler = MinMaxScaler()\n",
    "# fit and transform numeric features\n",
    "opportunities.iloc[:, :-1] = scaler.fit_transform(opportunities.iloc[:, :-1])"
   ]
  },
  {
   "cell_type": "markdown",
   "metadata": {},
   "source": [
    "### c)\tData splitting "
   ]
  },
  {
   "cell_type": "code",
   "execution_count": 34,
   "metadata": {},
   "outputs": [],
   "source": [
    "\"\"\"partition the data into training and test sets\"\"\"\n",
    "\n",
    "X = opportunities.iloc[:, :-1]\n",
    "y = opportunities.iloc[:, -1:]\n",
    "X_train, X_test, y_train, y_test = train_test_split(X, y, test_size=.30, random_state=42)"
   ]
  },
  {
   "cell_type": "markdown",
   "metadata": {},
   "source": [
    "### d)\tModel construction "
   ]
  },
  {
   "cell_type": "code",
   "execution_count": 35,
   "metadata": {},
   "outputs": [],
   "source": [
    "\"\"\"construct a KNeighborsClassifier sklearn\"\"\"\n",
    "\n",
    "# instantiate estimator\n",
    "knn_classifier = KNeighborsClassifier()"
   ]
  },
  {
   "cell_type": "code",
   "execution_count": 36,
   "metadata": {},
   "outputs": [
    {
     "name": "stdout",
     "output_type": "stream",
     "text": [
      "The optimal hyperparameters for the knn calssifier are: {'algorithm': 'ball_tree', 'n_neighbors': 47}\n"
     ]
    }
   ],
   "source": [
    "\"\"\"apply grid search cross validation with KNeighbors classifier and extract the best parameters\"\"\"\n",
    "\n",
    "params = {'n_neighbors': range(1, 51), 'algorithm':['ball_tree', 'kd_tree', 'brute']}\n",
    "knn_grid_search = GridSearchCV(estimator=knn_classifier, param_grid=params, cv=3)\n",
    "knn_grid_search.fit(X_train, y_train.to_numpy().ravel())\n",
    "print(\"The optimal hyperparameters for the knn calssifier are:\", knn_grid_search.best_params_)"
   ]
  },
  {
   "cell_type": "markdown",
   "metadata": {},
   "source": [
    "### f)\tUse the best or optimal parameter values to build a model, then compute the accuracy score for your estimator. "
   ]
  },
  {
   "cell_type": "code",
   "execution_count": 37,
   "metadata": {},
   "outputs": [
    {
     "data": {
      "text/plain": [
       "0.7553719008264462"
      ]
     },
     "execution_count": 37,
     "metadata": {},
     "output_type": "execute_result"
    }
   ],
   "source": [
    "\"\"\"use the best estimator to make predictions on the training data\"\"\"\n",
    "\n",
    "knn_classifier = knn_grid_search.best_estimator_\n",
    "knn_classifier.score(X_train, y_train)"
   ]
  },
  {
   "cell_type": "code",
   "execution_count": 38,
   "metadata": {},
   "outputs": [
    {
     "data": {
      "text/plain": [
       "0.7493573264781491"
      ]
     },
     "execution_count": 38,
     "metadata": {},
     "output_type": "execute_result"
    }
   ],
   "source": [
    "\"\"\"use the best estimator to make predictions on the test data\"\"\"\n",
    "\n",
    "knn_classifier.score(X_test, y_test)"
   ]
  },
  {
   "cell_type": "markdown",
   "metadata": {},
   "source": [
    "Discuss about overfitting the model."
   ]
  },
  {
   "cell_type": "markdown",
   "metadata": {},
   "source": [
    "Performing grid search cross-validation to select the optimal hyperparameters for fitting a KNeighborsClassifier estimator to the sales opportunity data produced strong results. The accuracy of the model in predicting win/loss for opportunity records in the training set was approximately 76%. Accuracy in predicting win/loss for opportunity records in the test set was approximately 75%. The model did not over fit the training data and outperformed the naive model which classifies opportunity records as win or loss with an accuracy of approximately 61%."
   ]
  }
 ],
 "metadata": {
  "kernelspec": {
   "display_name": "Python 3.9.12 ('COMP4448-zVXvr8KM')",
   "language": "python",
   "name": "python3"
  },
  "language_info": {
   "codemirror_mode": {
    "name": "ipython",
    "version": 3
   },
   "file_extension": ".py",
   "mimetype": "text/x-python",
   "name": "python",
   "nbconvert_exporter": "python",
   "pygments_lexer": "ipython3",
   "version": "3.9.12"
  },
  "orig_nbformat": 4,
  "vscode": {
   "interpreter": {
    "hash": "5392b5f59a5fef62b4badd3fb41b4c3fb016ca90199b117ded7058284d432eca"
   }
  }
 },
 "nbformat": 4,
 "nbformat_minor": 2
}
