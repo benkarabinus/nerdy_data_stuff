{
 "cells": [
  {
   "cell_type": "markdown",
   "metadata": {},
   "source": [
    "# <center>__Assignment 3__</center>"
   ]
  },
  {
   "cell_type": "code",
   "execution_count": 1,
   "metadata": {},
   "outputs": [],
   "source": [
    "\"\"\"load required packages\"\"\"\n",
    "\n",
    "import numpy as np\n",
    "import pandas as pd\n",
    "import matplotlib.pyplot as plt\n",
    "from sklearn.preprocessing import MinMaxScaler, OneHotEncoder\n",
    "from sklearn.model_selection import train_test_split, GridSearchCV, validation_curve, cross_val_score\n",
    "from sklearn.tree import DecisionTreeClassifier\n",
    "from sklearn.metrics import accuracy_score, zero_one_loss, classification_report, confusion_matrix,\\\n",
    "                            precision_score, recall_score, f1_score, plot_roc_curve, plot_confusion_matrix\n",
    "from sklearn.ensemble import RandomForestClassifier"
   ]
  },
  {
   "cell_type": "markdown",
   "metadata": {},
   "source": [
    "## __Question 1__"
   ]
  },
  {
   "cell_type": "markdown",
   "metadata": {},
   "source": [
    "For a presidential election, campaign organizers for both the Republican and Democrat parties are interested in identifying undecided voters who would consider voting for their party. The file BlueOrRed.csv (provided on canvas) contains data on a sample of voters with tracked variables including: whether or not they are undecided regarding their candidate preference, age, whether they own a home, gender, marital status, household size, income, years of education, and whether they attend church. For this dataset, you would use the Undecided variable as your output variable and the rest of the variables as your input variables. You want to predict whether a candidate is undecided(Undecided=1) or decided(Undecided=0). "
   ]
  },
  {
   "cell_type": "markdown",
   "metadata": {},
   "source": [
    "### a) Upload the data into Python and check for missing data. If there is any missing data, drop the cases that have the missing data. "
   ]
  },
  {
   "cell_type": "code",
   "execution_count": 2,
   "metadata": {},
   "outputs": [
    {
     "name": "stdout",
     "output_type": "stream",
     "text": [
      "<class 'pandas.core.frame.DataFrame'>\n",
      "RangeIndex: 10000 entries, 0 to 9999\n",
      "Data columns (total 9 columns):\n",
      " #   Column         Non-Null Count  Dtype  \n",
      "---  ------         --------------  -----  \n",
      " 0   Age            10000 non-null  int64  \n",
      " 1   HomeOwner      10000 non-null  int64  \n",
      " 2   Female         10000 non-null  int64  \n",
      " 3   Married        10000 non-null  int64  \n",
      " 4   HouseholdSize  10000 non-null  int64  \n",
      " 5   Income         10000 non-null  float64\n",
      " 6   Education      10000 non-null  int64  \n",
      " 7   Church         10000 non-null  int64  \n",
      " 8   Undecided      10000 non-null  int64  \n",
      "dtypes: float64(1), int64(8)\n",
      "memory usage: 703.2 KB\n"
     ]
    }
   ],
   "source": [
    "\"\"\"load data into Python and check for missing records\"\"\"\n",
    "\n",
    "blue_or_red = pd.read_csv('Blueorred.csv')\n",
    "blue_or_red.info()"
   ]
  },
  {
   "cell_type": "markdown",
   "metadata": {},
   "source": [
    "### b)\t Normalize the continuous variables using min-max normalization. You should obtain a new dataset that has your normalized continuous input variables, the categorical input variables (the categorical input variables are fine and don’t need to be normalized), and your output variable."
   ]
  },
  {
   "cell_type": "code",
   "execution_count": 3,
   "metadata": {},
   "outputs": [
    {
     "data": {
      "text/html": [
       "<div>\n",
       "<style scoped>\n",
       "    .dataframe tbody tr th:only-of-type {\n",
       "        vertical-align: middle;\n",
       "    }\n",
       "\n",
       "    .dataframe tbody tr th {\n",
       "        vertical-align: top;\n",
       "    }\n",
       "\n",
       "    .dataframe thead th {\n",
       "        text-align: right;\n",
       "    }\n",
       "</style>\n",
       "<table border=\"1\" class=\"dataframe\">\n",
       "  <thead>\n",
       "    <tr style=\"text-align: right;\">\n",
       "      <th></th>\n",
       "      <th>Age</th>\n",
       "      <th>HomeOwner</th>\n",
       "      <th>Female</th>\n",
       "      <th>Married</th>\n",
       "      <th>HouseholdSize</th>\n",
       "      <th>Income</th>\n",
       "      <th>Education</th>\n",
       "      <th>Church</th>\n",
       "      <th>Undecided</th>\n",
       "    </tr>\n",
       "  </thead>\n",
       "  <tbody>\n",
       "    <tr>\n",
       "      <th>0</th>\n",
       "      <td>0.523810</td>\n",
       "      <td>1</td>\n",
       "      <td>1</td>\n",
       "      <td>1</td>\n",
       "      <td>0.500000</td>\n",
       "      <td>0.306422</td>\n",
       "      <td>0.583333</td>\n",
       "      <td>0</td>\n",
       "      <td>1</td>\n",
       "    </tr>\n",
       "    <tr>\n",
       "      <th>1</th>\n",
       "      <td>0.444444</td>\n",
       "      <td>1</td>\n",
       "      <td>1</td>\n",
       "      <td>1</td>\n",
       "      <td>0.833333</td>\n",
       "      <td>0.763303</td>\n",
       "      <td>0.583333</td>\n",
       "      <td>1</td>\n",
       "      <td>0</td>\n",
       "    </tr>\n",
       "    <tr>\n",
       "      <th>2</th>\n",
       "      <td>0.587302</td>\n",
       "      <td>1</td>\n",
       "      <td>0</td>\n",
       "      <td>1</td>\n",
       "      <td>0.833333</td>\n",
       "      <td>0.234862</td>\n",
       "      <td>0.666667</td>\n",
       "      <td>0</td>\n",
       "      <td>1</td>\n",
       "    </tr>\n",
       "    <tr>\n",
       "      <th>3</th>\n",
       "      <td>0.507937</td>\n",
       "      <td>1</td>\n",
       "      <td>0</td>\n",
       "      <td>1</td>\n",
       "      <td>0.500000</td>\n",
       "      <td>0.025688</td>\n",
       "      <td>0.000000</td>\n",
       "      <td>0</td>\n",
       "      <td>0</td>\n",
       "    </tr>\n",
       "    <tr>\n",
       "      <th>4</th>\n",
       "      <td>0.492063</td>\n",
       "      <td>1</td>\n",
       "      <td>1</td>\n",
       "      <td>1</td>\n",
       "      <td>0.166667</td>\n",
       "      <td>0.113761</td>\n",
       "      <td>0.583333</td>\n",
       "      <td>1</td>\n",
       "      <td>1</td>\n",
       "    </tr>\n",
       "  </tbody>\n",
       "</table>\n",
       "</div>"
      ],
      "text/plain": [
       "        Age  HomeOwner  Female  Married  HouseholdSize    Income  Education  \\\n",
       "0  0.523810          1       1        1       0.500000  0.306422   0.583333   \n",
       "1  0.444444          1       1        1       0.833333  0.763303   0.583333   \n",
       "2  0.587302          1       0        1       0.833333  0.234862   0.666667   \n",
       "3  0.507937          1       0        1       0.500000  0.025688   0.000000   \n",
       "4  0.492063          1       1        1       0.166667  0.113761   0.583333   \n",
       "\n",
       "   Church  Undecided  \n",
       "0       0          1  \n",
       "1       1          0  \n",
       "2       0          1  \n",
       "3       0          0  \n",
       "4       1          1  "
      ]
     },
     "execution_count": 3,
     "metadata": {},
     "output_type": "execute_result"
    }
   ],
   "source": [
    "\"\"\"\n",
    "apply  min-max normalization to the data and assign to a new variable\n",
    "blue_or_red_norm\n",
    "\"\"\"\n",
    "\n",
    "# make a list of continuous variables\n",
    "continuous_idx = ['Age', 'HouseholdSize', 'Income', 'Education']\n",
    "# make a copy  of the original dataset\n",
    "blue_or_red_norm = blue_or_red.copy()\n",
    "# instantiate sklearn MinMaxScaler, fit and transform data\n",
    "scaler = MinMaxScaler()\n",
    "blue_or_red_norm[continuous_idx] = scaler.fit_transform(blue_or_red_norm[continuous_idx])\n",
    "blue_or_red_norm.head()"
   ]
  },
  {
   "cell_type": "markdown",
   "metadata": {},
   "source": [
    "### c)\tWhy do you think using min-max normalization is a better choice for this situation compared to using other scalers such as the Standard Scaler which standardizes the data?"
   ]
  },
  {
   "cell_type": "markdown",
   "metadata": {},
   "source": [
    "When continuous variables are not measured at the same scale, they do not contribute equally during model fitting. This can create a biased model. This is especially true in the case of classification decision trees where splits at each leaf node are determined by measuring which attribute best separates the data. Using the scikit-learn MinMaxScaler will scale the data so that each continuous attribute value will fall between 0 and 1 regardless of the original scale."
   ]
  },
  {
   "cell_type": "markdown",
   "metadata": {},
   "source": [
    "### d)\tUse the train_test_split() function in the sklearn.model_selection module in scikit-learn to split the data into training and test sets. Your test set should be 30% of the entire data. Print the shape of the X_train, y_train, X_test and y_test data. You can use the default value of the random state in splitting the data, which is random_state=42. "
   ]
  },
  {
   "cell_type": "code",
   "execution_count": 4,
   "metadata": {},
   "outputs": [],
   "source": [
    "\"\"\"split the data into training and test sets\"\"\"\n",
    "\n",
    "# separate features and target\n",
    "X = blue_or_red_norm.iloc[:, :-1]\n",
    "y = blue_or_red_norm.iloc[:, -1:]\n",
    "# create the training and test sets\n",
    "X_train, X_test, y_train, y_test = train_test_split(X, y, test_size=.30,\n",
    "                                                    random_state=42)"
   ]
  },
  {
   "cell_type": "code",
   "execution_count": 6,
   "metadata": {},
   "outputs": [
    {
     "name": "stdout",
     "output_type": "stream",
     "text": [
      "(7000, 8)\n",
      "(7000, 1)\n"
     ]
    }
   ],
   "source": [
    "\"\"\"print the shape of the training set\"\"\"\n",
    "\n",
    "print(X_train.shape)\n",
    "print(y_train.shape)"
   ]
  },
  {
   "cell_type": "code",
   "execution_count": 7,
   "metadata": {},
   "outputs": [
    {
     "name": "stdout",
     "output_type": "stream",
     "text": [
      "(3000, 8)\n",
      "(3000, 1)\n"
     ]
    }
   ],
   "source": [
    "\"\"\"print the shape of the test set\"\"\"\n",
    "\n",
    "print(X_test.shape)\n",
    "print(y_test.shape)"
   ]
  },
  {
   "cell_type": "markdown",
   "metadata": {},
   "source": [
    "### e)\tConstruct a decision tree and fit the tree into the data. Then use your decision tree model to make predictions on the training set as well as on the test set. Assign your results to y_train_pred and y_test_pred respectively. Print out the first 100 predictions for each of the  y_train_pred and y_test_pred. "
   ]
  },
  {
   "cell_type": "code",
   "execution_count": 8,
   "metadata": {},
   "outputs": [
    {
     "data": {
      "text/html": [
       "<style>#sk-container-id-1 {color: black;background-color: white;}#sk-container-id-1 pre{padding: 0;}#sk-container-id-1 div.sk-toggleable {background-color: white;}#sk-container-id-1 label.sk-toggleable__label {cursor: pointer;display: block;width: 100%;margin-bottom: 0;padding: 0.3em;box-sizing: border-box;text-align: center;}#sk-container-id-1 label.sk-toggleable__label-arrow:before {content: \"▸\";float: left;margin-right: 0.25em;color: #696969;}#sk-container-id-1 label.sk-toggleable__label-arrow:hover:before {color: black;}#sk-container-id-1 div.sk-estimator:hover label.sk-toggleable__label-arrow:before {color: black;}#sk-container-id-1 div.sk-toggleable__content {max-height: 0;max-width: 0;overflow: hidden;text-align: left;background-color: #f0f8ff;}#sk-container-id-1 div.sk-toggleable__content pre {margin: 0.2em;color: black;border-radius: 0.25em;background-color: #f0f8ff;}#sk-container-id-1 input.sk-toggleable__control:checked~div.sk-toggleable__content {max-height: 200px;max-width: 100%;overflow: auto;}#sk-container-id-1 input.sk-toggleable__control:checked~label.sk-toggleable__label-arrow:before {content: \"▾\";}#sk-container-id-1 div.sk-estimator input.sk-toggleable__control:checked~label.sk-toggleable__label {background-color: #d4ebff;}#sk-container-id-1 div.sk-label input.sk-toggleable__control:checked~label.sk-toggleable__label {background-color: #d4ebff;}#sk-container-id-1 input.sk-hidden--visually {border: 0;clip: rect(1px 1px 1px 1px);clip: rect(1px, 1px, 1px, 1px);height: 1px;margin: -1px;overflow: hidden;padding: 0;position: absolute;width: 1px;}#sk-container-id-1 div.sk-estimator {font-family: monospace;background-color: #f0f8ff;border: 1px dotted black;border-radius: 0.25em;box-sizing: border-box;margin-bottom: 0.5em;}#sk-container-id-1 div.sk-estimator:hover {background-color: #d4ebff;}#sk-container-id-1 div.sk-parallel-item::after {content: \"\";width: 100%;border-bottom: 1px solid gray;flex-grow: 1;}#sk-container-id-1 div.sk-label:hover label.sk-toggleable__label {background-color: #d4ebff;}#sk-container-id-1 div.sk-serial::before {content: \"\";position: absolute;border-left: 1px solid gray;box-sizing: border-box;top: 0;bottom: 0;left: 50%;z-index: 0;}#sk-container-id-1 div.sk-serial {display: flex;flex-direction: column;align-items: center;background-color: white;padding-right: 0.2em;padding-left: 0.2em;position: relative;}#sk-container-id-1 div.sk-item {position: relative;z-index: 1;}#sk-container-id-1 div.sk-parallel {display: flex;align-items: stretch;justify-content: center;background-color: white;position: relative;}#sk-container-id-1 div.sk-item::before, #sk-container-id-1 div.sk-parallel-item::before {content: \"\";position: absolute;border-left: 1px solid gray;box-sizing: border-box;top: 0;bottom: 0;left: 50%;z-index: -1;}#sk-container-id-1 div.sk-parallel-item {display: flex;flex-direction: column;z-index: 1;position: relative;background-color: white;}#sk-container-id-1 div.sk-parallel-item:first-child::after {align-self: flex-end;width: 50%;}#sk-container-id-1 div.sk-parallel-item:last-child::after {align-self: flex-start;width: 50%;}#sk-container-id-1 div.sk-parallel-item:only-child::after {width: 0;}#sk-container-id-1 div.sk-dashed-wrapped {border: 1px dashed gray;margin: 0 0.4em 0.5em 0.4em;box-sizing: border-box;padding-bottom: 0.4em;background-color: white;}#sk-container-id-1 div.sk-label label {font-family: monospace;font-weight: bold;display: inline-block;line-height: 1.2em;}#sk-container-id-1 div.sk-label-container {text-align: center;}#sk-container-id-1 div.sk-container {/* jupyter's `normalize.less` sets `[hidden] { display: none; }` but bootstrap.min.css set `[hidden] { display: none !important; }` so we also need the `!important` here to be able to override the default hidden behavior on the sphinx rendered scikit-learn.org. See: https://github.com/scikit-learn/scikit-learn/issues/21755 */display: inline-block !important;position: relative;}#sk-container-id-1 div.sk-text-repr-fallback {display: none;}</style><div id=\"sk-container-id-1\" class=\"sk-top-container\"><div class=\"sk-text-repr-fallback\"><pre>DecisionTreeClassifier()</pre><b>In a Jupyter environment, please rerun this cell to show the HTML representation or trust the notebook. <br />On GitHub, the HTML representation is unable to render, please try loading this page with nbviewer.org.</b></div><div class=\"sk-container\" hidden><div class=\"sk-item\"><div class=\"sk-estimator sk-toggleable\"><input class=\"sk-toggleable__control sk-hidden--visually\" id=\"sk-estimator-id-1\" type=\"checkbox\" checked><label for=\"sk-estimator-id-1\" class=\"sk-toggleable__label sk-toggleable__label-arrow\">DecisionTreeClassifier</label><div class=\"sk-toggleable__content\"><pre>DecisionTreeClassifier()</pre></div></div></div></div></div>"
      ],
      "text/plain": [
       "DecisionTreeClassifier()"
      ]
     },
     "execution_count": 8,
     "metadata": {},
     "output_type": "execute_result"
    }
   ],
   "source": [
    "\"\"\"construct the decision tree classifier and fit ti the training data\"\"\"\n",
    "\n",
    "dtc = DecisionTreeClassifier()\n",
    "dtc.fit(X_train, y_train)"
   ]
  },
  {
   "cell_type": "code",
   "execution_count": 9,
   "metadata": {},
   "outputs": [
    {
     "data": {
      "text/plain": [
       "array([0, 0, 0, 0, 1, 0, 0, 0, 0, 1, 0, 1, 0, 1, 1, 0, 0, 0, 0, 0, 0, 0,\n",
       "       0, 1, 1, 1, 0, 1, 1, 0, 0, 0, 0, 1, 1, 1, 0, 1, 1, 0, 1, 0, 0, 0,\n",
       "       0, 0, 1, 1, 0, 1, 1, 0, 1, 0, 1, 1, 0, 0, 1, 0, 0, 0, 0, 1, 0, 0,\n",
       "       0, 0, 0, 1, 0, 0, 0, 0, 0, 1, 0, 1, 0, 0, 1, 0, 1, 0, 0, 0, 1, 0,\n",
       "       0, 0, 0, 1, 1, 1, 0, 1, 0, 0, 0, 1])"
      ]
     },
     "execution_count": 9,
     "metadata": {},
     "output_type": "execute_result"
    }
   ],
   "source": [
    "\"\"\"make predictions on the training set and print the first 100 predictions\"\"\"\n",
    "\n",
    "y_train_pred = dtc.predict(X_train)\n",
    "y_train_pred[0:100]"
   ]
  },
  {
   "cell_type": "code",
   "execution_count": 10,
   "metadata": {},
   "outputs": [
    {
     "data": {
      "text/plain": [
       "array([0, 1, 1, 1, 1, 1, 1, 1, 1, 0, 0, 1, 0, 0, 0, 0, 1, 0, 1, 0, 1, 0,\n",
       "       0, 0, 1, 1, 1, 0, 1, 1, 1, 0, 1, 0, 0, 0, 0, 0, 0, 0, 0, 0, 0, 1,\n",
       "       0, 0, 0, 0, 1, 0, 1, 0, 1, 1, 1, 1, 1, 0, 0, 1, 0, 0, 1, 1, 1, 1,\n",
       "       0, 0, 1, 1, 0, 0, 0, 0, 0, 0, 0, 0, 1, 0, 1, 1, 0, 0, 1, 0, 1, 0,\n",
       "       1, 1, 0, 0, 0, 0, 0, 0, 0, 1, 1, 0])"
      ]
     },
     "execution_count": 10,
     "metadata": {},
     "output_type": "execute_result"
    }
   ],
   "source": [
    "\"\"\"make predictions on the test set and print the first 100 predictions\"\"\"\n",
    "\n",
    "y_test_pred = dtc.predict(X_test)\n",
    "y_test_pred[0:100]"
   ]
  },
  {
   "cell_type": "markdown",
   "metadata": {},
   "source": [
    "### f)\tFind the overall accuracy of the tree model on the training set and on the test set. Use the accuracy_score() function in the sklearn.metrics module. Does the tree overfit the model? Why or why not?  "
   ]
  },
  {
   "cell_type": "code",
   "execution_count": 11,
   "metadata": {},
   "outputs": [
    {
     "name": "stdout",
     "output_type": "stream",
     "text": [
      "1.0\n"
     ]
    }
   ],
   "source": [
    "\"\"\"print accuracy score for predictions made on the training set\"\"\"\n",
    "\n",
    "print(accuracy_score(y_train, y_train_pred))"
   ]
  },
  {
   "cell_type": "code",
   "execution_count": 12,
   "metadata": {},
   "outputs": [
    {
     "name": "stdout",
     "output_type": "stream",
     "text": [
      "0.97\n"
     ]
    }
   ],
   "source": [
    "\"\"\"print accuracy score for predictions made on the test set\"\"\"\n",
    "\n",
    "print(accuracy_score(y_test, y_test_pred))"
   ]
  },
  {
   "cell_type": "markdown",
   "metadata": {},
   "source": [
    "The decision tree does not appear to overfit the model. A prediction accuracy of 100% on the training set is unusual and is normally a sign of overfitting, but when considering an accuracy on the test set of approximately 97% its clear the model performed almost equally well on unseen data."
   ]
  },
  {
   "cell_type": "markdown",
   "metadata": {},
   "source": [
    "### g)\tAlso, use the .score() method of the tree estimator to find the overall accuracy on the training set and test set. "
   ]
  },
  {
   "cell_type": "code",
   "execution_count": 13,
   "metadata": {},
   "outputs": [
    {
     "name": "stdout",
     "output_type": "stream",
     "text": [
      "1.0\n"
     ]
    }
   ],
   "source": [
    "\"\"\"use the tree estimator .score() method to print accuracy of predictions on the training set\"\"\"\n",
    "\n",
    "print(dtc.score(X_train, y_train))"
   ]
  },
  {
   "cell_type": "code",
   "execution_count": 14,
   "metadata": {},
   "outputs": [
    {
     "name": "stdout",
     "output_type": "stream",
     "text": [
      "0.97\n"
     ]
    }
   ],
   "source": [
    "\"\"\"use the tree estimator .score() method to print the accuraccy of predictions on the test set\"\"\"\n",
    "\n",
    "print(dtc.score(X_test, y_test))"
   ]
  },
  {
   "cell_type": "markdown",
   "metadata": {},
   "source": [
    "### h)\tUse the zero_one_loss() function inside the sklearn.metric module to compute the overall prediction error of the tree model on the test set and training set. "
   ]
  },
  {
   "cell_type": "code",
   "execution_count": 15,
   "metadata": {},
   "outputs": [
    {
     "name": "stdout",
     "output_type": "stream",
     "text": [
      "0.0\n"
     ]
    }
   ],
   "source": [
    "\"\"\"compute and print the prediction error on the training set\"\"\"\n",
    "\n",
    "print(zero_one_loss(y_train, y_train_pred))"
   ]
  },
  {
   "cell_type": "code",
   "execution_count": 16,
   "metadata": {},
   "outputs": [
    {
     "name": "stdout",
     "output_type": "stream",
     "text": [
      "0.030000000000000027\n"
     ]
    }
   ],
   "source": [
    "\"\"\"compute and print the prediction error on the training set\"\"\"\n",
    "\n",
    "print(zero_one_loss(y_test, y_test_pred))"
   ]
  },
  {
   "cell_type": "markdown",
   "metadata": {},
   "source": [
    "## Question 2"
   ]
  },
  {
   "cell_type": "markdown",
   "metadata": {},
   "source": [
    "Do other assessment of your model using the following tools in sklearn.metrics module"
   ]
  },
  {
   "cell_type": "markdown",
   "metadata": {},
   "source": [
    "### a)\tGenerate the classification report using the classification_report () "
   ]
  },
  {
   "cell_type": "code",
   "execution_count": 17,
   "metadata": {},
   "outputs": [
    {
     "name": "stdout",
     "output_type": "stream",
     "text": [
      "              precision    recall  f1-score   support\n",
      "\n",
      "           0       1.00      1.00      1.00      4172\n",
      "           1       1.00      1.00      1.00      2828\n",
      "\n",
      "    accuracy                           1.00      7000\n",
      "   macro avg       1.00      1.00      1.00      7000\n",
      "weighted avg       1.00      1.00      1.00      7000\n",
      "\n"
     ]
    }
   ],
   "source": [
    "\"\"\"print classification report for model applied to the training set\"\"\"\n",
    "\n",
    "print(classification_report(y_train, y_train_pred))"
   ]
  },
  {
   "cell_type": "code",
   "execution_count": 18,
   "metadata": {},
   "outputs": [
    {
     "name": "stdout",
     "output_type": "stream",
     "text": [
      "              precision    recall  f1-score   support\n",
      "\n",
      "           0       0.98      0.97      0.98      1814\n",
      "           1       0.96      0.97      0.96      1186\n",
      "\n",
      "    accuracy                           0.97      3000\n",
      "   macro avg       0.97      0.97      0.97      3000\n",
      "weighted avg       0.97      0.97      0.97      3000\n",
      "\n"
     ]
    }
   ],
   "source": [
    "\"\"\"print classification report for model applied to the test set\"\"\"\n",
    "\n",
    "print(classification_report(y_test, y_test_pred))"
   ]
  },
  {
   "cell_type": "markdown",
   "metadata": {},
   "source": [
    "### b)\tGenerate the confusion matrix using confusion_matrix() "
   ]
  },
  {
   "cell_type": "code",
   "execution_count": 19,
   "metadata": {},
   "outputs": [
    {
     "data": {
      "text/plain": [
       "array([[4172,    0],\n",
       "       [   0, 2828]])"
      ]
     },
     "execution_count": 19,
     "metadata": {},
     "output_type": "execute_result"
    }
   ],
   "source": [
    "\"\"\"print the confusion matrix for the model applied to the training set\"\"\"\n",
    "\n",
    "confusion_matrix(y_train, y_train_pred)"
   ]
  },
  {
   "cell_type": "code",
   "execution_count": 20,
   "metadata": {},
   "outputs": [
    {
     "data": {
      "text/plain": [
       "array([[1763,   51],\n",
       "       [  39, 1147]])"
      ]
     },
     "execution_count": 20,
     "metadata": {},
     "output_type": "execute_result"
    }
   ],
   "source": [
    "\"\"\"print the confusion matrix for the model applied to the test set\"\"\"\n",
    "\n",
    "confusion_matrix(y_test, y_test_pred)"
   ]
  },
  {
   "cell_type": "markdown",
   "metadata": {},
   "source": [
    "### c)\tGenerate the precision score using precision_score() "
   ]
  },
  {
   "cell_type": "code",
   "execution_count": 21,
   "metadata": {},
   "outputs": [
    {
     "name": "stdout",
     "output_type": "stream",
     "text": [
      "1.0\n"
     ]
    }
   ],
   "source": [
    "\"\"\"print the precision score for model applied to the training set\"\"\"\n",
    "\n",
    "print(precision_score(y_train, y_train_pred))"
   ]
  },
  {
   "cell_type": "code",
   "execution_count": 22,
   "metadata": {},
   "outputs": [
    {
     "name": "stdout",
     "output_type": "stream",
     "text": [
      "0.9574290484140233\n"
     ]
    }
   ],
   "source": [
    "\"\"\"print the precision score for model applied to the test set\"\"\"\n",
    "\n",
    "print(precision_score(y_test, y_test_pred))"
   ]
  },
  {
   "cell_type": "markdown",
   "metadata": {},
   "source": [
    "### d)\tGenerate the recall score using recall_score()"
   ]
  },
  {
   "cell_type": "code",
   "execution_count": 23,
   "metadata": {},
   "outputs": [
    {
     "name": "stdout",
     "output_type": "stream",
     "text": [
      "1.0\n"
     ]
    }
   ],
   "source": [
    "\"\"\"print the recall score for the model applied to the training set\"\"\"\n",
    "\n",
    "print(recall_score(y_train, y_train_pred))"
   ]
  },
  {
   "cell_type": "code",
   "execution_count": 24,
   "metadata": {},
   "outputs": [
    {
     "name": "stdout",
     "output_type": "stream",
     "text": [
      "0.9671163575042159\n"
     ]
    }
   ],
   "source": [
    "\"\"\"print the recall score for the model applied to the test set\"\"\"\n",
    "\n",
    "print(recall_score(y_test, y_test_pred))"
   ]
  },
  {
   "cell_type": "markdown",
   "metadata": {},
   "source": [
    "### e)\tGenerate the f1 score using f1_score()"
   ]
  },
  {
   "cell_type": "code",
   "execution_count": 25,
   "metadata": {},
   "outputs": [
    {
     "name": "stdout",
     "output_type": "stream",
     "text": [
      "1.0\n"
     ]
    }
   ],
   "source": [
    "\"\"\"print the F1 score for the model applied to the training set\"\"\"\n",
    "\n",
    "print(f1_score(y_train, y_train_pred))"
   ]
  },
  {
   "cell_type": "code",
   "execution_count": 26,
   "metadata": {},
   "outputs": [
    {
     "name": "stdout",
     "output_type": "stream",
     "text": [
      "0.962248322147651\n"
     ]
    }
   ],
   "source": [
    "\"\"\"print the F1 score for the model applied to the test set\"\"\"\n",
    "\n",
    "print(f1_score(y_test, y_test_pred))"
   ]
  },
  {
   "cell_type": "markdown",
   "metadata": {},
   "source": [
    "### f)\tWhen is it more appropriate to use f1 score (or precision score and recall) compared to using the overall accuracy to evaluate your model?"
   ]
  },
  {
   "cell_type": "markdown",
   "metadata": {},
   "source": [
    "The F1 score is most appropriate when the goal is to build a model that strikes a balance between strong precision and recall scores. A low score for either precision or recall will have significant effects on the F1 score. For example, if a machine learning model was trained to identify cancerous cells a strong F1 score would be important. The model must perform well in predicting any cancerous cells as cancerous, but also perform well in correctly predicting cancerous cells (a low false positive rate)."
   ]
  },
  {
   "cell_type": "markdown",
   "metadata": {},
   "source": [
    "### g)\tGenerate a roc curve using plot_roc_curve() "
   ]
  },
  {
   "cell_type": "code",
   "execution_count": 27,
   "metadata": {},
   "outputs": [
    {
     "name": "stderr",
     "output_type": "stream",
     "text": [
      "/Users/benkarabinus/.local/share/virtualenvs/COMP4448-zVXvr8KM/lib/python3.9/site-packages/sklearn/utils/deprecation.py:87: FutureWarning: Function plot_roc_curve is deprecated; Function :func:`plot_roc_curve` is deprecated in 1.0 and will be removed in 1.2. Use one of the class methods: :meth:`sklearn.metric.RocCurveDisplay.from_predictions` or :meth:`sklearn.metric.RocCurveDisplay.from_estimator`.\n",
      "  warnings.warn(msg, category=FutureWarning)\n"
     ]
    },
    {
     "data": {
      "image/png": "[encoded data removed]",
      "text/plain": [
       "<Figure size 432x288 with 1 Axes>"
      ]
     },
     "metadata": {
      "needs_background": "light"
     },
     "output_type": "display_data"
    }
   ],
   "source": [
    "\"\"\"plot ROC curve for the model applied to the training set\"\"\"\n",
    "\n",
    "plot_roc_curve(dtc, X_train, y_train)\n",
    "plt.tight_layout()\n",
    "plt.show()"
   ]
  },
  {
   "cell_type": "code",
   "execution_count": 28,
   "metadata": {},
   "outputs": [
    {
     "name": "stderr",
     "output_type": "stream",
     "text": [
      "/Users/benkarabinus/.local/share/virtualenvs/COMP4448-zVXvr8KM/lib/python3.9/site-packages/sklearn/utils/deprecation.py:87: FutureWarning: Function plot_roc_curve is deprecated; Function :func:`plot_roc_curve` is deprecated in 1.0 and will be removed in 1.2. Use one of the class methods: :meth:`sklearn.metric.RocCurveDisplay.from_predictions` or :meth:`sklearn.metric.RocCurveDisplay.from_estimator`.\n",
      "  warnings.warn(msg, category=FutureWarning)\n"
     ]
    },
    {
     "data": {
      "image/png": "[encoded data removed]",
      "text/plain": [
       "<Figure size 432x288 with 1 Axes>"
      ]
     },
     "metadata": {
      "needs_background": "light"
     },
     "output_type": "display_data"
    }
   ],
   "source": [
    "\"\"\"plot ROC curve for the model applied to the test set\"\"\"\n",
    "\n",
    "plot_roc_curve(dtc, X_test, y_test)\n",
    "plt.tight_layout()\n",
    "plt.show()"
   ]
  },
  {
   "cell_type": "markdown",
   "metadata": {},
   "source": [
    "### h)\tPlot the confusion matrix using plot_confusion_matrix"
   ]
  },
  {
   "cell_type": "code",
   "execution_count": 29,
   "metadata": {},
   "outputs": [
    {
     "name": "stderr",
     "output_type": "stream",
     "text": [
      "/Users/benkarabinus/.local/share/virtualenvs/COMP4448-zVXvr8KM/lib/python3.9/site-packages/sklearn/utils/deprecation.py:87: FutureWarning: Function plot_confusion_matrix is deprecated; Function `plot_confusion_matrix` is deprecated in 1.0 and will be removed in 1.2. Use one of the class methods: ConfusionMatrixDisplay.from_predictions or ConfusionMatrixDisplay.from_estimator.\n",
      "  warnings.warn(msg, category=FutureWarning)\n"
     ]
    },
    {
     "data": {
      "image/png": "[encoded data removed]",
      "text/plain": [
       "<Figure size 432x288 with 2 Axes>"
      ]
     },
     "metadata": {
      "needs_background": "light"
     },
     "output_type": "display_data"
    }
   ],
   "source": [
    "\"\"\"plot the confusion matrix for the model applied to the training set\"\"\"\n",
    "\n",
    "plot_confusion_matrix(dtc, X_train, y_train)\n",
    "plt.tight_layout()\n",
    "plt.show()"
   ]
  },
  {
   "cell_type": "code",
   "execution_count": 30,
   "metadata": {},
   "outputs": [
    {
     "name": "stderr",
     "output_type": "stream",
     "text": [
      "/Users/benkarabinus/.local/share/virtualenvs/COMP4448-zVXvr8KM/lib/python3.9/site-packages/sklearn/utils/deprecation.py:87: FutureWarning: Function plot_confusion_matrix is deprecated; Function `plot_confusion_matrix` is deprecated in 1.0 and will be removed in 1.2. Use one of the class methods: ConfusionMatrixDisplay.from_predictions or ConfusionMatrixDisplay.from_estimator.\n",
      "  warnings.warn(msg, category=FutureWarning)\n"
     ]
    },
    {
     "data": {
      "image/png": "[encoded data removed]",
      "text/plain": [
       "<Figure size 432x288 with 2 Axes>"
      ]
     },
     "metadata": {
      "needs_background": "light"
     },
     "output_type": "display_data"
    }
   ],
   "source": [
    "\"\"\"plot the confusion matrix for the model applied to the test set\"\"\"\n",
    "\n",
    "plot_confusion_matrix(dtc, X_test, y_test)\n",
    "plt.tight_layout()\n",
    "plt.show()"
   ]
  },
  {
   "cell_type": "markdown",
   "metadata": {},
   "source": [
    "## Question 3"
   ]
  },
  {
   "cell_type": "markdown",
   "metadata": {},
   "source": [
    "You will now use cross validation to find better accuracy scores as well as to tune your hyperparameters. The hyperparameters of a decision tree as shown below. We are more interested in optimizing the depth of the tree (max_depth). "
   ]
  },
  {
   "cell_type": "markdown",
   "metadata": {},
   "source": [
    "### a)\tFirst retrieve the maximum depth of this decision tree. Use clf.tree_.max_depth where clf is the name of your estimator and tree is the module in sklearn."
   ]
  },
  {
   "cell_type": "code",
   "execution_count": 31,
   "metadata": {},
   "outputs": [
    {
     "name": "stdout",
     "output_type": "stream",
     "text": [
      "18\n"
     ]
    }
   ],
   "source": [
    "\"\"\"retrieve the max depth of the decision tree estimator\"\"\"\n",
    "\n",
    "max_depth = dtc.tree_.max_depth\n",
    "print(max_depth)"
   ]
  },
  {
   "cell_type": "markdown",
   "metadata": {},
   "source": [
    "### b)\tYou will find the optimal depth of the tree by tuning the max_depth hyperparameter. Write a for loop to iteratively compute the overall error rate of the model on the test set only for the possible values of the maximum depth of the tree. Here are ideas for your code (See class notes on Modeling in Scikit-learn for more ideas):\n",
    "\n",
    "You will need to initialize a variable outside the loop to track the error rates for each maximum depth value.\n",
    "\n",
    "Then plot the overall error rate on the y-axis and the maximum depth of the tree on the x-axis. Also use np.argmin() on the error rates you obtained to retrieve the optimal maximum depth of the tree with the least error rate. Does this value match with what you see on your plot?"
   ]
  },
  {
   "cell_type": "code",
   "execution_count": 32,
   "metadata": {},
   "outputs": [],
   "source": [
    "\"\"\"\n",
    "write a for loop to iteratively test different hyperparameter values for max depth\n",
    "of the decision tree.\n",
    "\"\"\"\n",
    "\n",
    "# initialize variable to store the maximum tree depth values as range\n",
    "depth_range = range(1, max_depth+1)\n",
    "# instantiate empty list to store model results for different values of max_depth\n",
    "test_accuracy = []\n",
    "# use a for loop to iteratively get the sccores\n",
    "for depth in depth_range:\n",
    "    dtc = DecisionTreeClassifier(max_depth=depth)\n",
    "    dtc.fit(X_test, y_test)\n",
    "    test_acc = dtc.score(X_test, y_test)\n",
    "    test_accuracy.append(test_acc)"
   ]
  },
  {
   "cell_type": "code",
   "execution_count": 33,
   "metadata": {},
   "outputs": [
    {
     "data": {
      "image/png": "[encoded data removed]",
      "text/plain": [
       "<Figure size 864x720 with 1 Axes>"
      ]
     },
     "metadata": {
      "needs_background": "light"
     },
     "output_type": "display_data"
    }
   ],
   "source": [
    "\"\"\"plot hyperparameter tuning results\"\"\"\n",
    "\n",
    "plt.figure(figsize=(12, 10))\n",
    "# error rate (1-accuracy) for given tree depth\n",
    "plt.plot(depth_range, 1-np.array(test_accuracy), lw=5, c='red')\n",
    "plt.legend(['Test'])\n",
    "plt.title('Error Rate vs Maximum Tree Depth')\n",
    "plt.xlabel('Max Tree Depth')\n",
    "plt.ylabel('Error Rate')\n",
    "plt.tight_layout()\n",
    "plt.show()"
   ]
  },
  {
   "cell_type": "code",
   "execution_count": 34,
   "metadata": {},
   "outputs": [
    {
     "name": "stdout",
     "output_type": "stream",
     "text": [
      "The optimal tree depth is  14\n"
     ]
    }
   ],
   "source": [
    "\"\"\"print the optimal tree depth\"\"\"\n",
    "\n",
    "# error rate (1-accuracy) for given tree depth\n",
    "test_error = 1 - np.array(test_accuracy)\n",
    "best_depth = depth_range[np.argmin(test_error)]\n",
    "print(\"The optimal tree depth is \", best_depth)"
   ]
  },
  {
   "cell_type": "markdown",
   "metadata": {},
   "source": [
    "An optimal tree depth of 14 corresponds to what is shown on the Error Rate vs Tree Depth plot."
   ]
  },
  {
   "cell_type": "markdown",
   "metadata": {},
   "source": [
    "### c)\tNow, you will still find the optimal maximum depth of the decision tree model using grid search cross validation. Additionally, you will be simultaneously optimizing the max_features hyperparameter as well. You can check the documentation to see what these hyperparameters represent. You will use the GridSearchCV() constructor inside the sklearn.model_selection module. Make sure to pass the arguments (estimator and param_grid into the GridSearchCV() constructor. Set the parameter cv=8. Do you have the same optimal maximum depth as you got in the question above?  (See class notes on Modeling in Scikit-learn for more ideas). You can use these parameter grid as one of the arguments:"
   ]
  },
  {
   "cell_type": "markdown",
   "metadata": {},
   "source": [
    "![Parameter Grid](params.png)"
   ]
  },
  {
   "cell_type": "code",
   "execution_count": 36,
   "metadata": {},
   "outputs": [
    {
     "name": "stdout",
     "output_type": "stream",
     "text": [
      "The optimal hyperparameters are: {'max_depth': 6, 'max_features': 0.8}\n"
     ]
    }
   ],
   "source": [
    "\"\"\"estimate the best model hyperparameter using grid search cross validation\"\"\"\n",
    "\n",
    "# instantiate the estimator\n",
    "dtc = DecisionTreeClassifier(random_state=42)\n",
    "# specify parameters\n",
    "param_grid = {'max_depth': depth_range, 'max_features': [0.2, 0.4, 0.6, 0.8]}\n",
    "# instantate grid and perform search\n",
    "grid = GridSearchCV(estimator=dtc, param_grid=param_grid, cv=8)\n",
    "grid.fit(X_test, y_test)\n",
    "print(\"The optimal hyperparameters are:\", grid.best_params_)"
   ]
  },
  {
   "cell_type": "markdown",
   "metadata": {},
   "source": [
    "The optimal tree depth obtained by applying grid search cross-validation to the test set differs from what is specified on the plot portraying manual hyperparameter tuning results. This is likely due to adding an additional hyperparameter to the grid search and using k-fold cross-validation."
   ]
  },
  {
   "cell_type": "markdown",
   "metadata": {},
   "source": [
    "### d)\tYou will tune the maximum depth hyperparameter again using cross validation but this time, you will use the cross_val_score() function inside the sklearn.model_selection module. You will use this cross_val_score() function in combination with a for loop to find the optimal maximum depth of the tree. Here is a code snippet idea (see assignment instructions):\n",
    " \n",
    "Track the error rate for each depth and plot the error rates versus the corresponding maximum depths of the tree. Also use the np.argmin() on the error rates to retrieve the optimal maximum depth , corresponding to the lowest error rate. Does the retrieved optimal maximum depth look like what you see on your plot? ?  (See class notes on Modeling in Scikit-learn for more ideas).\n"
   ]
  },
  {
   "cell_type": "code",
   "execution_count": 37,
   "metadata": {},
   "outputs": [],
   "source": [
    "\"\"\"\n",
    "apply hyperparameter tuning using cross validation\n",
    "and a for loop\n",
    "\"\"\"\n",
    "\n",
    "# instantiate a list to store the test error for each param value\n",
    "test_error = []\n",
    "# loop through possible values of max depth and cross val error to get test_error\n",
    "for depth in depth_range:\n",
    "    dtc = DecisionTreeClassifier(max_depth=depth)\n",
    "    dtc.fit(X_test, y_test)\n",
    "    scores = cross_val_score(estimator=dtc, X=X_test, y=y_test, scoring='accuracy', cv=8)\n",
    "    test_error.append(1-np.mean(scores))"
   ]
  },
  {
   "cell_type": "code",
   "execution_count": 39,
   "metadata": {},
   "outputs": [
    {
     "data": {
      "image/png": "[encoded data removed]",
      "text/plain": [
       "<Figure size 864x720 with 1 Axes>"
      ]
     },
     "metadata": {
      "needs_background": "light"
     },
     "output_type": "display_data"
    }
   ],
   "source": [
    "\"\"\"plot the test error for cross validation using different tree depths\"\"\"\n",
    "\n",
    "plt.figure(figsize=(12, 10))\n",
    "# test error (1-accuracy)\n",
    "plt.plot(test_error, lw=5, c='red')\n",
    "plt.title('Test Error vs Tree Depth (cross-validation)')\n",
    "plt.legend(['Test Error'])\n",
    "plt.xlabel('Tree Depth')\n",
    "plt.ylabel('Error Rate')\n",
    "plt.tight_layout()\n",
    "plt.show()"
   ]
  },
  {
   "cell_type": "code",
   "execution_count": 40,
   "metadata": {},
   "outputs": [
    {
     "name": "stdout",
     "output_type": "stream",
     "text": [
      "The optimal tree depth is  5\n"
     ]
    }
   ],
   "source": [
    "\"\"\"print the optimal tree depth\"\"\"\n",
    "\n",
    "best_depth = depth_range[np.argmin(test_error)]\n",
    "print(\"The optimal tree depth is \", best_depth)"
   ]
  },
  {
   "cell_type": "markdown",
   "metadata": {},
   "source": [
    "The retrieved optimal maximum depth matches what is portrayed on the Tree Depth vs Error (cross-validation) plot."
   ]
  },
  {
   "cell_type": "markdown",
   "metadata": {},
   "source": [
    "### e)\tYou will use another approach to plot the error rates versus the maximum depth of the tree. Here, you would use the validation_curve() function inside the sklearn.model_selection module. This function implements cross validation and returns the training accuracy scores and test (validation) accuracy scores for each iteration in the k-fold cross validation, for each of the hyperparameter values. You will need to aggregate the scores using np.mean(axis=1) to get the average of the accuracy scores for all iterations, for each hyperparameter value. Use these average accuracy scores to obtain corresponding error rates for the training and test (validation) sets. Then plot the error rates on the training set versus the maximum depth values. Also plot on the same figure, the error rates of the test (or validation) set versus the maximum depth values. What is the optimal maximum depth? (See class notes on Modeling in Scikit-learn for more ideas)."
   ]
  },
  {
   "cell_type": "code",
   "execution_count": 41,
   "metadata": {},
   "outputs": [],
   "source": [
    "\"\"\"\n",
    "use the sklearn validation curve function to plot the error rate\n",
    "for each max tree depth value in the range(1, 19)\n",
    "\"\"\"\n",
    "\n",
    "# instantiate a DecisionTreeClassifier estimator\n",
    "dtc = DecisionTreeClassifier()\n",
    "# get training and validation accuracy\n",
    "train_acc, test_acc = validation_curve(dtc, X_test, y_test, param_name='max_depth',\n",
    "                                       param_range=range(1, 19), cv=8)\n",
    "# get the average error rate from the training folds for each depth value\n",
    "train_acc_avg = np.mean(train_acc, axis=1)\n",
    "train_error = 1 - train_acc_avg\n",
    "# get the average error rate from the test fold for each  depth value\n",
    "test_acc_avg = np.mean(test_acc, axis=1)\n",
    "test_error = 1 - test_acc_avg"
   ]
  },
  {
   "cell_type": "code",
   "execution_count": 43,
   "metadata": {},
   "outputs": [
    {
     "data": {
      "image/png": "[encoded data removed]",
      "text/plain": [
       "<Figure size 864x720 with 1 Axes>"
      ]
     },
     "metadata": {
      "needs_background": "light"
     },
     "output_type": "display_data"
    }
   ],
   "source": [
    "\"\"\"plot the results\"\"\"\n",
    "\n",
    "plt.figure(figsize=(12, 10))\n",
    "# train_error, test_error (1-accuracy for each fold)\n",
    "plt.plot(train_error, lw=5, c='red')\n",
    "plt.plot(test_error, lw=5, c='green')\n",
    "plt.legend(['Training Error', 'Validation Error'])\n",
    "plt.ylabel('Error Rate')\n",
    "plt.xlabel('Tree Depth')\n",
    "plt.title('Error Rate vs Tree Depth')\n",
    "plt.tight_layout()\n",
    "plt.show()"
   ]
  },
  {
   "cell_type": "code",
   "execution_count": 44,
   "metadata": {},
   "outputs": [
    {
     "name": "stdout",
     "output_type": "stream",
     "text": [
      "The optimal tree depth is  5\n"
     ]
    }
   ],
   "source": [
    "\"\"\"print the optimal tree depth\"\"\"\n",
    "\n",
    "best_depth = depth_range[np.argmin(test_error)]\n",
    "print(\"The optimal tree depth is \", best_depth)"
   ]
  },
  {
   "cell_type": "markdown",
   "metadata": {},
   "source": [
    "The optimal tree depth derived using the validation_curve() is identical to that obtained using grid search cross-validation."
   ]
  },
  {
   "cell_type": "markdown",
   "metadata": {},
   "source": [
    "## Question 4 "
   ]
  },
  {
   "cell_type": "markdown",
   "metadata": {},
   "source": [
    "Find your own dataset suitable for classification with at least three input variables and 200 cases: You will build a decision tree classifier and a random forest classifier. Find some interesting dataset instead of the popular iris data, etc. Feel free to use a dataset suitable for classification from this link provided below or some other source of your choice: https://vincentarelbundock.github.io/Rdatasets/articles/data.html "
   ]
  },
  {
   "cell_type": "markdown",
   "metadata": {},
   "source": [
    "Address the following and include code/output snippets from b) to f). Include the response under each sub question. "
   ]
  },
  {
   "cell_type": "markdown",
   "metadata": {},
   "source": [
    "### a)\tState your research question, for example: Are decision trees and random forest good models for predicting whether someone will default on a loan or not based on their age and income level? This is just an example, your dataset does not have to be (or should not be) about loans."
   ]
  },
  {
   "cell_type": "markdown",
   "metadata": {},
   "source": [
    "Sales opportunities can be simply defined as sales accounts that have been qualified as showing legitimate interest in purchasing a product or service from another business entity. Attributes regarding sales opportunities are often tracked for the purpose of developing targeted sales campaigns. Attributes may include things such as, name of the primary contact associated with an opportunity, annual revenue of the company associated with a given sales opportunity, etc. A sales opportunity that results in a sale is referred to as a win. An opportunity that does not result in a sale is referred to as a loss. Using past observations of won and lost opportunities can a decision tree classifier or random forest classifier be used to predict win or loss (1/0) for opportunities currently in an organization's sales pipeline."
   ]
  },
  {
   "cell_type": "markdown",
   "metadata": {},
   "source": [
    "__Data Dictionary__\n",
    "\n",
    "- Est_Revenue - The estimated revenue expected if a sales opportunity is won.\n",
    "\n",
    "- Annual_Revenue - The annual revenue of the company listed on the sales account associated with a given sales opportunity.\n",
    "\n",
    "- days_active - The number of days an opportunity record was active before being closed as a win or loss. This feature was extracted by subtracting System_Close_Date from Created_On (record creation date) for a given opportunity.\n",
    "\n",
    "- No_of_Employees - The number of employees working for the business listed on the sales account record that is associated with a given opportunity.\n",
    "\n",
    "- Won - Binary outcome for a given sales opportunity reccord (1 = won 0 = lost)\n",
    "\n",
    "ASIDE: This data was obtained from my current employer's historical records and should not be shared or re-used outside of this assignment."
   ]
  },
  {
   "cell_type": "markdown",
   "metadata": {},
   "source": [
    "### b)\tData pre-processing (to the extent deemed necessary)"
   ]
  },
  {
   "cell_type": "code",
   "execution_count": 55,
   "metadata": {},
   "outputs": [
    {
     "name": "stdout",
     "output_type": "stream",
     "text": [
      "<class 'pandas.core.frame.DataFrame'>\n",
      "Index: 2593 entries, 7e8506e1-2c9b-e711-8118-005056ad09ed to d3ab2c66-ec15-e711-8114-005056ad6943\n",
      "Data columns (total 5 columns):\n",
      " #   Column           Non-Null Count  Dtype  \n",
      "---  ------           --------------  -----  \n",
      " 0   Est_Revenue      2593 non-null   float64\n",
      " 1   Annual_Revenue   2593 non-null   float64\n",
      " 2   days_active      2593 non-null   float64\n",
      " 3   No_of_Employees  2593 non-null   float64\n",
      " 4   Won              2593 non-null   int64  \n",
      "dtypes: float64(4), int64(1)\n",
      "memory usage: 121.5+ KB\n"
     ]
    }
   ],
   "source": [
    "\"\"\"load opportunity data and check for missing values\"\"\"\n",
    "\n",
    "opportunities = pd.read_csv('opportunities.csv')\n",
    "opportunities.set_index('opportunity_id', inplace=True)\n",
    "opportunities.info()"
   ]
  },
  {
   "cell_type": "code",
   "execution_count": 56,
   "metadata": {},
   "outputs": [],
   "source": [
    "\"\"\"apply preprocessing to the data\"\"\"\n",
    "\n",
    "# instantiate scaler\n",
    "scaler = MinMaxScaler()\n",
    "# get index of numeric features\n",
    "numeric_idx = opportunities.select_dtypes(include=['int64', 'float64']).columns\n",
    "# fit and transform numeric features\n",
    "opportunities[numeric_idx] = scaler.fit_transform(opportunities[numeric_idx])"
   ]
  },
  {
   "cell_type": "markdown",
   "metadata": {},
   "source": [
    "### c)\tData splitting "
   ]
  },
  {
   "cell_type": "code",
   "execution_count": 57,
   "metadata": {},
   "outputs": [],
   "source": [
    "\"\"\"partition the data into training and test sets\"\"\"\n",
    "\n",
    "X = opportunities.iloc[:, :-1]\n",
    "y = opportunities.iloc[:, -1:]\n",
    "X_train, X_test, y_train, y_test = train_test_split(X, y, test_size=.30, random_state=42)"
   ]
  },
  {
   "cell_type": "markdown",
   "metadata": {},
   "source": [
    "### d)\tModel construction (a decision tree and a random forest)"
   ]
  },
  {
   "cell_type": "code",
   "execution_count": 59,
   "metadata": {},
   "outputs": [],
   "source": [
    "\"\"\"construct a decision tree classifier and random forest classifier\"\"\"\n",
    "\n",
    "# instantiate estimators, set random seed for reproducability\n",
    "dtc = DecisionTreeClassifier(random_state=42)\n",
    "rfc = RandomForestClassifier(random_state=42)"
   ]
  },
  {
   "cell_type": "markdown",
   "metadata": {},
   "source": [
    "### e)\tHyperparameter turning (for each model, tune the hyperparameter that is important to you and use any of the methods for hyperparameter tuning learned in class such as cross validation with for loop, gridsearch cross validation, etc. You could tune more than a single parameter for each model if you want). "
   ]
  },
  {
   "cell_type": "code",
   "execution_count": 60,
   "metadata": {},
   "outputs": [
    {
     "name": "stdout",
     "output_type": "stream",
     "text": [
      "The optimal hyperparameters for the decision tree calssifier are: {'max_depth': 8, 'max_features': 0.2}\n"
     ]
    }
   ],
   "source": [
    "\"\"\"apply grid search cross validation with decision tree classifier and extract the best parameters\"\"\"\n",
    "\n",
    "params = {'max_depth': depth_range, 'max_features': [0.2, 0.4, 0.6, 0.8, 1.0]}\n",
    "dtc_grid_search = GridSearchCV(estimator=dtc, param_grid=params, cv=3)\n",
    "dtc_grid_search.fit(X_train, y_train.to_numpy().ravel())\n",
    "print(\"The optimal hyperparameters for the decision tree calssifier are:\", dtc_grid_search.best_params_)"
   ]
  },
  {
   "cell_type": "code",
   "execution_count": 61,
   "metadata": {},
   "outputs": [
    {
     "name": "stdout",
     "output_type": "stream",
     "text": [
      "The optimal hyperparameters for the random forest classifier are: {'max_depth': 18, 'max_features': 0.2}\n"
     ]
    }
   ],
   "source": [
    "\"\"\"apply grid search cross validation with random forest classifier and extract the best parameters\"\"\"\n",
    "\n",
    "params = {'max_depth': depth_range, 'max_features': [0.2, 0.4, 0.6, 0.8, 1.0]}\n",
    "rfc_grid_search = GridSearchCV(estimator=rfc, param_grid=params, cv=3)\n",
    "rfc_grid_search.fit(X_train, y_train.to_numpy().ravel())\n",
    "print(\"The optimal hyperparameters for the random forest classifier are:\", rfc_grid_search.best_params_)"
   ]
  },
  {
   "cell_type": "markdown",
   "metadata": {},
   "source": [
    "### f)\tUse the best or optimal parameter values to build a model, then compute the accuracy score for the decision tree and for the random forest)."
   ]
  },
  {
   "cell_type": "code",
   "execution_count": 62,
   "metadata": {},
   "outputs": [
    {
     "data": {
      "text/plain": [
       "0.7900826446280992"
      ]
     },
     "execution_count": 62,
     "metadata": {},
     "output_type": "execute_result"
    }
   ],
   "source": [
    "\"\"\"use best estimator and compute the accuracy score for the decision tree classifier on the training set\"\"\"\n",
    "\n",
    "dtc = dtc_grid_search.best_estimator_\n",
    "dtc.score(X_train, y_train)"
   ]
  },
  {
   "cell_type": "code",
   "execution_count": 63,
   "metadata": {},
   "outputs": [
    {
     "data": {
      "text/plain": [
       "0.7223650385604113"
      ]
     },
     "execution_count": 63,
     "metadata": {},
     "output_type": "execute_result"
    }
   ],
   "source": [
    "\"\"\"use best estimator and compute the accuraccy score for the decision tree classifier on the test set\"\"\"\n",
    "\n",
    "dtc.score(X_test, y_test)"
   ]
  },
  {
   "cell_type": "code",
   "execution_count": 66,
   "metadata": {},
   "outputs": [
    {
     "data": {
      "text/plain": [
       "0.9994490358126722"
      ]
     },
     "execution_count": 66,
     "metadata": {},
     "output_type": "execute_result"
    }
   ],
   "source": [
    "\"\"\"use best estimator and compute the accuracy sccore for the random forest classifier on the training set\"\"\"\n",
    "\n",
    "rfc = rfc_grid_search.best_estimator_\n",
    "rfc.score(X_train, y_train)"
   ]
  },
  {
   "cell_type": "code",
   "execution_count": 65,
   "metadata": {},
   "outputs": [
    {
     "data": {
      "text/plain": [
       "0.8020565552699229"
      ]
     },
     "execution_count": 65,
     "metadata": {},
     "output_type": "execute_result"
    }
   ],
   "source": [
    "\"\"\"compute the accuracy score for the random forest classifier on the test set\"\"\"\n",
    "\n",
    "rfc.score(X_test, y_test)"
   ]
  },
  {
   "cell_type": "markdown",
   "metadata": {},
   "source": [
    "### g)\tDiscuss about overfitting for both models and, also discuss which model is better for classification for your dataset and why? "
   ]
  },
  {
   "cell_type": "markdown",
   "metadata": {},
   "source": [
    "The decision tree classifier and random forest classifier both performed moderately well when tuned, fit, and applied to the sales opportunity data. The decision tree classifier produced an accuracy score of approximately 79% in making predictions on the training set and an accuracy score of approximately 72% in making predictions on the test set. The random forest classifier was approximately 100% accurate in making predictions on the training set and only 80% accurate in making predictions on the test set. The roughly 20% difference in accuracy when making predictions on unseen data suggests that the random forest classifier is overfitting the training set and may not generalize well in production. Even though the accuracy scores were lower for the decision tree classifier it is still the best choice between the two models. It’s best to choose a model which will generalize well in production and further hyperparameter tuning might boost performance of the decision tree classifier."
   ]
  }
 ],
 "metadata": {
  "kernelspec": {
   "display_name": "Python 3.9.12 ('COMP4448-zVXvr8KM')",
   "language": "python",
   "name": "python3"
  },
  "language_info": {
   "codemirror_mode": {
    "name": "ipython",
    "version": 3
   },
   "file_extension": ".py",
   "mimetype": "text/x-python",
   "name": "python",
   "nbconvert_exporter": "python",
   "pygments_lexer": "ipython3",
   "version": "3.9.12"
  },
  "orig_nbformat": 4,
  "vscode": {
   "interpreter": {
    "hash": "5392b5f59a5fef62b4badd3fb41b4c3fb016ca90199b117ded7058284d432eca"
   }
  }
 },
 "nbformat": 4,
 "nbformat_minor": 2
}
