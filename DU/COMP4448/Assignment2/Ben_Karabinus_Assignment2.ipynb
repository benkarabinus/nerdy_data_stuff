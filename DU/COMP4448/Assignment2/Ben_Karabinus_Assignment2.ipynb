{
 "cells": [
  {
   "cell_type": "markdown",
   "metadata": {},
   "source": [
    "# <center>__Assignment 2__</center>"
   ]
  },
  {
   "cell_type": "code",
   "execution_count": 1,
   "metadata": {},
   "outputs": [],
   "source": [
    "\"\"\"import the necessary packages\"\"\"\n",
    "\n",
    "import numpy as np\n",
    "import pandas as pd\n",
    "from scipy.stats import entropy"
   ]
  },
  {
   "cell_type": "markdown",
   "metadata": {},
   "source": [
    "## Question 1"
   ]
  },
  {
   "cell_type": "markdown",
   "metadata": {},
   "source": [
    "You are provided with the following training data set."
   ]
  },
  {
   "cell_type": "code",
   "execution_count": 2,
   "metadata": {},
   "outputs": [],
   "source": [
    "\"\"\"load the training data  into a pandas dataframe\"\"\"\n",
    "\n",
    "refund = ['yes',  'no', 'no', 'yes', 'no',  'no',  'yes', 'no', 'no', 'no']\n",
    "marital_status = ['single', 'married', 'single', 'married', 'divorced', 'married','divorced', 'single', 'married', 'single']\n",
    "income_above_80K = ['yes', 'yes', 'no', 'yes', 'yes', 'no', 'yes','yes', 'no','yes'] \n",
    "cheat = [0, 0, 0, 0, 1, 0, 0, 1, 0, 1]\n",
    "\n",
    "tax_data = pd.DataFrame({'refund': refund, 'marital_status': marital_status, 'income_above_80K': income_above_80K,\n",
    "                        'cheat': cheat})"
   ]
  },
  {
   "cell_type": "markdown",
   "metadata": {},
   "source": [
    "The data is to be used to predict whether individuals will cheat in filing their taxes or not. The attributes are refund, indicating whether an individual received tax refund or not, marital_status indicating whether the individual is married, single, or divorced, the income_above_80k, indicating whether an individual’s taxable income is above $80,000 or not. The output variable, cheat, is a binary variable indicating whether an individual cheated in filing taxes or not. "
   ]
  },
  {
   "cell_type": "markdown",
   "metadata": {},
   "source": [
    "The following decision tree can be used to extract the classification rule for the data provided. "
   ]
  },
  {
   "cell_type": "markdown",
   "metadata": {},
   "source": [
    "![Decision Tree](decision_tree.png)"
   ]
  },
  {
   "cell_type": "markdown",
   "metadata": {},
   "source": [
    "### a)\tWrite an IF-THEN rule derived from this decision tree, that can be used to classify instances in the data suppose your desire is to predict “yes” for the output variable. "
   ]
  },
  {
   "cell_type": "code",
   "execution_count": 3,
   "metadata": {},
   "outputs": [
    {
     "data": {
      "text/html": [
       "<div>\n",
       "<style scoped>\n",
       "    .dataframe tbody tr th:only-of-type {\n",
       "        vertical-align: middle;\n",
       "    }\n",
       "\n",
       "    .dataframe tbody tr th {\n",
       "        vertical-align: top;\n",
       "    }\n",
       "\n",
       "    .dataframe thead th {\n",
       "        text-align: right;\n",
       "    }\n",
       "</style>\n",
       "<table border=\"1\" class=\"dataframe\">\n",
       "  <thead>\n",
       "    <tr style=\"text-align: right;\">\n",
       "      <th></th>\n",
       "      <th>refund</th>\n",
       "      <th>marital_status</th>\n",
       "      <th>income_above_80K</th>\n",
       "      <th>cheat</th>\n",
       "      <th>predicted</th>\n",
       "    </tr>\n",
       "  </thead>\n",
       "  <tbody>\n",
       "    <tr>\n",
       "      <th>0</th>\n",
       "      <td>yes</td>\n",
       "      <td>single</td>\n",
       "      <td>yes</td>\n",
       "      <td>0</td>\n",
       "      <td>no</td>\n",
       "    </tr>\n",
       "  </tbody>\n",
       "</table>\n",
       "</div>"
      ],
      "text/plain": [
       "  refund marital_status income_above_80K  cheat predicted\n",
       "0    yes         single              yes      0        no"
      ]
     },
     "execution_count": 3,
     "metadata": {},
     "output_type": "execute_result"
    }
   ],
   "source": [
    "\"\"\"if then to predict \"yes\" and individual cheated on their  taxes using the provided data\"\"\"\n",
    "\n",
    "# extract a row to test the rule\n",
    "test_data = tax_data.iloc[0:1, :].copy()\n",
    "# implement the rule\n",
    "if test_data['refund'][0] == 'no' and \\\n",
    "test_data['income_above_80K'][0] == 'yes' and \\\n",
    "(test_data['marital_status'][0] == 'single'  or  test_data['marital_status'][0] == 'divorced'):\n",
    "    test_data['predicted'] = 'yes'\n",
    "else:\n",
    "    test_data['predicted'] ='no'\n",
    "test_data"
   ]
  },
  {
   "cell_type": "markdown",
   "metadata": {},
   "source": [
    "### b)\tIn code, create a function with an if-else statement to implement the rule you wrote above in question 1a. You can name the function predict. The function takes the input data and returns a vector of predicted output values. You can decide if you want your function’s input data argument to be a numpy array or a data frame, ,then structure your function body to process the input data accordingly. Provide some brief document of your function. You can loop through each instance in the input data and assess whether the instance satisfies the rule for predicting “yes” or not. If the instance satisfies the rule for predicting “yes”, then predict 1, otherwise, predict 0. "
   ]
  },
  {
   "cell_type": "code",
   "execution_count": 4,
   "metadata": {},
   "outputs": [],
   "source": [
    "\"\"\"Implement an iterative function making predictions\"\"\"\n",
    "\n",
    "def predict(data):\n",
    "    predicted = []\n",
    "    for index in data.index:\n",
    "    # implement the rule\n",
    "        if data['refund'][index] == 'no' and \\\n",
    "        data['income_above_80K'][index] == 'yes' and \\\n",
    "        (data['marital_status'][index] == 'single'  or  data['marital_status'][index] == 'divorced'):\n",
    "            predicted.append(1)\n",
    "        else:\n",
    "            predicted.append(0)\n",
    "\n",
    "    return predicted"
   ]
  },
  {
   "cell_type": "markdown",
   "metadata": {},
   "source": [
    "### c)\tCreate another function that implements the rule for predicting “yes” for the output, but this time, you will not use if-else statement or a loop. Rather use numpy arrays, matrices or vector to vectorize your code for faster and more efficient implementation. If the instance satisfies the rule for predicting “yes”, then predict 1, otherwise, predict 0. You can use logical operators for such implementation to compare values of test instances to values of attributes in the rule. This function still takes the input data and returns a vector of predicted values. You can call this function vectorized_predict."
   ]
  },
  {
   "cell_type": "code",
   "execution_count": 5,
   "metadata": {},
   "outputs": [],
   "source": [
    "\"\"\"Implement a vectorized function for making predictions\"\"\"\n",
    "def vectorized_predict(data):\n",
    "\n",
    "    predicted = np.where((tax_data['refund'] == 'no') &\n",
    "                                (tax_data['income_above_80K'] == 'yes') &\n",
    "                                ((tax_data['marital_status'] == 'single') | (tax_data['marital_status'] == 'divorced')),\n",
    "                                1, 0)\n",
    "    return predicted"
   ]
  },
  {
   "cell_type": "markdown",
   "metadata": {},
   "source": [
    "### d)\tSelect the input data (refund, marital_status, income_above_80k) in the training data and apply your predict function to the input data to predict the outcome values of the input data. Your function should return a vector of predicted values. "
   ]
  },
  {
   "cell_type": "code",
   "execution_count": 6,
   "metadata": {},
   "outputs": [
    {
     "data": {
      "text/html": [
       "<div>\n",
       "<style scoped>\n",
       "    .dataframe tbody tr th:only-of-type {\n",
       "        vertical-align: middle;\n",
       "    }\n",
       "\n",
       "    .dataframe tbody tr th {\n",
       "        vertical-align: top;\n",
       "    }\n",
       "\n",
       "    .dataframe thead th {\n",
       "        text-align: right;\n",
       "    }\n",
       "</style>\n",
       "<table border=\"1\" class=\"dataframe\">\n",
       "  <thead>\n",
       "    <tr style=\"text-align: right;\">\n",
       "      <th></th>\n",
       "      <th>refund</th>\n",
       "      <th>marital_status</th>\n",
       "      <th>income_above_80K</th>\n",
       "      <th>cheat</th>\n",
       "      <th>predicted</th>\n",
       "    </tr>\n",
       "  </thead>\n",
       "  <tbody>\n",
       "    <tr>\n",
       "      <th>0</th>\n",
       "      <td>yes</td>\n",
       "      <td>single</td>\n",
       "      <td>yes</td>\n",
       "      <td>0</td>\n",
       "      <td>0</td>\n",
       "    </tr>\n",
       "    <tr>\n",
       "      <th>1</th>\n",
       "      <td>no</td>\n",
       "      <td>married</td>\n",
       "      <td>yes</td>\n",
       "      <td>0</td>\n",
       "      <td>0</td>\n",
       "    </tr>\n",
       "    <tr>\n",
       "      <th>2</th>\n",
       "      <td>no</td>\n",
       "      <td>single</td>\n",
       "      <td>no</td>\n",
       "      <td>0</td>\n",
       "      <td>0</td>\n",
       "    </tr>\n",
       "    <tr>\n",
       "      <th>3</th>\n",
       "      <td>yes</td>\n",
       "      <td>married</td>\n",
       "      <td>yes</td>\n",
       "      <td>0</td>\n",
       "      <td>0</td>\n",
       "    </tr>\n",
       "    <tr>\n",
       "      <th>4</th>\n",
       "      <td>no</td>\n",
       "      <td>divorced</td>\n",
       "      <td>yes</td>\n",
       "      <td>1</td>\n",
       "      <td>1</td>\n",
       "    </tr>\n",
       "    <tr>\n",
       "      <th>5</th>\n",
       "      <td>no</td>\n",
       "      <td>married</td>\n",
       "      <td>no</td>\n",
       "      <td>0</td>\n",
       "      <td>0</td>\n",
       "    </tr>\n",
       "    <tr>\n",
       "      <th>6</th>\n",
       "      <td>yes</td>\n",
       "      <td>divorced</td>\n",
       "      <td>yes</td>\n",
       "      <td>0</td>\n",
       "      <td>0</td>\n",
       "    </tr>\n",
       "    <tr>\n",
       "      <th>7</th>\n",
       "      <td>no</td>\n",
       "      <td>single</td>\n",
       "      <td>yes</td>\n",
       "      <td>1</td>\n",
       "      <td>1</td>\n",
       "    </tr>\n",
       "    <tr>\n",
       "      <th>8</th>\n",
       "      <td>no</td>\n",
       "      <td>married</td>\n",
       "      <td>no</td>\n",
       "      <td>0</td>\n",
       "      <td>0</td>\n",
       "    </tr>\n",
       "    <tr>\n",
       "      <th>9</th>\n",
       "      <td>no</td>\n",
       "      <td>single</td>\n",
       "      <td>yes</td>\n",
       "      <td>1</td>\n",
       "      <td>1</td>\n",
       "    </tr>\n",
       "  </tbody>\n",
       "</table>\n",
       "</div>"
      ],
      "text/plain": [
       "  refund marital_status income_above_80K  cheat  predicted\n",
       "0    yes         single              yes      0          0\n",
       "1     no        married              yes      0          0\n",
       "2     no         single               no      0          0\n",
       "3    yes        married              yes      0          0\n",
       "4     no       divorced              yes      1          1\n",
       "5     no        married               no      0          0\n",
       "6    yes       divorced              yes      0          0\n",
       "7     no         single              yes      1          1\n",
       "8     no        married               no      0          0\n",
       "9     no         single              yes      1          1"
      ]
     },
     "execution_count": 6,
     "metadata": {},
     "output_type": "execute_result"
    }
   ],
   "source": [
    "tax_data['predicted'] = vectorized_predict(tax_data)\n",
    "tax_data"
   ]
  },
  {
   "cell_type": "markdown",
   "metadata": {},
   "source": [
    "### e)\tSelect the input data (refund, marital_status, income_above_80k) in the training data and apply your vectorized_predict function to the input data to predict the outcome values of the input data. Your function should return a vector of predicted values. Are the predicted values with the vectorized_predict function the same as the predicted values obtained through the predict function? (you should have the same results). "
   ]
  },
  {
   "cell_type": "code",
   "execution_count": 7,
   "metadata": {},
   "outputs": [
    {
     "data": {
      "text/html": [
       "<div>\n",
       "<style scoped>\n",
       "    .dataframe tbody tr th:only-of-type {\n",
       "        vertical-align: middle;\n",
       "    }\n",
       "\n",
       "    .dataframe tbody tr th {\n",
       "        vertical-align: top;\n",
       "    }\n",
       "\n",
       "    .dataframe thead th {\n",
       "        text-align: right;\n",
       "    }\n",
       "</style>\n",
       "<table border=\"1\" class=\"dataframe\">\n",
       "  <thead>\n",
       "    <tr style=\"text-align: right;\">\n",
       "      <th></th>\n",
       "      <th>refund</th>\n",
       "      <th>marital_status</th>\n",
       "      <th>income_above_80K</th>\n",
       "      <th>cheat</th>\n",
       "      <th>predicted</th>\n",
       "      <th>vectorized_predicted</th>\n",
       "    </tr>\n",
       "  </thead>\n",
       "  <tbody>\n",
       "    <tr>\n",
       "      <th>0</th>\n",
       "      <td>yes</td>\n",
       "      <td>single</td>\n",
       "      <td>yes</td>\n",
       "      <td>0</td>\n",
       "      <td>0</td>\n",
       "      <td>0</td>\n",
       "    </tr>\n",
       "    <tr>\n",
       "      <th>1</th>\n",
       "      <td>no</td>\n",
       "      <td>married</td>\n",
       "      <td>yes</td>\n",
       "      <td>0</td>\n",
       "      <td>0</td>\n",
       "      <td>0</td>\n",
       "    </tr>\n",
       "    <tr>\n",
       "      <th>2</th>\n",
       "      <td>no</td>\n",
       "      <td>single</td>\n",
       "      <td>no</td>\n",
       "      <td>0</td>\n",
       "      <td>0</td>\n",
       "      <td>0</td>\n",
       "    </tr>\n",
       "    <tr>\n",
       "      <th>3</th>\n",
       "      <td>yes</td>\n",
       "      <td>married</td>\n",
       "      <td>yes</td>\n",
       "      <td>0</td>\n",
       "      <td>0</td>\n",
       "      <td>0</td>\n",
       "    </tr>\n",
       "    <tr>\n",
       "      <th>4</th>\n",
       "      <td>no</td>\n",
       "      <td>divorced</td>\n",
       "      <td>yes</td>\n",
       "      <td>1</td>\n",
       "      <td>1</td>\n",
       "      <td>1</td>\n",
       "    </tr>\n",
       "    <tr>\n",
       "      <th>5</th>\n",
       "      <td>no</td>\n",
       "      <td>married</td>\n",
       "      <td>no</td>\n",
       "      <td>0</td>\n",
       "      <td>0</td>\n",
       "      <td>0</td>\n",
       "    </tr>\n",
       "    <tr>\n",
       "      <th>6</th>\n",
       "      <td>yes</td>\n",
       "      <td>divorced</td>\n",
       "      <td>yes</td>\n",
       "      <td>0</td>\n",
       "      <td>0</td>\n",
       "      <td>0</td>\n",
       "    </tr>\n",
       "    <tr>\n",
       "      <th>7</th>\n",
       "      <td>no</td>\n",
       "      <td>single</td>\n",
       "      <td>yes</td>\n",
       "      <td>1</td>\n",
       "      <td>1</td>\n",
       "      <td>1</td>\n",
       "    </tr>\n",
       "    <tr>\n",
       "      <th>8</th>\n",
       "      <td>no</td>\n",
       "      <td>married</td>\n",
       "      <td>no</td>\n",
       "      <td>0</td>\n",
       "      <td>0</td>\n",
       "      <td>0</td>\n",
       "    </tr>\n",
       "    <tr>\n",
       "      <th>9</th>\n",
       "      <td>no</td>\n",
       "      <td>single</td>\n",
       "      <td>yes</td>\n",
       "      <td>1</td>\n",
       "      <td>1</td>\n",
       "      <td>1</td>\n",
       "    </tr>\n",
       "  </tbody>\n",
       "</table>\n",
       "</div>"
      ],
      "text/plain": [
       "  refund marital_status income_above_80K  cheat  predicted  \\\n",
       "0    yes         single              yes      0          0   \n",
       "1     no        married              yes      0          0   \n",
       "2     no         single               no      0          0   \n",
       "3    yes        married              yes      0          0   \n",
       "4     no       divorced              yes      1          1   \n",
       "5     no        married               no      0          0   \n",
       "6    yes       divorced              yes      0          0   \n",
       "7     no         single              yes      1          1   \n",
       "8     no        married               no      0          0   \n",
       "9     no         single              yes      1          1   \n",
       "\n",
       "   vectorized_predicted  \n",
       "0                     0  \n",
       "1                     0  \n",
       "2                     0  \n",
       "3                     0  \n",
       "4                     1  \n",
       "5                     0  \n",
       "6                     0  \n",
       "7                     1  \n",
       "8                     0  \n",
       "9                     1  "
      ]
     },
     "execution_count": 7,
     "metadata": {},
     "output_type": "execute_result"
    }
   ],
   "source": [
    "tax_data['vectorized_predicted'] = vectorized_predict(tax_data)\n",
    "tax_data"
   ]
  },
  {
   "cell_type": "code",
   "execution_count": 8,
   "metadata": {},
   "outputs": [],
   "source": [
    "\"\"\"drop the newly created columns\"\"\"\n",
    "\n",
    "tax_data.drop(columns=['predicted', 'vectorized_predicted'], inplace=True)"
   ]
  },
  {
   "cell_type": "markdown",
   "metadata": {},
   "source": [
    "### f)\tInclude the predicted values as a column to the training data and name that column predicted_cheat. "
   ]
  },
  {
   "cell_type": "code",
   "execution_count": 9,
   "metadata": {},
   "outputs": [
    {
     "data": {
      "text/html": [
       "<div>\n",
       "<style scoped>\n",
       "    .dataframe tbody tr th:only-of-type {\n",
       "        vertical-align: middle;\n",
       "    }\n",
       "\n",
       "    .dataframe tbody tr th {\n",
       "        vertical-align: top;\n",
       "    }\n",
       "\n",
       "    .dataframe thead th {\n",
       "        text-align: right;\n",
       "    }\n",
       "</style>\n",
       "<table border=\"1\" class=\"dataframe\">\n",
       "  <thead>\n",
       "    <tr style=\"text-align: right;\">\n",
       "      <th></th>\n",
       "      <th>refund</th>\n",
       "      <th>marital_status</th>\n",
       "      <th>income_above_80K</th>\n",
       "      <th>cheat</th>\n",
       "      <th>predicted_cheat</th>\n",
       "    </tr>\n",
       "  </thead>\n",
       "  <tbody>\n",
       "    <tr>\n",
       "      <th>0</th>\n",
       "      <td>yes</td>\n",
       "      <td>single</td>\n",
       "      <td>yes</td>\n",
       "      <td>0</td>\n",
       "      <td>0</td>\n",
       "    </tr>\n",
       "    <tr>\n",
       "      <th>1</th>\n",
       "      <td>no</td>\n",
       "      <td>married</td>\n",
       "      <td>yes</td>\n",
       "      <td>0</td>\n",
       "      <td>0</td>\n",
       "    </tr>\n",
       "    <tr>\n",
       "      <th>2</th>\n",
       "      <td>no</td>\n",
       "      <td>single</td>\n",
       "      <td>no</td>\n",
       "      <td>0</td>\n",
       "      <td>0</td>\n",
       "    </tr>\n",
       "    <tr>\n",
       "      <th>3</th>\n",
       "      <td>yes</td>\n",
       "      <td>married</td>\n",
       "      <td>yes</td>\n",
       "      <td>0</td>\n",
       "      <td>0</td>\n",
       "    </tr>\n",
       "    <tr>\n",
       "      <th>4</th>\n",
       "      <td>no</td>\n",
       "      <td>divorced</td>\n",
       "      <td>yes</td>\n",
       "      <td>1</td>\n",
       "      <td>1</td>\n",
       "    </tr>\n",
       "    <tr>\n",
       "      <th>5</th>\n",
       "      <td>no</td>\n",
       "      <td>married</td>\n",
       "      <td>no</td>\n",
       "      <td>0</td>\n",
       "      <td>0</td>\n",
       "    </tr>\n",
       "    <tr>\n",
       "      <th>6</th>\n",
       "      <td>yes</td>\n",
       "      <td>divorced</td>\n",
       "      <td>yes</td>\n",
       "      <td>0</td>\n",
       "      <td>0</td>\n",
       "    </tr>\n",
       "    <tr>\n",
       "      <th>7</th>\n",
       "      <td>no</td>\n",
       "      <td>single</td>\n",
       "      <td>yes</td>\n",
       "      <td>1</td>\n",
       "      <td>1</td>\n",
       "    </tr>\n",
       "    <tr>\n",
       "      <th>8</th>\n",
       "      <td>no</td>\n",
       "      <td>married</td>\n",
       "      <td>no</td>\n",
       "      <td>0</td>\n",
       "      <td>0</td>\n",
       "    </tr>\n",
       "    <tr>\n",
       "      <th>9</th>\n",
       "      <td>no</td>\n",
       "      <td>single</td>\n",
       "      <td>yes</td>\n",
       "      <td>1</td>\n",
       "      <td>1</td>\n",
       "    </tr>\n",
       "  </tbody>\n",
       "</table>\n",
       "</div>"
      ],
      "text/plain": [
       "  refund marital_status income_above_80K  cheat  predicted_cheat\n",
       "0    yes         single              yes      0                0\n",
       "1     no        married              yes      0                0\n",
       "2     no         single               no      0                0\n",
       "3    yes        married              yes      0                0\n",
       "4     no       divorced              yes      1                1\n",
       "5     no        married               no      0                0\n",
       "6    yes       divorced              yes      0                0\n",
       "7     no         single              yes      1                1\n",
       "8     no        married               no      0                0\n",
       "9     no         single              yes      1                1"
      ]
     },
     "execution_count": 9,
     "metadata": {},
     "output_type": "execute_result"
    }
   ],
   "source": [
    "tax_data['predicted_cheat'] = vectorized_predict(tax_data)\n",
    "tax_data"
   ]
  },
  {
   "cell_type": "code",
   "execution_count": 10,
   "metadata": {},
   "outputs": [
    {
     "data": {
      "text/plain": [
       "(10, 5)"
      ]
     },
     "execution_count": 10,
     "metadata": {},
     "output_type": "execute_result"
    }
   ],
   "source": [
    "tax_data.shape"
   ]
  },
  {
   "cell_type": "markdown",
   "metadata": {},
   "source": [
    "### g)\tCreate a function that computes the overall accuracy of the classification. You can call this function overall_accuracy. The function should take two arguments, a vector of  actual output values and a vector of predicted output values, then returns the classification accuracy. Inside the function, you can use boolean logic to compare the actual and predicted values, then count the proportion of how many predicted values are equal to the actual values to get the overall accuracy. "
   ]
  },
  {
   "cell_type": "code",
   "execution_count": 11,
   "metadata": {},
   "outputs": [
    {
     "data": {
      "text/plain": [
       "'The total accuracy of the rule is 100.00%'"
      ]
     },
     "execution_count": 11,
     "metadata": {},
     "output_type": "execute_result"
    }
   ],
   "source": [
    "\"\"\"create the accuracy function\"\"\"\n",
    "\n",
    "def overall_accuracy(actual,  predicted):\n",
    "\n",
    "    total_observations = actual.shape[0]\n",
    "    correct_predictins = sum(actual == predicted)\n",
    "    accuracy = (correct_predictins/total_observations)\n",
    "    return \"The total accuracy of the rule is {:.2%}\".format(accuracy)\n",
    "\n",
    "overall_accuracy(tax_data['cheat'], tax_data['predicted_cheat'])"
   ]
  },
  {
   "cell_type": "markdown",
   "metadata": {},
   "source": [
    "### h)\tCreate a confusion matrix using the predicted and actual output values. You can use pandas crosstab function. "
   ]
  },
  {
   "cell_type": "code",
   "execution_count": 12,
   "metadata": {},
   "outputs": [
    {
     "data": {
      "text/html": [
       "<div>\n",
       "<style scoped>\n",
       "    .dataframe tbody tr th:only-of-type {\n",
       "        vertical-align: middle;\n",
       "    }\n",
       "\n",
       "    .dataframe tbody tr th {\n",
       "        vertical-align: top;\n",
       "    }\n",
       "\n",
       "    .dataframe thead th {\n",
       "        text-align: right;\n",
       "    }\n",
       "</style>\n",
       "<table border=\"1\" class=\"dataframe\">\n",
       "  <thead>\n",
       "    <tr style=\"text-align: right;\">\n",
       "      <th>predicted_cheat</th>\n",
       "      <th>0</th>\n",
       "      <th>1</th>\n",
       "    </tr>\n",
       "    <tr>\n",
       "      <th>cheat</th>\n",
       "      <th></th>\n",
       "      <th></th>\n",
       "    </tr>\n",
       "  </thead>\n",
       "  <tbody>\n",
       "    <tr>\n",
       "      <th>0</th>\n",
       "      <td>7</td>\n",
       "      <td>0</td>\n",
       "    </tr>\n",
       "    <tr>\n",
       "      <th>1</th>\n",
       "      <td>0</td>\n",
       "      <td>3</td>\n",
       "    </tr>\n",
       "  </tbody>\n",
       "</table>\n",
       "</div>"
      ],
      "text/plain": [
       "predicted_cheat  0  1\n",
       "cheat                \n",
       "0                7  0\n",
       "1                0  3"
      ]
     },
     "execution_count": 12,
     "metadata": {},
     "output_type": "execute_result"
    }
   ],
   "source": [
    "\"\"\"function to print confusion matrix (pd.crosstab)\"\"\"\n",
    "\n",
    "def c_matrix(actual, predicted):\n",
    "\n",
    "    return pd.crosstab(actual, predicted)\n",
    "\n",
    "c_matrix(tax_data['cheat'], tax_data['predicted_cheat'])"
   ]
  },
  {
   "cell_type": "markdown",
   "metadata": {},
   "source": [
    "### i)\tSupose the test set data is as follows. "
   ]
  },
  {
   "cell_type": "code",
   "execution_count": 13,
   "metadata": {},
   "outputs": [
    {
     "data": {
      "text/html": [
       "<div>\n",
       "<style scoped>\n",
       "    .dataframe tbody tr th:only-of-type {\n",
       "        vertical-align: middle;\n",
       "    }\n",
       "\n",
       "    .dataframe tbody tr th {\n",
       "        vertical-align: top;\n",
       "    }\n",
       "\n",
       "    .dataframe thead th {\n",
       "        text-align: right;\n",
       "    }\n",
       "</style>\n",
       "<table border=\"1\" class=\"dataframe\">\n",
       "  <thead>\n",
       "    <tr style=\"text-align: right;\">\n",
       "      <th></th>\n",
       "      <th>refund</th>\n",
       "      <th>marital_status</th>\n",
       "      <th>income_above_80K</th>\n",
       "      <th>cheat</th>\n",
       "    </tr>\n",
       "  </thead>\n",
       "  <tbody>\n",
       "    <tr>\n",
       "      <th>0</th>\n",
       "      <td>no</td>\n",
       "      <td>single</td>\n",
       "      <td>yes</td>\n",
       "      <td>0</td>\n",
       "    </tr>\n",
       "    <tr>\n",
       "      <th>1</th>\n",
       "      <td>no</td>\n",
       "      <td>single</td>\n",
       "      <td>yes</td>\n",
       "      <td>0</td>\n",
       "    </tr>\n",
       "    <tr>\n",
       "      <th>2</th>\n",
       "      <td>no</td>\n",
       "      <td>married</td>\n",
       "      <td>yes</td>\n",
       "      <td>0</td>\n",
       "    </tr>\n",
       "    <tr>\n",
       "      <th>3</th>\n",
       "      <td>no</td>\n",
       "      <td>divorced</td>\n",
       "      <td>no</td>\n",
       "      <td>0</td>\n",
       "    </tr>\n",
       "    <tr>\n",
       "      <th>4</th>\n",
       "      <td>no</td>\n",
       "      <td>married</td>\n",
       "      <td>yes</td>\n",
       "      <td>0</td>\n",
       "    </tr>\n",
       "    <tr>\n",
       "      <th>5</th>\n",
       "      <td>no</td>\n",
       "      <td>single</td>\n",
       "      <td>yes</td>\n",
       "      <td>0</td>\n",
       "    </tr>\n",
       "    <tr>\n",
       "      <th>6</th>\n",
       "      <td>yes</td>\n",
       "      <td>single</td>\n",
       "      <td>yes</td>\n",
       "      <td>0</td>\n",
       "    </tr>\n",
       "    <tr>\n",
       "      <th>7</th>\n",
       "      <td>no</td>\n",
       "      <td>single</td>\n",
       "      <td>yes</td>\n",
       "      <td>1</td>\n",
       "    </tr>\n",
       "    <tr>\n",
       "      <th>8</th>\n",
       "      <td>yes</td>\n",
       "      <td>married</td>\n",
       "      <td>yes</td>\n",
       "      <td>1</td>\n",
       "    </tr>\n",
       "    <tr>\n",
       "      <th>9</th>\n",
       "      <td>yes</td>\n",
       "      <td>single</td>\n",
       "      <td>no</td>\n",
       "      <td>1</td>\n",
       "    </tr>\n",
       "  </tbody>\n",
       "</table>\n",
       "</div>"
      ],
      "text/plain": [
       "  refund marital_status income_above_80K  cheat\n",
       "0     no         single              yes      0\n",
       "1     no         single              yes      0\n",
       "2     no        married              yes      0\n",
       "3     no       divorced               no      0\n",
       "4     no        married              yes      0\n",
       "5     no         single              yes      0\n",
       "6    yes         single              yes      0\n",
       "7     no         single              yes      1\n",
       "8    yes        married              yes      1\n",
       "9    yes         single               no      1"
      ]
     },
     "execution_count": 13,
     "metadata": {},
     "output_type": "execute_result"
    }
   ],
   "source": [
    "\"\"\"create the test data set\"\"\"\n",
    "\n",
    "refund = ['no','no', 'no', 'no', 'no', 'no', 'yes', 'no', 'yes',  'yes']\n",
    "marital_status = ['single', 'single', 'married','divorced', 'married', 'single', 'single', 'single',\n",
    "                  'married', 'single']\n",
    "income_above_80K = ['yes', 'yes', 'yes', 'no', 'yes', 'yes', 'yes', 'yes', 'yes', 'no']\n",
    "cheat = [0, 0, 0, 0, 0, 0, 0, 1, 1, 1]\n",
    "test_data = pd.DataFrame({'refund': refund, 'marital_status': marital_status, 'income_above_80K': income_above_80K,\n",
    "                        'cheat': cheat})\n",
    "test_data"
   ]
  },
  {
   "cell_type": "markdown",
   "metadata": {},
   "source": [
    "Apply the vectorized_predict function to the input of the test dataset to predict the output values for the test dataset. Include these predicted values as a column to the test dataset and called this column predicted_cheat. "
   ]
  },
  {
   "cell_type": "code",
   "execution_count": 14,
   "metadata": {},
   "outputs": [
    {
     "data": {
      "text/html": [
       "<div>\n",
       "<style scoped>\n",
       "    .dataframe tbody tr th:only-of-type {\n",
       "        vertical-align: middle;\n",
       "    }\n",
       "\n",
       "    .dataframe tbody tr th {\n",
       "        vertical-align: top;\n",
       "    }\n",
       "\n",
       "    .dataframe thead th {\n",
       "        text-align: right;\n",
       "    }\n",
       "</style>\n",
       "<table border=\"1\" class=\"dataframe\">\n",
       "  <thead>\n",
       "    <tr style=\"text-align: right;\">\n",
       "      <th></th>\n",
       "      <th>refund</th>\n",
       "      <th>marital_status</th>\n",
       "      <th>income_above_80K</th>\n",
       "      <th>cheat</th>\n",
       "      <th>predicted_cheat</th>\n",
       "    </tr>\n",
       "  </thead>\n",
       "  <tbody>\n",
       "    <tr>\n",
       "      <th>0</th>\n",
       "      <td>no</td>\n",
       "      <td>single</td>\n",
       "      <td>yes</td>\n",
       "      <td>0</td>\n",
       "      <td>0</td>\n",
       "    </tr>\n",
       "    <tr>\n",
       "      <th>1</th>\n",
       "      <td>no</td>\n",
       "      <td>single</td>\n",
       "      <td>yes</td>\n",
       "      <td>0</td>\n",
       "      <td>0</td>\n",
       "    </tr>\n",
       "    <tr>\n",
       "      <th>2</th>\n",
       "      <td>no</td>\n",
       "      <td>married</td>\n",
       "      <td>yes</td>\n",
       "      <td>0</td>\n",
       "      <td>0</td>\n",
       "    </tr>\n",
       "    <tr>\n",
       "      <th>3</th>\n",
       "      <td>no</td>\n",
       "      <td>divorced</td>\n",
       "      <td>no</td>\n",
       "      <td>0</td>\n",
       "      <td>0</td>\n",
       "    </tr>\n",
       "    <tr>\n",
       "      <th>4</th>\n",
       "      <td>no</td>\n",
       "      <td>married</td>\n",
       "      <td>yes</td>\n",
       "      <td>0</td>\n",
       "      <td>1</td>\n",
       "    </tr>\n",
       "    <tr>\n",
       "      <th>5</th>\n",
       "      <td>no</td>\n",
       "      <td>single</td>\n",
       "      <td>yes</td>\n",
       "      <td>0</td>\n",
       "      <td>0</td>\n",
       "    </tr>\n",
       "    <tr>\n",
       "      <th>6</th>\n",
       "      <td>yes</td>\n",
       "      <td>single</td>\n",
       "      <td>yes</td>\n",
       "      <td>0</td>\n",
       "      <td>0</td>\n",
       "    </tr>\n",
       "    <tr>\n",
       "      <th>7</th>\n",
       "      <td>no</td>\n",
       "      <td>single</td>\n",
       "      <td>yes</td>\n",
       "      <td>1</td>\n",
       "      <td>1</td>\n",
       "    </tr>\n",
       "    <tr>\n",
       "      <th>8</th>\n",
       "      <td>yes</td>\n",
       "      <td>married</td>\n",
       "      <td>yes</td>\n",
       "      <td>1</td>\n",
       "      <td>0</td>\n",
       "    </tr>\n",
       "    <tr>\n",
       "      <th>9</th>\n",
       "      <td>yes</td>\n",
       "      <td>single</td>\n",
       "      <td>no</td>\n",
       "      <td>1</td>\n",
       "      <td>1</td>\n",
       "    </tr>\n",
       "  </tbody>\n",
       "</table>\n",
       "</div>"
      ],
      "text/plain": [
       "  refund marital_status income_above_80K  cheat  predicted_cheat\n",
       "0     no         single              yes      0                0\n",
       "1     no         single              yes      0                0\n",
       "2     no        married              yes      0                0\n",
       "3     no       divorced               no      0                0\n",
       "4     no        married              yes      0                1\n",
       "5     no         single              yes      0                0\n",
       "6    yes         single              yes      0                0\n",
       "7     no         single              yes      1                1\n",
       "8    yes        married              yes      1                0\n",
       "9    yes         single               no      1                1"
      ]
     },
     "execution_count": 14,
     "metadata": {},
     "output_type": "execute_result"
    }
   ],
   "source": [
    "\"\"\"apply the vectorized predict function to the test data\"\"\"\n",
    "\n",
    "test_data['predicted_cheat'] = vectorized_predict(test_data)\n",
    "test_data"
   ]
  },
  {
   "cell_type": "markdown",
   "metadata": {},
   "source": [
    "### j)\tApply the overall_accuracy function to the predicted out values and actual output values of the test set to compute the overall accuracy. Compare the overall accuracy of the test set and that of the training set. Is there overfitting? Why or why not? If there is overfitting, what would you do to avoid overfitting the rule to the training set? "
   ]
  },
  {
   "cell_type": "code",
   "execution_count": 15,
   "metadata": {},
   "outputs": [
    {
     "data": {
      "text/plain": [
       "'The total accuracy of the rule is 80.00%'"
      ]
     },
     "execution_count": 15,
     "metadata": {},
     "output_type": "execute_result"
    }
   ],
   "source": [
    "\"\"\"print rule accuracy for the test data\"\"\"\n",
    "overall_accuracy(test_data['cheat'], test_data['predicted_cheat'])"
   ]
  },
  {
   "cell_type": "markdown",
   "metadata": {},
   "source": [
    "## Question 2"
   ]
  },
  {
   "cell_type": "markdown",
   "metadata": {},
   "source": [
    "You will use the same training dataset provided in question 1. Suppose we wanted to create one rule using only one attribute that best classifies the input data, you will need to write a function or an algorithm to find that best attribute. There are different approaches we can use to evaluate the best attritubute that will classify our data with the highest accuracy. One of the accuracy measures we can use to find the best attribute is information gain, which uses entropy. "
   ]
  },
  {
   "cell_type": "markdown",
   "metadata": {},
   "source": [
    "### a)\tGiven the training dataset in question 1, write a function that computes the entropy of output variable. The function should take the entire training dataset, and the name of the output variable as arguments and return the entropy value. You can call the function, entropy."
   ]
  },
  {
   "cell_type": "code",
   "execution_count": 16,
   "metadata": {},
   "outputs": [
    {
     "data": {
      "text/plain": [
       "0.6108643020548935"
      ]
     },
     "execution_count": 16,
     "metadata": {},
     "output_type": "execute_result"
    }
   ],
   "source": [
    "def entropy(data, label):\n",
    "  \"\"\" Computes entropy of label distribution. \"\"\"\n",
    "\n",
    "  yes_count = sum(data[label] == 1)\n",
    "  total_labels = data[label].shape[0]\n",
    "  p = yes_count/total_labels\n",
    "  return -(p * np.log(p)) - ((1-p)*np.log(1-p))\n",
    "\n",
    "entropy(test_data, 'cheat')"
   ]
  },
  {
   "cell_type": "code",
   "execution_count": 17,
   "metadata": {},
   "outputs": [],
   "source": [
    "\"\"\"\n",
    "function to calculate information gain after splitting your data on a rule\n",
    "\"\"\"\n",
    "\n",
    "def information_gain(data, label, split, split_value):\n",
    "\n",
    "    # calculate gain of the full dataset passed to the function\n",
    "    ent = entropy(data, label)\n",
    "    # spilt the data on selected feature, data == split_value\n",
    "    split_0 = data[data[split] == split_value]\n",
    "    # calculat split  weight\n",
    "    split_0_weight = split_0.shape[0]/data.shape[0]\n",
    "    # split the data on slcted featue, data != split_value\n",
    "    split_1 = data[data[split] != split_value]\n",
    "    # calculate split weight\n",
    "    split_1_weight = split_1.shape[0]/data.shape[0]\n",
    "    # calculate entopy for each group created from split\n",
    "    entropy_0 = entropy(split_0, label)\n",
    "    entropy_1 = entropy(split_1, label)\n",
    "    # calculate information gain from split\n",
    "    information_gain = ent - ((split_0_weight * entropy_0)+(split_1_weight*entropy_1))\n",
    "    \n",
    "    return information_gain\n"
   ]
  },
  {
   "cell_type": "code",
   "execution_count": 18,
   "metadata": {},
   "outputs": [
    {
     "data": {
      "text/plain": [
       "0.13282862876456342"
      ]
     },
     "execution_count": 18,
     "metadata": {},
     "output_type": "execute_result"
    }
   ],
   "source": [
    "information_gain(test_data, 'cheat', 'refund', 'yes')"
   ]
  }
 ],
 "metadata": {
  "kernelspec": {
   "display_name": "Python 3.9.12 ('COMP4448-zVXvr8KM')",
   "language": "python",
   "name": "python3"
  },
  "language_info": {
   "codemirror_mode": {
    "name": "ipython",
    "version": 3
   },
   "file_extension": ".py",
   "mimetype": "text/x-python",
   "name": "python",
   "nbconvert_exporter": "python",
   "pygments_lexer": "ipython3",
   "version": "3.9.12"
  },
  "orig_nbformat": 4,
  "vscode": {
   "interpreter": {
    "hash": "5392b5f59a5fef62b4badd3fb41b4c3fb016ca90199b117ded7058284d432eca"
   }
  }
 },
 "nbformat": 4,
 "nbformat_minor": 2
}
