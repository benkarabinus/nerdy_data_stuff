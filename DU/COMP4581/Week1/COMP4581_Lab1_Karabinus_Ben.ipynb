{
 "cells": [
  {
   "cell_type": "code",
   "execution_count": 8,
   "metadata": {},
   "outputs": [],
   "source": [
    "# function to print matrices\n",
    "def printMatrix(m):\n",
    "    for row in m:\n",
    "        print(row)"
   ]
  },
  {
   "cell_type": "code",
   "execution_count": 10,
   "metadata": {},
   "outputs": [],
   "source": [
    "# define function to create empty matrix\n",
    "def createEmptyMat(rows, columns):\n",
    "    emptyMat = [[None for i in range(rows)]for j in range(columns)]\n",
    "    return emptyMat"
   ]
  },
  {
   "cell_type": "code",
   "execution_count": 11,
   "metadata": {},
   "outputs": [],
   "source": [
    "# define function matrixMult\n",
    "def matrixMult(A,B):\n",
    "    rowLengthA = len(A[0])\n",
    "    colLengthA = len(A)\n",
    "    rowLengthB = len(B[0])\n",
    "    colLengthB = len(B)\n",
    "    C = None\n",
    "    if rowLengthA == colLengthB:\n",
    "        C = createEmptyMat(rowLengthB, colLengthA)\n",
    "        for i in range(0, colLengthA):\n",
    "            for j in range(0, rowLengthB):\n",
    "                sum = 0\n",
    "                for k in range(0, rowLengthA):\n",
    "                    sum += A[i][k]*B[k][j]\n",
    "                C[i][j] = sum\n",
    "    return C\n",
    "\n"
   ]
  },
  {
   "cell_type": "code",
   "execution_count": 12,
   "metadata": {},
   "outputs": [
    {
     "name": "stdout",
     "output_type": "stream",
     "text": [
      "[7, 12, 8]\n",
      "[17, 38, 63]\n",
      "[20, 110, 95]\n"
     ]
    }
   ],
   "source": [
    "# Test 1\n",
    "A = [[ 2, -3, 3],\n",
    "[-2, 6, 5],\n",
    "[ 4, 7, 8]]\n",
    "B = [[-1, 9, 1],\n",
    "[ 0, 6, 5],\n",
    "[ 3, 4, 7]]\n",
    "\n",
    "C = matrixMult(A, B)\n",
    "if not C == None:\n",
    "    printMatrix(C)"
   ]
  },
  {
   "cell_type": "code",
   "execution_count": 13,
   "metadata": {},
   "outputs": [
    {
     "name": "stdout",
     "output_type": "stream",
     "text": [
      "The inner dimensions of the matrices are not equal. They cannot be multiplied.\n"
     ]
    }
   ],
   "source": [
    "# Test 2\n",
    "A = [[ 2, -3, 3, 0],\n",
    "[-2, 6, 5, 1],\n",
    "[ 4, 7, 8, 2]]\n",
    "B = [[-1, 9, 1],\n",
    "[ 0, 6, 5],\n",
    "[ 3, 4, 7]]\n",
    "\n",
    "C = matrixMult(A,B)\n",
    "if not C == None:\n",
    "    printMatrix(C)\n",
    "else:\n",
    "    print(\"The inner dimensions of the matrices are not equal. They cannot be multiplied.\")\n"
   ]
  },
  {
   "cell_type": "code",
   "execution_count": 14,
   "metadata": {},
   "outputs": [
    {
     "name": "stdout",
     "output_type": "stream",
     "text": [
      "[12, 22, 23]\n",
      "[15, 34, 57]\n"
     ]
    }
   ],
   "source": [
    "# Test 3\n",
    "A = [[ 2, -3, 3, 5],\n",
    "[-2, 6, 5, -2]]\n",
    "B = [[-1, 9, 1],\n",
    "[ 0, 6, 5],\n",
    "[ 3, 4, 7],\n",
    "[ 1, 2, 3]]\n",
    "C = matrixMult(A, B) \n",
    "if not C == None:\n",
    "    printMatrix(C)"
   ]
  }
 ],
 "metadata": {
  "interpreter": {
   "hash": "3210d45700fadfae39038dbf0c0e45686964f2535c6e59975af03abaf8e83612"
  },
  "kernelspec": {
   "display_name": "Python 3.9.6 64-bit ('COMP4581-NL-ibIhu': pipenv)",
   "language": "python",
   "name": "python3"
  },
  "language_info": {
   "codemirror_mode": {
    "name": "ipython",
    "version": 3
   },
   "file_extension": ".py",
   "mimetype": "text/x-python",
   "name": "python",
   "nbconvert_exporter": "python",
   "pygments_lexer": "ipython3",
   "version": "3.9.6"
  },
  "orig_nbformat": 4
 },
 "nbformat": 4,
 "nbformat_minor": 2
}
