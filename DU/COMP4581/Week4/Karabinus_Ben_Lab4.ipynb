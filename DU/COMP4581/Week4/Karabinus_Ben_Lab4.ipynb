{
 "cells": [
  {
   "cell_type": "code",
   "execution_count": 13,
   "metadata": {},
   "outputs": [],
   "source": [
    "A = [7, 4, 12, 14, 2, 10, 16, 6]\n",
    "B = [7, 4, 12, 14, 2, 10, 16, 5]\n",
    "C = [14, 8, 2, 6, 3, 10, 12]"
   ]
  },
  {
   "cell_type": "code",
   "execution_count": 14,
   "metadata": {},
   "outputs": [],
   "source": [
    "# function for merge sort\n",
    "def mergeSort(L):  # log_2(n)\n",
    "    if len(L) < 2:\n",
    "        return L[:]\n",
    "    else:\n",
    "        mid = len(L)//2\n",
    "        Left = mergeSort(L[:mid])\n",
    "        Right = mergeSort(L[mid:])\n",
    "        return merge(Left, Right)"
   ]
  },
  {
   "cell_type": "code",
   "execution_count": 15,
   "metadata": {},
   "outputs": [],
   "source": [
    "# function to merge sorted sublists\n",
    "def merge(A, B):\n",
    "    out = []\n",
    "    i, j = 0, 0\n",
    "    while i < len(A) and j < len(B):\n",
    "        if A[i] < B[j]:\n",
    "            out.append(A[i])\n",
    "            i += 1\n",
    "        else:\n",
    "            out.append(B[j])\n",
    "            j += 1\n",
    "    while i < len(A):\n",
    "        out.append(A[i])\n",
    "        i += 1\n",
    "    while j < len(B):\n",
    "        out.append(B[j])\n",
    "        j += 1\n",
    "    return out"
   ]
  },
  {
   "cell_type": "code",
   "execution_count": 16,
   "metadata": {},
   "outputs": [],
   "source": [
    "def cPairDist(points):\n",
    "    minD = abs(points[0]-points[1])\n",
    "    if len(points) == 2:\n",
    "        return minD\n",
    "    d = abs(points[1]- points[2])\n",
    "    if minD > d:\n",
    "        return d\n",
    "    d = abs(points[0]-points[2])\n",
    "    if minD > d:\n",
    "        return d\n",
    "        \n",
    "    return minD\n",
    "\n",
    "\n",
    "    \n"
   ]
  },
  {
   "cell_type": "code",
   "execution_count": 17,
   "metadata": {},
   "outputs": [],
   "source": [
    "def recCPairDistPoints(points):\n",
    "    mid = len(points)//2\n",
    "    # base case\n",
    "    if len(points) < 2:\n",
    "        return float('inf') \n",
    "    if len(points) == 2:\n",
    "        return cPairDist(points)\n",
    "    if len(points) == 3:\n",
    "        return cPairDist(points)\n",
    "    # divide\n",
    "    left = points[:mid]\n",
    "    right = points[mid+1:]\n",
    "    # conquer\n",
    "    minLeft = recCPairDistPoints(left)\n",
    "    minRight = recCPairDistPoints(right)\n",
    "    # combine\n",
    "    minCross = cPairDist([points[mid-1], points[mid], points[mid+1]])\n",
    "    minD = min(minLeft, minRight, minCross)\n",
    "    \n",
    "\n",
    "    return minD\n"
   ]
  },
  {
   "cell_type": "code",
   "execution_count": 18,
   "metadata": {},
   "outputs": [
    {
     "data": {
      "text/plain": [
       "[2, 3, 6, 8, 10, 12, 14]"
      ]
     },
     "execution_count": 18,
     "metadata": {},
     "output_type": "execute_result"
    }
   ],
   "source": [
    "sorted = mergeSort(C)\n",
    "sorted"
   ]
  },
  {
   "cell_type": "code",
   "execution_count": 19,
   "metadata": {},
   "outputs": [
    {
     "data": {
      "text/plain": [
       "1"
      ]
     },
     "execution_count": 19,
     "metadata": {},
     "output_type": "execute_result"
    }
   ],
   "source": [
    "minD = recCPairDistPoints(sorted)\n",
    "minD\n"
   ]
  }
 ],
 "metadata": {
  "interpreter": {
   "hash": "3210d45700fadfae39038dbf0c0e45686964f2535c6e59975af03abaf8e83612"
  },
  "kernelspec": {
   "display_name": "Python 3.9.6 64-bit ('COMP4581-NL-ibIhu': pipenv)",
   "language": "python",
   "name": "python3"
  },
  "language_info": {
   "codemirror_mode": {
    "name": "ipython",
    "version": 3
   },
   "file_extension": ".py",
   "mimetype": "text/x-python",
   "name": "python",
   "nbconvert_exporter": "python",
   "pygments_lexer": "ipython3",
   "version": "3.9.6"
  },
  "orig_nbformat": 4
 },
 "nbformat": 4,
 "nbformat_minor": 2
}
