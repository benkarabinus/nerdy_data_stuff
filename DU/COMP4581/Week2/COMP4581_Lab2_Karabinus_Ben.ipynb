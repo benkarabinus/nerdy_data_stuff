{
 "cells": [
  {
   "cell_type": "code",
   "execution_count": 1,
   "metadata": {},
   "outputs": [],
   "source": [
    "# Code block for imports\n",
    "import random"
   ]
  },
  {
   "cell_type": "code",
   "execution_count": 2,
   "metadata": {},
   "outputs": [
    {
     "name": "stdout",
     "output_type": "stream",
     "text": [
      "[5, 6, 4, 2, 8, 3, 1, 9, 0, 7]\n"
     ]
    }
   ],
   "source": [
    "# Code block fo setup\n",
    "n = 10\n",
    "A = [i for i in range(n)]\n",
    "random.shuffle(A)\n",
    "print(A)"
   ]
  },
  {
   "cell_type": "code",
   "execution_count": 3,
   "metadata": {},
   "outputs": [],
   "source": [
    "# function to merge lists\n",
    "def merge(A, B):\n",
    "    out = []\n",
    "    i, j = 0,0\n",
    "    while i < len(A) and j < len(B):\n",
    "        if A[i] < B[j]:\n",
    "            out.append(A[i])\n",
    "            i += 1\n",
    "        else:\n",
    "            out.append(B[j])\n",
    "            j += 1\n",
    "    while i < len(A):\n",
    "        out.append(A[i])\n",
    "        i += 1\n",
    "    while j < len(B):\n",
    "        out.append(B[j])\n",
    "        j += 1\n",
    "    return out\n"
   ]
  },
  {
   "cell_type": "code",
   "execution_count": 4,
   "metadata": {},
   "outputs": [],
   "source": [
    "# function for merge sort\n",
    "def mergeSort(L):\n",
    "    if len(L) < 2:\n",
    "        return L[:]\n",
    "    else:\n",
    "        mid = len(L)//2\n",
    "        Left = mergeSort(L[:mid])\n",
    "        Right = mergeSort(L[mid:])\n",
    "        return merge(Left, Right)"
   ]
  },
  {
   "cell_type": "code",
   "execution_count": 5,
   "metadata": {},
   "outputs": [],
   "source": [
    "# function for insertion sort\n",
    "def insertionSort(L):\n",
    "    for i in range(1, len(L)):\n",
    "        key = L[i]\n",
    "        j = i-1\n",
    "        while j >= 0 and L[j] > key:\n",
    "            L[j+1] = L[j]\n",
    "            j -= 1\n",
    "        L[j+1] = key\n",
    "    print(L)\n",
    "\n"
   ]
  },
  {
   "cell_type": "code",
   "execution_count": 6,
   "metadata": {},
   "outputs": [],
   "source": [
    "# function for bubble sort\n",
    "def bubbleSort(L):\n",
    "    for i in range(len(L)-1):\n",
    "        for j in range(len(L)-1):\n",
    "            if L[j] > L[j+1]:\n",
    "                L[j], L[j+1] = L[j+1], L[j]\n",
    "    return L"
   ]
  },
  {
   "cell_type": "code",
   "execution_count": null,
   "metadata": {},
   "outputs": [],
   "source": [
    "insertionSort(A)"
   ]
  },
  {
   "cell_type": "code",
   "execution_count": null,
   "metadata": {},
   "outputs": [],
   "source": [
    "mergeSort(A)"
   ]
  },
  {
   "cell_type": "code",
   "execution_count": 7,
   "metadata": {},
   "outputs": [
    {
     "data": {
      "text/plain": [
       "[0, 1, 2, 3, 4, 5, 6, 7, 8, 9]"
      ]
     },
     "execution_count": 7,
     "metadata": {},
     "output_type": "execute_result"
    }
   ],
   "source": [
    "bubbleSort(A)"
   ]
  }
 ],
 "metadata": {
  "interpreter": {
   "hash": "3210d45700fadfae39038dbf0c0e45686964f2535c6e59975af03abaf8e83612"
  },
  "kernelspec": {
   "display_name": "Python 3.9.6 64-bit ('COMP4581-NL-ibIhu': pipenv)",
   "language": "python",
   "name": "python3"
  },
  "language_info": {
   "codemirror_mode": {
    "name": "ipython",
    "version": 3
   },
   "file_extension": ".py",
   "mimetype": "text/x-python",
   "name": "python",
   "nbconvert_exporter": "python",
   "pygments_lexer": "ipython3",
   "version": "3.9.6"
  },
  "orig_nbformat": 4
 },
 "nbformat": 4,
 "nbformat_minor": 2
}
