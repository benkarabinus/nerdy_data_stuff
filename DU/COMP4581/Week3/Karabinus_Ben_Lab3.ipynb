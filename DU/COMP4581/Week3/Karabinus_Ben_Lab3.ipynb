{
 "cells": [
  {
   "cell_type": "code",
   "execution_count": 9,
   "metadata": {},
   "outputs": [],
   "source": [
    "import random"
   ]
  },
  {
   "cell_type": "code",
   "execution_count": 1,
   "metadata": {},
   "outputs": [],
   "source": [
    "# rudimentary test for prime number\n",
    "def isPrime(p):\n",
    "    for i in range(2, p):\n",
    "        if p%i == 0:\n",
    "            return False\n",
    "    return True"
   ]
  },
  {
   "cell_type": "code",
   "execution_count": 7,
   "metadata": {},
   "outputs": [],
   "source": [
    "# create a random n bit prime number, O(2**n)\n",
    "def nBitPrime(n):\n",
    "\n",
    "    randNum = random.random()\n",
    "    p = int(2**n * randNum)\n",
    "    while p < 2 or not isPrime(p):\n",
    "        randNum = random.random()\n",
    "        p = int(2**n * randNum)\n",
    "    return p"
   ]
  },
  {
   "cell_type": "code",
   "execution_count": 46,
   "metadata": {},
   "outputs": [],
   "source": [
    "# function to factor the product of two n bit prime numbers\n",
    "def factor(pq):\n",
    "    for i in range(2, pq+1):\n",
    "        if pq%i == 0:\n",
    "            p=i\n",
    "            q=pq/p\n",
    "            return p, q"
   ]
  },
  {
   "cell_type": "code",
   "execution_count": 6,
   "metadata": {},
   "outputs": [
    {
     "data": {
      "text/plain": [
       "True"
      ]
     },
     "execution_count": 6,
     "metadata": {},
     "output_type": "execute_result"
    }
   ],
   "source": [
    "isPrime(17)"
   ]
  },
  {
   "cell_type": "code",
   "execution_count": 60,
   "metadata": {},
   "outputs": [
    {
     "name": "stdout",
     "output_type": "stream",
     "text": [
      "193 71\n"
     ]
    }
   ],
   "source": [
    "prime1 = nBitPrime(8)\n",
    "prime2 = nBitPrime(8)\n",
    "print(prime1, prime2)"
   ]
  },
  {
   "cell_type": "code",
   "execution_count": 62,
   "metadata": {},
   "outputs": [
    {
     "name": "stdout",
     "output_type": "stream",
     "text": [
      "True True\n"
     ]
    }
   ],
   "source": [
    "bool1 = isPrime(prime1)\n",
    "bool2 = isPrime(prime2)\n",
    "print(bool1, bool2)"
   ]
  },
  {
   "cell_type": "code",
   "execution_count": 63,
   "metadata": {},
   "outputs": [
    {
     "data": {
      "text/plain": [
       "(71, 193.0)"
      ]
     },
     "execution_count": 63,
     "metadata": {},
     "output_type": "execute_result"
    }
   ],
   "source": [
    "factor((prime1*prime2))"
   ]
  }
 ],
 "metadata": {
  "interpreter": {
   "hash": "3210d45700fadfae39038dbf0c0e45686964f2535c6e59975af03abaf8e83612"
  },
  "kernelspec": {
   "display_name": "Python 3.9.6 64-bit ('COMP4581-NL-ibIhu': pipenv)",
   "language": "python",
   "name": "python3"
  },
  "language_info": {
   "codemirror_mode": {
    "name": "ipython",
    "version": 3
   },
   "file_extension": ".py",
   "mimetype": "text/x-python",
   "name": "python",
   "nbconvert_exporter": "python",
   "pygments_lexer": "ipython3",
   "version": "3.9.6"
  },
  "orig_nbformat": 4
 },
 "nbformat": 4,
 "nbformat_minor": 2
}
