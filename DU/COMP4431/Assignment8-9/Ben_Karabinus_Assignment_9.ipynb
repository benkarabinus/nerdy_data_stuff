{
 "cells": [
  {
   "cell_type": "markdown",
   "metadata": {},
   "source": [
    "# <center>*__Assignment 9: Mushroom Stew__*</center>"
   ]
  },
  {
   "cell_type": "markdown",
   "metadata": {},
   "source": [
    "After years of training at such fine establishments as McDonald's, Jimboy's Tacos, and The Food Cart On the Corner of Broadway and Speer. Chef Hardlee Edaball (pronounced \"hardly edible\") has decided to break into the Denver restaurant scene, opening his new establishment \"Fungus.\" Fungus is a farm to table concept, serving mushroom stews with ingredients sourced from Denver Metro landmarks such as, The Cherry Creek Bike Path, The Backyards of Frat houses in Boulder, and The Dumpster behind the Diamond Cabaret. With the much anticpated grand opening of Fungus drawing near, Chef Edaball needs a repeatable process for creating tasty stew to satisfy his clientel. A classification model should be developed to assist Chef Edaball in determing if mushrooms offered by local vendors meet the Fungus standard of excellence."
   ]
  },
  {
   "cell_type": "code",
   "execution_count": 1,
   "metadata": {},
   "outputs": [],
   "source": [
    "\"\"\"\n",
    "import the necessary libraries\n",
    "\"\"\"\n",
    "import numpy as np\n",
    "import pandas as pd\n",
    "import matplotlib.pyplot as plt\n",
    "import seaborn as sns\n",
    "from sklearn.preprocessing import LabelEncoder, StandardScaler\n",
    "from sklearn.model_selection import train_test_split\n",
    "from sklearn.utils import shuffle\n",
    "from sklearn.linear_model import LogisticRegression\n",
    "from sklearn.svm import SVC\n",
    "from sklearn.naive_bayes import GaussianNB\n",
    "from sklearn.metrics import classification_report, accuracy_score"
   ]
  },
  {
   "cell_type": "code",
   "execution_count": 2,
   "metadata": {},
   "outputs": [],
   "source": [
    "\"\"\"read in the mushroom data\"\"\"\n",
    "shrooms = pd.read_table('agaricus-lepiota.data', delimiter=',', header=None)"
   ]
  },
  {
   "cell_type": "code",
   "execution_count": 3,
   "metadata": {},
   "outputs": [],
   "source": [
    "\"\"\"rename columns for ease of use\"\"\"\n",
    "colnames = [\n",
    "    'poisonous', 'cap_shape', 'cap_surface', 'cap_color', 'bruised', 'odor',\n",
    "    'gill_attachment', 'gill_spacing', 'gill_size', 'gill_color', \n",
    "    'stalk_shape', 'stalk_root', 'stalk_surface_above_ring',\n",
    "    'stalk_surface_below_ring', 'stalk_color_above_ring',\n",
    "    'stalk_color_below_ring', 'veil_type', 'veil_color', 'ring_number',\n",
    "    'ring_type', 'spore_print_color', 'population', 'habitat'\n",
    "]\n",
    "shrooms.columns = colnames"
   ]
  },
  {
   "cell_type": "markdown",
   "metadata": {},
   "source": [
    "## *_Exploratory Data Analysis_*"
   ]
  },
  {
   "cell_type": "markdown",
   "metadata": {},
   "source": [
    "Nobody wants to die from eating mushroom stew. All poisonous mushrooms should be dropped from the dataset."
   ]
  },
  {
   "cell_type": "code",
   "execution_count": 4,
   "metadata": {},
   "outputs": [
    {
     "data": {
      "text/plain": [
       "(4208, 23)"
      ]
     },
     "execution_count": 4,
     "metadata": {},
     "output_type": "execute_result"
    }
   ],
   "source": [
    "\"\"\"drop poisonous mushrooms\"\"\"\n",
    "shrooms = shrooms[shrooms['poisonous'] != 'p'].copy()\n",
    "shrooms.shape"
   ]
  },
  {
   "cell_type": "code",
   "execution_count": 5,
   "metadata": {},
   "outputs": [
    {
     "data": {
      "text/plain": [
       "0"
      ]
     },
     "execution_count": 5,
     "metadata": {},
     "output_type": "execute_result"
    }
   ],
   "source": [
    "\"\"\"check for duplicate data\"\"\"\n",
    "shrooms.duplicated().sum()"
   ]
  },
  {
   "cell_type": "code",
   "execution_count": 6,
   "metadata": {},
   "outputs": [
    {
     "data": {
      "text/html": [
       "<div>\n",
       "<style scoped>\n",
       "    .dataframe tbody tr th:only-of-type {\n",
       "        vertical-align: middle;\n",
       "    }\n",
       "\n",
       "    .dataframe tbody tr th {\n",
       "        vertical-align: top;\n",
       "    }\n",
       "\n",
       "    .dataframe thead th {\n",
       "        text-align: right;\n",
       "    }\n",
       "</style>\n",
       "<table border=\"1\" class=\"dataframe\">\n",
       "  <thead>\n",
       "    <tr style=\"text-align: right;\">\n",
       "      <th></th>\n",
       "      <th>poisonous</th>\n",
       "      <th>cap_shape</th>\n",
       "      <th>cap_surface</th>\n",
       "      <th>cap_color</th>\n",
       "      <th>bruised</th>\n",
       "      <th>odor</th>\n",
       "      <th>gill_attachment</th>\n",
       "      <th>gill_spacing</th>\n",
       "      <th>gill_size</th>\n",
       "      <th>gill_color</th>\n",
       "      <th>...</th>\n",
       "      <th>stalk_surface_below_ring</th>\n",
       "      <th>stalk_color_above_ring</th>\n",
       "      <th>stalk_color_below_ring</th>\n",
       "      <th>veil_type</th>\n",
       "      <th>veil_color</th>\n",
       "      <th>ring_number</th>\n",
       "      <th>ring_type</th>\n",
       "      <th>spore_print_color</th>\n",
       "      <th>population</th>\n",
       "      <th>habitat</th>\n",
       "    </tr>\n",
       "  </thead>\n",
       "  <tbody>\n",
       "    <tr>\n",
       "      <th>1</th>\n",
       "      <td>e</td>\n",
       "      <td>x</td>\n",
       "      <td>s</td>\n",
       "      <td>y</td>\n",
       "      <td>t</td>\n",
       "      <td>a</td>\n",
       "      <td>f</td>\n",
       "      <td>c</td>\n",
       "      <td>b</td>\n",
       "      <td>k</td>\n",
       "      <td>...</td>\n",
       "      <td>s</td>\n",
       "      <td>w</td>\n",
       "      <td>w</td>\n",
       "      <td>p</td>\n",
       "      <td>w</td>\n",
       "      <td>o</td>\n",
       "      <td>p</td>\n",
       "      <td>n</td>\n",
       "      <td>n</td>\n",
       "      <td>g</td>\n",
       "    </tr>\n",
       "    <tr>\n",
       "      <th>2</th>\n",
       "      <td>e</td>\n",
       "      <td>b</td>\n",
       "      <td>s</td>\n",
       "      <td>w</td>\n",
       "      <td>t</td>\n",
       "      <td>l</td>\n",
       "      <td>f</td>\n",
       "      <td>c</td>\n",
       "      <td>b</td>\n",
       "      <td>n</td>\n",
       "      <td>...</td>\n",
       "      <td>s</td>\n",
       "      <td>w</td>\n",
       "      <td>w</td>\n",
       "      <td>p</td>\n",
       "      <td>w</td>\n",
       "      <td>o</td>\n",
       "      <td>p</td>\n",
       "      <td>n</td>\n",
       "      <td>n</td>\n",
       "      <td>m</td>\n",
       "    </tr>\n",
       "    <tr>\n",
       "      <th>4</th>\n",
       "      <td>e</td>\n",
       "      <td>x</td>\n",
       "      <td>s</td>\n",
       "      <td>g</td>\n",
       "      <td>f</td>\n",
       "      <td>n</td>\n",
       "      <td>f</td>\n",
       "      <td>w</td>\n",
       "      <td>b</td>\n",
       "      <td>k</td>\n",
       "      <td>...</td>\n",
       "      <td>s</td>\n",
       "      <td>w</td>\n",
       "      <td>w</td>\n",
       "      <td>p</td>\n",
       "      <td>w</td>\n",
       "      <td>o</td>\n",
       "      <td>e</td>\n",
       "      <td>n</td>\n",
       "      <td>a</td>\n",
       "      <td>g</td>\n",
       "    </tr>\n",
       "    <tr>\n",
       "      <th>5</th>\n",
       "      <td>e</td>\n",
       "      <td>x</td>\n",
       "      <td>y</td>\n",
       "      <td>y</td>\n",
       "      <td>t</td>\n",
       "      <td>a</td>\n",
       "      <td>f</td>\n",
       "      <td>c</td>\n",
       "      <td>b</td>\n",
       "      <td>n</td>\n",
       "      <td>...</td>\n",
       "      <td>s</td>\n",
       "      <td>w</td>\n",
       "      <td>w</td>\n",
       "      <td>p</td>\n",
       "      <td>w</td>\n",
       "      <td>o</td>\n",
       "      <td>p</td>\n",
       "      <td>k</td>\n",
       "      <td>n</td>\n",
       "      <td>g</td>\n",
       "    </tr>\n",
       "    <tr>\n",
       "      <th>6</th>\n",
       "      <td>e</td>\n",
       "      <td>b</td>\n",
       "      <td>s</td>\n",
       "      <td>w</td>\n",
       "      <td>t</td>\n",
       "      <td>a</td>\n",
       "      <td>f</td>\n",
       "      <td>c</td>\n",
       "      <td>b</td>\n",
       "      <td>g</td>\n",
       "      <td>...</td>\n",
       "      <td>s</td>\n",
       "      <td>w</td>\n",
       "      <td>w</td>\n",
       "      <td>p</td>\n",
       "      <td>w</td>\n",
       "      <td>o</td>\n",
       "      <td>p</td>\n",
       "      <td>k</td>\n",
       "      <td>n</td>\n",
       "      <td>m</td>\n",
       "    </tr>\n",
       "  </tbody>\n",
       "</table>\n",
       "<p>5 rows × 23 columns</p>\n",
       "</div>"
      ],
      "text/plain": [
       "  poisonous cap_shape cap_surface cap_color bruised odor gill_attachment  \\\n",
       "1         e         x           s         y       t    a               f   \n",
       "2         e         b           s         w       t    l               f   \n",
       "4         e         x           s         g       f    n               f   \n",
       "5         e         x           y         y       t    a               f   \n",
       "6         e         b           s         w       t    a               f   \n",
       "\n",
       "  gill_spacing gill_size gill_color  ... stalk_surface_below_ring  \\\n",
       "1            c         b          k  ...                        s   \n",
       "2            c         b          n  ...                        s   \n",
       "4            w         b          k  ...                        s   \n",
       "5            c         b          n  ...                        s   \n",
       "6            c         b          g  ...                        s   \n",
       "\n",
       "  stalk_color_above_ring stalk_color_below_ring veil_type veil_color  \\\n",
       "1                      w                      w         p          w   \n",
       "2                      w                      w         p          w   \n",
       "4                      w                      w         p          w   \n",
       "5                      w                      w         p          w   \n",
       "6                      w                      w         p          w   \n",
       "\n",
       "  ring_number ring_type spore_print_color population habitat  \n",
       "1           o         p                 n          n       g  \n",
       "2           o         p                 n          n       m  \n",
       "4           o         e                 n          a       g  \n",
       "5           o         p                 k          n       g  \n",
       "6           o         p                 k          n       m  \n",
       "\n",
       "[5 rows x 23 columns]"
      ]
     },
     "execution_count": 6,
     "metadata": {},
     "output_type": "execute_result"
    }
   ],
   "source": [
    "\"\"\"View dataset head\"\"\"\n",
    "shrooms.head()"
   ]
  },
  {
   "cell_type": "code",
   "execution_count": 7,
   "metadata": {},
   "outputs": [
    {
     "data": {
      "text/plain": [
       "poisonous                   object\n",
       "cap_shape                   object\n",
       "cap_surface                 object\n",
       "cap_color                   object\n",
       "bruised                     object\n",
       "odor                        object\n",
       "gill_attachment             object\n",
       "gill_spacing                object\n",
       "gill_size                   object\n",
       "gill_color                  object\n",
       "stalk_shape                 object\n",
       "stalk_root                  object\n",
       "stalk_surface_above_ring    object\n",
       "stalk_surface_below_ring    object\n",
       "stalk_color_above_ring      object\n",
       "stalk_color_below_ring      object\n",
       "veil_type                   object\n",
       "veil_color                  object\n",
       "ring_number                 object\n",
       "ring_type                   object\n",
       "spore_print_color           object\n",
       "population                  object\n",
       "habitat                     object\n",
       "dtype: object"
      ]
     },
     "execution_count": 7,
     "metadata": {},
     "output_type": "execute_result"
    }
   ],
   "source": [
    "\"\"\"check data types\"\"\"\n",
    "shrooms.dtypes"
   ]
  },
  {
   "cell_type": "markdown",
   "metadata": {},
   "source": [
    "Part of making an appealing dish is the color of the final product. The different cap colors of mushrooms in the data should be visualized to give the chef an idea of what he has to work with."
   ]
  },
  {
   "cell_type": "code",
   "execution_count": 8,
   "metadata": {},
   "outputs": [
    {
     "data": {
      "image/png": "[encoded data removed]",
      "text/plain": [
       "<Figure size 1080x720 with 1 Axes>"
      ]
     },
     "metadata": {
      "needs_background": "light"
     },
     "output_type": "display_data"
    }
   ],
   "source": [
    "\"\"\"plot a count of different cap colors\"\"\"\n",
    "color_dict = {'y': 'yellow', 'w':'blue', 'g':'grey','n':'brown','e':'red', \n",
    "              'b':'orange','u':'purple','c':'black','p':'pink','r':'green'}\n",
    "fig, ax = plt.subplots(figsize=(15, 10))\n",
    "count = sns.countplot(x='cap_color', data=shrooms, palette=color_dict)\n",
    "ax.set_xticklabels(['yellow', 'white', 'grey', 'brown', 'red', 'orange', 'purple', 'black', 'pink', 'green'])\n",
    "plt.title('Mushroom Cap Color')\n",
    "plt.tight_layout()"
   ]
  },
  {
   "cell_type": "markdown",
   "metadata": {},
   "source": [
    "How a dish smells is a determining factor in the first impression diners have when their meal is presented tableside. Visualizing the different odor of mushrooms in the data is therefore necessary."
   ]
  },
  {
   "cell_type": "code",
   "execution_count": 9,
   "metadata": {},
   "outputs": [
    {
     "data": {
      "image/png": "[encoded data removed]",
      "text/plain": [
       "<Figure size 1080x720 with 1 Axes>"
      ]
     },
     "metadata": {
      "needs_background": "light"
     },
     "output_type": "display_data"
    }
   ],
   "source": [
    "\"\"\"Plot a count of mushroom odor\"\"\"\n",
    "fig, ax = plt.subplots(figsize=(15, 10))\n",
    "count = sns.countplot(x='odor', data=shrooms)\n",
    "ax.set_xticklabels(['almond', 'anise', 'none'])\n",
    "plt.title('Mushroom Odor')\n",
    "plt.tight_layout()"
   ]
  },
  {
   "cell_type": "markdown",
   "metadata": {},
   "source": [
    "How about texture? People's preferences vary when it comes to the texture they prefer when eating stew. Let's take a look at what we have to work with. "
   ]
  },
  {
   "cell_type": "code",
   "execution_count": 10,
   "metadata": {},
   "outputs": [
    {
     "data": {
      "image/png": "[encoded data removed]",
      "text/plain": [
       "<Figure size 1080x720 with 1 Axes>"
      ]
     },
     "metadata": {
      "needs_background": "light"
     },
     "output_type": "display_data"
    }
   ],
   "source": [
    "\"\"\"Plot a count of cap surface texture\"\"\"\n",
    "fig, ax = plt.subplots(figsize=(15, 10))\n",
    "count = sns.countplot(x='cap_surface', data=shrooms)\n",
    "ax.set_xticklabels(['smooth', 'scaly', 'fibrous'])\n",
    "plt.title('Mushroom Cap Surface Texture')\n",
    "plt.xlabel('Texture')\n",
    "plt.tight_layout()"
   ]
  },
  {
   "cell_type": "markdown",
   "metadata": {},
   "source": [
    "In the Denver/Boulder metro area, consumers are conscious of the things they put in their body. How ingredients are sourced can be a determining factor when considering where to dine on a Friday evening. The chef needs to know the natural habitat of mushrooms in the data."
   ]
  },
  {
   "cell_type": "code",
   "execution_count": 11,
   "metadata": {},
   "outputs": [
    {
     "data": {
      "image/png": "[encoded data removed]",
      "text/plain": [
       "<Figure size 1080x720 with 1 Axes>"
      ]
     },
     "metadata": {
      "needs_background": "light"
     },
     "output_type": "display_data"
    }
   ],
   "source": [
    "\"\"\"Plot a count of cap surface texture\"\"\"\n",
    "fig, ax = plt.subplots(figsize=(15, 10))\n",
    "count = sns.countplot(x='habitat', data=shrooms)\n",
    "ax.set_xticklabels(['grasses', 'meadows', 'urban', 'woods', 'paths', 'waste', 'leaves'])\n",
    "plt.title('Mushroom Habitat')\n",
    "plt.xlabel('Habitat')\n",
    "plt.tight_layout()"
   ]
  },
  {
   "cell_type": "markdown",
   "metadata": {},
   "source": [
    "## *_Feature Engineering_*"
   ]
  },
  {
   "cell_type": "markdown",
   "metadata": {},
   "source": [
    "Now that Chef Edaball has a good idea of the different ingredients he has to work with, its time to create some recipes.\n",
    "\n",
    "- The Boulder (cap_color = yellow, odor = anise, texture = fibrous, habitat = woods)\n",
    "- The Cap Hill (cap_color = brown, odor = none, texture = fibrous, habitat = urban)\n",
    "- The Cherry Creek (cap_color = brown, odor = anise, texture = scaly, habitat = paths)\n",
    "- The Stoner (cap_color = green, odor = almond, texture = any, habitat = waste)\n",
    "\n",
    "Mushrooms not meeting the Chef's standards will be labeled \"send_it_back.\""
   ]
  },
  {
   "cell_type": "code",
   "execution_count": 12,
   "metadata": {},
   "outputs": [],
   "source": [
    "\"\"\"create recipes, get idx using np.select(), assign recipe by idx\"\"\"\n",
    "shrooms['the_recipe'] = 'send_it_back'\n",
    "boulder_idx  = np.where((shrooms['cap_color'] == 'y') & (shrooms['odor'] == 'a') & (shrooms['cap_surface'] == 'f') & (shrooms['habitat'] == 'd'))\n",
    "shrooms['the_recipe'].iloc[boulder_idx] = 'the_boulder'\n",
    "cap_hill_idx  = np.where((shrooms['cap_color'] == 'n') & (shrooms['odor'] == 'n') & (shrooms['cap_surface'] == 'f') & (shrooms['habitat'] == 'u'))\n",
    "shrooms['the_recipe'].iloc[cap_hill_idx] = 'the_cap_hill'\n",
    "cherry_creek_idx  = np.where((shrooms['cap_color'] == 'n') & (shrooms['odor'] == 'a') & (shrooms['cap_surface'] == 'y') & (shrooms['habitat'] == 'p'))\n",
    "shrooms['the_recipe'].iloc[cherry_creek_idx] = 'the_cherry_creek'\n",
    "stoner_idx  = np.where((shrooms['cap_color'] == 'p') & (shrooms['odor'] == 'n') & (shrooms['habitat'] == 'w'))\n",
    "shrooms['the_recipe'].iloc[stoner_idx] = 'the_stoner'"
   ]
  },
  {
   "cell_type": "markdown",
   "metadata": {},
   "source": [
    "## *_Recipe Classification_*"
   ]
  },
  {
   "cell_type": "markdown",
   "metadata": {},
   "source": [
    "- Multinomial Logistic Regression\n",
    "- Support Vector Machine\n",
    "- Naive Bayes"
   ]
  },
  {
   "cell_type": "code",
   "execution_count": 13,
   "metadata": {},
   "outputs": [
    {
     "name": "stderr",
     "output_type": "stream",
     "text": [
      "/var/folders/s4/yckpqxmx6cnf837zqjqn_hxc0000gn/T/ipykernel_4420/829050169.py:11: SettingWithCopyWarning: \n",
      "A value is trying to be set on a copy of a slice from a DataFrame.\n",
      "Try using .loc[row_indexer,col_indexer] = value instead\n",
      "\n",
      "See the caveats in the documentation: https://pandas.pydata.org/pandas-docs/stable/user_guide/indexing.html#returning-a-view-versus-a-copy\n",
      "  x[col] = le.fit_transform(x[col])\n",
      "/var/folders/s4/yckpqxmx6cnf837zqjqn_hxc0000gn/T/ipykernel_4420/829050169.py:14: SettingWithCopyWarning: \n",
      "A value is trying to be set on a copy of a slice from a DataFrame.\n",
      "Try using .loc[row_indexer,col_indexer] = value instead\n",
      "\n",
      "See the caveats in the documentation: https://pandas.pydata.org/pandas-docs/stable/user_guide/indexing.html#returning-a-view-versus-a-copy\n",
      "  x[x.columns] = sc.fit_transform(x)\n"
     ]
    }
   ],
   "source": [
    "\"\"\"data preparation\"\"\"\n",
    "# drop the poisonus column, no longer needed\n",
    "shrooms.drop(columns=['poisonous'], inplace=True)\n",
    "shrooms = shuffle(shrooms, random_state=14)\n",
    "# split the data\n",
    "x = shrooms.iloc[:, :-1]\n",
    "y = shrooms.iloc[:, -1:]\n",
    "# encode the data\n",
    "le = LabelEncoder()\n",
    "for col in x.columns:\n",
    "    x[col] = le.fit_transform(x[col])\n",
    "# scale the data\n",
    "sc = StandardScaler()\n",
    "x[x.columns] = sc.fit_transform(x)\n",
    "# train, test split\n",
    "x_train, x_test, y_train, y_test = train_test_split(x, y, test_size=0.3, random_state=14)\n",
    "# flatten target to 1-D array\n",
    "y_train = y_train.values.ravel()\n",
    "y_test = y_test.values.ravel()"
   ]
  },
  {
   "cell_type": "code",
   "execution_count": 14,
   "metadata": {},
   "outputs": [
    {
     "name": "stdout",
     "output_type": "stream",
     "text": [
      "0.9960411718131433\n",
      "                  precision    recall  f1-score   support\n",
      "\n",
      "    send_it_back       1.00      1.00      1.00      1207\n",
      "     the_boulder       1.00      0.17      0.29         6\n",
      "    the_cap_hill       1.00      1.00      1.00        20\n",
      "the_cherry_creek       1.00      1.00      1.00        10\n",
      "      the_stoner       1.00      1.00      1.00        20\n",
      "\n",
      "        accuracy                           1.00      1263\n",
      "       macro avg       1.00      0.83      0.86      1263\n",
      "    weighted avg       1.00      1.00      0.99      1263\n",
      "\n"
     ]
    }
   ],
   "source": [
    "\"\"\"multinomial logistic regression\"\"\"\n",
    "# instantiate the model\n",
    "model = LogisticRegression(multi_class='multinomial', solver='lbfgs', max_iter=500, random_state=14)\n",
    "# fit and predict\n",
    "model.fit(x_train, y_train)\n",
    "predicted = model.predict(x_test)\n",
    "# display basic model assessment\n",
    "print(accuracy_score(y_test, predicted))\n",
    "print(classification_report(y_test, predicted))"
   ]
  },
  {
   "cell_type": "markdown",
   "metadata": {},
   "source": [
    "Fitting a Multinomial Logistic Regression model to the data produced almost one hundred percent accuracy in classifying mushrooms to meet Chef Edeball's standards."
   ]
  },
  {
   "cell_type": "code",
   "execution_count": 15,
   "metadata": {},
   "outputs": [
    {
     "name": "stdout",
     "output_type": "stream",
     "text": [
      "0.9635787806809184\n",
      "                  precision    recall  f1-score   support\n",
      "\n",
      "    send_it_back       0.96      1.00      0.98      1207\n",
      "     the_boulder       0.00      0.00      0.00         6\n",
      "    the_cap_hill       0.00      0.00      0.00        20\n",
      "the_cherry_creek       1.00      1.00      1.00        10\n",
      "      the_stoner       0.00      0.00      0.00        20\n",
      "\n",
      "        accuracy                           0.96      1263\n",
      "       macro avg       0.39      0.40      0.40      1263\n",
      "    weighted avg       0.93      0.96      0.95      1263\n",
      "\n"
     ]
    },
    {
     "name": "stderr",
     "output_type": "stream",
     "text": [
      "/Users/benkarabinus/.local/share/virtualenvs/COMP4431-N1ravMBP/lib/python3.9/site-packages/sklearn/metrics/_classification.py:1327: UndefinedMetricWarning: Precision and F-score are ill-defined and being set to 0.0 in labels with no predicted samples. Use `zero_division` parameter to control this behavior.\n",
      "  _warn_prf(average, modifier, msg_start, len(result))\n",
      "/Users/benkarabinus/.local/share/virtualenvs/COMP4431-N1ravMBP/lib/python3.9/site-packages/sklearn/metrics/_classification.py:1327: UndefinedMetricWarning: Precision and F-score are ill-defined and being set to 0.0 in labels with no predicted samples. Use `zero_division` parameter to control this behavior.\n",
      "  _warn_prf(average, modifier, msg_start, len(result))\n",
      "/Users/benkarabinus/.local/share/virtualenvs/COMP4431-N1ravMBP/lib/python3.9/site-packages/sklearn/metrics/_classification.py:1327: UndefinedMetricWarning: Precision and F-score are ill-defined and being set to 0.0 in labels with no predicted samples. Use `zero_division` parameter to control this behavior.\n",
      "  _warn_prf(average, modifier, msg_start, len(result))\n"
     ]
    }
   ],
   "source": [
    "\"support vector classifier\"\n",
    "# instantiate model\n",
    "svc = SVC(random_state=14)\n",
    "# fit and predict\n",
    "svc.fit(x_train, y_train)\n",
    "predicted = svc.predict(x_test)\n",
    "# display basic model assessment\n",
    "print(accuracy_score(y_test, predicted))\n",
    "print(classification_report(y_test, predicted))"
   ]
  },
  {
   "cell_type": "markdown",
   "metadata": {},
   "source": [
    "Fitting a Support Vector Classifier implemented using scikit-learn proved to be approximately 96% accurate in classifying mushrooms for the different recipes on the Fungus menu. Despite the impressive accuracy of the model the results a re not valid. The model failed to properly classify anny msuhrooms as suitable for 3 out of the 4 recipes on the menu (the_boulder, the_cap_hill, and the_stoner)."
   ]
  },
  {
   "cell_type": "code",
   "execution_count": 16,
   "metadata": {},
   "outputs": [
    {
     "name": "stdout",
     "output_type": "stream",
     "text": [
      "0.9635787806809184\n",
      "                  precision    recall  f1-score   support\n",
      "\n",
      "    send_it_back       0.96      1.00      0.98      1207\n",
      "     the_boulder       0.00      0.00      0.00         6\n",
      "    the_cap_hill       0.00      0.00      0.00        20\n",
      "the_cherry_creek       1.00      1.00      1.00        10\n",
      "      the_stoner       0.00      0.00      0.00        20\n",
      "\n",
      "        accuracy                           0.96      1263\n",
      "       macro avg       0.39      0.40      0.40      1263\n",
      "    weighted avg       0.93      0.96      0.95      1263\n",
      "\n"
     ]
    },
    {
     "name": "stderr",
     "output_type": "stream",
     "text": [
      "/Users/benkarabinus/.local/share/virtualenvs/COMP4431-N1ravMBP/lib/python3.9/site-packages/sklearn/metrics/_classification.py:1327: UndefinedMetricWarning: Precision and F-score are ill-defined and being set to 0.0 in labels with no predicted samples. Use `zero_division` parameter to control this behavior.\n",
      "  _warn_prf(average, modifier, msg_start, len(result))\n",
      "/Users/benkarabinus/.local/share/virtualenvs/COMP4431-N1ravMBP/lib/python3.9/site-packages/sklearn/metrics/_classification.py:1327: UndefinedMetricWarning: Precision and F-score are ill-defined and being set to 0.0 in labels with no predicted samples. Use `zero_division` parameter to control this behavior.\n",
      "  _warn_prf(average, modifier, msg_start, len(result))\n",
      "/Users/benkarabinus/.local/share/virtualenvs/COMP4431-N1ravMBP/lib/python3.9/site-packages/sklearn/metrics/_classification.py:1327: UndefinedMetricWarning: Precision and F-score are ill-defined and being set to 0.0 in labels with no predicted samples. Use `zero_division` parameter to control this behavior.\n",
      "  _warn_prf(average, modifier, msg_start, len(result))\n"
     ]
    }
   ],
   "source": [
    "\"\"\"Gausian Naive Bayes\"\"\"\n",
    "# instantiate model\n",
    "nb = GaussianNB()\n",
    "# fit and predict\n",
    "nb.fit(x_train, y_train)\n",
    "predictions = nb.predict(x_test)\n",
    "# display basic model assessment\n",
    "print(accuracy_score(y_test, predicted))\n",
    "print(classification_report(y_test, predicted))"
   ]
  },
  {
   "cell_type": "markdown",
   "metadata": {},
   "source": [
    "Fitting a Naive Bayes classification model to the data produced identical results to the support vector classification model. It simply won't do to have only 1 of 4 dishes on the menu available for opening night."
   ]
  },
  {
   "cell_type": "markdown",
   "metadata": {},
   "source": [
    "## *_Conclusion_*"
   ]
  },
  {
   "cell_type": "markdown",
   "metadata": {},
   "source": [
    "Of the three classification models applied to the data, multinomial logistic regression produced the best results in identifying mushrooms needed to produce the 4 dishes on Fungus' menu. That being said, even the results of the multinomial logistic regression model cannot be considered truly valid. Due to Chef Edaball's high standards only 132 suitable mushrooms existed in the 4208 records used to train the classification models. To achieve valid results the recipe of each dish must be adjusted or further mushhroom data must be collected."
   ]
  }
 ],
 "metadata": {
  "interpreter": {
   "hash": "0b42f6ade3b48ff87dfbc854e3bcebd868bc926187cfadaa4227cdeb0aac76f2"
  },
  "kernelspec": {
   "display_name": "Python 3.9.12 ('COMP4431-N1ravMBP')",
   "language": "python",
   "name": "python3"
  },
  "language_info": {
   "codemirror_mode": {
    "name": "ipython",
    "version": 3
   },
   "file_extension": ".py",
   "mimetype": "text/x-python",
   "name": "python",
   "nbconvert_exporter": "python",
   "pygments_lexer": "ipython3",
   "version": "3.9.12"
  },
  "orig_nbformat": 4
 },
 "nbformat": 4,
 "nbformat_minor": 2
}
