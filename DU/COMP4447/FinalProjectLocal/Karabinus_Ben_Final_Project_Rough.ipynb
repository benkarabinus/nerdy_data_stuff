{
 "cells": [
  {
   "cell_type": "code",
   "execution_count": 1,
   "metadata": {},
   "outputs": [],
   "source": [
    "\"\"\"\n",
    "Import necessary libraries\n",
    "\"\"\"\n",
    "import pandas as pd\n",
    "import numpy as np\n",
    "import matplotlib_inline\n",
    "import matplotlib.pyplot as plt\n",
    "import seaborn as sns\n",
    "import plotly.express as px\n",
    "import re"
   ]
  },
  {
   "cell_type": "code",
   "execution_count": 2,
   "metadata": {},
   "outputs": [
    {
     "name": "stderr",
     "output_type": "stream",
     "text": [
      "/Users/benkarabinus/.local/share/virtualenvs/FinalProjectLocal-uhAi4IsK/lib/python3.9/site-packages/openpyxl/worksheet/_reader.py:312: UserWarning: Data Validation extension is not supported and will be removed\n",
      "  warn(msg)\n"
     ]
    }
   ],
   "source": [
    "\"\"\"\n",
    "Read in the data\n",
    "\"\"\"\n",
    "opportunities = pd.read_excel('Opportunity.xlsx')\n",
    "NAICS = pd.read_excel('NAICS.xlsx')"
   ]
  },
  {
   "cell_type": "markdown",
   "metadata": {},
   "source": [
    "# Exploratory Data Analysis"
   ]
  },
  {
   "cell_type": "markdown",
   "metadata": {},
   "source": [
    "## *Data Cleaning and Feature Engineering*"
   ]
  },
  {
   "cell_type": "markdown",
   "metadata": {},
   "source": [
    "### Objectives\n",
    "- Column naming convention\n",
    "- NAICS categories must be joined with opportunities\n",
    "- System close date should be subtracted from record creation date to creaate a new feature representing days an opportunity is active \n",
    "- Remove non-informative data\n",
    "- Handle missing data\n",
    "- Separate categorical and continuous features for further analysis"
   ]
  },
  {
   "cell_type": "code",
   "execution_count": 3,
   "metadata": {},
   "outputs": [
    {
     "name": "stdout",
     "output_type": "stream",
     "text": [
      "<class 'pandas.core.frame.DataFrame'>\n",
      "RangeIndex: 3894 entries, 0 to 3893\n",
      "Columns: 114 entries, (Do Not Modify) Opportunity to PFY RSM Services Spend (Account) (Account)\n",
      "dtypes: datetime64[ns](12), float64(29), int64(1), object(72)\n",
      "memory usage: 3.4+ MB\n"
     ]
    }
   ],
   "source": [
    "opportunities.info()"
   ]
  },
  {
   "cell_type": "code",
   "execution_count": 4,
   "metadata": {},
   "outputs": [
    {
     "data": {
      "text/plain": [
       "(Do Not Modify) Opportunity                          0\n",
       "(Do Not Modify) Row Checksum                         0\n",
       "(Do Not Modify) Modified On                          0\n",
       "Opportunity Name                                     0\n",
       "Account                                              0\n",
       "Entity ID (Account) (Account)                       31\n",
       "Address 1: Street 1 (Account) (Account)             11\n",
       "Address 1: City (Account) (Account)                 10\n",
       "Address 1: State/Province (Account) (Account)       14\n",
       "Address 1: County (Account) (Account)              218\n",
       "Address 1: Country/Region (Account) (Account)       10\n",
       "Address 1: ZIP/Postal Code (Account) (Account)      13\n",
       "Address 1: Latitude (Account) (Account)            148\n",
       "Address 1: Longitude (Account) (Account)           148\n",
       "Contact                                            173\n",
       "Description                                       3360\n",
       "LOB/Service Line                                     0\n",
       "Solution Set                                         0\n",
       "Currency                                             0\n",
       "Est. Fees                                            0\n",
       "Est. Revenue (Base)                                  0\n",
       "Total Amount                                         0\n",
       "Lead Source                                          3\n",
       "Type                                                 0\n",
       "Probability                                        248\n",
       "Account: Original Source (Account) (Account)      1658\n",
       "dtype: int64"
      ]
     },
     "execution_count": 4,
     "metadata": {},
     "output_type": "execute_result"
    }
   ],
   "source": [
    "opportunities.isnull().sum()[0:26]"
   ]
  },
  {
   "cell_type": "code",
   "execution_count": 5,
   "metadata": {},
   "outputs": [
    {
     "data": {
      "text/plain": [
       "Account Rating (Account) (Account)                   1718\n",
       "MSA (Account) (Account)                               151\n",
       "No. of Employees (Account) (Account)                   65\n",
       "Original Opportunity                                 3496\n",
       "Open Deals (Account) (Account)                          0\n",
       "Open Revenue (Account) (Account)                        0\n",
       "Revenue This Year Aggregated (Account) (Account)     1429\n",
       "Type of Government Contractor (Account) (Account)    3651\n",
       "Customer Need                                        3352\n",
       "Engagement Type                                      3605\n",
       "Rating                                                  0\n",
       "Owner                                                   0\n",
       "Account Mgmt 1 (Account) (Account)                   1814\n",
       "Account Mgmt 2 (Account) (Account)                   3865\n",
       "Relationship Lead (Account) (Account)                   0\n",
       "Consulting Lead (Account) (Account)                  1019\n",
       "Region (Account) (Account)                             96\n",
       "Annual Revenue (Account) (Account)                     54\n",
       "Business Developer 1 (Account) (Account)             3055\n",
       "Business Developer 2 (Account) (Account)             3800\n",
       "Import Date                                          1682\n",
       "Record Created On                                    2677\n",
       "Created On                                              0\n",
       "Modified On                                             0\n",
       "Est. Close Date                                         0\n",
       "dtype: int64"
      ]
     },
     "execution_count": 5,
     "metadata": {},
     "output_type": "execute_result"
    }
   ],
   "source": [
    "opportunities.isnull().sum()[26:51]"
   ]
  },
  {
   "cell_type": "code",
   "execution_count": 6,
   "metadata": {},
   "outputs": [
    {
     "data": {
      "text/plain": [
       "Actual Close Date                                0\n",
       "System Close Date                                0\n",
       "Status Reason                                    0\n",
       "Sales Stage                                      0\n",
       "Status                                           0\n",
       "Collaboration-Approved Date                   3825\n",
       "Referral Contact                              3882\n",
       "Approval Status                               3894\n",
       "Commissonable                                  895\n",
       "Created By                                       0\n",
       "PSE 1                                         3527\n",
       "PSE 2                                         3772\n",
       "CJP Target (Account) (Account)                1786\n",
       "CFY RSM Services Spend (Account) (Account)     896\n",
       "Current Situation                             3894\n",
       "D&B Company (Account) (Account)                555\n",
       "Deliverability Rating (Contact) (Contact)     1483\n",
       "D&B Financial (Account) (Account)             3894\n",
       "EAL (Account) (Account)                       3508\n",
       "Import Date (Account) (Account)               1592\n",
       "Internationally Active (Account) (Account)    1570\n",
       "IPM Date Acquired (Account) (Account)          877\n",
       "IPM Date Lost (Account) (Account)             3349\n",
       "IPM Lost Reason (Account) (Account)           3349\n",
       "Last Interaction (IH) (Account) (Account)     1286\n",
       "dtype: int64"
      ]
     },
     "execution_count": 6,
     "metadata": {},
     "output_type": "execute_result"
    }
   ],
   "source": [
    "opportunities.isnull().sum()[51:76]"
   ]
  },
  {
   "cell_type": "code",
   "execution_count": 7,
   "metadata": {},
   "outputs": [
    {
     "data": {
      "text/plain": [
       "Microsoft Enterprise Agreement (Account) (Account)        1446\n",
       "Microsoft Reference Program (Account) (Account)           2887\n",
       "NAICS (Account) (Account)                                  443\n",
       "National Initiative (Account) (Account)                   1985\n",
       "Other Software (Account) (Account)                        3840\n",
       "Preferred Method of Contact (Account) (Account)              0\n",
       "Preferred Service (Account) (Account)                     3894\n",
       "Private Equity (Account) (Account)                         459\n",
       "Referral Notes (Account) (Account)                        3842\n",
       "Referring Firm (Account) (Account)                        3894\n",
       "Relationship Strength (IH) (Account) (Account)            1286\n",
       "Revenue Last Year (Account) (Account)                     3894\n",
       "Revenue Last Year (Base) (Account) (Account)              3894\n",
       "Revenue This Year (Account) (Account)                     3894\n",
       "Revenue This Year (Base) (Account) (Account)              3894\n",
       "Territory (Account) (Account)                             3894\n",
       "Territory Code (Account) (Account)                           0\n",
       "VIP Client? (Account) (Account)                              0\n",
       " Full Name (Internal Referral) (User)                     3892\n",
       "Full or Part-time (Internal Referral) (User)              3892\n",
       "Function (Internal Referral) (User)                       3892\n",
       "Job Title (Internal Referral) (User)                      3892\n",
       "Office Location (Internal Referral) (User)                3892\n",
       "Assets (FI Only) (Potential Customer) (Account)           3692\n",
       "Assets (FI Only) (Base) (Potential Customer) (Account)    3692\n",
       "dtype: int64"
      ]
     },
     "execution_count": 7,
     "metadata": {},
     "output_type": "execute_result"
    }
   ],
   "source": [
    "opportunities.isnull().sum()[76:101]"
   ]
  },
  {
   "cell_type": "code",
   "execution_count": 8,
   "metadata": {},
   "outputs": [
    {
     "data": {
      "text/plain": [
       "Business Type (Potential Customer) (Account)                    170\n",
       "Category (Potential Customer) (Account)                        3894\n",
       "Client Status (Potential Customer) (Account)                    939\n",
       "D&B Company (Potential Customer) (Account)                      700\n",
       "D&B Financial (Potential Customer) (Account)                   3894\n",
       "D&B Match Flag (Potential Customer) (Account)                  2800\n",
       "D&B NAICS (Potential Customer) (Account)                        213\n",
       "D&B Ultimate Parent (Potential Customer) (Account)             3894\n",
       "Market Capitalization (Potential Customer) (Account)           3894\n",
       "Market Capitalization (Base) (Potential Customer) (Account)    3894\n",
       "National Initiative (Potential Customer) (Account)             2018\n",
       "Other Software (Potential Customer) (Account)                  3844\n",
       "PFY RSM Services Spend (Account) (Account)                      896\n",
       "dtype: int64"
      ]
     },
     "execution_count": 8,
     "metadata": {},
     "output_type": "execute_result"
    }
   ],
   "source": [
    "opportunities.isnull().sum()[101:120]"
   ]
  },
  {
   "cell_type": "markdown",
   "metadata": {},
   "source": [
    "*Rename columns for ease of use and readability*"
   ]
  },
  {
   "cell_type": "code",
   "execution_count": 9,
   "metadata": {},
   "outputs": [
    {
     "name": "stderr",
     "output_type": "stream",
     "text": [
      "/var/folders/s4/yckpqxmx6cnf837zqjqn_hxc0000gn/T/ipykernel_43805/430631756.py:1: FutureWarning: The default value of regex will change from True to False in a future version.\n",
      "  opportunities.columns = opportunities.columns.str.replace('\\([^)]*\\)', '')\n",
      "/var/folders/s4/yckpqxmx6cnf837zqjqn_hxc0000gn/T/ipykernel_43805/430631756.py:2: FutureWarning: The default value of regex will change from True to False in a future version.\n",
      "  opportunities.columns = opportunities.columns.str.replace(':.', '')\n"
     ]
    }
   ],
   "source": [
    "opportunities.columns = opportunities.columns.str.replace('\\([^)]*\\)', '')\n",
    "opportunities.columns = opportunities.columns.str.replace(':.', '')\n",
    "opportunities.columns = opportunities.columns.str.replace('/', '_')\n",
    "opportunities = opportunities.rename(columns=lambda x : x.strip())\n",
    "opportunities.columns = opportunities.columns.str.replace(' ','_')\n",
    "opportunities.columns = opportunities.columns.str.replace('Address_1', '')"
   ]
  },
  {
   "cell_type": "code",
   "execution_count": 10,
   "metadata": {},
   "outputs": [
    {
     "name": "stdout",
     "output_type": "stream",
     "text": [
      "opportunity_id\n"
     ]
    }
   ],
   "source": [
    "# rename system systen generated GUID to opportunityID\n",
    "opportunities.rename(columns={opportunities.columns[0]: 'opportunity_id'}, inplace=True)\n",
    "print(opportunities.columns[0])"
   ]
  },
  {
   "cell_type": "code",
   "execution_count": 11,
   "metadata": {},
   "outputs": [
    {
     "name": "stdout",
     "output_type": "stream",
     "text": [
      "opportunity_id\n",
      "Row_Checksum\n",
      "Modified_On\n",
      "Opportunity_Name\n",
      "Account\n",
      "Entity_ID\n",
      "Street_1\n",
      "City\n",
      "State_Province\n",
      "County\n",
      "Country_Region\n",
      "ZIP_Postal_Code\n",
      "Latitude\n",
      "Longitude\n",
      "Contact\n",
      "Description\n",
      "LOB_Service_Line\n",
      "Solution_Set\n",
      "Currency\n",
      "Est._Fees\n",
      "Est._Revenue\n",
      "Total_Amount\n",
      "Lead_Source\n",
      "Type\n",
      "Probability\n",
      "AccountOriginal_Source\n",
      "Account_Rating\n",
      "MSA\n",
      "No._of_Employees\n",
      "Original_Opportunity\n",
      "Open_Deals\n",
      "Open_Revenue\n",
      "Revenue_This_Year_Aggregated\n",
      "Type_of_Government_Contractor\n",
      "Customer_Need\n",
      "Engagement_Type\n",
      "Rating\n",
      "Owner\n",
      "Account_Mgmt_1\n",
      "Account_Mgmt_2\n",
      "Relationship_Lead\n",
      "Consulting_Lead\n",
      "Region\n",
      "Annual_Revenue\n",
      "Business_Developer_1\n",
      "Business_Developer_2\n",
      "Import_Date\n",
      "Record_Created_On\n",
      "Created_On\n",
      "Modified_On\n",
      "Est._Close_Date\n",
      "Actual_Close_Date\n",
      "System_Close_Date\n",
      "Status_Reason\n",
      "Sales_Stage\n",
      "Status\n",
      "Collaboration-Approved_Date\n",
      "Referral_Contact\n",
      "Approval_Status\n",
      "Commissonable\n",
      "Created_By\n",
      "PSE_1\n",
      "PSE_2\n",
      "CJP_Target\n",
      "CFY_RSM_Services_Spend\n",
      "Current_Situation\n",
      "D&B_Company\n",
      "Deliverability_Rating\n",
      "D&B_Financial\n",
      "EAL\n",
      "Import_Date\n",
      "Internationally_Active\n",
      "IPM_Date_Acquired\n",
      "IPM_Date_Lost\n",
      "IPM_Lost_Reason\n",
      "Last_Interaction\n",
      "Microsoft_Enterprise_Agreement\n",
      "Microsoft_Reference_Program\n",
      "NAICS\n",
      "National_Initiative\n",
      "Other_Software\n",
      "Preferred_Method_of_Contact\n",
      "Preferred_Service\n",
      "Private_Equity\n",
      "Referral_Notes\n",
      "Referring_Firm\n",
      "Relationship_Strength\n",
      "Revenue_Last_Year\n",
      "Revenue_Last_Year\n",
      "Revenue_This_Year\n",
      "Revenue_This_Year\n",
      "Territory\n",
      "Territory_Code\n",
      "VIP_Client?\n",
      "Full_Name\n",
      "Full_or_Part-time\n",
      "Function\n",
      "Job_Title\n",
      "Office_Location\n",
      "Assets\n",
      "Assets\n",
      "Business_Type\n",
      "Category\n",
      "Client_Status\n",
      "D&B_Company\n",
      "D&B_Financial\n",
      "D&B_Match_Flag\n",
      "D&B_NAICS\n",
      "D&B_Ultimate_Parent\n",
      "Market_Capitalization\n",
      "Market_Capitalization\n",
      "National_Initiative\n",
      "Other_Software\n",
      "PFY_RSM_Services_Spend\n"
     ]
    }
   ],
   "source": [
    "\"\"\"\n",
    "Sanity check\n",
    "\"\"\"\n",
    "for column in list(opportunities.columns):\n",
    "    print(column)"
   ]
  },
  {
   "cell_type": "code",
   "execution_count": 12,
   "metadata": {},
   "outputs": [
    {
     "name": "stderr",
     "output_type": "stream",
     "text": [
      "/var/folders/s4/yckpqxmx6cnf837zqjqn_hxc0000gn/T/ipykernel_43805/389924680.py:1: FutureWarning: The default value of regex will change from True to False in a future version.\n",
      "  opportunities['NAICS'] = opportunities['NAICS'].str.replace(r'\\D', '')\n"
     ]
    }
   ],
   "source": [
    "opportunities['NAICS'] = opportunities['NAICS'].str.replace(r'\\D', '')\n",
    "opportunities['NAICS'] = opportunities['NAICS'].str.strip()"
   ]
  },
  {
   "cell_type": "code",
   "execution_count": 13,
   "metadata": {},
   "outputs": [],
   "source": [
    "opportunities['NAICS'] = opportunities['NAICS'].fillna(value=0)\n",
    "opportunities['NAICS'].isnull().sum()\n",
    "opportunities['NAICS'] = opportunities['NAICS'].astype(int)"
   ]
  },
  {
   "cell_type": "code",
   "execution_count": 14,
   "metadata": {},
   "outputs": [],
   "source": [
    "opportunities = pd.merge(opportunities, NAICS, how='inner', left_on = ['NAICS'],  right_on = ['mcg_naicscode'])"
   ]
  },
  {
   "cell_type": "markdown",
   "metadata": {},
   "source": [
    "*Handle Missing and Non-informative Data*\n",
    "\n",
    "- Drop columns containing non-informative data\n",
    "- Drop all features missing 50% or more data\n",
    "- Replace missing values for categorical features with \"\\_missing_\"\n",
    "- Replace missing numerical features with appropriate values or drop if necessary"
   ]
  },
  {
   "cell_type": "code",
   "execution_count": 15,
   "metadata": {},
   "outputs": [
    {
     "data": {
      "text/plain": [
       "(3451, 121)"
      ]
     },
     "execution_count": 15,
     "metadata": {},
     "output_type": "execute_result"
    }
   ],
   "source": [
    "opportunities.shape"
   ]
  },
  {
   "cell_type": "code",
   "execution_count": 16,
   "metadata": {},
   "outputs": [
    {
     "name": "stdout",
     "output_type": "stream",
     "text": [
      "Dropping non-informative features reduces the dimension of the dataset to 77 features.\n"
     ]
    }
   ],
   "source": [
    "# drop unecessary columns\n",
    "opportunities.drop(columns=['Row_Checksum', 'LOB_Service_Line', 'Solution_Set', 'D&B_Company', \n",
    "                            'D&B_Financial', 'IPM_Date_Acquired', 'IPM_Date_Lost', 'Import_Date', \n",
    "                            'Record_Created_On', 'Modified_On', 'Actual_Close_Date', 'Sales_Stage', \n",
    "                            'Original_Opportunity', 'D&B_Company', 'Assets', 'Opportunity_Name', 'Account', \n",
    "                            'Est._Fees', 'Total_Amount', 'Revenue_This_Year_Aggregated', 'Status_Reason', 'MSA',\n",
    "                            'Rating', 'Consulting_Lead', 'Region', 'Deliverability_Rating', 'Relationship_Strength', 'mcg_naicscode',\n",
    "                            'mcg_name', 'mcg_sicdescription', 'Commissonable', 'CJP_Target', 'AccountOriginal_Source', 'Business_Type',\n",
    "                            'D&B_NAICS', 'National_Initiative', 'Territory_Code', 'Last_Interaction', 'NAICS'],\n",
    "                            axis=1, inplace=True)\n",
    "\n",
    "print(\"Dropping non-informative features reduces the dimension of the dataset to {} features.\".format(len(opportunities.columns)))"
   ]
  },
  {
   "cell_type": "code",
   "execution_count": 17,
   "metadata": {},
   "outputs": [
    {
     "name": "stdout",
     "output_type": "stream",
     "text": [
      "0 opportunity_id\n",
      "1 Entity_ID\n",
      "2 Street_1\n",
      "3 City\n",
      "4 State_Province\n",
      "5 County\n",
      "6 Country_Region\n",
      "7 ZIP_Postal_Code\n",
      "8 Latitude\n",
      "9 Longitude\n",
      "10 Contact\n",
      "11 Description\n",
      "12 Currency\n",
      "13 Est._Revenue\n",
      "14 Lead_Source\n",
      "15 Type\n",
      "16 Probability\n",
      "17 Account_Rating\n",
      "18 No._of_Employees\n",
      "19 Open_Deals\n",
      "20 Open_Revenue\n",
      "21 Type_of_Government_Contractor\n",
      "22 Customer_Need\n",
      "23 Engagement_Type\n",
      "24 Owner\n",
      "25 Account_Mgmt_1\n",
      "26 Account_Mgmt_2\n",
      "27 Relationship_Lead\n",
      "28 Annual_Revenue\n",
      "29 Business_Developer_1\n",
      "30 Business_Developer_2\n",
      "31 Created_On\n",
      "32 Est._Close_Date\n",
      "33 System_Close_Date\n",
      "34 Status\n",
      "35 Collaboration-Approved_Date\n",
      "36 Referral_Contact\n",
      "37 Approval_Status\n",
      "38 Created_By\n",
      "39 PSE_1\n",
      "40 PSE_2\n",
      "41 CFY_RSM_Services_Spend\n",
      "42 Current_Situation\n",
      "43 EAL\n",
      "44 Internationally_Active\n",
      "45 IPM_Lost_Reason\n",
      "46 Microsoft_Enterprise_Agreement\n",
      "47 Microsoft_Reference_Program\n",
      "48 Other_Software\n",
      "49 Preferred_Method_of_Contact\n",
      "50 Preferred_Service\n",
      "51 Private_Equity\n",
      "52 Referral_Notes\n",
      "53 Referring_Firm\n",
      "54 Revenue_Last_Year\n",
      "55 Revenue_Last_Year\n",
      "56 Revenue_This_Year\n",
      "57 Revenue_This_Year\n",
      "58 Territory\n",
      "59 VIP_Client?\n",
      "60 Full_Name\n",
      "61 Full_or_Part-time\n",
      "62 Function\n",
      "63 Job_Title\n",
      "64 Office_Location\n",
      "65 Category\n",
      "66 Client_Status\n",
      "67 D&B_Match_Flag\n",
      "68 D&B_Ultimate_Parent\n",
      "69 Market_Capitalization\n",
      "70 Market_Capitalization\n",
      "71 Other_Software\n",
      "72 PFY_RSM_Services_Spend\n",
      "73 mcg_industrysector_displayname\n",
      "74 mcg_industry_displayname\n",
      "75 mcg_subsectortext0\n",
      "76 mcg_description\n"
     ]
    }
   ],
   "source": [
    "for i in range(len(opportunities.columns)):\n",
    "    print(i, opportunities.columns[i])"
   ]
  },
  {
   "cell_type": "code",
   "execution_count": 18,
   "metadata": {},
   "outputs": [],
   "source": [
    "opportunities.rename(columns={'mcg_industry_displayname' : 'industry','mcg_industrysector_displayname' : 'industry_sector', \n",
    "                                'mcg_subsectortext0' : 'industry_subsector', 'mcg_description' : 'description'}, inplace=True)"
   ]
  },
  {
   "cell_type": "code",
   "execution_count": 19,
   "metadata": {},
   "outputs": [
    {
     "name": "stdout",
     "output_type": "stream",
     "text": [
      "datetime64[ns]\n",
      "datetime64[ns]\n",
      "datetime64[ns]\n"
     ]
    }
   ],
   "source": [
    "print(opportunities['Created_On'].dtype)\n",
    "print(opportunities['Est._Close_Date'].dtype)\n",
    "print(opportunities['System_Close_Date'].dtype)"
   ]
  },
  {
   "cell_type": "code",
   "execution_count": 20,
   "metadata": {},
   "outputs": [
    {
     "data": {
      "text/plain": [
       "858"
      ]
     },
     "execution_count": 20,
     "metadata": {},
     "output_type": "execute_result"
    }
   ],
   "source": [
    "opportunities['days_active'] = opportunities['System_Close_Date'] - opportunities['Created_On']\n",
    "opportunities['days_active'] = opportunities['days_active'] / np.timedelta64(1, 'D')\n",
    "opportunities['days_active'][opportunities['days_active'] < 0].count()"
   ]
  },
  {
   "cell_type": "code",
   "execution_count": 21,
   "metadata": {},
   "outputs": [],
   "source": [
    "problem_dates = \\\n",
    "opportunities[['days_active', 'Created_On', 'System_Close_Date']][opportunities['days_active'] < 0]"
   ]
  },
  {
   "cell_type": "markdown",
   "metadata": {},
   "source": [
    "Creating the column \"days_active\" and counting days_active values < 0 shows a total of 858 opportunities that were active for a negative amount of days. This is likely due to errors during data entry or import of records into the customer relationship management system."
   ]
  },
  {
   "cell_type": "code",
   "execution_count": 22,
   "metadata": {},
   "outputs": [
    {
     "data": {
      "text/plain": [
       "opportunity_id    0\n",
       "Entity_ID         0\n",
       "dtype: int64"
      ]
     },
     "execution_count": 22,
     "metadata": {},
     "output_type": "execute_result"
    }
   ],
   "source": [
    "opportunities[['opportunity_id', 'Entity_ID']].isna().sum()"
   ]
  },
  {
   "cell_type": "code",
   "execution_count": 23,
   "metadata": {},
   "outputs": [
    {
     "name": "stdout",
     "output_type": "stream",
     "text": [
      "Dropping features missing 50 percent or more data reduces the dimension of the dataset to 42 features.\n"
     ]
    }
   ],
   "source": [
    "# drop columns missing more than 50% of values\n",
    "perc = 0.50\n",
    "threshold = int(perc*opportunities.shape[0])\n",
    "opportunities.dropna(axis=1, thresh=threshold, inplace=True)\n",
    "print(\"Dropping features missing 50 percent or more data reduces the dimension of the dataset\"\n",
    "\" to {} features.\".format(len(opportunities.columns)))"
   ]
  },
  {
   "cell_type": "markdown",
   "metadata": {},
   "source": [
    "Separate continuous and categorical features"
   ]
  },
  {
   "cell_type": "code",
   "execution_count": 24,
   "metadata": {},
   "outputs": [],
   "source": [
    "# seperate numerical and categorical columns\n",
    "opportunityID = opportunities[['opportunity_id', 'Entity_ID']].copy()\n",
    "opp_numeric = opportunities.select_dtypes(include=[np.number])\n",
    "opp_non_numeric = opportunities.select_dtypes(exclude=[np.number])\n",
    "opp_non_numeric.drop(columns=['City','Street_1', 'State_Province', 'Country_Region','County',\n",
    "                             'ZIP_Postal_Code'], inplace=True)\n",
    "opp_geographic = opportunities.iloc[:, 0:10].copy()"
   ]
  },
  {
   "cell_type": "code",
   "execution_count": 25,
   "metadata": {},
   "outputs": [],
   "source": [
    "opp_numeric = pd.merge(opportunityID, opp_numeric, left_index=True, right_index=True, how='inner')\n",
    "opp_non_numeric = pd.merge(opportunityID, opp_non_numeric, left_index=True, right_index=True, how='inner')\n",
    "opp_numeric.drop(columns=['Entity_ID_y', 'Latitude', 'Longitude'], axis=1, inplace=True)\n",
    "opp_non_numeric.drop(columns=['opportunity_id_y'], axis=1, inplace=True)\n",
    "opp_numeric.rename(columns={'Entity_ID_x' : 'Entity_ID'}, inplace=True)\n",
    "opp_non_numeric.rename(columns={'opportunity_id_x' : 'opportunity_id'}, inplace=True)\n",
    "opp_numeric.set_index(['opportunity_id', 'Entity_ID'], inplace=True)\n",
    "opp_non_numeric.set_index(['opportunity_id', 'Entity_ID'], inplace=True)\n",
    "opp_geographic.set_index(['opportunity_id', 'Entity_ID'], inplace=True)"
   ]
  },
  {
   "cell_type": "code",
   "execution_count": 26,
   "metadata": {},
   "outputs": [
    {
     "name": "stdout",
     "output_type": "stream",
     "text": [
      "(3451, 8)\n",
      "(3451, 24)\n"
     ]
    }
   ],
   "source": [
    "# sanity check\n",
    "print(opp_numeric.shape)\n",
    "print(opp_non_numeric.shape)"
   ]
  },
  {
   "cell_type": "code",
   "execution_count": 27,
   "metadata": {},
   "outputs": [
    {
     "data": {
      "text/plain": [
       "Contact                             94\n",
       "Currency                             0\n",
       "Lead_Source                          3\n",
       "Type                                 0\n",
       "Probability                        219\n",
       "Account_Rating                    1501\n",
       "Owner                                0\n",
       "Account_Mgmt_1                    1385\n",
       "Relationship_Lead                    0\n",
       "Created_On                           0\n",
       "Est._Close_Date                      0\n",
       "System_Close_Date                    0\n",
       "Status                               0\n",
       "Created_By                           0\n",
       "Internationally_Active            1181\n",
       "Microsoft_Enterprise_Agreement    1245\n",
       "Preferred_Method_of_Contact          0\n",
       "Private_Equity                     375\n",
       "VIP_Client?                          0\n",
       "Client_Status                      497\n",
       "industry_sector                      1\n",
       "industry                             1\n",
       "industry_subsector                   1\n",
       "description                          0\n",
       "dtype: int64"
      ]
     },
     "execution_count": 27,
     "metadata": {},
     "output_type": "execute_result"
    }
   ],
   "source": [
    "opp_non_numeric.isnull().sum()"
   ]
  },
  {
   "cell_type": "code",
   "execution_count": 28,
   "metadata": {},
   "outputs": [
    {
     "data": {
      "text/plain": [
       "Contact                           0\n",
       "Currency                          0\n",
       "Lead_Source                       0\n",
       "Type                              0\n",
       "Probability                       0\n",
       "Account_Rating                    0\n",
       "Owner                             0\n",
       "Account_Mgmt_1                    0\n",
       "Relationship_Lead                 0\n",
       "Created_On                        0\n",
       "Est._Close_Date                   0\n",
       "System_Close_Date                 0\n",
       "Status                            0\n",
       "Created_By                        0\n",
       "Internationally_Active            0\n",
       "Microsoft_Enterprise_Agreement    0\n",
       "Preferred_Method_of_Contact       0\n",
       "Private_Equity                    0\n",
       "VIP_Client?                       0\n",
       "Client_Status                     0\n",
       "industry_sector                   0\n",
       "industry                          0\n",
       "industry_subsector                0\n",
       "description                       0\n",
       "dtype: int64"
      ]
     },
     "execution_count": 28,
     "metadata": {},
     "output_type": "execute_result"
    }
   ],
   "source": [
    "# fillna for categorical features with value \"_missing_\"\n",
    "opp_non_numeric.fillna(value='_missing_', inplace=True)\n",
    "opp_non_numeric.isnull().sum()"
   ]
  },
  {
   "cell_type": "code",
   "execution_count": 29,
   "metadata": {},
   "outputs": [
    {
     "data": {
      "text/plain": [
       "Est._Revenue                0\n",
       "No._of_Employees           17\n",
       "Open_Deals                  0\n",
       "Open_Revenue                0\n",
       "Annual_Revenue             18\n",
       "CFY_RSM_Services_Spend    453\n",
       "PFY_RSM_Services_Spend    453\n",
       "days_active                 0\n",
       "dtype: int64"
      ]
     },
     "execution_count": 29,
     "metadata": {},
     "output_type": "execute_result"
    }
   ],
   "source": [
    "opp_numeric.isnull().sum()"
   ]
  },
  {
   "cell_type": "markdown",
   "metadata": {},
   "source": [
    "Printing a count of null values for each continuous variable shows that the columns \"CFY_RSM_Services_Spend\" and \"PFY_RSM_Services_Spend\" are both missing 453 observations each. It's assumed that missing values in these columns represent clients who have not purchased consulting services from the firm in either of the two periods. As such, missing values will be replaced with 0. Furthermore, each of the remaining continuous predictors missing data represent a small fraction of the total record count and should be dropped to improve model performance."
   ]
  },
  {
   "cell_type": "code",
   "execution_count": 30,
   "metadata": {},
   "outputs": [],
   "source": [
    "# fill current fiscal year spend and previous fiscal year spend with 0, assuming if value not given no prior or current spend\n",
    "opp_numeric['CFY_RSM_Services_Spend'] = opp_numeric['CFY_RSM_Services_Spend'].fillna(value=0)\n",
    "opp_numeric['PFY_RSM_Services_Spend'] = opp_numeric['PFY_RSM_Services_Spend'].fillna(value=0)"
   ]
  },
  {
   "cell_type": "code",
   "execution_count": 31,
   "metadata": {},
   "outputs": [],
   "source": [
    "# Drop rows where annual revenue or number of employees is missing\n",
    "opp_numeric = opp_numeric.dropna(subset=['Annual_Revenue', 'No._of_Employees'])"
   ]
  },
  {
   "cell_type": "code",
   "execution_count": 32,
   "metadata": {},
   "outputs": [
    {
     "data": {
      "text/plain": [
       "(3433, 8)"
      ]
     },
     "execution_count": 32,
     "metadata": {},
     "output_type": "execute_result"
    }
   ],
   "source": [
    "# print dimensions\n",
    "opp_numeric.shape"
   ]
  },
  {
   "cell_type": "code",
   "execution_count": 33,
   "metadata": {},
   "outputs": [
    {
     "data": {
      "text/plain": [
       "Est._Revenue              0\n",
       "No._of_Employees          0\n",
       "Open_Deals                0\n",
       "Open_Revenue              0\n",
       "Annual_Revenue            0\n",
       "CFY_RSM_Services_Spend    0\n",
       "PFY_RSM_Services_Spend    0\n",
       "days_active               0\n",
       "dtype: int64"
      ]
     },
     "execution_count": 33,
     "metadata": {},
     "output_type": "execute_result"
    }
   ],
   "source": [
    "# sanity check\n",
    "opp_numeric.isnull().sum()"
   ]
  },
  {
   "cell_type": "markdown",
   "metadata": {},
   "source": [
    "## *Explore Categorical Features*"
   ]
  },
  {
   "cell_type": "markdown",
   "metadata": {},
   "source": [
    "Objectives\n",
    "- "
   ]
  },
  {
   "cell_type": "code",
   "execution_count": 35,
   "metadata": {},
   "outputs": [
    {
     "data": {
      "text/plain": [
       "Inactive - Junction Solutions         961\n",
       "Partner                               492\n",
       "BD Activity                           473\n",
       "Director                              383\n",
       "Referral - Other                      366\n",
       "Inside Sales                          164\n",
       "Manager                               153\n",
       "Referral - Microsoft                   91\n",
       "Marketing Campaign - National          87\n",
       "Website                                77\n",
       "National Call Center                   58\n",
       "Reputation                             41\n",
       "Other                                  40\n",
       "RSM System Selection                   38\n",
       "RFP                                     8\n",
       "COI                                     4\n",
       "_missing_                               3\n",
       "Marketing Campaign - Regional           3\n",
       "RSM Alumni                              2\n",
       "Senior Director                         2\n",
       "RSM Alliance                            2\n",
       "Trade Show                              1\n",
       "Inactive - Explore Consulting, LLC      1\n",
       "RSM Int'l Inbound                       1\n",
       "Name: Lead_Source, dtype: int64"
      ]
     },
     "execution_count": 35,
     "metadata": {},
     "output_type": "execute_result"
    }
   ],
   "source": [
    "opp_non_numeric['Lead_Source'].value_counts()"
   ]
  },
  {
   "cell_type": "code",
   "execution_count": 36,
   "metadata": {},
   "outputs": [
    {
     "data": {
      "text/plain": [
       "Type\n",
       "Existing Relationship - New Business    1741\n",
       "Existing Relationship - Renewal          905\n",
       "New Relationship - New Business          805\n",
       "dtype: int64"
      ]
     },
     "execution_count": 36,
     "metadata": {},
     "output_type": "execute_result"
    }
   ],
   "source": [
    "opp_non_numeric.value_counts('Type')"
   ]
  },
  {
   "cell_type": "code",
   "execution_count": 37,
   "metadata": {},
   "outputs": [
    {
     "data": {
      "text/plain": [
       "Owner\n",
       "Chris Hafenscher    326\n",
       "Michael Webster     264\n",
       "Debby Smith         256\n",
       "Jay Jordan          201\n",
       "Seth Derevensky     158\n",
       "                   ... \n",
       "Paul Vial             1\n",
       "Paul Calamita         1\n",
       "John Harder           1\n",
       "John Jones            1\n",
       "Kerensa Butler        1\n",
       "Length: 236, dtype: int64"
      ]
     },
     "execution_count": 37,
     "metadata": {},
     "output_type": "execute_result"
    }
   ],
   "source": [
    "opp_non_numeric.value_counts('Owner')"
   ]
  },
  {
   "cell_type": "code",
   "execution_count": null,
   "metadata": {},
   "outputs": [],
   "source": [
    "## *Explore Continuous Variables*"
   ]
  },
  {
   "cell_type": "markdown",
   "metadata": {},
   "source": [
    "### Methods\n",
    "\n",
    "- Print Summary Statistics\n",
    "- Distribution Plots"
   ]
  },
  {
   "cell_type": "code",
   "execution_count": null,
   "metadata": {},
   "outputs": [],
   "source": [
    "# print summary statistics\n",
    "pd.set_option('display.float_format', lambda x: '%.4f' % x)\n",
    "opp_numeric.iloc[:, 3:].describe()"
   ]
  },
  {
   "cell_type": "markdown",
   "metadata": {},
   "source": [
    "## *Explore Relationship Between Variables*"
   ]
  },
  {
   "cell_type": "markdown",
   "metadata": {},
   "source": [
    "### Methods\n",
    "\n",
    "- Pearson's Correlation"
   ]
  },
  {
   "cell_type": "code",
   "execution_count": null,
   "metadata": {},
   "outputs": [],
   "source": [
    "opp_numeric.iloc[:, 3:].corr()"
   ]
  },
  {
   "cell_type": "code",
   "execution_count": null,
   "metadata": {},
   "outputs": [],
   "source": [
    "# plot correlation of numeric data\n",
    "sns.set(rc={\"figure.figsize\":(10, 6)})\n",
    "correlation = sns.heatmap(opp_numeric.iloc[:, 3:].corr(), \n",
    "                          annot=True).set_title('Pearson\\'s Correlation: Opportunity Features')"
   ]
  },
  {
   "cell_type": "code",
   "execution_count": null,
   "metadata": {},
   "outputs": [],
   "source": [
    "fig = px.histogram(opp_numeric, x='Est._Revenue')\n",
    "fig.show()"
   ]
  },
  {
   "cell_type": "code",
   "execution_count": null,
   "metadata": {},
   "outputs": [],
   "source": [
    "fig = px.box(opp_numeric, y='No._of_Employees')\n",
    "fig.show()"
   ]
  },
  {
   "cell_type": "code",
   "execution_count": null,
   "metadata": {},
   "outputs": [],
   "source": [
    "fig = go.Figure()\n",
    "fig.add_trace(go.Histogram(x=x0))\n",
    "fig.add_trace(go.Histogram(x=x1))\n",
    "\n",
    "# Overlay both histograms\n",
    "fig.update_layout(barmode='overlay')\n",
    "# Reduce opacity to see both histograms\n",
    "fig.update_traces(opacity=0.75)\n",
    "fig.show()"
   ]
  },
  {
   "cell_type": "code",
   "execution_count": null,
   "metadata": {},
   "outputs": [],
   "source": [
    "opportunities = pd.merge(opp_numeric, opp_non_numeric, left_index=True, right_index=True, how='inner')\n",
    "#opportunities = opp_numeric.join(opp_non_numeric, lsuffix='left', rsuffix='right')\n",
    "for i in range(len(opportunities.columns)):\n",
    "    print(i, opportunities.columns[i])"
   ]
  },
  {
   "cell_type": "code",
   "execution_count": null,
   "metadata": {},
   "outputs": [],
   "source": [
    "opp_non_numeric.shape"
   ]
  },
  {
   "cell_type": "code",
   "execution_count": null,
   "metadata": {},
   "outputs": [],
   "source": [
    "opportunities.isnull().sum()"
   ]
  },
  {
   "cell_type": "code",
   "execution_count": null,
   "metadata": {},
   "outputs": [],
   "source": [
    "opportunities.to_excel('Opportunity_reduced.xlsx')"
   ]
  }
 ],
 "metadata": {
  "interpreter": {
   "hash": "4e3f8d8e2be6fa4a138a8c814706caf5245fc71966a34d71b207bc204ad3416b"
  },
  "kernelspec": {
   "display_name": "Python 3.9.12 ('FinalProjectLocal-uhAi4IsK')",
   "language": "python",
   "name": "python3"
  },
  "language_info": {
   "codemirror_mode": {
    "name": "ipython",
    "version": 3
   },
   "file_extension": ".py",
   "mimetype": "text/x-python",
   "name": "python",
   "nbconvert_exporter": "python",
   "pygments_lexer": "ipython3",
   "version": "3.9.12"
  },
  "orig_nbformat": 4
 },
 "nbformat": 4,
 "nbformat_minor": 2
}
