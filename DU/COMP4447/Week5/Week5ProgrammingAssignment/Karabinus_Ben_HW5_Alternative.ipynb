{
 "cells": [
  {
   "cell_type": "markdown",
   "metadata": {},
   "source": [
    "# Homework 5 Alternative Assignment "
   ]
  },
  {
   "cell_type": "markdown",
   "metadata": {},
   "source": [
    "## *Part One*"
   ]
  },
  {
   "cell_type": "code",
   "execution_count": 1,
   "metadata": {},
   "outputs": [],
   "source": [
    "# import necessary libraries\n",
    "import pandas as pd\n",
    "import numpy as np\n",
    "import seaborn as sns"
   ]
  },
  {
   "cell_type": "code",
   "execution_count": 2,
   "metadata": {},
   "outputs": [
    {
     "name": "stdout",
     "output_type": "stream",
     "text": [
      "        name symbol  atomicNumber\n",
      "0   Hydrogen      H             1\n",
      "1     Helium     He             2\n",
      "2    Lithium     Li             3\n",
      "3  Beryllium     Be             4\n",
      "4      Boron      B             5\n",
      "5     Carbon      C             6\n",
      "6   Nitrogen      N             7\n",
      "7     Oxygen      O             8\n"
     ]
    }
   ],
   "source": [
    "# read in the file\n",
    "elements = pd.read_csv('elements.csv')\n",
    "print(elements)"
   ]
  },
  {
   "cell_type": "code",
   "execution_count": 3,
   "metadata": {},
   "outputs": [
    {
     "name": "stdout",
     "output_type": "stream",
     "text": [
      "        name symbol  atomicNumber  atomicWeights\n",
      "0   Hydrogen      H             1            1.0\n",
      "1     Helium     He             2            4.0\n",
      "2    Lithium     Li             3            7.0\n",
      "3  Beryllium     Be             4            9.0\n",
      "4      Boron      B             5           11.0\n",
      "5     Carbon      C             6           12.0\n",
      "6   Nitrogen      N             7           14.0\n",
      "7     Oxygen      O             8           16.0\n",
      "8   Fluorine      F             9           19.0\n",
      "9       Neon     Ne            10           20.0\n"
     ]
    }
   ],
   "source": [
    "# add values\n",
    "nineTen = pd.DataFrame({'name': ['Fluorine', 'Neon'], 'symbol': ['F', 'Ne'], \n",
    "                        'atomicNumber': [9, 10]})\n",
    "elements = pd.concat([elements, nineTen], ignore_index=True)\n",
    "# add atomic weights rounded to the nearest integer\n",
    "elements['atomicWeights'] = [1.08, 4.003, 6.940, 9.012, 10.810, 12.001,\n",
    "                                 14.007, 15.999, 18.998, 20.180]\n",
    "elements = elements.round({\"atomicWeights\": 0})\n",
    "print(elements)"
   ]
  },
  {
   "cell_type": "markdown",
   "metadata": {},
   "source": [
    "## *Part Two*"
   ]
  },
  {
   "cell_type": "code",
   "execution_count": 4,
   "metadata": {},
   "outputs": [
    {
     "name": "stdout",
     "output_type": "stream",
     "text": [
      "   letters       arr1       arr2     angle    cosine\n",
      "0     iota  10.181446  11.760714  3.631866 -0.882204\n",
      "1     beta   9.792036   9.259879  4.720210  0.007821\n",
      "2    alpha   8.575717  10.349080  0.518281  0.868672\n",
      "3  epsilon   9.698280  10.818537  4.551885 -0.159816\n",
      "4      eta   9.748451   9.812889  4.539521 -0.172008\n",
      "5    gamma   8.463357   9.139977  3.558344 -0.914409\n",
      "6    theta   7.126539  10.287968  2.549985 -0.830045\n",
      "7    delta  10.391052   6.805515  1.425760  0.144528\n",
      "8     zeta   7.623752   9.908201  0.038428  0.999262\n"
     ]
    }
   ],
   "source": [
    "# greek alphabet list\n",
    "letters = ['alpha', 'beta', 'gamma', 'delta', 'epsilon',\n",
    "            'zeta', 'eta', 'theta', 'iota']\n",
    "np.random.shuffle(letters)\n",
    "# random np.arrays\n",
    "mu = 10\n",
    "sigma = 1.5\n",
    "arr1 = sigma * np.random.randn(9) + mu\n",
    "arr2 = sigma * np.random.randn(9) + mu\n",
    "# nine element array ranging from 0 to 2*pi\n",
    "angle = np.random.uniform(0, 2*np.pi, 9)\n",
    "cosine = np.cos(angle)\n",
    "# make the dataframe\n",
    "mixedDict = {'letters': letters, 'arr1': arr1, 'arr2': arr2,\n",
    "                'angle': angle, 'cosine': cosine}\n",
    "mixedDataframe = pd.DataFrame(mixedDict)\n",
    "print(mixedDataframe)"
   ]
  },
  {
   "cell_type": "code",
   "execution_count": 5,
   "metadata": {},
   "outputs": [
    {
     "name": "stdout",
     "output_type": "stream",
     "text": [
      "   letters       arr1     angle\n",
      "2    alpha   8.575717  0.518281\n",
      "1     beta   9.792036  4.720210\n",
      "7    delta  10.391052  1.425760\n",
      "3  epsilon   9.698280  4.551885\n",
      "4      eta   9.748451  4.539521\n",
      "5    gamma   8.463357  3.558344\n",
      "0     iota  10.181446  3.631866\n",
      "6    theta   7.126539  2.549985\n"
     ]
    }
   ],
   "source": [
    "# sort, drop , print\n",
    "mixedDataframe.sort_values(by='letters', ascending=True, inplace=True)\n",
    "mixedDataframe.drop(['arr2', 'cosine'], axis=1, inplace=True)\n",
    "mixedDataframe = mixedDataframe[mixedDataframe.letters != 'zeta']\n",
    "print(mixedDataframe)"
   ]
  },
  {
   "cell_type": "markdown",
   "metadata": {},
   "source": [
    "## *Part Three*"
   ]
  },
  {
   "cell_type": "code",
   "execution_count": 6,
   "metadata": {},
   "outputs": [],
   "source": [
    "# function to print fibonacci numbers\n",
    "def fibonacci(n):\n",
    "    fibArray = []\n",
    "    for i in range(n+1):\n",
    "        if i == 0:\n",
    "            fibArray.append(i)\n",
    "        elif i == 1 or i == 2:\n",
    "            fibArray.append(1)\n",
    "        else:\n",
    "            fibArray.append(fibArray[i-1]+fibArray[i-2])\n",
    "    fibRatio = []\n",
    "    for i in range(len(fibArray)-4, len(fibArray)):\n",
    "        fibRatio.append(fibArray[i]/fibArray[i-1])\n",
    "    return fibArray, fibRatio"
   ]
  },
  {
   "cell_type": "code",
   "execution_count": 7,
   "metadata": {},
   "outputs": [
    {
     "name": "stdout",
     "output_type": "stream",
     "text": [
      "[0, 1, 1, 2, 3, 5, 8, 13, 21, 34, 55, 89, 144]\n",
      "[1.619047619047619, 1.6176470588235294, 1.6181818181818182, 1.6179775280898876]\n",
      "The ratio of any two successive Fibonacci numbers is very close to the \"Goden Ratio\". A number naturally occuring in nature.\n"
     ]
    }
   ],
   "source": [
    "# print results of Fibonacci function\n",
    "fibArray, fibRatio = fibonacci(12)\n",
    "print(fibArray)\n",
    "print(fibRatio)\n",
    "print(\"The ratio of any two successive Fibonacci numbers \"\n",
    "        \"is very close to the \\\"Goden Ratio\\\". A number naturally occuring\"\n",
    "        \" in nature.\")"
   ]
  },
  {
   "cell_type": "markdown",
   "metadata": {},
   "source": [
    "## *Part Four*"
   ]
  },
  {
   "cell_type": "code",
   "execution_count": 8,
   "metadata": {},
   "outputs": [
    {
     "name": "stdout",
     "output_type": "stream",
     "text": [
      "1800.0\n",
      "3600.0\n",
      "5400.0\n",
      "7200.0\n",
      "9000.0\n"
     ]
    }
   ],
   "source": [
    "# define the conversion function and print values\n",
    "def kelvinToRankine(*args):\n",
    "        for arg in args:\n",
    "            print(arg * (9/5))\n",
    "kelvinToRankine(1000, 2000, 3000, 4000, 5000)"
   ]
  },
  {
   "cell_type": "code",
   "execution_count": 9,
   "metadata": {},
   "outputs": [
    {
     "name": "stdout",
     "output_type": "stream",
     "text": [
      "1800.0\n",
      "3600.0\n",
      "5400.0\n",
      "7200.0\n",
      "9000.0\n"
     ]
    }
   ],
   "source": [
    "# define the lambda function and print values\n",
    "kelvins = [1000, 2000, 3000, 4000, 5000]\n",
    "rankine = list((map(lambda temp : temp*(9/5), kelvins)))\n",
    "for temp in rankine: print(temp)"
   ]
  },
  {
   "cell_type": "markdown",
   "metadata": {},
   "source": [
    "## *Part Five*"
   ]
  },
  {
   "cell_type": "code",
   "execution_count": 10,
   "metadata": {},
   "outputs": [],
   "source": [
    "# create the dataframe\n",
    "mu = 0\n",
    "sigma = 1.0\n",
    "np.random.seed(14)\n",
    "data = pd.DataFrame({'col_one' : np.random.normal(mu, sigma, size=100),\n",
    "                     'col_two' : np.random.normal(mu, sigma, size=100)})"
   ]
  },
  {
   "cell_type": "code",
   "execution_count": 11,
   "metadata": {},
   "outputs": [
    {
     "name": "stdout",
     "output_type": "stream",
     "text": [
      "     col_one   col_two\n",
      "0  -0.549331 -2.071775\n",
      "1  -0.564781  1.545524\n",
      "2  -0.149443  0.149047\n",
      "3   1.691098 -2.073356\n",
      "4  -0.517402 -0.385871\n",
      "5  -1.217215 -0.573248\n",
      "6  -0.509808 -0.711182\n",
      "7  -0.314429  0.619435\n",
      "8   0.458509 -1.597322\n",
      "9   1.759860 -0.859598\n",
      "10  0.173977 -0.038607\n",
      "11  0.261186 -2.482785\n",
      "     col_one   col_two\n",
      "0   1.551339 -0.393439\n",
      "1  -2.004329  0.176182\n",
      "2   0.144678 -1.174295\n",
      "3  -0.186289  0.076601\n",
      "4  -1.075569 -1.556234\n",
      "5   0.777936 -0.631019\n",
      "6   1.009273 -0.034672\n",
      "7  -0.981713 -1.359729\n",
      "8   0.914673  0.520881\n",
      "9   0.022111 -0.117207\n",
      "10  1.326540 -0.631930\n",
      "11 -1.805723  0.522458\n"
     ]
    }
   ],
   "source": [
    "# split the data\n",
    "seventy_five = data.sample(frac=0.75, random_state=14)\n",
    "twenty_five = data.drop(seventy_five.index)\n",
    "seventy_five.reset_index(drop=True, inplace=True)\n",
    "twenty_five.reset_index(drop=True, inplace=True)\n",
    "print(seventy_five.head(12))\n",
    "print(twenty_five.head(12))"
   ]
  },
  {
   "cell_type": "code",
   "execution_count": 12,
   "metadata": {},
   "outputs": [
    {
     "name": "stdout",
     "output_type": "stream",
     "text": [
      "The mean both columns in the seventy_five dataframe are col_1: -0.18468832348613298 and col_2: -0.23028563845139297 \n"
     ]
    }
   ],
   "source": [
    "# print the mean of the seventy_five dataframe\n",
    "print(\"The mean both columns in the seventy_five dataframe are \"\n",
    "      \"col_1: {} and col_2: {} \".format(seventy_five.mean()[0], seventy_five.mean()[1]))\n"
   ]
  },
  {
   "cell_type": "code",
   "execution_count": 13,
   "metadata": {},
   "outputs": [
    {
     "name": "stdout",
     "output_type": "stream",
     "text": [
      "The mean both columns in the twenty_five dataframe are col_1: -0.13076770140588248 and col_2: -0.2264381002417534 \n"
     ]
    }
   ],
   "source": [
    "# print the mean of the twenty_five dataframe\n",
    "print(\"The mean both columns in the twenty_five dataframe are \"\n",
    "      \"col_1: {} and col_2: {} \".format(twenty_five.mean()[0], twenty_five.mean()[1]))"
   ]
  },
  {
   "cell_type": "markdown",
   "metadata": {},
   "source": [
    "## *Part Six*"
   ]
  },
  {
   "cell_type": "code",
   "execution_count": 14,
   "metadata": {},
   "outputs": [
    {
     "data": {
      "text/plain": [
       "survived         0\n",
       "pclass           0\n",
       "sex              0\n",
       "age            177\n",
       "sibsp            0\n",
       "parch            0\n",
       "fare             0\n",
       "embarked         2\n",
       "class            0\n",
       "who              0\n",
       "adult_male       0\n",
       "deck           688\n",
       "embark_town      2\n",
       "alive            0\n",
       "alone            0\n",
       "dtype: int64"
      ]
     },
     "execution_count": 14,
     "metadata": {},
     "output_type": "execute_result"
    }
   ],
   "source": [
    "# load the titanic data, check for missing values\n",
    "titanic = sns.load_dataset('titanic')\n",
    "titanic.isnull().sum()"
   ]
  },
  {
   "cell_type": "code",
   "execution_count": 15,
   "metadata": {},
   "outputs": [
    {
     "data": {
      "text/plain": [
       "pclass  sex   \n",
       "1       female     94\n",
       "        male      122\n",
       "2       female     76\n",
       "        male      108\n",
       "3       female    144\n",
       "        male      347\n",
       "Name: survived, dtype: int64"
      ]
     },
     "execution_count": 15,
     "metadata": {},
     "output_type": "execute_result"
    }
   ],
   "source": [
    "# total passenger count by group\n",
    "count_by_group = titanic.groupby(by=['pclass', 'sex']).count()['survived']\n",
    "count_by_group"
   ]
  },
  {
   "cell_type": "code",
   "execution_count": 16,
   "metadata": {},
   "outputs": [
    {
     "data": {
      "text/plain": [
       "pclass  sex   \n",
       "1       female    91\n",
       "        male      45\n",
       "2       female    70\n",
       "        male      17\n",
       "3       female    72\n",
       "        male      47\n",
       "Name: survived, dtype: int64"
      ]
     },
     "execution_count": 16,
     "metadata": {},
     "output_type": "execute_result"
    }
   ],
   "source": [
    "# count of survived passengers by group\n",
    "survived_count_by_group = titanic.groupby(by=['pclass', 'sex']).sum()['survived']\n",
    "survived_count_by_group"
   ]
  },
  {
   "cell_type": "code",
   "execution_count": 17,
   "metadata": {},
   "outputs": [
    {
     "data": {
      "text/plain": [
       "pclass  sex   \n",
       "1       female    96.808511\n",
       "        male      36.885246\n",
       "2       female    92.105263\n",
       "        male      15.740741\n",
       "3       female    50.000000\n",
       "        male      13.544669\n",
       "Name: survived, dtype: float64"
      ]
     },
     "execution_count": 17,
     "metadata": {},
     "output_type": "execute_result"
    }
   ],
   "source": [
    "# survival rate\n",
    "survived_count_by_group/count_by_group*100"
   ]
  },
  {
   "cell_type": "code",
   "execution_count": 18,
   "metadata": {},
   "outputs": [
    {
     "name": "stdout",
     "output_type": "stream",
     "text": [
      "['young_adult', 'adult', NaN, 'kid']\n",
      "Categories (3, object): ['kid' < 'young_adult' < 'adult']\n",
      "\n",
      "    age   age_groups\n",
      "0  22.0  young_adult\n",
      "1  38.0        adult\n",
      "2  26.0        adult\n",
      "3  35.0        adult\n",
      "4  35.0        adult\n",
      "5   NaN          NaN\n",
      "6  54.0        adult\n",
      "7   2.0          kid\n",
      "8  27.0        adult\n",
      "9  14.0          kid\n"
     ]
    }
   ],
   "source": [
    "# create bins by customer age\n",
    "titanic['age_groups'] = pd.cut(x=titanic['age'], bins=[0, 18, 25, 99],\n",
    "                               labels=['kid', 'young_adult', 'adult'])\n",
    "print(titanic['age_groups'].unique())\n",
    "print()\n",
    "print(titanic[['age', 'age_groups']].head(10))"
   ]
  }
 ],
 "metadata": {
  "interpreter": {
   "hash": "741397170dbf391066870165400efb4357f386788c4015c9dbb6ba5f4ffe1dc0"
  },
  "kernelspec": {
   "display_name": "Python 3.9.12 ('COMP4447-vIIoMJZg')",
   "language": "python",
   "name": "python3"
  },
  "language_info": {
   "codemirror_mode": {
    "name": "ipython",
    "version": 3
   },
   "file_extension": ".py",
   "mimetype": "text/x-python",
   "name": "python",
   "nbconvert_exporter": "python",
   "pygments_lexer": "ipython3",
   "version": "3.9.12"
  },
  "orig_nbformat": 4
 },
 "nbformat": 4,
 "nbformat_minor": 2
}
