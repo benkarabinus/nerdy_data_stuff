{
 "cells": [
  {
   "cell_type": "markdown",
   "metadata": {},
   "source": [
    "# Hw 1. Please complete the following activity and submit the notebook in LMS(learning management system)."
   ]
  },
  {
   "cell_type": "markdown",
   "metadata": {},
   "source": [
    "# Q1(.5 point) Why we need Python virtual environments?\n",
    "\n",
    "Please write no more than 3 lines."
   ]
  },
  {
   "cell_type": "markdown",
   "metadata": {},
   "source": [
    "\n",
    "\n",
    "Python virtual environments allow for specifying project specific dependencies. For example, a certain project might require Numpy version 1.14.4. Instead of having all collaborators on a project update their base installation of Python to Numpy version 1.14.4 collaborators can create isolated virtual environments with the necessary dependencies specified.\n",
    "\n"
   ]
  },
  {
   "cell_type": "markdown",
   "metadata": {},
   "source": [
    "# Q2(.5 point) Sort following list in place alphabetically using last three character"
   ]
  },
  {
   "cell_type": "code",
   "execution_count": 32,
   "metadata": {},
   "outputs": [
    {
     "name": "stdout",
     "output_type": "stream",
     "text": [
      "['Africa', 'America', 'Antarctica', 'Australia', 'Europe', 'Asia']\n"
     ]
    }
   ],
   "source": [
    "continentsL = ['Europe', 'Africa', 'America', 'Antarctica', 'Asia', 'Australia']\n",
    "# Write you code in the next line\n",
    "continentsL.sort(key=lambda element: element[-3:])\n",
    "print(continentsL)"
   ]
  },
  {
   "cell_type": "markdown",
   "metadata": {},
   "source": [
    "# Q3(1= .5+.5 points) We want to compare random integer generation time in numpy and random module of python. Generate 100 random integer in the range 1 to 10 including 1 and 10. Write jupyter notebook line magic to compare execution time of random integer generation in the following cells(look for the cells having the comment *write line magic*).  Line magic must execute the given statement  10 times in a loop and repeats 5 times.\n",
    "\n",
    " \n",
    " Hints:\n",
    "\n",
    " - Note that numpy.random has randint function and random has random.randint function.\n",
    " - Press shift+tab after typing above function or search their documentation to understand their parameters.\n",
    " - use ? on magic command timeit for further documentation. see how to use **-n and -r options**.\n",
    " "
   ]
  },
  {
   "cell_type": "code",
   "execution_count": 33,
   "metadata": {},
   "outputs": [],
   "source": [
    "import random\n",
    "num_sample = 100\n",
    "low = 1\n",
    "high = 10"
   ]
  },
  {
   "cell_type": "code",
   "execution_count": 34,
   "metadata": {},
   "outputs": [
    {
     "name": "stdout",
     "output_type": "stream",
     "text": [
      "72.9 µs ± 318 ns per loop (mean ± std. dev. of 5 runs, 10 loops each)\n"
     ]
    }
   ],
   "source": [
    "# write line magic for random module in the next line\n",
    "%timeit -n 10 -r 5 [random.randint(low, high) for i in range(num_sample+1)]"
   ]
  },
  {
   "cell_type": "code",
   "execution_count": 35,
   "metadata": {},
   "outputs": [],
   "source": [
    "import numpy as np"
   ]
  },
  {
   "cell_type": "code",
   "execution_count": 36,
   "metadata": {},
   "outputs": [
    {
     "name": "stdout",
     "output_type": "stream",
     "text": [
      "17.9 µs ± 3.32 µs per loop (mean ± std. dev. of 5 runs, 10 loops each)\n"
     ]
    }
   ],
   "source": [
    "# write line magic for numpy randint in the next line\n",
    "%timeit -n 10 -r 5 np.random.randint(11, size=100)"
   ]
  },
  {
   "cell_type": "markdown",
   "metadata": {},
   "source": [
    "<font size = \"6\"> To start working toward final project, complete the following questions by writing markdown in the same cell in next line. Each question is worth .5 point. </font>\n",
    "\n",
    "In tools 1 course, __*we are concerned with data cleaning, feature engineering and exploratory analysis. Make sure your selected final project allows for lots of data cleaning, transformation and engineering opportunity.*__ \n",
    "\n",
    "Go over project and presentation rubric in course webpage to better understand the requirement for the project.  We will evaluate the answer to see if it meets the final project requirements.\n",
    "\n",
    "\n",
    "\n",
    "<font color = \"red\" size = \"5\">If you are working in a team, we'll read only one team member notebook for the following questions. Please make sure you have identical answers for following questions.  </font>\n",
    "\n",
    "<font color =\"red\"> To edit a markdown cell you need to double click in the cell</font>"
   ]
  },
  {
   "cell_type": "markdown",
   "metadata": {},
   "source": [
    "# Q4 List your team members in bullet format.(No more than 3 members. It'll be hard for us to allow changing team member at a later stage.)\n",
    "Note that\n",
    "\n",
    "- **Each member** has to present a portion of the project in the final presentation.\n",
    "\n",
    "-  Final report must list the contribution of each member. \n"
   ]
  },
  {
   "cell_type": "markdown",
   "metadata": {},
   "source": [
    "# My Final Project Team Consists of the Following Members\n",
    "\n",
    "- Ben Karabinus\n",
    "\n"
   ]
  },
  {
   "cell_type": "markdown",
   "metadata": {},
   "source": [
    "# Q5  What  problem you are trying to solve?"
   ]
  },
  {
   "cell_type": "markdown",
   "metadata": {},
   "source": [
    "Initial thoughts for a problem that my group might want to solve are as follows:\n",
    "\n",
    "- Lead scoring, determining the best sales leads to pursue based on data collected from past sales cycles.\n",
    "\n"
   ]
  },
  {
   "cell_type": "markdown",
   "metadata": {},
   "source": [
    "# Q6 Describe the attributes of examples in the dataset. If you are planning to collect the data(webscrapping, web API etc.), list the time line to finish the data collection."
   ]
  },
  {
   "cell_type": "markdown",
   "metadata": {},
   "source": [
    "*write you response here*\n",
    "Attributes or fields contained in records detailing past sales cycles may include the following:\n",
    "\n",
    "- Name - The name of the sales lead. Sales leads will typically be some company or organization.\n",
    "- Revenue - The annual revenue of the company or organization.\n",
    "- Platform - What software platform was purchased (i.e., Salesforce, Business Central, Dynamics 365 Finance and Operations)\n",
    "- Contact - The primary person to contact at an organization during th sales cycle.\n",
    "- Relationship - Short descripton detailling past relationship (if any) with the organization of interest.\n",
    "- Location - The location (or headquarters if multiple) of the sales lead.\n",
    "- Opportunity - 0/1, was the lead converted to an opportunity.\n",
    "- Interaction - Date/Time when the lead was contacted during the sales cycle and notes regarding the interaction.\n",
    "- Won - 0/1 was the opportunity won and sale closed successfully.\n"
   ]
  },
  {
   "cell_type": "markdown",
   "metadata": {},
   "source": [
    "# Q7 Give example of records(sample points). Why this is a noisy data set(highlight  portion of record attributes you think are noisy)."
   ]
  },
  {
   "cell_type": "markdown",
   "metadata": {},
   "source": [
    "A sample record may appear in CSV format as below:\n",
    "\n",
    "Some Food Company, 1,000,000, Business Central, <font color=green>Rick Ross</font>, This client has previously partnered with our company to implement Dynamics Customer Engagement, <font color=green>Sacramento California</font>, 1, <font color=green>[1/2/2020: Rick Ross was contacted regarding installation of Business Central to meet his organizations accounting needs]</font>, 0\n",
    "\n",
    "The highlighted attributes in the above record are considered noisy because they either have little to no effect on the outcome or are in a format not suitable for analysis. For example, the primary point of contact for a particular sales lead might have little to no bearing on predicting the success of future leads in the sales pipeline."
   ]
  },
  {
   "cell_type": "markdown",
   "metadata": {},
   "source": [
    "# Q8 What kind of  feature engineering opportunity you see.\n",
    "\n",
    "We'll cover feature engineering but here are some examples to get an idea of feature engineering.\n",
    "- Do you need to extract a number, year, or a word in column(attribute of a record).\n",
    "    + Like may be extracting Miss, Mr., Dr. is more inportant than actual name.\n",
    "    + May be year or time is embbedded in the text desciption and it is important for analysis. \n",
    "- If a column has numerical values. Do you see a potential for using these values or a transformation of these values like square, log etc?"
   ]
  },
  {
   "cell_type": "markdown",
   "metadata": {},
   "source": [
    "Some possible opportunities for feature engineering in the above example record include the following:\n",
    "\n",
    "- Location - The Location field represnting the location of a sales lead's company headquarters should be split into two fields, city and state.\n",
    "\n",
    "- Interaction - The Interaction field could be analyzed independently and then transformed to represent the total number of positive or negative interactions that took place with the lead.\n",
    "\n",
    "- Relationship - The Relationship field can be converted to a binary (0/1) indicator of whether or not there was a past relatioship with the lead. Another field could be created to indicate whether the past relationship if any was positive."
   ]
  }
 ],
 "metadata": {
  "kernelspec": {
   "display_name": "Week1",
   "language": "python",
   "name": "week1"
  },
  "language_info": {
   "codemirror_mode": {
    "name": "ipython",
    "version": 3
   },
   "file_extension": ".py",
   "mimetype": "text/x-python",
   "name": "python",
   "nbconvert_exporter": "python",
   "pygments_lexer": "ipython3",
   "version": "3.9.10"
  },
  "toc": {
   "base_numbering": 1,
   "nav_menu": {},
   "number_sections": false,
   "sideBar": true,
   "skip_h1_title": false,
   "title_cell": "Table of Contents",
   "title_sidebar": "Contents",
   "toc_cell": false,
   "toc_position": {},
   "toc_section_display": true,
   "toc_window_display": false
  },
  "varInspector": {
   "cols": {
    "lenName": 16,
    "lenType": 16,
    "lenVar": 40
   },
   "kernels_config": {
    "python": {
     "delete_cmd_postfix": "",
     "delete_cmd_prefix": "del ",
     "library": "var_list.py",
     "varRefreshCmd": "print(var_dic_list())"
    },
    "r": {
     "delete_cmd_postfix": ") ",
     "delete_cmd_prefix": "rm(",
     "library": "var_list.r",
     "varRefreshCmd": "cat(var_dic_list()) "
    }
   },
   "types_to_exclude": [
    "module",
    "function",
    "builtin_function_or_method",
    "instance",
    "_Feature"
   ],
   "window_display": false
  }
 },
 "nbformat": 4,
 "nbformat_minor": 2
}
