{
 "cells": [
  {
   "cell_type": "code",
   "execution_count": 1,
   "metadata": {},
   "outputs": [],
   "source": [
    "# import needed modules\n",
    "import numpy as np\n",
    "import pandas as pd\n",
    "import random"
   ]
  },
  {
   "cell_type": "code",
   "execution_count": 2,
   "metadata": {},
   "outputs": [
    {
     "data": {
      "text/html": [
       "<div>\n",
       "<style scoped>\n",
       "    .dataframe tbody tr th:only-of-type {\n",
       "        vertical-align: middle;\n",
       "    }\n",
       "\n",
       "    .dataframe tbody tr th {\n",
       "        vertical-align: top;\n",
       "    }\n",
       "\n",
       "    .dataframe thead th {\n",
       "        text-align: right;\n",
       "    }\n",
       "</style>\n",
       "<table border=\"1\" class=\"dataframe\">\n",
       "  <thead>\n",
       "    <tr style=\"text-align: right;\">\n",
       "      <th></th>\n",
       "      <th>name</th>\n",
       "      <th>symbol</th>\n",
       "      <th>atomicNumber</th>\n",
       "    </tr>\n",
       "  </thead>\n",
       "  <tbody>\n",
       "    <tr>\n",
       "      <th>0</th>\n",
       "      <td>Hydrogen</td>\n",
       "      <td>H</td>\n",
       "      <td>1</td>\n",
       "    </tr>\n",
       "    <tr>\n",
       "      <th>1</th>\n",
       "      <td>Helium</td>\n",
       "      <td>He</td>\n",
       "      <td>2</td>\n",
       "    </tr>\n",
       "    <tr>\n",
       "      <th>2</th>\n",
       "      <td>Lithium</td>\n",
       "      <td>Li</td>\n",
       "      <td>3</td>\n",
       "    </tr>\n",
       "    <tr>\n",
       "      <th>3</th>\n",
       "      <td>Beryllium</td>\n",
       "      <td>Be</td>\n",
       "      <td>4</td>\n",
       "    </tr>\n",
       "    <tr>\n",
       "      <th>4</th>\n",
       "      <td>Boron</td>\n",
       "      <td>B</td>\n",
       "      <td>5</td>\n",
       "    </tr>\n",
       "    <tr>\n",
       "      <th>5</th>\n",
       "      <td>Carbon</td>\n",
       "      <td>C</td>\n",
       "      <td>6</td>\n",
       "    </tr>\n",
       "    <tr>\n",
       "      <th>6</th>\n",
       "      <td>Nitrogen</td>\n",
       "      <td>N</td>\n",
       "      <td>7</td>\n",
       "    </tr>\n",
       "    <tr>\n",
       "      <th>7</th>\n",
       "      <td>Oxygen</td>\n",
       "      <td>O</td>\n",
       "      <td>8</td>\n",
       "    </tr>\n",
       "  </tbody>\n",
       "</table>\n",
       "</div>"
      ],
      "text/plain": [
       "        name symbol  atomicNumber\n",
       "0   Hydrogen      H             1\n",
       "1     Helium     He             2\n",
       "2    Lithium     Li             3\n",
       "3  Beryllium     Be             4\n",
       "4      Boron      B             5\n",
       "5     Carbon      C             6\n",
       "6   Nitrogen      N             7\n",
       "7     Oxygen      O             8"
      ]
     },
     "execution_count": 2,
     "metadata": {},
     "output_type": "execute_result"
    }
   ],
   "source": [
    "# read in the elements csv file\n",
    "elements = pd.read_csv('elements.csv')\n",
    "elements"
   ]
  },
  {
   "cell_type": "code",
   "execution_count": 3,
   "metadata": {},
   "outputs": [],
   "source": [
    "nineTen = [{'name':'Fluorine','symbol':'F','atomicNumber':9}, \n",
    "            {'name':'Neon', 'symbol':'Ne', 'atomicNumber':10}]\n",
    "\n",
    "elements = elements.append(nineTen, ignore_index = True)"
   ]
  },
  {
   "cell_type": "code",
   "execution_count": 4,
   "metadata": {},
   "outputs": [
    {
     "data": {
      "text/html": [
       "<div>\n",
       "<style scoped>\n",
       "    .dataframe tbody tr th:only-of-type {\n",
       "        vertical-align: middle;\n",
       "    }\n",
       "\n",
       "    .dataframe tbody tr th {\n",
       "        vertical-align: top;\n",
       "    }\n",
       "\n",
       "    .dataframe thead th {\n",
       "        text-align: right;\n",
       "    }\n",
       "</style>\n",
       "<table border=\"1\" class=\"dataframe\">\n",
       "  <thead>\n",
       "    <tr style=\"text-align: right;\">\n",
       "      <th></th>\n",
       "      <th>name</th>\n",
       "      <th>symbol</th>\n",
       "      <th>atomicNumber</th>\n",
       "      <th>atomicWeights</th>\n",
       "    </tr>\n",
       "  </thead>\n",
       "  <tbody>\n",
       "    <tr>\n",
       "      <th>0</th>\n",
       "      <td>Hydrogen</td>\n",
       "      <td>H</td>\n",
       "      <td>1</td>\n",
       "      <td>1.0</td>\n",
       "    </tr>\n",
       "    <tr>\n",
       "      <th>1</th>\n",
       "      <td>Helium</td>\n",
       "      <td>He</td>\n",
       "      <td>2</td>\n",
       "      <td>4.0</td>\n",
       "    </tr>\n",
       "    <tr>\n",
       "      <th>2</th>\n",
       "      <td>Lithium</td>\n",
       "      <td>Li</td>\n",
       "      <td>3</td>\n",
       "      <td>7.0</td>\n",
       "    </tr>\n",
       "    <tr>\n",
       "      <th>3</th>\n",
       "      <td>Beryllium</td>\n",
       "      <td>Be</td>\n",
       "      <td>4</td>\n",
       "      <td>9.0</td>\n",
       "    </tr>\n",
       "    <tr>\n",
       "      <th>4</th>\n",
       "      <td>Boron</td>\n",
       "      <td>B</td>\n",
       "      <td>5</td>\n",
       "      <td>11.0</td>\n",
       "    </tr>\n",
       "    <tr>\n",
       "      <th>5</th>\n",
       "      <td>Carbon</td>\n",
       "      <td>C</td>\n",
       "      <td>6</td>\n",
       "      <td>12.0</td>\n",
       "    </tr>\n",
       "    <tr>\n",
       "      <th>6</th>\n",
       "      <td>Nitrogen</td>\n",
       "      <td>N</td>\n",
       "      <td>7</td>\n",
       "      <td>14.0</td>\n",
       "    </tr>\n",
       "    <tr>\n",
       "      <th>7</th>\n",
       "      <td>Oxygen</td>\n",
       "      <td>O</td>\n",
       "      <td>8</td>\n",
       "      <td>16.0</td>\n",
       "    </tr>\n",
       "    <tr>\n",
       "      <th>8</th>\n",
       "      <td>Fluorine</td>\n",
       "      <td>F</td>\n",
       "      <td>9</td>\n",
       "      <td>19.0</td>\n",
       "    </tr>\n",
       "    <tr>\n",
       "      <th>9</th>\n",
       "      <td>Neon</td>\n",
       "      <td>Ne</td>\n",
       "      <td>10</td>\n",
       "      <td>20.0</td>\n",
       "    </tr>\n",
       "  </tbody>\n",
       "</table>\n",
       "</div>"
      ],
      "text/plain": [
       "        name symbol  atomicNumber  atomicWeights\n",
       "0   Hydrogen      H             1            1.0\n",
       "1     Helium     He             2            4.0\n",
       "2    Lithium     Li             3            7.0\n",
       "3  Beryllium     Be             4            9.0\n",
       "4      Boron      B             5           11.0\n",
       "5     Carbon      C             6           12.0\n",
       "6   Nitrogen      N             7           14.0\n",
       "7     Oxygen      O             8           16.0\n",
       "8   Fluorine      F             9           19.0\n",
       "9       Neon     Ne            10           20.0"
      ]
     },
     "execution_count": 4,
     "metadata": {},
     "output_type": "execute_result"
    }
   ],
   "source": [
    "# add atomic weights rounded to the nearest integer\n",
    "elements['atomicWeights'] = [1.08, 4.003, 6.940, 9.012, 10.810, 12.001, 14.007, 15.999, 18.998, 20.180]\n",
    "elements = elements.round({\"atomicWeights\":0})\n",
    "#elements.astype({\"atomicWeights\":int})\n",
    "elements"
   ]
  },
  {
   "cell_type": "code",
   "execution_count": 5,
   "metadata": {},
   "outputs": [
    {
     "data": {
      "text/plain": [
       "['beta', 'delta', 'iota', 'theta', 'zeta', 'eta', 'gamma', 'alpha', 'epsilon']"
      ]
     },
     "execution_count": 5,
     "metadata": {},
     "output_type": "execute_result"
    }
   ],
   "source": [
    "# part 2\n",
    "# greek alphabet list\n",
    "letters = ['alpha', 'beta', 'gamma', 'delta', 'epsilon', 'zeta', 'eta', 'theta', 'iota',]\n",
    "random.shuffle(letters)\n",
    "letters"
   ]
  },
  {
   "cell_type": "code",
   "execution_count": 6,
   "metadata": {},
   "outputs": [],
   "source": [
    "# random np.arrays\n",
    "mu = 10\n",
    "sigma = 1.5\n",
    "arr1 = sigma * np.random.randn(9) + mu\n",
    "arr2 = arr1.copy()"
   ]
  },
  {
   "cell_type": "code",
   "execution_count": 7,
   "metadata": {},
   "outputs": [
    {
     "name": "stdout",
     "output_type": "stream",
     "text": [
      "[0.         0.78539816 1.57079633 2.35619449 3.14159265 3.92699082\n",
      " 4.71238898 5.49778714 6.28318531]\n",
      "[ 1.00000000e+00  7.07106781e-01  6.12323400e-17 -7.07106781e-01\n",
      " -1.00000000e+00 -7.07106781e-01 -1.83697020e-16  7.07106781e-01\n",
      "  1.00000000e+00]\n"
     ]
    }
   ],
   "source": [
    "# nine element array ranging from 0 to 2*pi\n",
    "angle = np.linspace(0, 2*np.pi, 9)\n",
    "cosine = np.cos(angle)\n",
    "print(angle)\n",
    "print(cosine)"
   ]
  },
  {
   "cell_type": "code",
   "execution_count": 8,
   "metadata": {},
   "outputs": [],
   "source": [
    "mixedDict = {'letters':letters,'arr1': arr1,'arr2':arr2, 'angle': angle, 'cosine':cosine}"
   ]
  },
  {
   "cell_type": "code",
   "execution_count": 9,
   "metadata": {},
   "outputs": [
    {
     "name": "stdout",
     "output_type": "stream",
     "text": [
      "   letters       arr1       arr2     angle        cosine\n",
      "0     beta  11.212774  11.212774  0.000000  1.000000e+00\n",
      "1    delta   9.684379   9.684379  0.785398  7.071068e-01\n",
      "2     iota   8.084986   8.084986  1.570796  6.123234e-17\n",
      "3    theta  10.291470  10.291470  2.356194 -7.071068e-01\n",
      "4     zeta   9.566164   9.566164  3.141593 -1.000000e+00\n",
      "5      eta  14.080774  14.080774  3.926991 -7.071068e-01\n",
      "6    gamma  10.748863  10.748863  4.712389 -1.836970e-16\n",
      "7    alpha   9.949609   9.949609  5.497787  7.071068e-01\n",
      "8  epsilon   8.239945   8.239945  6.283185  1.000000e+00\n"
     ]
    }
   ],
   "source": [
    "mixedDataframe = pd.DataFrame(mixedDict)\n",
    "print(mixedDataframe)"
   ]
  },
  {
   "cell_type": "code",
   "execution_count": 10,
   "metadata": {},
   "outputs": [],
   "source": [
    "mixedDataframe.sort_values(by='letters', ascending=True, inplace=True)\n",
    "mixedDataframe.drop(['arr2', 'cosine'], axis = 1, inplace=True)\n",
    "mixedDataframe = mixedDataframe[mixedDataframe.letters != 'zeta']"
   ]
  },
  {
   "cell_type": "code",
   "execution_count": 11,
   "metadata": {},
   "outputs": [
    {
     "data": {
      "text/html": [
       "<div>\n",
       "<style scoped>\n",
       "    .dataframe tbody tr th:only-of-type {\n",
       "        vertical-align: middle;\n",
       "    }\n",
       "\n",
       "    .dataframe tbody tr th {\n",
       "        vertical-align: top;\n",
       "    }\n",
       "\n",
       "    .dataframe thead th {\n",
       "        text-align: right;\n",
       "    }\n",
       "</style>\n",
       "<table border=\"1\" class=\"dataframe\">\n",
       "  <thead>\n",
       "    <tr style=\"text-align: right;\">\n",
       "      <th></th>\n",
       "      <th>letters</th>\n",
       "      <th>arr1</th>\n",
       "      <th>angle</th>\n",
       "    </tr>\n",
       "  </thead>\n",
       "  <tbody>\n",
       "    <tr>\n",
       "      <th>7</th>\n",
       "      <td>alpha</td>\n",
       "      <td>9.949609</td>\n",
       "      <td>5.497787</td>\n",
       "    </tr>\n",
       "    <tr>\n",
       "      <th>0</th>\n",
       "      <td>beta</td>\n",
       "      <td>11.212774</td>\n",
       "      <td>0.000000</td>\n",
       "    </tr>\n",
       "    <tr>\n",
       "      <th>1</th>\n",
       "      <td>delta</td>\n",
       "      <td>9.684379</td>\n",
       "      <td>0.785398</td>\n",
       "    </tr>\n",
       "    <tr>\n",
       "      <th>8</th>\n",
       "      <td>epsilon</td>\n",
       "      <td>8.239945</td>\n",
       "      <td>6.283185</td>\n",
       "    </tr>\n",
       "    <tr>\n",
       "      <th>5</th>\n",
       "      <td>eta</td>\n",
       "      <td>14.080774</td>\n",
       "      <td>3.926991</td>\n",
       "    </tr>\n",
       "    <tr>\n",
       "      <th>6</th>\n",
       "      <td>gamma</td>\n",
       "      <td>10.748863</td>\n",
       "      <td>4.712389</td>\n",
       "    </tr>\n",
       "    <tr>\n",
       "      <th>2</th>\n",
       "      <td>iota</td>\n",
       "      <td>8.084986</td>\n",
       "      <td>1.570796</td>\n",
       "    </tr>\n",
       "    <tr>\n",
       "      <th>3</th>\n",
       "      <td>theta</td>\n",
       "      <td>10.291470</td>\n",
       "      <td>2.356194</td>\n",
       "    </tr>\n",
       "  </tbody>\n",
       "</table>\n",
       "</div>"
      ],
      "text/plain": [
       "   letters       arr1     angle\n",
       "7    alpha   9.949609  5.497787\n",
       "0     beta  11.212774  0.000000\n",
       "1    delta   9.684379  0.785398\n",
       "8  epsilon   8.239945  6.283185\n",
       "5      eta  14.080774  3.926991\n",
       "6    gamma  10.748863  4.712389\n",
       "2     iota   8.084986  1.570796\n",
       "3    theta  10.291470  2.356194"
      ]
     },
     "execution_count": 11,
     "metadata": {},
     "output_type": "execute_result"
    }
   ],
   "source": [
    "mixedDataframe"
   ]
  },
  {
   "cell_type": "code",
   "execution_count": 16,
   "metadata": {},
   "outputs": [],
   "source": [
    "# part 3\n",
    "# function to print fibonacci numbers\n",
    "def fibonacci(n):\n",
    "    fibArray = []\n",
    "    for i in range(n+1):\n",
    "        if i == 0:\n",
    "            fibArray.append(i)\n",
    "        elif i == 1 or i == 2:\n",
    "            fibArray.append(1)\n",
    "        else:\n",
    "            fibArray.append(fibArray[i-1]+fibArray[i-2])\n",
    "    fibRatio = []\n",
    "    for i in range(len(fibArray)-4, len(fibArray)):\n",
    "        fibRatio.append(fibArray[i]/fibArray[i-1])\n",
    "    return fibArray, fibRatio\n"
   ]
  },
  {
   "cell_type": "code",
   "execution_count": 17,
   "metadata": {},
   "outputs": [
    {
     "name": "stdout",
     "output_type": "stream",
     "text": [
      "[0, 1, 1, 2, 3, 5, 8, 13, 21, 34, 55, 89, 144]\n",
      "[1.619047619047619, 1.6176470588235294, 1.6181818181818182, 1.6179775280898876]\n"
     ]
    }
   ],
   "source": [
    "fibArray, fibRatio = fibonacci(12)\n",
    "print(fibArray)\n",
    "print(fibRatio)"
   ]
  },
  {
   "cell_type": "code",
   "execution_count": null,
   "metadata": {},
   "outputs": [],
   "source": [
    "def kelvinToRankine(*args):\n",
    "    for arg in args:\n",
    "        print(arg * (9/5))"
   ]
  },
  {
   "cell_type": "code",
   "execution_count": null,
   "metadata": {},
   "outputs": [],
   "source": [
    "kelvinToRankine(5,10,15,20)"
   ]
  },
  {
   "cell_type": "code",
   "execution_count": null,
   "metadata": {},
   "outputs": [],
   "source": [
    "kelvins = [20, 30, 40]\n",
    "convert = lambda temp : temp*(9/5) \n",
    "kelvins = [convert(temp) for temp in kelvins]\n",
    "print(kelvins)"
   ]
  }
 ],
 "metadata": {
  "interpreter": {
   "hash": "cf1a8bae033067fe9c7ddced1829a7ced61245ba0fd34bdb3d3751763c3d2d20"
  },
  "kernelspec": {
   "display_name": "Python 3.9.6 64-bit ('COMP4433-M1xsGKda': pipenv)",
   "language": "python",
   "name": "python3"
  },
  "language_info": {
   "codemirror_mode": {
    "name": "ipython",
    "version": 3
   },
   "file_extension": ".py",
   "mimetype": "text/x-python",
   "name": "python",
   "nbconvert_exporter": "python",
   "pygments_lexer": "ipython3",
   "version": "3.9.6"
  },
  "orig_nbformat": 4
 },
 "nbformat": 4,
 "nbformat_minor": 2
}
