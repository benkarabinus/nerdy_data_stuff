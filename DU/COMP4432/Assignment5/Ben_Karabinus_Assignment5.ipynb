{
 "cells": [
  {
   "cell_type": "markdown",
   "metadata": {},
   "source": [
    "# <center>__Assignment 5__</center>"
   ]
  },
  {
   "cell_type": "code",
   "execution_count": 2,
   "metadata": {},
   "outputs": [],
   "source": [
    "\"\"\"import necessary libraries\"\"\"\n",
    "\n",
    "import numpy as np\n",
    "import pandas as pd\n",
    "from sklearn import datasets as data\n",
    "from sklearn.model_selection import train_test_split, GridSearchCV\n",
    "from sklearn.metrics import mean_squared_error, r2_score, classification_report\n",
    "from sklearn.preprocessing import StandardScaler\n",
    "from sklearn.neural_network import MLPRegressor\n",
    "from scikeras.wrappers import KerasRegressor\n",
    "from keras.models import Sequential\n",
    "from keras.layers import Dense"
   ]
  },
  {
   "cell_type": "markdown",
   "metadata": {},
   "source": [
    "## __*Part 1: Implement a Perceptron*__"
   ]
  },
  {
   "cell_type": "markdown",
   "metadata": {},
   "source": [
    "*Objectives*\n",
    "\n",
    "- Implement code from Assignment 2 to prepare Diabetes data\n",
    "- Given the diabetes dataset you used during Assignment 2, implement an\n",
    "MLP Regressor."
   ]
  },
  {
   "cell_type": "code",
   "execution_count": 3,
   "metadata": {},
   "outputs": [
    {
     "name": "stdout",
     "output_type": "stream",
     "text": [
      ".. _diabetes_dataset:\n",
      "\n",
      "Diabetes dataset\n",
      "----------------\n",
      "\n",
      "Ten baseline variables, age, sex, body mass index, average blood\n",
      "pressure, and six blood serum measurements were obtained for each of n =\n",
      "442 diabetes patients, as well as the response of interest, a\n",
      "quantitative measure of disease progression one year after baseline.\n",
      "\n",
      "**Data Set Characteristics:**\n",
      "\n",
      "  :Number of Instances: 442\n",
      "\n",
      "  :Number of Attributes: First 10 columns are numeric predictive values\n",
      "\n",
      "  :Target: Column 11 is a quantitative measure of disease progression one year after baseline\n",
      "\n",
      "  :Attribute Information:\n",
      "      - age     age in years\n",
      "      - sex\n",
      "      - bmi     body mass index\n",
      "      - bp      average blood pressure\n",
      "      - s1      tc, total serum cholesterol\n",
      "      - s2      ldl, low-density lipoproteins\n",
      "      - s3      hdl, high-density lipoproteins\n",
      "      - s4      tch, total cholesterol / HDL\n",
      "      - s5      ltg, possibly log of serum triglycerides level\n",
      "      - s6      glu, blood sugar level\n",
      "\n",
      "Note: Each of these 10 feature variables have been mean centered and scaled by the standard deviation times the square root of `n_samples` (i.e. the sum of squares of each column totals 1).\n",
      "\n",
      "Source URL:\n",
      "https://www4.stat.ncsu.edu/~boos/var.select/diabetes.html\n",
      "\n",
      "For more information see:\n",
      "Bradley Efron, Trevor Hastie, Iain Johnstone and Robert Tibshirani (2004) \"Least Angle Regression,\" Annals of Statistics (with discussion), 407-499.\n",
      "(https://web.stanford.edu/~hastie/Papers/LARS/LeastAngle_2002.pdf)\n",
      "\n"
     ]
    }
   ],
   "source": [
    "\"\"\"load diabetes dataset from scikit-learn and print dataset description\"\"\"\n",
    "\n",
    "diabetes_bunch = data.load_diabetes(as_frame=True)\n",
    "diabetes_df = diabetes_bunch['data']\n",
    "diabetes_df['disease_proression'] = diabetes_bunch.target\n",
    "print(diabetes_bunch['DESCR'])"
   ]
  },
  {
   "cell_type": "code",
   "execution_count": 4,
   "metadata": {},
   "outputs": [
    {
     "name": "stdout",
     "output_type": "stream",
     "text": [
      "<class 'pandas.core.frame.DataFrame'>\n",
      "RangeIndex: 442 entries, 0 to 441\n",
      "Data columns (total 11 columns):\n",
      " #   Column              Non-Null Count  Dtype  \n",
      "---  ------              --------------  -----  \n",
      " 0   age                 442 non-null    float64\n",
      " 1   sex                 442 non-null    float64\n",
      " 2   bmi                 442 non-null    float64\n",
      " 3   bp                  442 non-null    float64\n",
      " 4   s1                  442 non-null    float64\n",
      " 5   s2                  442 non-null    float64\n",
      " 6   s3                  442 non-null    float64\n",
      " 7   s4                  442 non-null    float64\n",
      " 8   s5                  442 non-null    float64\n",
      " 9   s6                  442 non-null    float64\n",
      " 10  disease_proression  442 non-null    float64\n",
      "dtypes: float64(11)\n",
      "memory usage: 38.1 KB\n"
     ]
    }
   ],
   "source": [
    "\"\"\"Check data types for features in the diabetes data, check for missing data\"\"\"\n",
    "\n",
    "diabetes_df.info()"
   ]
  },
  {
   "cell_type": "code",
   "execution_count": null,
   "metadata": {},
   "outputs": [],
   "source": [
    "\"\"\"\n",
    "print descriptive statistics for numeric features\n",
    "note all features have been scaled by default\n",
    "\"\"\"\n",
    "\n",
    "pd.set_option('display.float_format', lambda x : '%.5f' % x)\n",
    "diabetes_df.agg(func=['min', 'median', 'max', 'mean', 'var', 'std',\n",
    "                      'skew', 'kurt'])"
   ]
  },
  {
   "cell_type": "code",
   "execution_count": 6,
   "metadata": {},
   "outputs": [],
   "source": [
    "\"split the data into training and test sets\"\n",
    "\n",
    "X = diabetes_df.iloc[:, :-1]\n",
    "y = diabetes_df.iloc[:, -1:]\n",
    "X_train, X_test, y_train, y_test = train_test_split(X, y, test_size=.20,\n",
    "                                                    shuffle=True, random_state=14)"
   ]
  },
  {
   "cell_type": "code",
   "execution_count": 7,
   "metadata": {},
   "outputs": [],
   "source": [
    "\"\"\"implement the multilayer perceptron regressor using sklearn\"\"\"\n",
    "\n",
    "# instantiate the mltilayer perceptron regressor\n",
    "mlpr = MLPRegressor(activation='relu', solver='sgd', max_iter=2000, random_state=42)\n",
    "# train the network\n",
    "mlpr.fit(X_train, y_train.to_numpy().flatten())\n",
    "# make predictions on the training and test sets\n",
    "y_train_pred = mlpr.predict(X_train)\n",
    "y_test_pred = mlpr.predict(X_test)"
   ]
  },
  {
   "cell_type": "code",
   "execution_count": 8,
   "metadata": {},
   "outputs": [
    {
     "name": "stdout",
     "output_type": "stream",
     "text": [
      "Root Mean Squared Error: 53.3617\n",
      "R-squared: 0.5168\n"
     ]
    }
   ],
   "source": [
    "\"\"\"Evaluate performance against the training set\"\"\"\n",
    "\n",
    "rmse = mean_squared_error(y_train, y_train_pred, squared=False)\n",
    "r2 = r2_score(y_train.to_numpy().flatten(), y_train_pred)\n",
    "print(\"Root Mean Squared Error: {:.4f}\".format(rmse))\n",
    "print(\"R-squared: {:.4f}\".format(r2))"
   ]
  },
  {
   "cell_type": "code",
   "execution_count": 9,
   "metadata": {},
   "outputs": [
    {
     "name": "stdout",
     "output_type": "stream",
     "text": [
      "Root Mean Squared Error: 55.1027\n",
      "R-squared: 0.4967\n"
     ]
    }
   ],
   "source": [
    "\"\"\"Evaluate performance against the test set\"\"\"\n",
    "\n",
    "rmse = mean_squared_error(y_test, y_test_pred, squared=False)\n",
    "r2 = r2_score(y_test.to_numpy().flatten(), y_test_pred)\n",
    "print(\"Root Mean Squared Error: {:.4f}\".format(rmse))\n",
    "print(\"R-squared: {:.4f}\".format(r2))"
   ]
  },
  {
   "cell_type": "markdown",
   "metadata": {},
   "source": [
    "## __*Part 2: Implement a Keras Classifier*__"
   ]
  },
  {
   "cell_type": "markdown",
   "metadata": {},
   "source": [
    "*Objectives*\n",
    "\n",
    "- Implement code from Assignment 3 to prepare Titanic data.\n",
    "- Given the prepared Titanic dataset from Assignment 3, implement a Keras\n",
    "sequential classifier with relu activation functions."
   ]
  },
  {
   "cell_type": "markdown",
   "metadata": {},
   "source": [
    "Implement code from assignment to prepare Titanic data."
   ]
  },
  {
   "cell_type": "code",
   "execution_count": 10,
   "metadata": {},
   "outputs": [
    {
     "name": "stdout",
     "output_type": "stream",
     "text": [
      "  % Total    % Received % Xferd  Average Speed   Time    Time     Time  Current\n",
      "                                 Dload  Upload   Total   Spent    Left  Speed\n",
      "100 61194  100 61194    0     0   136k      0 --:--:-- --:--:-- --:--:--  138k\n"
     ]
    }
   ],
   "source": [
    "\"\"\"load the data from Github\"\"\"\n",
    "! curl https://raw.githubusercontent.com/arjayit/cs4432_data/master/train.csv --output titanic.csv\n",
    "titanic = pd.read_csv('titanic.csv')"
   ]
  },
  {
   "cell_type": "code",
   "execution_count": 11,
   "metadata": {},
   "outputs": [],
   "source": [
    "\"\"\"drop the cabin feature from the titanic dataframe\"\"\"\n",
    "\n",
    "titanic.drop(columns=['Cabin'], inplace=True)"
   ]
  },
  {
   "cell_type": "code",
   "execution_count": 12,
   "metadata": {},
   "outputs": [
    {
     "data": {
      "text/plain": [
       "PassengerId    0\n",
       "Survived       0\n",
       "Pclass         0\n",
       "Name           0\n",
       "Sex            0\n",
       "Age            0\n",
       "SibSp          0\n",
       "Parch          0\n",
       "Ticket         0\n",
       "Fare           0\n",
       "Embarked       2\n",
       "dtype: int64"
      ]
     },
     "execution_count": 12,
     "metadata": {},
     "output_type": "execute_result"
    }
   ],
   "source": [
    "\"\"\"\n",
    "Impute missing values in the age feature using median age value of a passengers\n",
    "respective boarding class. Boolean index used instead of pd.apply, faster and easier syntax\n",
    "\"\"\"\n",
    "\n",
    "median_vals = titanic[['Age', 'Pclass']].groupby(by=['Pclass']).median()\n",
    "titanic.loc[(titanic['Pclass'] == 1) & (titanic['Age'].isna()), 'Age'] = median_vals['Age'][1]\n",
    "titanic.loc[(titanic['Pclass'] == 2) & (titanic['Age'].isna()), 'Age'] = median_vals['Age'][2]\n",
    "titanic.loc[(titanic['Pclass'] == 3) & (titanic['Age'].isna()), 'Age'] = median_vals['Age'][3]\n",
    "titanic.isnull().sum()"
   ]
  },
  {
   "cell_type": "code",
   "execution_count": 13,
   "metadata": {},
   "outputs": [
    {
     "data": {
      "text/plain": [
       "PassengerId    0\n",
       "Survived       0\n",
       "Pclass         0\n",
       "Name           0\n",
       "Sex            0\n",
       "Age            0\n",
       "SibSp          0\n",
       "Parch          0\n",
       "Ticket         0\n",
       "Fare           0\n",
       "Embarked       0\n",
       "dtype: int64"
      ]
     },
     "execution_count": 13,
     "metadata": {},
     "output_type": "execute_result"
    }
   ],
   "source": [
    "\"\"\"drop remaining rows with missing values\"\"\"\n",
    "\n",
    "titanic.dropna(axis=0,  inplace=True)\n",
    "titanic.isnull().sum()"
   ]
  },
  {
   "cell_type": "code",
   "execution_count": 14,
   "metadata": {},
   "outputs": [],
   "source": [
    "\"\"\"\n",
    "Drop features name, ticket, and passengerid\n",
    "get dummies for remaining categorical features then drop original columns\n",
    "\"\"\"\n",
    "\n",
    "titanic.drop(columns=['Name', 'Ticket', 'PassengerId'], inplace=True)\n",
    "categorical_idx = titanic.select_dtypes(exclude=['int64', 'float64']).columns\n",
    "numeric_idx = titanic[['Age', 'Fare']].columns\n",
    "dummy_vars = pd.get_dummies(titanic[categorical_idx])\n",
    "titanic = pd.concat([titanic, dummy_vars], axis=1)\n",
    "titanic.drop(columns=categorical_idx, inplace=True)\n",
    "sc = StandardScaler()\n",
    "titanic[numeric_idx] = sc.fit_transform(titanic[numeric_idx])"
   ]
  },
  {
   "cell_type": "code",
   "execution_count": 15,
   "metadata": {},
   "outputs": [],
   "source": [
    "\"\"\"\n",
    "create the feature set by copying target label to new dataframe and dropping from features\n",
    "split data into traning and test sets\n",
    "\"\"\"\n",
    "y = titanic['Survived'].copy()\n",
    "titanic.drop(columns=['Survived'], inplace=True)\n",
    "X_train, X_test, y_train, y_test = train_test_split(titanic, y,test_size=.30,\n",
    "                                                    random_state=14)\n",
    "# convert training and test sets to numpy array\n",
    "X_train = X_train.to_numpy()\n",
    "X_test = X_test.to_numpy()\n",
    "y_train = y_train.to_numpy().flatten()\n",
    "y_test = y_test.to_numpy().flatten()"
   ]
  },
  {
   "cell_type": "markdown",
   "metadata": {},
   "source": [
    "- Given the prepared Titanic dataset from Assignment 3, implement a Keras\n",
    "sequential classifier with relu activation functions."
   ]
  },
  {
   "cell_type": "code",
   "execution_count": 16,
   "metadata": {},
   "outputs": [
    {
     "name": "stdout",
     "output_type": "stream",
     "text": [
      "Epoch 1/25\n"
     ]
    },
    {
     "name": "stderr",
     "output_type": "stream",
     "text": [
      "2022-08-14 16:19:38.016898: I tensorflow/core/platform/cpu_feature_guard.cc:193] This TensorFlow binary is optimized with oneAPI Deep Neural Network Library (oneDNN) to use the following CPU instructions in performance-critical operations:  AVX2 FMA\n",
      "To enable them in other operations, rebuild TensorFlow with the appropriate compiler flags.\n"
     ]
    },
    {
     "name": "stdout",
     "output_type": "stream",
     "text": [
      "20/20 [==============================] - 0s 2ms/step - loss: 0.5870 - accuracy: 0.6849\n",
      "Epoch 2/25\n",
      "20/20 [==============================] - 0s 1ms/step - loss: 0.4877 - accuracy: 0.7894\n",
      "Epoch 3/25\n",
      "20/20 [==============================] - 0s 1ms/step - loss: 0.4596 - accuracy: 0.8087\n",
      "Epoch 4/25\n",
      "20/20 [==============================] - 0s 1ms/step - loss: 0.4487 - accuracy: 0.8119\n",
      "Epoch 5/25\n",
      "20/20 [==============================] - 0s 1ms/step - loss: 0.4340 - accuracy: 0.8199\n",
      "Epoch 6/25\n",
      "20/20 [==============================] - 0s 2ms/step - loss: 0.4384 - accuracy: 0.8103\n",
      "Epoch 7/25\n",
      "20/20 [==============================] - 0s 1ms/step - loss: 0.4154 - accuracy: 0.8296\n",
      "Epoch 8/25\n",
      "20/20 [==============================] - 0s 2ms/step - loss: 0.4139 - accuracy: 0.8280\n",
      "Epoch 9/25\n",
      "20/20 [==============================] - 0s 2ms/step - loss: 0.4115 - accuracy: 0.8312\n",
      "Epoch 10/25\n",
      "20/20 [==============================] - 0s 2ms/step - loss: 0.4232 - accuracy: 0.8296\n",
      "Epoch 11/25\n",
      "20/20 [==============================] - 0s 1ms/step - loss: 0.4037 - accuracy: 0.8360\n",
      "Epoch 12/25\n",
      "20/20 [==============================] - 0s 1ms/step - loss: 0.3916 - accuracy: 0.8392\n",
      "Epoch 13/25\n",
      "20/20 [==============================] - 0s 1ms/step - loss: 0.3936 - accuracy: 0.8360\n",
      "Epoch 14/25\n",
      "20/20 [==============================] - 0s 1ms/step - loss: 0.3954 - accuracy: 0.8280\n",
      "Epoch 15/25\n",
      "20/20 [==============================] - 0s 1ms/step - loss: 0.3853 - accuracy: 0.8312\n",
      "Epoch 16/25\n",
      "20/20 [==============================] - 0s 1ms/step - loss: 0.3799 - accuracy: 0.8408\n",
      "Epoch 17/25\n",
      "20/20 [==============================] - 0s 2ms/step - loss: 0.3700 - accuracy: 0.8424\n",
      "Epoch 18/25\n",
      "20/20 [==============================] - 0s 2ms/step - loss: 0.3797 - accuracy: 0.8376\n",
      "Epoch 19/25\n",
      "20/20 [==============================] - 0s 2ms/step - loss: 0.3752 - accuracy: 0.8408\n",
      "Epoch 20/25\n",
      "20/20 [==============================] - 0s 2ms/step - loss: 0.3650 - accuracy: 0.8408\n",
      "Epoch 21/25\n",
      "20/20 [==============================] - 0s 2ms/step - loss: 0.3714 - accuracy: 0.8360\n",
      "Epoch 22/25\n",
      "20/20 [==============================] - 0s 2ms/step - loss: 0.3802 - accuracy: 0.8376\n",
      "Epoch 23/25\n",
      "20/20 [==============================] - 0s 1ms/step - loss: 0.3739 - accuracy: 0.8408\n",
      "Epoch 24/25\n",
      "20/20 [==============================] - 0s 1ms/step - loss: 0.3521 - accuracy: 0.8424\n",
      "Epoch 25/25\n",
      "20/20 [==============================] - 0s 1ms/step - loss: 0.3483 - accuracy: 0.8521\n"
     ]
    },
    {
     "data": {
      "text/plain": [
       "<keras.callbacks.History at 0x140a28820>"
      ]
     },
     "execution_count": 16,
     "metadata": {},
     "output_type": "execute_result"
    }
   ],
   "source": [
    "\"\"\"instantiate the keras model\"\"\"\n",
    "\n",
    "sequential_classifier = Sequential()\n",
    "# input layer\n",
    "sequential_classifier.add(Dense(300, activation='relu', input_dim=10))\n",
    "# two hidden layers\n",
    "sequential_classifier.add(Dense(100, activation='relu'))\n",
    "sequential_classifier.add(Dense(10, activation='relu'))\n",
    "# output layer\n",
    "sequential_classifier.add(Dense(1, activation='sigmoid'))\n",
    "# compile the network model\n",
    "sequential_classifier.compile(optimizer='adam', loss='binary_crossentropy',\n",
    "                              metrics=['accuracy'])\n",
    "# fit the network model\n",
    "sequential_classifier.fit(X_train, y_train, epochs=25)\n",
    "\n"
   ]
  },
  {
   "cell_type": "code",
   "execution_count": 17,
   "metadata": {},
   "outputs": [
    {
     "name": "stdout",
     "output_type": "stream",
     "text": [
      "Accuracy on training data: 0.8376205563545227%\n"
     ]
    }
   ],
   "source": [
    "\"\"\"assess model performance on the training set\"\"\"\n",
    "\n",
    "scores = sequential_classifier.evaluate(X_train, y_train, verbose=0)\n",
    "\n",
    "print('Accuracy on training data: {}%'.format(scores[1]))"
   ]
  },
  {
   "cell_type": "code",
   "execution_count": 18,
   "metadata": {},
   "outputs": [
    {
     "name": "stdout",
     "output_type": "stream",
     "text": [
      "Accuracy on test data: 0.8164793848991394%\n"
     ]
    }
   ],
   "source": [
    "\"\"\"assess model performance on the test set\"\"\"\n",
    "\n",
    "scores = sequential_classifier.evaluate(X_test, y_test, verbose=0)\n",
    "\n",
    "print('Accuracy on test data: {}%'.format(scores[1]))"
   ]
  },
  {
   "cell_type": "markdown",
   "metadata": {},
   "source": [
    "## __*Part 3: Implement a Keras Regresssor*__"
   ]
  },
  {
   "cell_type": "markdown",
   "metadata": {},
   "source": [
    "*Objectives*\n",
    "\n",
    "- Implement code from assignment 4 to load and prepare the bike-share data.\n",
    "- Given the prepared bike-share dataset from Assignment 4, implement a\n",
    "Keras sequential regressor with relu activation functions."
   ]
  },
  {
   "cell_type": "markdown",
   "metadata": {},
   "source": [
    "Implement code from assignment 4 to load and prepare the bike-share data"
   ]
  },
  {
   "cell_type": "code",
   "execution_count": 39,
   "metadata": {},
   "outputs": [
    {
     "name": "stdout",
     "output_type": "stream",
     "text": [
      "  % Total    % Received % Xferd  Average Speed   Time    Time     Time  Current\n",
      "                                 Dload  Upload   Total   Spent    Left  Speed\n",
      "100 1129k  100 1129k    0     0  3132k      0 --:--:-- --:--:-- --:--:-- 3209k\n",
      "  % Total    % Received % Xferd  Average Speed   Time    Time     Time  Current\n",
      "                                 Dload  Upload   Total   Spent    Left  Speed\n",
      "100  5607  100  5607    0     0  29943      0 --:--:-- --:--:-- --:--:-- 31150\n"
     ]
    }
   ],
   "source": [
    "\"\"\"load the data and data descritption from Github\"\"\"\n",
    "\n",
    "! curl https://raw.githubusercontent.com/arjayit/cs4432_data/master/bike_share_hour.csv --output bike_share_hour.csv\n",
    "! curl https://raw.githubusercontent.com/arjayit/cs4432_data/master/bike_share_Readme.txt --output bike_share_Readme.txt\n",
    "bike_share = pd.read_csv('bike_share_hour.csv')"
   ]
  },
  {
   "cell_type": "code",
   "execution_count": 42,
   "metadata": {},
   "outputs": [
    {
     "name": "stdout",
     "output_type": "stream",
     "text": [
      "<class 'pandas.core.frame.DataFrame'>\n",
      "RangeIndex: 17379 entries, 0 to 17378\n",
      "Data columns (total 17 columns):\n",
      " #   Column      Non-Null Count  Dtype  \n",
      "---  ------      --------------  -----  \n",
      " 0   instant     17379 non-null  int64  \n",
      " 1   dteday      17379 non-null  object \n",
      " 2   season      17379 non-null  int64  \n",
      " 3   yr          17379 non-null  int64  \n",
      " 4   mnth        17379 non-null  int64  \n",
      " 5   hr          17379 non-null  int64  \n",
      " 6   holiday     17379 non-null  int64  \n",
      " 7   weekday     17379 non-null  int64  \n",
      " 8   workingday  17379 non-null  int64  \n",
      " 9   weathersit  17379 non-null  int64  \n",
      " 10  temp        17379 non-null  float64\n",
      " 11  atemp       17379 non-null  float64\n",
      " 12  hum         17379 non-null  float64\n",
      " 13  windspeed   17379 non-null  float64\n",
      " 14  casual      17379 non-null  int64  \n",
      " 15  registered  17379 non-null  int64  \n",
      " 16  cnt         17379 non-null  int64  \n",
      "dtypes: float64(4), int64(12), object(1)\n",
      "memory usage: 2.3+ MB\n"
     ]
    }
   ],
   "source": [
    "\"\"\"print the data description\"\"\"\n",
    "\n",
    "bike_share.info()"
   ]
  },
  {
   "cell_type": "code",
   "execution_count": 44,
   "metadata": {},
   "outputs": [
    {
     "name": "stdout",
     "output_type": "stream",
     "text": [
      "<class 'pandas.core.frame.DataFrame'>\n",
      "RangeIndex: 17379 entries, 0 to 17378\n",
      "Data columns (total 17 columns):\n",
      " #   Column      Non-Null Count  Dtype   \n",
      "---  ------      --------------  -----   \n",
      " 0   instant     17379 non-null  int64   \n",
      " 1   dteday      17379 non-null  object  \n",
      " 2   season      17379 non-null  category\n",
      " 3   yr          17379 non-null  category\n",
      " 4   mnth        17379 non-null  category\n",
      " 5   hr          17379 non-null  category\n",
      " 6   holiday     17379 non-null  category\n",
      " 7   weekday     17379 non-null  category\n",
      " 8   workingday  17379 non-null  category\n",
      " 9   weathersit  17379 non-null  category\n",
      " 10  temp        17379 non-null  float64 \n",
      " 11  atemp       17379 non-null  float64 \n",
      " 12  hum         17379 non-null  float64 \n",
      " 13  windspeed   17379 non-null  float64 \n",
      " 14  casual      17379 non-null  int64   \n",
      " 15  registered  17379 non-null  int64   \n",
      " 16  cnt         17379 non-null  int64   \n",
      "dtypes: category(8), float64(4), int64(4), object(1)\n",
      "memory usage: 1.3+ MB\n"
     ]
    }
   ],
   "source": [
    "\"\"\"convert categorical features to dtype category\"\"\"\n",
    "\n",
    "# specify index (colnames) of categorical features\n",
    "cat_features = ['season', 'holiday', 'weekday', 'workingday', 'weathersit', 'mnth', 'yr', 'hr']\n",
    "# convert features\n",
    "bike_share[cat_features] = bike_share[cat_features].astype('category')\n",
    "bike_share.info()"
   ]
  },
  {
   "cell_type": "code",
   "execution_count": 45,
   "metadata": {},
   "outputs": [],
   "source": [
    "\"\"\"scale numeric features\"\"\"\n",
    "\n",
    "#instantiate StandardScaler\n",
    "scaler = StandardScaler()\n",
    "# get numeric features index\n",
    "numeric_idx = bike_share[['instant', 'temp', 'atemp', 'hum', 'windspeed','casual', 'registered']].columns\n",
    "# scale the data\n",
    "bike_share[numeric_idx] = scaler.fit_transform(bike_share[numeric_idx])"
   ]
  },
  {
   "cell_type": "code",
   "execution_count": 46,
   "metadata": {},
   "outputs": [],
   "source": [
    "\"\"\"drop select features from the dataset\"\"\"\n",
    "\n",
    "bike_share.drop(columns=['casual', 'registered', 'dteday', 'instant'], inplace=True)"
   ]
  },
  {
   "cell_type": "code",
   "execution_count": 47,
   "metadata": {},
   "outputs": [],
   "source": [
    "\"\"\"get dummy vectors for categorical features\"\"\"\n",
    "\n",
    "# get dummy vectors, original columns are automatically transformed\n",
    "bike_share = pd.get_dummies(bike_share)\n",
    "# reset index of target variable \"cnt\"\n",
    "bike_share = bike_share.reindex(columns=[col for col in bike_share.columns if col != 'cnt'] + ['cnt'])"
   ]
  },
  {
   "cell_type": "code",
   "execution_count": 48,
   "metadata": {},
   "outputs": [
    {
     "data": {
      "text/plain": [
       "array([128, 174, 275, ..., 188, 446,   8])"
      ]
     },
     "execution_count": 48,
     "metadata": {},
     "output_type": "execute_result"
    }
   ],
   "source": [
    "\"\"\"split the data into training and test sets\"\"\"\n",
    "\n",
    "X_train, X_test, y_train, y_test = train_test_split(bike_share.iloc[:,:-1], bike_share.iloc[:, -1:],\n",
    "                                                    test_size=0.33, random_state=14)\n",
    "# convert data to numpy array for use with Keras\n",
    "X_train = X_train.to_numpy()\n",
    "X_test = X_test.to_numpy()\n",
    "y_train = y_train.to_numpy().flatten()\n",
    "y_test.to_numpy().flatten()"
   ]
  },
  {
   "cell_type": "markdown",
   "metadata": {},
   "source": [
    "Given the prepared bike-share dataset from Assignment 4, implement a\n",
    "Keras sequential regressor with relu activation functions"
   ]
  },
  {
   "cell_type": "code",
   "execution_count": 49,
   "metadata": {},
   "outputs": [
    {
     "data": {
      "text/plain": [
       "<keras.callbacks.History at 0x1447fdfd0>"
      ]
     },
     "execution_count": 49,
     "metadata": {},
     "output_type": "execute_result"
    }
   ],
   "source": [
    "\"\"\"instantiate baseline Keras regressor\"\"\"\n",
    "\n",
    "#instatniate the model\n",
    "sequential_regressor = Sequential()\n",
    "# input layer\n",
    "sequential_regressor.add(Dense(300, activation='relu', input_dim=61))\n",
    "# two hidden layers\n",
    "sequential_regressor.add(Dense(100, activation='relu'))\n",
    "sequential_regressor.add(Dense(10, activation='relu'))\n",
    "# output layer\n",
    "sequential_regressor.add(Dense(1, activation='relu'))\n",
    "# compile the network model\n",
    "sequential_regressor.compile(optimizer='adam', loss='mean_squared_error', metrics=['mean_squared_error'])\n",
    "# fit the network model\n",
    "sequential_regressor.fit(X_train, y_train, verbose=0)"
   ]
  },
  {
   "cell_type": "code",
   "execution_count": 50,
   "metadata": {},
   "outputs": [
    {
     "name": "stdout",
     "output_type": "stream",
     "text": [
      "364/364 [==============================] - 1s 2ms/step\n",
      "Root Mean Squared Error: 96.1205\n",
      "R-squared: 0.7209\n"
     ]
    }
   ],
   "source": [
    "\"\"\"Evaluate performance against the training set\"\"\"\n",
    "\n",
    "# make predictins on the training set\n",
    "y_train_pred = sequential_regressor.predict(X_train)\n",
    "rmse = mean_squared_error(y_train, y_train_pred, squared=False)\n",
    "r2 = r2_score(y_train, y_train_pred)\n",
    "print(\"Root Mean Squared Error: {:.4f}\".format(rmse))\n",
    "print(\"R-squared: {:.4f}\".format(r2))"
   ]
  },
  {
   "cell_type": "code",
   "execution_count": 51,
   "metadata": {},
   "outputs": [
    {
     "name": "stdout",
     "output_type": "stream",
     "text": [
      "180/180 [==============================] - 1s 3ms/step\n",
      "Root Mean Squared Error: 97.7285\n",
      "R-squared: 0.7060\n"
     ]
    }
   ],
   "source": [
    "\"\"\"Evaluate performance against the test set\"\"\"\n",
    "\n",
    "# make predictins on the training set\n",
    "y_test_pred = sequential_regressor.predict(X_test)\n",
    "rmse = mean_squared_error(y_test, y_test_pred, squared=False)\n",
    "r2 = r2_score(y_test, y_test_pred)\n",
    "print(\"Root Mean Squared Error: {:.4f}\".format(rmse))\n",
    "print(\"R-squared: {:.4f}\".format(r2))"
   ]
  },
  {
   "cell_type": "markdown",
   "metadata": {},
   "source": [
    "## __*Part 4: Tune Your Keras Regressor*__"
   ]
  },
  {
   "cell_type": "markdown",
   "metadata": {},
   "source": [
    "*Objectives*\n",
    "\n",
    "- Tune your Keras regressor from Part 3 by implementing a grid search with\n",
    "different optimizers."
   ]
  },
  {
   "cell_type": "code",
   "execution_count": 62,
   "metadata": {},
   "outputs": [
    {
     "name": "stdout",
     "output_type": "stream",
     "text": [
      "INFO:tensorflow:Assets written to: ram:///var/folders/s4/yckpqxmx6cnf837zqjqn_hxc0000gn/T/tmpq58_bf7a/assets\n",
      "INFO:tensorflow:Assets written to: ram:///var/folders/s4/yckpqxmx6cnf837zqjqn_hxc0000gn/T/tmpycco04ra/assets\n",
      "INFO:tensorflow:Assets written to: ram:///var/folders/s4/yckpqxmx6cnf837zqjqn_hxc0000gn/T/tmpky8k7bs3/assets\n",
      "INFO:tensorflow:Assets written to: ram:///var/folders/s4/yckpqxmx6cnf837zqjqn_hxc0000gn/T/tmphhlalhee/assets\n",
      "INFO:tensorflow:Assets written to: ram:///var/folders/s4/yckpqxmx6cnf837zqjqn_hxc0000gn/T/tmppqgaoba5/assets\n",
      "INFO:tensorflow:Assets written to: ram:///var/folders/s4/yckpqxmx6cnf837zqjqn_hxc0000gn/T/tmpebgtta3i/assets\n",
      "INFO:tensorflow:Assets written to: ram:///var/folders/s4/yckpqxmx6cnf837zqjqn_hxc0000gn/T/tmpy8hxi36w/assets\n",
      "INFO:tensorflow:Assets written to: ram:///var/folders/s4/yckpqxmx6cnf837zqjqn_hxc0000gn/T/tmpgc4iqf7f/assets\n",
      "INFO:tensorflow:Assets written to: ram:///var/folders/s4/yckpqxmx6cnf837zqjqn_hxc0000gn/T/tmpvqwi1t2i/assets\n",
      "INFO:tensorflow:Assets written to: ram:///var/folders/s4/yckpqxmx6cnf837zqjqn_hxc0000gn/T/tmp7cm4rrll/assets\n",
      "INFO:tensorflow:Assets written to: ram:///var/folders/s4/yckpqxmx6cnf837zqjqn_hxc0000gn/T/tmp42frk551/assets\n",
      "INFO:tensorflow:Assets written to: ram:///var/folders/s4/yckpqxmx6cnf837zqjqn_hxc0000gn/T/tmpb9327pjx/assets\n",
      "INFO:tensorflow:Assets written to: ram:///var/folders/s4/yckpqxmx6cnf837zqjqn_hxc0000gn/T/tmp5n4gev13/assets\n",
      "INFO:tensorflow:Assets written to: ram:///var/folders/s4/yckpqxmx6cnf837zqjqn_hxc0000gn/T/tmpxt0fx9nd/assets\n",
      "INFO:tensorflow:Assets written to: ram:///var/folders/s4/yckpqxmx6cnf837zqjqn_hxc0000gn/T/tmpqmd5xvnq/assets\n",
      "INFO:tensorflow:Assets written to: ram:///var/folders/s4/yckpqxmx6cnf837zqjqn_hxc0000gn/T/tmplkdy7ioh/assets\n",
      "INFO:tensorflow:Assets written to: ram:///var/folders/s4/yckpqxmx6cnf837zqjqn_hxc0000gn/T/tmpzekfqpxm/assets\n",
      "INFO:tensorflow:Assets written to: ram:///var/folders/s4/yckpqxmx6cnf837zqjqn_hxc0000gn/T/tmphhvsw4ts/assets\n",
      "INFO:tensorflow:Assets written to: ram:///var/folders/s4/yckpqxmx6cnf837zqjqn_hxc0000gn/T/tmp254q5081/assets\n",
      "INFO:tensorflow:Assets written to: ram:///var/folders/s4/yckpqxmx6cnf837zqjqn_hxc0000gn/T/tmpieebfcg1/assets\n",
      "INFO:tensorflow:Assets written to: ram:///var/folders/s4/yckpqxmx6cnf837zqjqn_hxc0000gn/T/tmphgui85oc/assets\n",
      "INFO:tensorflow:Assets written to: ram:///var/folders/s4/yckpqxmx6cnf837zqjqn_hxc0000gn/T/tmpnul23sx8/assets\n",
      "INFO:tensorflow:Assets written to: ram:///var/folders/s4/yckpqxmx6cnf837zqjqn_hxc0000gn/T/tmp16cxwv80/assets\n",
      "INFO:tensorflow:Assets written to: ram:///var/folders/s4/yckpqxmx6cnf837zqjqn_hxc0000gn/T/tmptpd6eqz1/assets\n",
      "INFO:tensorflow:Assets written to: ram:///var/folders/s4/yckpqxmx6cnf837zqjqn_hxc0000gn/T/tmpy20fj8my/assets\n",
      "INFO:tensorflow:Assets written to: ram:///var/folders/s4/yckpqxmx6cnf837zqjqn_hxc0000gn/T/tmpf_eqc4m8/assets\n",
      "INFO:tensorflow:Assets written to: ram:///var/folders/s4/yckpqxmx6cnf837zqjqn_hxc0000gn/T/tmp2v7_qp62/assets\n",
      "INFO:tensorflow:Assets written to: ram:///var/folders/s4/yckpqxmx6cnf837zqjqn_hxc0000gn/T/tmp3v5z402b/assets\n",
      "INFO:tensorflow:Assets written to: ram:///var/folders/s4/yckpqxmx6cnf837zqjqn_hxc0000gn/T/tmp51k4gpmu/assets\n",
      "INFO:tensorflow:Assets written to: ram:///var/folders/s4/yckpqxmx6cnf837zqjqn_hxc0000gn/T/tmpvfbflnos/assets\n"
     ]
    },
    {
     "data": {
      "text/html": [
       "<style>#sk-container-id-3 {color: black;background-color: white;}#sk-container-id-3 pre{padding: 0;}#sk-container-id-3 div.sk-toggleable {background-color: white;}#sk-container-id-3 label.sk-toggleable__label {cursor: pointer;display: block;width: 100%;margin-bottom: 0;padding: 0.3em;box-sizing: border-box;text-align: center;}#sk-container-id-3 label.sk-toggleable__label-arrow:before {content: \"▸\";float: left;margin-right: 0.25em;color: #696969;}#sk-container-id-3 label.sk-toggleable__label-arrow:hover:before {color: black;}#sk-container-id-3 div.sk-estimator:hover label.sk-toggleable__label-arrow:before {color: black;}#sk-container-id-3 div.sk-toggleable__content {max-height: 0;max-width: 0;overflow: hidden;text-align: left;background-color: #f0f8ff;}#sk-container-id-3 div.sk-toggleable__content pre {margin: 0.2em;color: black;border-radius: 0.25em;background-color: #f0f8ff;}#sk-container-id-3 input.sk-toggleable__control:checked~div.sk-toggleable__content {max-height: 200px;max-width: 100%;overflow: auto;}#sk-container-id-3 input.sk-toggleable__control:checked~label.sk-toggleable__label-arrow:before {content: \"▾\";}#sk-container-id-3 div.sk-estimator input.sk-toggleable__control:checked~label.sk-toggleable__label {background-color: #d4ebff;}#sk-container-id-3 div.sk-label input.sk-toggleable__control:checked~label.sk-toggleable__label {background-color: #d4ebff;}#sk-container-id-3 input.sk-hidden--visually {border: 0;clip: rect(1px 1px 1px 1px);clip: rect(1px, 1px, 1px, 1px);height: 1px;margin: -1px;overflow: hidden;padding: 0;position: absolute;width: 1px;}#sk-container-id-3 div.sk-estimator {font-family: monospace;background-color: #f0f8ff;border: 1px dotted black;border-radius: 0.25em;box-sizing: border-box;margin-bottom: 0.5em;}#sk-container-id-3 div.sk-estimator:hover {background-color: #d4ebff;}#sk-container-id-3 div.sk-parallel-item::after {content: \"\";width: 100%;border-bottom: 1px solid gray;flex-grow: 1;}#sk-container-id-3 div.sk-label:hover label.sk-toggleable__label {background-color: #d4ebff;}#sk-container-id-3 div.sk-serial::before {content: \"\";position: absolute;border-left: 1px solid gray;box-sizing: border-box;top: 0;bottom: 0;left: 50%;z-index: 0;}#sk-container-id-3 div.sk-serial {display: flex;flex-direction: column;align-items: center;background-color: white;padding-right: 0.2em;padding-left: 0.2em;position: relative;}#sk-container-id-3 div.sk-item {position: relative;z-index: 1;}#sk-container-id-3 div.sk-parallel {display: flex;align-items: stretch;justify-content: center;background-color: white;position: relative;}#sk-container-id-3 div.sk-item::before, #sk-container-id-3 div.sk-parallel-item::before {content: \"\";position: absolute;border-left: 1px solid gray;box-sizing: border-box;top: 0;bottom: 0;left: 50%;z-index: -1;}#sk-container-id-3 div.sk-parallel-item {display: flex;flex-direction: column;z-index: 1;position: relative;background-color: white;}#sk-container-id-3 div.sk-parallel-item:first-child::after {align-self: flex-end;width: 50%;}#sk-container-id-3 div.sk-parallel-item:last-child::after {align-self: flex-start;width: 50%;}#sk-container-id-3 div.sk-parallel-item:only-child::after {width: 0;}#sk-container-id-3 div.sk-dashed-wrapped {border: 1px dashed gray;margin: 0 0.4em 0.5em 0.4em;box-sizing: border-box;padding-bottom: 0.4em;background-color: white;}#sk-container-id-3 div.sk-label label {font-family: monospace;font-weight: bold;display: inline-block;line-height: 1.2em;}#sk-container-id-3 div.sk-label-container {text-align: center;}#sk-container-id-3 div.sk-container {/* jupyter's `normalize.less` sets `[hidden] { display: none; }` but bootstrap.min.css set `[hidden] { display: none !important; }` so we also need the `!important` here to be able to override the default hidden behavior on the sphinx rendered scikit-learn.org. See: https://github.com/scikit-learn/scikit-learn/issues/21755 */display: inline-block !important;position: relative;}#sk-container-id-3 div.sk-text-repr-fallback {display: none;}</style><div id=\"sk-container-id-3\" class=\"sk-top-container\"><div class=\"sk-text-repr-fallback\"><pre>GridSearchCV(cv=3,\n",
       "             estimator=KerasRegressor(model=&lt;keras.engine.sequential.Sequential object at 0x145e4c820&gt;, random_state=42, verbose=False),\n",
       "             param_grid={&#x27;epochs&#x27;: [10, 15, 20],\n",
       "                         &#x27;optimizer&#x27;: [&#x27;SGD&#x27;, &#x27;Adam&#x27;, &#x27;Adadelta&#x27;]})</pre><b>In a Jupyter environment, please rerun this cell to show the HTML representation or trust the notebook. <br />On GitHub, the HTML representation is unable to render, please try loading this page with nbviewer.org.</b></div><div class=\"sk-container\" hidden><div class=\"sk-item sk-dashed-wrapped\"><div class=\"sk-label-container\"><div class=\"sk-label sk-toggleable\"><input class=\"sk-toggleable__control sk-hidden--visually\" id=\"sk-estimator-id-7\" type=\"checkbox\" ><label for=\"sk-estimator-id-7\" class=\"sk-toggleable__label sk-toggleable__label-arrow\">GridSearchCV</label><div class=\"sk-toggleable__content\"><pre>GridSearchCV(cv=3,\n",
       "             estimator=KerasRegressor(model=&lt;keras.engine.sequential.Sequential object at 0x145e4c820&gt;, random_state=42, verbose=False),\n",
       "             param_grid={&#x27;epochs&#x27;: [10, 15, 20],\n",
       "                         &#x27;optimizer&#x27;: [&#x27;SGD&#x27;, &#x27;Adam&#x27;, &#x27;Adadelta&#x27;]})</pre></div></div></div><div class=\"sk-parallel\"><div class=\"sk-parallel-item\"><div class=\"sk-item\"><div class=\"sk-label-container\"><div class=\"sk-label sk-toggleable\"><input class=\"sk-toggleable__control sk-hidden--visually\" id=\"sk-estimator-id-8\" type=\"checkbox\" ><label for=\"sk-estimator-id-8\" class=\"sk-toggleable__label sk-toggleable__label-arrow\">estimator: KerasRegressor</label><div class=\"sk-toggleable__content\"><pre>KerasRegressor(\n",
       "\tmodel=&lt;keras.engine.sequential.Sequential object at 0x145e4c820&gt;\n",
       "\tbuild_fn=None\n",
       "\twarm_start=False\n",
       "\trandom_state=42\n",
       "\toptimizer=rmsprop\n",
       "\tloss=None\n",
       "\tmetrics=None\n",
       "\tbatch_size=None\n",
       "\tvalidation_batch_size=None\n",
       "\tverbose=False\n",
       "\tcallbacks=None\n",
       "\tvalidation_split=0.0\n",
       "\tshuffle=True\n",
       "\trun_eagerly=False\n",
       "\tepochs=1\n",
       ")</pre></div></div></div><div class=\"sk-serial\"><div class=\"sk-item\"><div class=\"sk-estimator sk-toggleable\"><input class=\"sk-toggleable__control sk-hidden--visually\" id=\"sk-estimator-id-9\" type=\"checkbox\" ><label for=\"sk-estimator-id-9\" class=\"sk-toggleable__label sk-toggleable__label-arrow\">KerasRegressor</label><div class=\"sk-toggleable__content\"><pre>KerasRegressor(\n",
       "\tmodel=&lt;keras.engine.sequential.Sequential object at 0x145e4c820&gt;\n",
       "\tbuild_fn=None\n",
       "\twarm_start=False\n",
       "\trandom_state=42\n",
       "\toptimizer=rmsprop\n",
       "\tloss=None\n",
       "\tmetrics=None\n",
       "\tbatch_size=None\n",
       "\tvalidation_batch_size=None\n",
       "\tverbose=False\n",
       "\tcallbacks=None\n",
       "\tvalidation_split=0.0\n",
       "\tshuffle=True\n",
       "\trun_eagerly=False\n",
       "\tepochs=1\n",
       ")</pre></div></div></div></div></div></div></div></div></div></div>"
      ],
      "text/plain": [
       "GridSearchCV(cv=3,\n",
       "             estimator=KerasRegressor(model=<keras.engine.sequential.Sequential object at 0x145e4c820>, random_state=42, verbose=False),\n",
       "             param_grid={'epochs': [10, 15, 20],\n",
       "                         'optimizer': ['SGD', 'Adam', 'Adadelta']})"
      ]
     },
     "execution_count": 62,
     "metadata": {},
     "output_type": "execute_result"
    }
   ],
   "source": [
    "\"\"\"perform grid search cross validation with sklearn\"\"\"\n",
    "\n",
    "network = KerasRegressor(model=sequential_regressor, random_state=42, verbose=False)\n",
    "# create search grid and instantiate GridSearchCV object\n",
    "params = {'epochs': [10, 15, 20], 'optimizer': ['SGD', 'Adam', 'Adadelta']}\n",
    "network_search_grid = GridSearchCV(network, param_grid=params, cv=3)\n",
    "# fit the grid\n",
    "network_search_grid.fit(X_train, y_train)"
   ]
  },
  {
   "cell_type": "code",
   "execution_count": 63,
   "metadata": {},
   "outputs": [
    {
     "data": {
      "text/plain": [
       "{'epochs': 20, 'optimizer': 'SGD'}"
      ]
     },
     "execution_count": 63,
     "metadata": {},
     "output_type": "execute_result"
    }
   ],
   "source": [
    "\"\"\"print the best parameters\"\"\"\n",
    "\n",
    "network_search_grid.best_params_"
   ]
  },
  {
   "cell_type": "code",
   "execution_count": 64,
   "metadata": {},
   "outputs": [
    {
     "name": "stdout",
     "output_type": "stream",
     "text": [
      "Root Mean Squared Error: 30.9682\n",
      "R-squared: 0.9710\n"
     ]
    }
   ],
   "source": [
    "\"\"\"Evaluate performance against the training set\"\"\"\n",
    "\n",
    "# make predictins on the training set\n",
    "y_train_pred = network_search_grid.predict(X_train)\n",
    "rmse = mean_squared_error(y_train, y_train_pred, squared=False)\n",
    "r2 = r2_score(y_train, y_train_pred)\n",
    "print(\"Root Mean Squared Error: {:.4f}\".format(rmse))\n",
    "print(\"R-squared: {:.4f}\".format(r2))"
   ]
  },
  {
   "cell_type": "code",
   "execution_count": 65,
   "metadata": {},
   "outputs": [
    {
     "name": "stdout",
     "output_type": "stream",
     "text": [
      "Root Mean Squared Error: 40.8688\n",
      "R-squared: 0.9486\n"
     ]
    }
   ],
   "source": [
    "\"\"\"Evaluate performance against the test set\"\"\"\n",
    "\n",
    "# make predictins on the training set\n",
    "y_test_pred = network_search_grid.predict(X_test)\n",
    "rmse = mean_squared_error(y_test, y_test_pred, squared=False)\n",
    "r2 = r2_score(y_test, y_test_pred)\n",
    "print(\"Root Mean Squared Error: {:.4f}\".format(rmse))\n",
    "print(\"R-squared: {:.4f}\".format(r2))"
   ]
  }
 ],
 "metadata": {
  "kernelspec": {
   "display_name": "Python 3.9.13 ('COMP4432-gu83pqJc')",
   "language": "python",
   "name": "python3"
  },
  "language_info": {
   "codemirror_mode": {
    "name": "ipython",
    "version": 3
   },
   "file_extension": ".py",
   "mimetype": "text/x-python",
   "name": "python",
   "nbconvert_exporter": "python",
   "pygments_lexer": "ipython3",
   "version": "3.9.13"
  },
  "orig_nbformat": 4,
  "vscode": {
   "interpreter": {
    "hash": "96fe9c5dc48b34d6269f8f88262cef58bd33b5f278ff95b8b6373020f5c7638d"
   }
  }
 },
 "nbformat": 4,
 "nbformat_minor": 2
}
