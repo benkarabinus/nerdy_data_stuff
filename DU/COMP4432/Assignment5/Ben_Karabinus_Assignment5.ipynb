{
 "cells": [
  {
   "cell_type": "markdown",
   "metadata": {},
   "source": [
    "# <center>__Assignment 5__</center>"
   ]
  },
  {
   "cell_type": "code",
   "execution_count": 1,
   "metadata": {},
   "outputs": [],
   "source": [
    "\"\"\"import necessary libraries\"\"\"\n",
    "\n",
    "import numpy as np\n",
    "import pandas as pd\n",
    "from sklearn import datasets as data\n",
    "from sklearn.model_selection import train_test_split, GridSearchCV\n",
    "from sklearn.metrics import mean_squared_error, r2_score, classification_report\n",
    "from sklearn.preprocessing import StandardScaler\n",
    "from sklearn.neural_network import MLPRegressor\n",
    "from scikeras.wrappers import KerasRegressor\n",
    "from keras.models import Sequential\n",
    "from keras.layers import Dense"
   ]
  },
  {
   "cell_type": "markdown",
   "metadata": {},
   "source": [
    "## __*Part 1: Implement a Perceptron*__"
   ]
  },
  {
   "cell_type": "markdown",
   "metadata": {},
   "source": [
    "*Objectives*\n",
    "\n",
    "- Implement code from Assignment 2 to prepare Diabetes data\n",
    "- Given the diabetes dataset you used during Assignment 2, implement an\n",
    "MLP Regressor."
   ]
  },
  {
   "cell_type": "code",
   "execution_count": 2,
   "metadata": {},
   "outputs": [
    {
     "name": "stdout",
     "output_type": "stream",
     "text": [
      ".. _diabetes_dataset:\n",
      "\n",
      "Diabetes dataset\n",
      "----------------\n",
      "\n",
      "Ten baseline variables, age, sex, body mass index, average blood\n",
      "pressure, and six blood serum measurements were obtained for each of n =\n",
      "442 diabetes patients, as well as the response of interest, a\n",
      "quantitative measure of disease progression one year after baseline.\n",
      "\n",
      "**Data Set Characteristics:**\n",
      "\n",
      "  :Number of Instances: 442\n",
      "\n",
      "  :Number of Attributes: First 10 columns are numeric predictive values\n",
      "\n",
      "  :Target: Column 11 is a quantitative measure of disease progression one year after baseline\n",
      "\n",
      "  :Attribute Information:\n",
      "      - age     age in years\n",
      "      - sex\n",
      "      - bmi     body mass index\n",
      "      - bp      average blood pressure\n",
      "      - s1      tc, total serum cholesterol\n",
      "      - s2      ldl, low-density lipoproteins\n",
      "      - s3      hdl, high-density lipoproteins\n",
      "      - s4      tch, total cholesterol / HDL\n",
      "      - s5      ltg, possibly log of serum triglycerides level\n",
      "      - s6      glu, blood sugar level\n",
      "\n",
      "Note: Each of these 10 feature variables have been mean centered and scaled by the standard deviation times the square root of `n_samples` (i.e. the sum of squares of each column totals 1).\n",
      "\n",
      "Source URL:\n",
      "https://www4.stat.ncsu.edu/~boos/var.select/diabetes.html\n",
      "\n",
      "For more information see:\n",
      "Bradley Efron, Trevor Hastie, Iain Johnstone and Robert Tibshirani (2004) \"Least Angle Regression,\" Annals of Statistics (with discussion), 407-499.\n",
      "(https://web.stanford.edu/~hastie/Papers/LARS/LeastAngle_2002.pdf)\n",
      "\n"
     ]
    }
   ],
   "source": [
    "\"\"\"load diabetes dataset from scikit-learn and print dataset description\"\"\"\n",
    "\n",
    "diabetes_bunch = data.load_diabetes(as_frame=True)\n",
    "diabetes_df = diabetes_bunch['data']\n",
    "diabetes_df['disease_proression'] = diabetes_bunch.target\n",
    "print(diabetes_bunch['DESCR'])"
   ]
  },
  {
   "cell_type": "code",
   "execution_count": 3,
   "metadata": {},
   "outputs": [
    {
     "name": "stdout",
     "output_type": "stream",
     "text": [
      "<class 'pandas.core.frame.DataFrame'>\n",
      "RangeIndex: 442 entries, 0 to 441\n",
      "Data columns (total 11 columns):\n",
      " #   Column              Non-Null Count  Dtype  \n",
      "---  ------              --------------  -----  \n",
      " 0   age                 442 non-null    float64\n",
      " 1   sex                 442 non-null    float64\n",
      " 2   bmi                 442 non-null    float64\n",
      " 3   bp                  442 non-null    float64\n",
      " 4   s1                  442 non-null    float64\n",
      " 5   s2                  442 non-null    float64\n",
      " 6   s3                  442 non-null    float64\n",
      " 7   s4                  442 non-null    float64\n",
      " 8   s5                  442 non-null    float64\n",
      " 9   s6                  442 non-null    float64\n",
      " 10  disease_proression  442 non-null    float64\n",
      "dtypes: float64(11)\n",
      "memory usage: 38.1 KB\n"
     ]
    }
   ],
   "source": [
    "\"\"\"Check data types for features in the diabetes data, check for missing data\"\"\"\n",
    "\n",
    "diabetes_df.info()"
   ]
  },
  {
   "cell_type": "code",
   "execution_count": 4,
   "metadata": {},
   "outputs": [
    {
     "data": {
      "text/html": [
       "<div>\n",
       "<style scoped>\n",
       "    .dataframe tbody tr th:only-of-type {\n",
       "        vertical-align: middle;\n",
       "    }\n",
       "\n",
       "    .dataframe tbody tr th {\n",
       "        vertical-align: top;\n",
       "    }\n",
       "\n",
       "    .dataframe thead th {\n",
       "        text-align: right;\n",
       "    }\n",
       "</style>\n",
       "<table border=\"1\" class=\"dataframe\">\n",
       "  <thead>\n",
       "    <tr style=\"text-align: right;\">\n",
       "      <th></th>\n",
       "      <th>age</th>\n",
       "      <th>sex</th>\n",
       "      <th>bmi</th>\n",
       "      <th>bp</th>\n",
       "      <th>s1</th>\n",
       "      <th>s2</th>\n",
       "      <th>s3</th>\n",
       "      <th>s4</th>\n",
       "      <th>s5</th>\n",
       "      <th>s6</th>\n",
       "      <th>disease_proression</th>\n",
       "    </tr>\n",
       "  </thead>\n",
       "  <tbody>\n",
       "    <tr>\n",
       "      <th>min</th>\n",
       "      <td>-0.10723</td>\n",
       "      <td>-0.04464</td>\n",
       "      <td>-0.09028</td>\n",
       "      <td>-0.11240</td>\n",
       "      <td>-0.12678</td>\n",
       "      <td>-0.11561</td>\n",
       "      <td>-0.10231</td>\n",
       "      <td>-0.07639</td>\n",
       "      <td>-0.12610</td>\n",
       "      <td>-0.13777</td>\n",
       "      <td>25.00000</td>\n",
       "    </tr>\n",
       "    <tr>\n",
       "      <th>median</th>\n",
       "      <td>0.00538</td>\n",
       "      <td>-0.04464</td>\n",
       "      <td>-0.00728</td>\n",
       "      <td>-0.00567</td>\n",
       "      <td>-0.00432</td>\n",
       "      <td>-0.00382</td>\n",
       "      <td>-0.00658</td>\n",
       "      <td>-0.00259</td>\n",
       "      <td>-0.00195</td>\n",
       "      <td>-0.00108</td>\n",
       "      <td>140.50000</td>\n",
       "    </tr>\n",
       "    <tr>\n",
       "      <th>max</th>\n",
       "      <td>0.11073</td>\n",
       "      <td>0.05068</td>\n",
       "      <td>0.17056</td>\n",
       "      <td>0.13204</td>\n",
       "      <td>0.15391</td>\n",
       "      <td>0.19879</td>\n",
       "      <td>0.18118</td>\n",
       "      <td>0.18523</td>\n",
       "      <td>0.13360</td>\n",
       "      <td>0.13561</td>\n",
       "      <td>346.00000</td>\n",
       "    </tr>\n",
       "    <tr>\n",
       "      <th>mean</th>\n",
       "      <td>-0.00000</td>\n",
       "      <td>0.00000</td>\n",
       "      <td>-0.00000</td>\n",
       "      <td>-0.00000</td>\n",
       "      <td>-0.00000</td>\n",
       "      <td>0.00000</td>\n",
       "      <td>-0.00000</td>\n",
       "      <td>-0.00000</td>\n",
       "      <td>0.00000</td>\n",
       "      <td>0.00000</td>\n",
       "      <td>152.13348</td>\n",
       "    </tr>\n",
       "    <tr>\n",
       "      <th>var</th>\n",
       "      <td>0.00227</td>\n",
       "      <td>0.00227</td>\n",
       "      <td>0.00227</td>\n",
       "      <td>0.00227</td>\n",
       "      <td>0.00227</td>\n",
       "      <td>0.00227</td>\n",
       "      <td>0.00227</td>\n",
       "      <td>0.00227</td>\n",
       "      <td>0.00227</td>\n",
       "      <td>0.00227</td>\n",
       "      <td>5943.33135</td>\n",
       "    </tr>\n",
       "    <tr>\n",
       "      <th>std</th>\n",
       "      <td>0.04762</td>\n",
       "      <td>0.04762</td>\n",
       "      <td>0.04762</td>\n",
       "      <td>0.04762</td>\n",
       "      <td>0.04762</td>\n",
       "      <td>0.04762</td>\n",
       "      <td>0.04762</td>\n",
       "      <td>0.04762</td>\n",
       "      <td>0.04762</td>\n",
       "      <td>0.04762</td>\n",
       "      <td>77.09300</td>\n",
       "    </tr>\n",
       "    <tr>\n",
       "      <th>skew</th>\n",
       "      <td>-0.23138</td>\n",
       "      <td>0.12738</td>\n",
       "      <td>0.59815</td>\n",
       "      <td>0.29066</td>\n",
       "      <td>0.37811</td>\n",
       "      <td>0.43659</td>\n",
       "      <td>0.79926</td>\n",
       "      <td>0.73537</td>\n",
       "      <td>0.29175</td>\n",
       "      <td>0.20792</td>\n",
       "      <td>0.44056</td>\n",
       "    </tr>\n",
       "    <tr>\n",
       "      <th>kurt</th>\n",
       "      <td>-0.67122</td>\n",
       "      <td>-1.99281</td>\n",
       "      <td>0.09509</td>\n",
       "      <td>-0.53280</td>\n",
       "      <td>0.23295</td>\n",
       "      <td>0.60138</td>\n",
       "      <td>0.98151</td>\n",
       "      <td>0.44440</td>\n",
       "      <td>-0.13437</td>\n",
       "      <td>0.23692</td>\n",
       "      <td>-0.88306</td>\n",
       "    </tr>\n",
       "  </tbody>\n",
       "</table>\n",
       "</div>"
      ],
      "text/plain": [
       "            age      sex      bmi       bp       s1       s2       s3  \\\n",
       "min    -0.10723 -0.04464 -0.09028 -0.11240 -0.12678 -0.11561 -0.10231   \n",
       "median  0.00538 -0.04464 -0.00728 -0.00567 -0.00432 -0.00382 -0.00658   \n",
       "max     0.11073  0.05068  0.17056  0.13204  0.15391  0.19879  0.18118   \n",
       "mean   -0.00000  0.00000 -0.00000 -0.00000 -0.00000  0.00000 -0.00000   \n",
       "var     0.00227  0.00227  0.00227  0.00227  0.00227  0.00227  0.00227   \n",
       "std     0.04762  0.04762  0.04762  0.04762  0.04762  0.04762  0.04762   \n",
       "skew   -0.23138  0.12738  0.59815  0.29066  0.37811  0.43659  0.79926   \n",
       "kurt   -0.67122 -1.99281  0.09509 -0.53280  0.23295  0.60138  0.98151   \n",
       "\n",
       "             s4       s5       s6  disease_proression  \n",
       "min    -0.07639 -0.12610 -0.13777            25.00000  \n",
       "median -0.00259 -0.00195 -0.00108           140.50000  \n",
       "max     0.18523  0.13360  0.13561           346.00000  \n",
       "mean   -0.00000  0.00000  0.00000           152.13348  \n",
       "var     0.00227  0.00227  0.00227          5943.33135  \n",
       "std     0.04762  0.04762  0.04762            77.09300  \n",
       "skew    0.73537  0.29175  0.20792             0.44056  \n",
       "kurt    0.44440 -0.13437  0.23692            -0.88306  "
      ]
     },
     "execution_count": 4,
     "metadata": {},
     "output_type": "execute_result"
    }
   ],
   "source": [
    "\"\"\"\n",
    "print descriptive statistics for numeric features\n",
    "note all features have been scaled by default\n",
    "\"\"\"\n",
    "\n",
    "pd.set_option('display.float_format', lambda x : '%.5f' % x)\n",
    "diabetes_df.agg(func=['min', 'median', 'max', 'mean', 'var', 'std',\n",
    "                      'skew', 'kurt'])"
   ]
  },
  {
   "cell_type": "code",
   "execution_count": 5,
   "metadata": {},
   "outputs": [],
   "source": [
    "\"split the data into training and test sets\"\n",
    "\n",
    "X = diabetes_df.iloc[:, :-1]\n",
    "y = diabetes_df.iloc[:, -1:]\n",
    "X_train, X_test, y_train, y_test = train_test_split(X, y, test_size=.20,\n",
    "                                                    shuffle=True, random_state=14)"
   ]
  },
  {
   "cell_type": "code",
   "execution_count": 6,
   "metadata": {},
   "outputs": [],
   "source": [
    "\"\"\"implement the multilayer perceptron regressor using sklearn\"\"\"\n",
    "\n",
    "# instantiate the mltilayer perceptron regressor\n",
    "mlpr = MLPRegressor(activation='relu', solver='sgd', max_iter=2000, random_state=42)\n",
    "# train the network\n",
    "mlpr.fit(X_train, y_train.to_numpy().flatten())\n",
    "# make predictions on the training and test sets\n",
    "y_train_pred = mlpr.predict(X_train)\n",
    "y_test_pred = mlpr.predict(X_test)"
   ]
  },
  {
   "cell_type": "code",
   "execution_count": 7,
   "metadata": {},
   "outputs": [
    {
     "name": "stdout",
     "output_type": "stream",
     "text": [
      "Root Mean Squared Error: 53.3617\n",
      "R-squared: 0.5168\n"
     ]
    }
   ],
   "source": [
    "\"\"\"Evaluate performance against the training set\"\"\"\n",
    "\n",
    "rmse = mean_squared_error(y_train, y_train_pred, squared=False)\n",
    "r2 = r2_score(y_train.to_numpy().flatten(), y_train_pred)\n",
    "print(\"Root Mean Squared Error: {:.4f}\".format(rmse))\n",
    "print(\"R-squared: {:.4f}\".format(r2))"
   ]
  },
  {
   "cell_type": "code",
   "execution_count": 8,
   "metadata": {},
   "outputs": [
    {
     "name": "stdout",
     "output_type": "stream",
     "text": [
      "Root Mean Squared Error: 55.1027\n",
      "R-squared: 0.4967\n"
     ]
    }
   ],
   "source": [
    "\"\"\"Evaluate performance against the test set\"\"\"\n",
    "\n",
    "rmse = mean_squared_error(y_test, y_test_pred, squared=False)\n",
    "r2 = r2_score(y_test.to_numpy().flatten(), y_test_pred)\n",
    "print(\"Root Mean Squared Error: {:.4f}\".format(rmse))\n",
    "print(\"R-squared: {:.4f}\".format(r2))"
   ]
  },
  {
   "cell_type": "markdown",
   "metadata": {},
   "source": [
    "## __*Part 2: Implement a Keras Classifier*__"
   ]
  },
  {
   "cell_type": "markdown",
   "metadata": {},
   "source": [
    "*Objectives*\n",
    "\n",
    "- Implement code from Assignment 3 to prepare Titanic data.\n",
    "- Given the prepared Titanic dataset from Assignment 3, implement a Keras\n",
    "sequential classifier with relu activation functions."
   ]
  },
  {
   "cell_type": "markdown",
   "metadata": {},
   "source": [
    "Implement code from assignment to prepare Titanic data."
   ]
  },
  {
   "cell_type": "code",
   "execution_count": 9,
   "metadata": {},
   "outputs": [
    {
     "name": "stdout",
     "output_type": "stream",
     "text": [
      "  % Total    % Received % Xferd  Average Speed   Time    Time     Time  Current\n",
      "                                 Dload  Upload   Total   Spent    Left  Speed\n",
      "100 61194  100 61194    0     0   154k      0 --:--:-- --:--:-- --:--:--  157k\n"
     ]
    }
   ],
   "source": [
    "\"\"\"load the data from Github\"\"\"\n",
    "! curl https://raw.githubusercontent.com/arjayit/cs4432_data/master/train.csv --output titanic.csv\n",
    "titanic = pd.read_csv('titanic.csv')"
   ]
  },
  {
   "cell_type": "code",
   "execution_count": 10,
   "metadata": {},
   "outputs": [],
   "source": [
    "\"\"\"drop the cabin feature from the titanic dataframe\"\"\"\n",
    "\n",
    "titanic.drop(columns=['Cabin'], inplace=True)"
   ]
  },
  {
   "cell_type": "code",
   "execution_count": 11,
   "metadata": {},
   "outputs": [
    {
     "data": {
      "text/plain": [
       "PassengerId    0\n",
       "Survived       0\n",
       "Pclass         0\n",
       "Name           0\n",
       "Sex            0\n",
       "Age            0\n",
       "SibSp          0\n",
       "Parch          0\n",
       "Ticket         0\n",
       "Fare           0\n",
       "Embarked       2\n",
       "dtype: int64"
      ]
     },
     "execution_count": 11,
     "metadata": {},
     "output_type": "execute_result"
    }
   ],
   "source": [
    "\"\"\"\n",
    "Impute missing values in the age feature using median age value of a passengers\n",
    "respective boarding class. Boolean index used instead of pd.apply, faster and easier syntax\n",
    "\"\"\"\n",
    "\n",
    "median_vals = titanic[['Age', 'Pclass']].groupby(by=['Pclass']).median()\n",
    "titanic.loc[(titanic['Pclass'] == 1) & (titanic['Age'].isna()), 'Age'] = median_vals['Age'][1]\n",
    "titanic.loc[(titanic['Pclass'] == 2) & (titanic['Age'].isna()), 'Age'] = median_vals['Age'][2]\n",
    "titanic.loc[(titanic['Pclass'] == 3) & (titanic['Age'].isna()), 'Age'] = median_vals['Age'][3]\n",
    "titanic.isnull().sum()"
   ]
  },
  {
   "cell_type": "code",
   "execution_count": 12,
   "metadata": {},
   "outputs": [
    {
     "data": {
      "text/plain": [
       "PassengerId    0\n",
       "Survived       0\n",
       "Pclass         0\n",
       "Name           0\n",
       "Sex            0\n",
       "Age            0\n",
       "SibSp          0\n",
       "Parch          0\n",
       "Ticket         0\n",
       "Fare           0\n",
       "Embarked       0\n",
       "dtype: int64"
      ]
     },
     "execution_count": 12,
     "metadata": {},
     "output_type": "execute_result"
    }
   ],
   "source": [
    "\"\"\"drop remaining rows with missing values\"\"\"\n",
    "\n",
    "titanic.dropna(axis=0,  inplace=True)\n",
    "titanic.isnull().sum()"
   ]
  },
  {
   "cell_type": "code",
   "execution_count": 13,
   "metadata": {},
   "outputs": [],
   "source": [
    "\"\"\"\n",
    "Drop features name, ticket, and passengerid\n",
    "get dummies for remaining categorical features then drop original columns\n",
    "\"\"\"\n",
    "\n",
    "titanic.drop(columns=['Name', 'Ticket', 'PassengerId'], inplace=True)\n",
    "categorical_idx = titanic.select_dtypes(exclude=['int64', 'float64']).columns\n",
    "numeric_idx = titanic[['Age', 'Fare']].columns\n",
    "dummy_vars = pd.get_dummies(titanic[categorical_idx])\n",
    "titanic = pd.concat([titanic, dummy_vars], axis=1)\n",
    "titanic.drop(columns=categorical_idx, inplace=True)\n",
    "sc = StandardScaler()\n",
    "titanic[numeric_idx] = sc.fit_transform(titanic[numeric_idx])"
   ]
  },
  {
   "cell_type": "code",
   "execution_count": 14,
   "metadata": {},
   "outputs": [],
   "source": [
    "\"\"\"\n",
    "create the feature set by copying target label to new dataframe and dropping from features\n",
    "split data into traning and test sets\n",
    "\"\"\"\n",
    "y = titanic['Survived'].copy()\n",
    "titanic.drop(columns=['Survived'], inplace=True)\n",
    "X_train, X_test, y_train, y_test = train_test_split(titanic, y,test_size=.30,\n",
    "                                                    random_state=14)\n",
    "# convert training and test sets to numpy array\n",
    "X_train = X_train.to_numpy()\n",
    "X_test = X_test.to_numpy()\n",
    "y_train = y_train.to_numpy().flatten()\n",
    "y_test = y_test.to_numpy().flatten()"
   ]
  },
  {
   "cell_type": "markdown",
   "metadata": {},
   "source": [
    "- Given the prepared Titanic dataset from Assignment 3, implement a Keras\n",
    "sequential classifier with relu activation functions."
   ]
  },
  {
   "cell_type": "code",
   "execution_count": 15,
   "metadata": {},
   "outputs": [
    {
     "name": "stdout",
     "output_type": "stream",
     "text": [
      "Epoch 1/25\n"
     ]
    },
    {
     "name": "stderr",
     "output_type": "stream",
     "text": [
      "2022-08-16 12:58:44.092157: I tensorflow/core/platform/cpu_feature_guard.cc:193] This TensorFlow binary is optimized with oneAPI Deep Neural Network Library (oneDNN) to use the following CPU instructions in performance-critical operations:  AVX2 FMA\n",
      "To enable them in other operations, rebuild TensorFlow with the appropriate compiler flags.\n"
     ]
    },
    {
     "name": "stdout",
     "output_type": "stream",
     "text": [
      "20/20 [==============================] - 1s 4ms/step - loss: 0.6003 - accuracy: 0.6768\n",
      "Epoch 2/25\n",
      "20/20 [==============================] - 0s 2ms/step - loss: 0.4860 - accuracy: 0.7894\n",
      "Epoch 3/25\n",
      "20/20 [==============================] - 0s 2ms/step - loss: 0.4633 - accuracy: 0.7910\n",
      "Epoch 4/25\n",
      "20/20 [==============================] - 0s 2ms/step - loss: 0.4437 - accuracy: 0.8055\n",
      "Epoch 5/25\n",
      "20/20 [==============================] - 0s 2ms/step - loss: 0.4508 - accuracy: 0.8023\n",
      "Epoch 6/25\n",
      "20/20 [==============================] - 0s 2ms/step - loss: 0.4413 - accuracy: 0.8023\n",
      "Epoch 7/25\n",
      "20/20 [==============================] - 0s 1ms/step - loss: 0.4182 - accuracy: 0.8264\n",
      "Epoch 8/25\n",
      "20/20 [==============================] - 0s 1ms/step - loss: 0.4092 - accuracy: 0.8264\n",
      "Epoch 9/25\n",
      "20/20 [==============================] - 0s 2ms/step - loss: 0.4107 - accuracy: 0.8280\n",
      "Epoch 10/25\n",
      "20/20 [==============================] - 0s 2ms/step - loss: 0.4023 - accuracy: 0.8296\n",
      "Epoch 11/25\n",
      "20/20 [==============================] - 0s 2ms/step - loss: 0.4013 - accuracy: 0.8183\n",
      "Epoch 12/25\n",
      "20/20 [==============================] - 0s 2ms/step - loss: 0.3976 - accuracy: 0.8296\n",
      "Epoch 13/25\n",
      "20/20 [==============================] - 0s 2ms/step - loss: 0.3892 - accuracy: 0.8376\n",
      "Epoch 14/25\n",
      "20/20 [==============================] - 0s 2ms/step - loss: 0.3886 - accuracy: 0.8376\n",
      "Epoch 15/25\n",
      "20/20 [==============================] - 0s 2ms/step - loss: 0.3857 - accuracy: 0.8473\n",
      "Epoch 16/25\n",
      "20/20 [==============================] - 0s 2ms/step - loss: 0.3762 - accuracy: 0.8441\n",
      "Epoch 17/25\n",
      "20/20 [==============================] - 0s 2ms/step - loss: 0.3848 - accuracy: 0.8392\n",
      "Epoch 18/25\n",
      "20/20 [==============================] - 0s 2ms/step - loss: 0.3991 - accuracy: 0.8344\n",
      "Epoch 19/25\n",
      "20/20 [==============================] - 0s 2ms/step - loss: 0.3721 - accuracy: 0.8441\n",
      "Epoch 20/25\n",
      "20/20 [==============================] - 0s 2ms/step - loss: 0.3723 - accuracy: 0.8312\n",
      "Epoch 21/25\n",
      "20/20 [==============================] - 0s 2ms/step - loss: 0.3698 - accuracy: 0.8360\n",
      "Epoch 22/25\n",
      "20/20 [==============================] - 0s 2ms/step - loss: 0.3706 - accuracy: 0.8473\n",
      "Epoch 23/25\n",
      "20/20 [==============================] - 0s 3ms/step - loss: 0.3579 - accuracy: 0.8457\n",
      "Epoch 24/25\n",
      "20/20 [==============================] - 0s 2ms/step - loss: 0.3566 - accuracy: 0.8441\n",
      "Epoch 25/25\n",
      "20/20 [==============================] - 0s 2ms/step - loss: 0.3551 - accuracy: 0.8537\n"
     ]
    },
    {
     "data": {
      "text/plain": [
       "<keras.callbacks.History at 0x13b879880>"
      ]
     },
     "execution_count": 15,
     "metadata": {},
     "output_type": "execute_result"
    }
   ],
   "source": [
    "\"\"\"instantiate the keras model\"\"\"\n",
    "\n",
    "sequential_classifier = Sequential()\n",
    "# input layer\n",
    "sequential_classifier.add(Dense(300, activation='relu', input_dim=10))\n",
    "# two hidden layers\n",
    "sequential_classifier.add(Dense(100, activation='relu'))\n",
    "sequential_classifier.add(Dense(10, activation='relu'))\n",
    "# output layer\n",
    "sequential_classifier.add(Dense(1, activation='sigmoid'))\n",
    "# compile the network model\n",
    "sequential_classifier.compile(optimizer='adam', loss='binary_crossentropy',\n",
    "                              metrics=['accuracy'])\n",
    "# fit the network model\n",
    "sequential_classifier.fit(X_train, y_train, epochs=25)"
   ]
  },
  {
   "cell_type": "code",
   "execution_count": 16,
   "metadata": {},
   "outputs": [
    {
     "name": "stdout",
     "output_type": "stream",
     "text": [
      "Accuracy on training data: 0.8569132089614868%\n"
     ]
    }
   ],
   "source": [
    "\"\"\"assess model performance on the training set\"\"\"\n",
    "\n",
    "scores = sequential_classifier.evaluate(X_train, y_train, verbose=0)\n",
    "\n",
    "print('Accuracy on training data: {}%'.format(scores[1]))"
   ]
  },
  {
   "cell_type": "code",
   "execution_count": 17,
   "metadata": {},
   "outputs": [
    {
     "name": "stdout",
     "output_type": "stream",
     "text": [
      "Accuracy on test data: 0.8202247023582458%\n"
     ]
    }
   ],
   "source": [
    "\"\"\"assess model performance on the test set\"\"\"\n",
    "\n",
    "scores = sequential_classifier.evaluate(X_test, y_test, verbose=0)\n",
    "\n",
    "print('Accuracy on test data: {}%'.format(scores[1]))"
   ]
  },
  {
   "cell_type": "markdown",
   "metadata": {},
   "source": [
    "## __*Part 3: Implement a Keras Regresssor*__"
   ]
  },
  {
   "cell_type": "markdown",
   "metadata": {},
   "source": [
    "*Objectives*\n",
    "\n",
    "- Implement code from assignment 4 to load and prepare the bike-share data.\n",
    "- Given the prepared bike-share dataset from Assignment 4, implement a\n",
    "Keras sequential regressor with relu activation functions."
   ]
  },
  {
   "cell_type": "markdown",
   "metadata": {},
   "source": [
    "Implement code from assignment 4 to load and prepare the bike-share data"
   ]
  },
  {
   "cell_type": "code",
   "execution_count": 18,
   "metadata": {},
   "outputs": [
    {
     "name": "stdout",
     "output_type": "stream",
     "text": [
      "  % Total    % Received % Xferd  Average Speed   Time    Time     Time  Current\n",
      "                                 Dload  Upload   Total   Spent    Left  Speed\n",
      "100 1129k  100 1129k    0     0  1050k      0  0:00:01  0:00:01 --:--:-- 1056k\n",
      "  % Total    % Received % Xferd  Average Speed   Time    Time     Time  Current\n",
      "                                 Dload  Upload   Total   Spent    Left  Speed\n",
      "100  5607  100  5607    0     0  31874      0 --:--:-- --:--:-- --:--:-- 32982\n"
     ]
    }
   ],
   "source": [
    "\"\"\"load the data and data descritption from Github\"\"\"\n",
    "\n",
    "! curl https://raw.githubusercontent.com/arjayit/cs4432_data/master/bike_share_hour.csv --output bike_share_hour.csv\n",
    "! curl https://raw.githubusercontent.com/arjayit/cs4432_data/master/bike_share_Readme.txt --output bike_share_Readme.txt\n",
    "bike_share = pd.read_csv('bike_share_hour.csv')"
   ]
  },
  {
   "cell_type": "code",
   "execution_count": 19,
   "metadata": {},
   "outputs": [
    {
     "name": "stdout",
     "output_type": "stream",
     "text": [
      "<class 'pandas.core.frame.DataFrame'>\n",
      "RangeIndex: 17379 entries, 0 to 17378\n",
      "Data columns (total 17 columns):\n",
      " #   Column      Non-Null Count  Dtype  \n",
      "---  ------      --------------  -----  \n",
      " 0   instant     17379 non-null  int64  \n",
      " 1   dteday      17379 non-null  object \n",
      " 2   season      17379 non-null  int64  \n",
      " 3   yr          17379 non-null  int64  \n",
      " 4   mnth        17379 non-null  int64  \n",
      " 5   hr          17379 non-null  int64  \n",
      " 6   holiday     17379 non-null  int64  \n",
      " 7   weekday     17379 non-null  int64  \n",
      " 8   workingday  17379 non-null  int64  \n",
      " 9   weathersit  17379 non-null  int64  \n",
      " 10  temp        17379 non-null  float64\n",
      " 11  atemp       17379 non-null  float64\n",
      " 12  hum         17379 non-null  float64\n",
      " 13  windspeed   17379 non-null  float64\n",
      " 14  casual      17379 non-null  int64  \n",
      " 15  registered  17379 non-null  int64  \n",
      " 16  cnt         17379 non-null  int64  \n",
      "dtypes: float64(4), int64(12), object(1)\n",
      "memory usage: 2.3+ MB\n"
     ]
    }
   ],
   "source": [
    "\"\"\"print the data description\"\"\"\n",
    "\n",
    "bike_share.info()"
   ]
  },
  {
   "cell_type": "code",
   "execution_count": 20,
   "metadata": {},
   "outputs": [
    {
     "name": "stdout",
     "output_type": "stream",
     "text": [
      "<class 'pandas.core.frame.DataFrame'>\n",
      "RangeIndex: 17379 entries, 0 to 17378\n",
      "Data columns (total 17 columns):\n",
      " #   Column      Non-Null Count  Dtype   \n",
      "---  ------      --------------  -----   \n",
      " 0   instant     17379 non-null  int64   \n",
      " 1   dteday      17379 non-null  object  \n",
      " 2   season      17379 non-null  category\n",
      " 3   yr          17379 non-null  category\n",
      " 4   mnth        17379 non-null  category\n",
      " 5   hr          17379 non-null  category\n",
      " 6   holiday     17379 non-null  category\n",
      " 7   weekday     17379 non-null  category\n",
      " 8   workingday  17379 non-null  category\n",
      " 9   weathersit  17379 non-null  category\n",
      " 10  temp        17379 non-null  float64 \n",
      " 11  atemp       17379 non-null  float64 \n",
      " 12  hum         17379 non-null  float64 \n",
      " 13  windspeed   17379 non-null  float64 \n",
      " 14  casual      17379 non-null  int64   \n",
      " 15  registered  17379 non-null  int64   \n",
      " 16  cnt         17379 non-null  int64   \n",
      "dtypes: category(8), float64(4), int64(4), object(1)\n",
      "memory usage: 1.3+ MB\n"
     ]
    }
   ],
   "source": [
    "\"\"\"convert categorical features to dtype category\"\"\"\n",
    "\n",
    "# specify index (colnames) of categorical features\n",
    "cat_features = ['season', 'holiday', 'weekday', 'workingday', 'weathersit', 'mnth', 'yr', 'hr']\n",
    "# convert features\n",
    "bike_share[cat_features] = bike_share[cat_features].astype('category')\n",
    "bike_share.info()"
   ]
  },
  {
   "cell_type": "code",
   "execution_count": 21,
   "metadata": {},
   "outputs": [],
   "source": [
    "\"\"\"scale numeric features\"\"\"\n",
    "\n",
    "#instantiate StandardScaler\n",
    "scaler = StandardScaler()\n",
    "# get numeric features index\n",
    "numeric_idx = bike_share[['instant', 'temp', 'atemp', 'hum', 'windspeed','casual', 'registered']].columns\n",
    "# scale the data\n",
    "bike_share[numeric_idx] = scaler.fit_transform(bike_share[numeric_idx])"
   ]
  },
  {
   "cell_type": "code",
   "execution_count": 22,
   "metadata": {},
   "outputs": [],
   "source": [
    "\"\"\"drop select features from the dataset\"\"\"\n",
    "\n",
    "bike_share.drop(columns=['casual', 'registered', 'dteday', 'instant'], inplace=True)"
   ]
  },
  {
   "cell_type": "code",
   "execution_count": 23,
   "metadata": {},
   "outputs": [],
   "source": [
    "\"\"\"get dummy vectors for categorical features\"\"\"\n",
    "\n",
    "# get dummy vectors, original columns are automatically transformed\n",
    "bike_share = pd.get_dummies(bike_share)\n",
    "# reset index of target variable \"cnt\"\n",
    "bike_share = bike_share.reindex(columns=[col for col in bike_share.columns if col != 'cnt'] + ['cnt'])"
   ]
  },
  {
   "cell_type": "code",
   "execution_count": 24,
   "metadata": {},
   "outputs": [
    {
     "data": {
      "text/plain": [
       "array([128, 174, 275, ..., 188, 446,   8])"
      ]
     },
     "execution_count": 24,
     "metadata": {},
     "output_type": "execute_result"
    }
   ],
   "source": [
    "\"\"\"split the data into training and test sets\"\"\"\n",
    "\n",
    "X_train, X_test, y_train, y_test = train_test_split(bike_share.iloc[:,:-1], bike_share.iloc[:, -1:],\n",
    "                                                    test_size=0.33, random_state=14)\n",
    "# convert data to numpy array for use with Keras\n",
    "X_train = X_train.to_numpy()\n",
    "X_test = X_test.to_numpy()\n",
    "y_train = y_train.to_numpy().flatten()\n",
    "y_test.to_numpy().flatten()"
   ]
  },
  {
   "cell_type": "markdown",
   "metadata": {},
   "source": [
    "Given the prepared bike-share dataset from Assignment 4, implement a\n",
    "Keras sequential regressor with relu activation functions"
   ]
  },
  {
   "cell_type": "code",
   "execution_count": 25,
   "metadata": {},
   "outputs": [
    {
     "data": {
      "text/plain": [
       "<keras.callbacks.History at 0x13c06f3d0>"
      ]
     },
     "execution_count": 25,
     "metadata": {},
     "output_type": "execute_result"
    }
   ],
   "source": [
    "\"\"\"instantiate baseline Keras regressor\"\"\"\n",
    "\n",
    "#instatniate the model\n",
    "sequential_regressor = Sequential()\n",
    "# input layer\n",
    "sequential_regressor.add(Dense(300, activation='relu', input_dim=61))\n",
    "# two hidden layers\n",
    "sequential_regressor.add(Dense(100, activation='relu'))\n",
    "sequential_regressor.add(Dense(10, activation='relu'))\n",
    "# output layer\n",
    "sequential_regressor.add(Dense(1, activation='relu'))\n",
    "# compile the network model\n",
    "sequential_regressor.compile(optimizer='adam', loss='mean_squared_error', metrics=['mean_squared_error'])\n",
    "# fit the network model\n",
    "sequential_regressor.fit(X_train, y_train, verbose=0)"
   ]
  },
  {
   "cell_type": "code",
   "execution_count": 26,
   "metadata": {},
   "outputs": [
    {
     "name": "stdout",
     "output_type": "stream",
     "text": [
      "364/364 [==============================] - 0s 914us/step\n",
      "Root Mean Squared Error: 95.3824\n",
      "R-squared: 0.7252\n"
     ]
    }
   ],
   "source": [
    "\"\"\"Evaluate performance against the training set\"\"\"\n",
    "\n",
    "# make predictins on the training set\n",
    "y_train_pred = sequential_regressor.predict(X_train)\n",
    "rmse = mean_squared_error(y_train, y_train_pred, squared=False)\n",
    "r2 = r2_score(y_train, y_train_pred)\n",
    "print(\"Root Mean Squared Error: {:.4f}\".format(rmse))\n",
    "print(\"R-squared: {:.4f}\".format(r2))"
   ]
  },
  {
   "cell_type": "code",
   "execution_count": 27,
   "metadata": {},
   "outputs": [
    {
     "name": "stdout",
     "output_type": "stream",
     "text": [
      "180/180 [==============================] - 0s 1ms/step\n",
      "Root Mean Squared Error: 97.2105\n",
      "R-squared: 0.7091\n"
     ]
    }
   ],
   "source": [
    "\"\"\"Evaluate performance against the test set\"\"\"\n",
    "\n",
    "# make predictins on the training set\n",
    "y_test_pred = sequential_regressor.predict(X_test)\n",
    "rmse = mean_squared_error(y_test, y_test_pred, squared=False)\n",
    "r2 = r2_score(y_test, y_test_pred)\n",
    "print(\"Root Mean Squared Error: {:.4f}\".format(rmse))\n",
    "print(\"R-squared: {:.4f}\".format(r2))"
   ]
  },
  {
   "cell_type": "markdown",
   "metadata": {},
   "source": [
    "## __*Part 4: Tune Your Keras Regressor*__"
   ]
  },
  {
   "cell_type": "markdown",
   "metadata": {},
   "source": [
    "*Objectives*\n",
    "\n",
    "- Tune your Keras regressor from Part 3 by implementing a grid search with\n",
    "different optimizers."
   ]
  },
  {
   "cell_type": "code",
   "execution_count": 28,
   "metadata": {},
   "outputs": [
    {
     "name": "stdout",
     "output_type": "stream",
     "text": [
      "INFO:tensorflow:Assets written to: ram:///var/folders/s4/yckpqxmx6cnf837zqjqn_hxc0000gn/T/tmpk3747_6j/assets\n",
      "INFO:tensorflow:Assets written to: ram:///var/folders/s4/yckpqxmx6cnf837zqjqn_hxc0000gn/T/tmpucjeqyfp/assets\n",
      "INFO:tensorflow:Assets written to: ram:///var/folders/s4/yckpqxmx6cnf837zqjqn_hxc0000gn/T/tmpgsisowz2/assets\n",
      "INFO:tensorflow:Assets written to: ram:///var/folders/s4/yckpqxmx6cnf837zqjqn_hxc0000gn/T/tmpc7bw5q83/assets\n",
      "INFO:tensorflow:Assets written to: ram:///var/folders/s4/yckpqxmx6cnf837zqjqn_hxc0000gn/T/tmponqe_vye/assets\n",
      "INFO:tensorflow:Assets written to: ram:///var/folders/s4/yckpqxmx6cnf837zqjqn_hxc0000gn/T/tmpg73ax0o3/assets\n",
      "INFO:tensorflow:Assets written to: ram:///var/folders/s4/yckpqxmx6cnf837zqjqn_hxc0000gn/T/tmp4sc_nqpo/assets\n",
      "INFO:tensorflow:Assets written to: ram:///var/folders/s4/yckpqxmx6cnf837zqjqn_hxc0000gn/T/tmp5tw_ezul/assets\n",
      "INFO:tensorflow:Assets written to: ram:///var/folders/s4/yckpqxmx6cnf837zqjqn_hxc0000gn/T/tmpago01_r9/assets\n",
      "INFO:tensorflow:Assets written to: ram:///var/folders/s4/yckpqxmx6cnf837zqjqn_hxc0000gn/T/tmpt2xd6mg7/assets\n",
      "INFO:tensorflow:Assets written to: ram:///var/folders/s4/yckpqxmx6cnf837zqjqn_hxc0000gn/T/tmpx9fnj0h9/assets\n",
      "INFO:tensorflow:Assets written to: ram:///var/folders/s4/yckpqxmx6cnf837zqjqn_hxc0000gn/T/tmp3f6hakrn/assets\n",
      "INFO:tensorflow:Assets written to: ram:///var/folders/s4/yckpqxmx6cnf837zqjqn_hxc0000gn/T/tmpplco0bii/assets\n",
      "INFO:tensorflow:Assets written to: ram:///var/folders/s4/yckpqxmx6cnf837zqjqn_hxc0000gn/T/tmp8i8wpmnc/assets\n",
      "INFO:tensorflow:Assets written to: ram:///var/folders/s4/yckpqxmx6cnf837zqjqn_hxc0000gn/T/tmp73tu71wq/assets\n",
      "INFO:tensorflow:Assets written to: ram:///var/folders/s4/yckpqxmx6cnf837zqjqn_hxc0000gn/T/tmp7sgs3frt/assets\n",
      "INFO:tensorflow:Assets written to: ram:///var/folders/s4/yckpqxmx6cnf837zqjqn_hxc0000gn/T/tmpfvbfbwgw/assets\n",
      "INFO:tensorflow:Assets written to: ram:///var/folders/s4/yckpqxmx6cnf837zqjqn_hxc0000gn/T/tmpmv4nzd87/assets\n",
      "INFO:tensorflow:Assets written to: ram:///var/folders/s4/yckpqxmx6cnf837zqjqn_hxc0000gn/T/tmpv802uovn/assets\n",
      "INFO:tensorflow:Assets written to: ram:///var/folders/s4/yckpqxmx6cnf837zqjqn_hxc0000gn/T/tmpqpd9quey/assets\n",
      "INFO:tensorflow:Assets written to: ram:///var/folders/s4/yckpqxmx6cnf837zqjqn_hxc0000gn/T/tmpod6x5icb/assets\n",
      "INFO:tensorflow:Assets written to: ram:///var/folders/s4/yckpqxmx6cnf837zqjqn_hxc0000gn/T/tmp2r5gi2cm/assets\n",
      "INFO:tensorflow:Assets written to: ram:///var/folders/s4/yckpqxmx6cnf837zqjqn_hxc0000gn/T/tmp5accxr6m/assets\n",
      "INFO:tensorflow:Assets written to: ram:///var/folders/s4/yckpqxmx6cnf837zqjqn_hxc0000gn/T/tmp2erwp4a1/assets\n",
      "INFO:tensorflow:Assets written to: ram:///var/folders/s4/yckpqxmx6cnf837zqjqn_hxc0000gn/T/tmp7gtuty5h/assets\n",
      "INFO:tensorflow:Assets written to: ram:///var/folders/s4/yckpqxmx6cnf837zqjqn_hxc0000gn/T/tmp2vp0n5i7/assets\n",
      "INFO:tensorflow:Assets written to: ram:///var/folders/s4/yckpqxmx6cnf837zqjqn_hxc0000gn/T/tmpffkt8hjr/assets\n",
      "INFO:tensorflow:Assets written to: ram:///var/folders/s4/yckpqxmx6cnf837zqjqn_hxc0000gn/T/tmpgr2xn6s0/assets\n",
      "INFO:tensorflow:Assets written to: ram:///var/folders/s4/yckpqxmx6cnf837zqjqn_hxc0000gn/T/tmpa2clx_06/assets\n",
      "INFO:tensorflow:Assets written to: ram:///var/folders/s4/yckpqxmx6cnf837zqjqn_hxc0000gn/T/tmpys16peod/assets\n"
     ]
    },
    {
     "data": {
      "text/html": [
       "<style>#sk-container-id-1 {color: black;background-color: white;}#sk-container-id-1 pre{padding: 0;}#sk-container-id-1 div.sk-toggleable {background-color: white;}#sk-container-id-1 label.sk-toggleable__label {cursor: pointer;display: block;width: 100%;margin-bottom: 0;padding: 0.3em;box-sizing: border-box;text-align: center;}#sk-container-id-1 label.sk-toggleable__label-arrow:before {content: \"▸\";float: left;margin-right: 0.25em;color: #696969;}#sk-container-id-1 label.sk-toggleable__label-arrow:hover:before {color: black;}#sk-container-id-1 div.sk-estimator:hover label.sk-toggleable__label-arrow:before {color: black;}#sk-container-id-1 div.sk-toggleable__content {max-height: 0;max-width: 0;overflow: hidden;text-align: left;background-color: #f0f8ff;}#sk-container-id-1 div.sk-toggleable__content pre {margin: 0.2em;color: black;border-radius: 0.25em;background-color: #f0f8ff;}#sk-container-id-1 input.sk-toggleable__control:checked~div.sk-toggleable__content {max-height: 200px;max-width: 100%;overflow: auto;}#sk-container-id-1 input.sk-toggleable__control:checked~label.sk-toggleable__label-arrow:before {content: \"▾\";}#sk-container-id-1 div.sk-estimator input.sk-toggleable__control:checked~label.sk-toggleable__label {background-color: #d4ebff;}#sk-container-id-1 div.sk-label input.sk-toggleable__control:checked~label.sk-toggleable__label {background-color: #d4ebff;}#sk-container-id-1 input.sk-hidden--visually {border: 0;clip: rect(1px 1px 1px 1px);clip: rect(1px, 1px, 1px, 1px);height: 1px;margin: -1px;overflow: hidden;padding: 0;position: absolute;width: 1px;}#sk-container-id-1 div.sk-estimator {font-family: monospace;background-color: #f0f8ff;border: 1px dotted black;border-radius: 0.25em;box-sizing: border-box;margin-bottom: 0.5em;}#sk-container-id-1 div.sk-estimator:hover {background-color: #d4ebff;}#sk-container-id-1 div.sk-parallel-item::after {content: \"\";width: 100%;border-bottom: 1px solid gray;flex-grow: 1;}#sk-container-id-1 div.sk-label:hover label.sk-toggleable__label {background-color: #d4ebff;}#sk-container-id-1 div.sk-serial::before {content: \"\";position: absolute;border-left: 1px solid gray;box-sizing: border-box;top: 0;bottom: 0;left: 50%;z-index: 0;}#sk-container-id-1 div.sk-serial {display: flex;flex-direction: column;align-items: center;background-color: white;padding-right: 0.2em;padding-left: 0.2em;position: relative;}#sk-container-id-1 div.sk-item {position: relative;z-index: 1;}#sk-container-id-1 div.sk-parallel {display: flex;align-items: stretch;justify-content: center;background-color: white;position: relative;}#sk-container-id-1 div.sk-item::before, #sk-container-id-1 div.sk-parallel-item::before {content: \"\";position: absolute;border-left: 1px solid gray;box-sizing: border-box;top: 0;bottom: 0;left: 50%;z-index: -1;}#sk-container-id-1 div.sk-parallel-item {display: flex;flex-direction: column;z-index: 1;position: relative;background-color: white;}#sk-container-id-1 div.sk-parallel-item:first-child::after {align-self: flex-end;width: 50%;}#sk-container-id-1 div.sk-parallel-item:last-child::after {align-self: flex-start;width: 50%;}#sk-container-id-1 div.sk-parallel-item:only-child::after {width: 0;}#sk-container-id-1 div.sk-dashed-wrapped {border: 1px dashed gray;margin: 0 0.4em 0.5em 0.4em;box-sizing: border-box;padding-bottom: 0.4em;background-color: white;}#sk-container-id-1 div.sk-label label {font-family: monospace;font-weight: bold;display: inline-block;line-height: 1.2em;}#sk-container-id-1 div.sk-label-container {text-align: center;}#sk-container-id-1 div.sk-container {/* jupyter's `normalize.less` sets `[hidden] { display: none; }` but bootstrap.min.css set `[hidden] { display: none !important; }` so we also need the `!important` here to be able to override the default hidden behavior on the sphinx rendered scikit-learn.org. See: https://github.com/scikit-learn/scikit-learn/issues/21755 */display: inline-block !important;position: relative;}#sk-container-id-1 div.sk-text-repr-fallback {display: none;}</style><div id=\"sk-container-id-1\" class=\"sk-top-container\"><div class=\"sk-text-repr-fallback\"><pre>GridSearchCV(cv=3,\n",
       "             estimator=KerasRegressor(model=&lt;keras.engine.sequential.Sequential object at 0x13c037e80&gt;, random_state=42, verbose=False),\n",
       "             param_grid={&#x27;epochs&#x27;: [10, 15, 20],\n",
       "                         &#x27;optimizer&#x27;: [&#x27;SGD&#x27;, &#x27;Adam&#x27;, &#x27;Adadelta&#x27;]})</pre><b>In a Jupyter environment, please rerun this cell to show the HTML representation or trust the notebook. <br />On GitHub, the HTML representation is unable to render, please try loading this page with nbviewer.org.</b></div><div class=\"sk-container\" hidden><div class=\"sk-item sk-dashed-wrapped\"><div class=\"sk-label-container\"><div class=\"sk-label sk-toggleable\"><input class=\"sk-toggleable__control sk-hidden--visually\" id=\"sk-estimator-id-1\" type=\"checkbox\" ><label for=\"sk-estimator-id-1\" class=\"sk-toggleable__label sk-toggleable__label-arrow\">GridSearchCV</label><div class=\"sk-toggleable__content\"><pre>GridSearchCV(cv=3,\n",
       "             estimator=KerasRegressor(model=&lt;keras.engine.sequential.Sequential object at 0x13c037e80&gt;, random_state=42, verbose=False),\n",
       "             param_grid={&#x27;epochs&#x27;: [10, 15, 20],\n",
       "                         &#x27;optimizer&#x27;: [&#x27;SGD&#x27;, &#x27;Adam&#x27;, &#x27;Adadelta&#x27;]})</pre></div></div></div><div class=\"sk-parallel\"><div class=\"sk-parallel-item\"><div class=\"sk-item\"><div class=\"sk-label-container\"><div class=\"sk-label sk-toggleable\"><input class=\"sk-toggleable__control sk-hidden--visually\" id=\"sk-estimator-id-2\" type=\"checkbox\" ><label for=\"sk-estimator-id-2\" class=\"sk-toggleable__label sk-toggleable__label-arrow\">estimator: KerasRegressor</label><div class=\"sk-toggleable__content\"><pre>KerasRegressor(\n",
       "\tmodel=&lt;keras.engine.sequential.Sequential object at 0x13c037e80&gt;\n",
       "\tbuild_fn=None\n",
       "\twarm_start=False\n",
       "\trandom_state=42\n",
       "\toptimizer=rmsprop\n",
       "\tloss=None\n",
       "\tmetrics=None\n",
       "\tbatch_size=None\n",
       "\tvalidation_batch_size=None\n",
       "\tverbose=False\n",
       "\tcallbacks=None\n",
       "\tvalidation_split=0.0\n",
       "\tshuffle=True\n",
       "\trun_eagerly=False\n",
       "\tepochs=1\n",
       ")</pre></div></div></div><div class=\"sk-serial\"><div class=\"sk-item\"><div class=\"sk-estimator sk-toggleable\"><input class=\"sk-toggleable__control sk-hidden--visually\" id=\"sk-estimator-id-3\" type=\"checkbox\" ><label for=\"sk-estimator-id-3\" class=\"sk-toggleable__label sk-toggleable__label-arrow\">KerasRegressor</label><div class=\"sk-toggleable__content\"><pre>KerasRegressor(\n",
       "\tmodel=&lt;keras.engine.sequential.Sequential object at 0x13c037e80&gt;\n",
       "\tbuild_fn=None\n",
       "\twarm_start=False\n",
       "\trandom_state=42\n",
       "\toptimizer=rmsprop\n",
       "\tloss=None\n",
       "\tmetrics=None\n",
       "\tbatch_size=None\n",
       "\tvalidation_batch_size=None\n",
       "\tverbose=False\n",
       "\tcallbacks=None\n",
       "\tvalidation_split=0.0\n",
       "\tshuffle=True\n",
       "\trun_eagerly=False\n",
       "\tepochs=1\n",
       ")</pre></div></div></div></div></div></div></div></div></div></div>"
      ],
      "text/plain": [
       "GridSearchCV(cv=3,\n",
       "             estimator=KerasRegressor(model=<keras.engine.sequential.Sequential object at 0x13c037e80>, random_state=42, verbose=False),\n",
       "             param_grid={'epochs': [10, 15, 20],\n",
       "                         'optimizer': ['SGD', 'Adam', 'Adadelta']})"
      ]
     },
     "execution_count": 28,
     "metadata": {},
     "output_type": "execute_result"
    }
   ],
   "source": [
    "\"\"\"perform grid search cross validation with sklearn\"\"\"\n",
    "\n",
    "network = KerasRegressor(model=sequential_regressor, random_state=42, verbose=False)\n",
    "# create search grid and instantiate GridSearchCV object\n",
    "params = {'epochs': [10, 15, 20], 'optimizer': ['SGD', 'Adam', 'Adadelta']}\n",
    "network_search_grid = GridSearchCV(network, param_grid=params, cv=3)\n",
    "# fit the grid\n",
    "network_search_grid.fit(X_train, y_train)"
   ]
  },
  {
   "cell_type": "code",
   "execution_count": 29,
   "metadata": {},
   "outputs": [
    {
     "data": {
      "text/plain": [
       "{'epochs': 20, 'optimizer': 'SGD'}"
      ]
     },
     "execution_count": 29,
     "metadata": {},
     "output_type": "execute_result"
    }
   ],
   "source": [
    "\"\"\"print the best parameters\"\"\"\n",
    "\n",
    "network_search_grid.best_params_"
   ]
  },
  {
   "cell_type": "code",
   "execution_count": 30,
   "metadata": {},
   "outputs": [
    {
     "name": "stdout",
     "output_type": "stream",
     "text": [
      "Root Mean Squared Error: 33.1650\n",
      "R-squared: 0.9668\n"
     ]
    }
   ],
   "source": [
    "\"\"\"Evaluate performance against the training set\"\"\"\n",
    "\n",
    "# make predictins on the training set\n",
    "y_train_pred = network_search_grid.predict(X_train)\n",
    "rmse = mean_squared_error(y_train, y_train_pred, squared=False)\n",
    "r2 = r2_score(y_train, y_train_pred)\n",
    "print(\"Root Mean Squared Error: {:.4f}\".format(rmse))\n",
    "print(\"R-squared: {:.4f}\".format(r2))"
   ]
  },
  {
   "cell_type": "code",
   "execution_count": 31,
   "metadata": {},
   "outputs": [
    {
     "name": "stdout",
     "output_type": "stream",
     "text": [
      "Root Mean Squared Error: 41.0353\n",
      "R-squared: 0.9482\n"
     ]
    }
   ],
   "source": [
    "\"\"\"Evaluate performance against the test set\"\"\"\n",
    "\n",
    "# make predictins on the training set\n",
    "y_test_pred = network_search_grid.predict(X_test)\n",
    "rmse = mean_squared_error(y_test, y_test_pred, squared=False)\n",
    "r2 = r2_score(y_test, y_test_pred)\n",
    "print(\"Root Mean Squared Error: {:.4f}\".format(rmse))\n",
    "print(\"R-squared: {:.4f}\".format(r2))"
   ]
  }
 ],
 "metadata": {
  "kernelspec": {
   "display_name": "Python 3.9.13 ('COMP4432-gu83pqJc')",
   "language": "python",
   "name": "python3"
  },
  "language_info": {
   "codemirror_mode": {
    "name": "ipython",
    "version": 3
   },
   "file_extension": ".py",
   "mimetype": "text/x-python",
   "name": "python",
   "nbconvert_exporter": "python",
   "pygments_lexer": "ipython3",
   "version": "3.9.13"
  },
  "orig_nbformat": 4,
  "vscode": {
   "interpreter": {
    "hash": "96fe9c5dc48b34d6269f8f88262cef58bd33b5f278ff95b8b6373020f5c7638d"
   }
  }
 },
 "nbformat": 4,
 "nbformat_minor": 2
}
